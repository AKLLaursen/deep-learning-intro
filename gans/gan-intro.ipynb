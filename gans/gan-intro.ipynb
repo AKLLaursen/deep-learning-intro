{
 "cells": [
  {
   "cell_type": "markdown",
   "metadata": {},
   "source": [
    "# General Advaserial Networks\n",
    "\n",
    "This notebook covers GANS, including the development of GANS from the first paper to the Wasserstein GAN."
   ]
  },
  {
   "cell_type": "markdown",
   "metadata": {},
   "source": [
    "## Setup\n",
    "Load libraries and functions."
   ]
  },
  {
   "cell_type": "code",
   "execution_count": 1,
   "metadata": {
    "collapsed": true
   },
   "outputs": [],
   "source": [
    "# Plots displayed inline in notebook\n",
    "%matplotlib inline\n",
    "\n",
    "# Make help libraries available\n",
    "import sys\n",
    "\n",
    "sys.path.append('D:/anlaursen/libraries')\n",
    "\n",
    "# Set visible devices, so as to just use a single GPU.\n",
    "import os\n",
    "os.environ[\"CUDA_DEVICE_ORDER\"] = \"PCI_BUS_ID\"   # see issue #152\n",
    "os.environ[\"CUDA_VISIBLE_DEVICES\"] = \"0\""
   ]
  },
  {
   "cell_type": "code",
   "execution_count": 14,
   "metadata": {},
   "outputs": [],
   "source": [
    "import numpy as np\n",
    "import matplotlib.pyplot as plt\n",
    "import tensorflow as tf\n",
    "\n",
    "from tqdm import tqdm\n",
    "\n",
    "from keras.models import Sequential, Model\n",
    "from keras.layers import (Dense, Flatten, Reshape, Conv2D, BatchNormalization,\n",
    "                          UpSampling2D, LeakyReLU, Dropout, Conv2DTranspose,\n",
    "                          Activation, MaxPool2D, Input)\n",
    "from keras.optimizers import Adam, RMSprop, SGD\n",
    "from keras.initializers import RandomNormal\n",
    "from keras.datasets import mnist\n",
    "from keras.callbacks import TensorBoard\n",
    "\n",
    "import keras.backend as K\n",
    "\n",
    "from kerastools.utils import plot_multi"
   ]
  },
  {
   "cell_type": "markdown",
   "metadata": {},
   "source": [
    "Define a bunch of help functions"
   ]
  },
  {
   "cell_type": "code",
   "execution_count": 3,
   "metadata": {
    "collapsed": true
   },
   "outputs": [],
   "source": [
    "# Plot function to plot a number of examples by reshaping a flat pixel layer to 2D\n",
    "def plot_gen(G, n_ex = 16):\n",
    "    plot_multi(G.predict(noise(n_ex)).reshape(n_ex, 28,28), cmap = 'gray')\n",
    "\n",
    "# Create some random data for the generator.\n",
    "def noise(bs): return np.random.rand(bs, 1, 1, 100)\n",
    "\n",
    "# Create a batch of some real and some generated data, with appropriate labels, \n",
    "# for the discriminator.\n",
    "def data_D(train_data, size, G, n):\n",
    "    \n",
    "    # Real data\n",
    "    real_img = train_data[np.random.randint(0, n, size = size)]\n",
    "    \n",
    "    # Generated data\n",
    "    X = np.concatenate((real_img, G.predict(noise(size))))\n",
    "    \n",
    "    # One is real. Minus one is fake\n",
    "    y = np.array([1] * size + [-1] * size)\n",
    "    \n",
    "    return X, y\n",
    "\n",
    "# Set trainable true/false for all layers in given model\n",
    "def make_trainable(net, val):\n",
    "    net.trainable = val\n",
    "    for l in net.layers: l.trainable = val"
   ]
  },
  {
   "cell_type": "markdown",
   "metadata": {},
   "source": [
    "Define log writer, such that we can log training to Tensorboard, when we do `train_on_batch()`."
   ]
  },
  {
   "cell_type": "code",
   "execution_count": 4,
   "metadata": {
    "collapsed": true
   },
   "outputs": [],
   "source": [
    "def write_log(callback, names, logs, batch_no):\n",
    "    for name, value in zip(names, logs):\n",
    "        summary = tf.Summary()\n",
    "        summary_value = summary.value.add()\n",
    "        summary_value.simple_value = value\n",
    "        summary_value.tag = name\n",
    "        callback.writer.add_summary(summary, batch_no)\n",
    "        callback.writer.flush()"
   ]
  },
  {
   "cell_type": "markdown",
   "metadata": {},
   "source": [
    "Train a few epochs, and return the losses for D and G. In each epoch we:\n",
    "\n",
    "1. Train D on one batch from data_D()\n",
    "2. Train G to create images that the discriminator predicts as real."
   ]
  },
  {
   "cell_type": "code",
   "execution_count": 5,
   "metadata": {
    "collapsed": true
   },
   "outputs": [],
   "source": [
    "def train(D, G, m, train_data, callback, name, epochs = 5000, batch_size = 128):\n",
    "    \n",
    "    dl, gl=[], []\n",
    "    for e in tqdm(range(epochs)):\n",
    "        # Create batch of real and generated data to the discriminator\n",
    "        X, y = data_D(train_data, batch_size // 2, G, len(train_data))\n",
    "        \n",
    "        # Train the descriminator and save the loss\n",
    "        d_logs = D.train_on_batch(X, y)\n",
    "        dl.append(d_logs)\n",
    "        \n",
    "        # Make the descriminator untrainable\n",
    "        make_trainable(D, False)\n",
    "        \n",
    "        # Train the generator\n",
    "        g_logs = m.train_on_batch(noise(batch_size), np.zeros([batch_size]))\n",
    "        gl.append(g_logs)\n",
    "        \n",
    "        # Make the discriminator trainable again\n",
    "        make_trainable(D, True)\n",
    "        \n",
    "        # Write to TensorBoard\n",
    "        write_log(callback,\n",
    "                  [name + '_discriminator_loss', name + '_generator_loss'],\n",
    "                  [d_logs, g_logs],\n",
    "                  e)\n",
    "        \n",
    "    return dl, gl"
   ]
  },
  {
   "cell_type": "markdown",
   "metadata": {},
   "source": [
    "## The original GAN paper\n",
    "\n",
    "We start out by considering the approach of the original GAN outlined in [this paper](https://arxiv.org/abs/1406.2661). We'll be using MNIST as out dataset and we'll refer to the discriminator as 'D' and the generator as 'G'.\n",
    "\n",
    "Start by loading the MNIST dataset"
   ]
  },
  {
   "cell_type": "code",
   "execution_count": 5,
   "metadata": {},
   "outputs": [
    {
     "name": "stdout",
     "output_type": "stream",
     "text": [
      "(60000, 28, 28)\n"
     ]
    }
   ],
   "source": [
    "(x_train, y_train), (x_test, y_test) = mnist.load_data()\n",
    "print(x_train.shape)\n",
    "\n",
    "# Define number of observations in training dataset\n",
    "n = len(x_train)"
   ]
  },
  {
   "cell_type": "markdown",
   "metadata": {},
   "source": [
    "The original GAN uses simple multilayer perceptron models for both the generato and the discriminator, so we flatten the MNIST data, to correspond to this architecture."
   ]
  },
  {
   "cell_type": "code",
   "execution_count": 6,
   "metadata": {
    "collapsed": true
   },
   "outputs": [],
   "source": [
    "x_train = x_train.reshape(n, -1).astype(np.float32)\n",
    "x_test = x_test.reshape(len(x_test), -1).astype(np.float32)"
   ]
  },
  {
   "cell_type": "markdown",
   "metadata": {},
   "source": [
    "Finally we devide the data with 255 simply to get values between 0 and 1."
   ]
  },
  {
   "cell_type": "code",
   "execution_count": 7,
   "metadata": {
    "collapsed": true
   },
   "outputs": [],
   "source": [
    "x_train /= 255.; x_test /= 255."
   ]
  },
  {
   "cell_type": "markdown",
   "metadata": {
    "heading_collapsed": true
   },
   "source": [
    "### Multilayer perceptron GAN\n",
    "\n",
    "So we start out with the multi layer perceptron of the original GAN paper by Goodfellow et al. We start by defining the generator and discriminator."
   ]
  },
  {
   "cell_type": "code",
   "execution_count": 9,
   "metadata": {
    "collapsed": true,
    "hidden": true
   },
   "outputs": [],
   "source": [
    "# Generator (upsampling)\n",
    "mlp_g = Sequential([\n",
    "    Dense(200, input_shape=(100, ), activation = 'relu'),\n",
    "    Dense(400, activation = 'relu'),\n",
    "    Dense(784, activation = 'sigmoid'),\n",
    "])\n",
    "\n",
    "# Discriminator (downsampling)\n",
    "mlp_d = Sequential([\n",
    "    Dense(300, input_shape=(784, ), activation = 'relu'),\n",
    "    Dense(300, activation = 'relu'),\n",
    "    Dense(1, activation = 'sigmoid'),\n",
    "])"
   ]
  },
  {
   "cell_type": "markdown",
   "metadata": {
    "hidden": true
   },
   "source": [
    "Create and compile models"
   ]
  },
  {
   "cell_type": "code",
   "execution_count": 9,
   "metadata": {
    "collapsed": true,
    "hidden": true
   },
   "outputs": [],
   "source": [
    "# Discriminator\n",
    "mlp_d.compile(Adam(1e-4), \"binary_crossentropy\")\n",
    "\n",
    "# Full model\n",
    "mlp_m = Sequential([mlp_g, mlp_d])\n",
    "mlp_m.compile(Adam(1e-4), \"binary_crossentropy\")"
   ]
  },
  {
   "cell_type": "markdown",
   "metadata": {
    "hidden": true
   },
   "source": [
    "Train the model on MNIST for 8000 epochs (relatively fast on MNIST)"
   ]
  },
  {
   "cell_type": "code",
   "execution_count": 10,
   "metadata": {
    "hidden": true
   },
   "outputs": [
    {
     "name": "stderr",
     "output_type": "stream",
     "text": [
      "100%|██████████████████████████████████████████████████████████| 8000/8000 [01:44<00:00, 78.90it/s]\n"
     ]
    }
   ],
   "source": [
    "dl, gl = train(mlp_d, mlp_g, mlp_m, x_train, 8000)"
   ]
  },
  {
   "cell_type": "markdown",
   "metadata": {
    "hidden": true
   },
   "source": [
    "The loss plots for most GANs are nearly impossible to interpret - which is one of the things that make them hard to train."
   ]
  },
  {
   "cell_type": "code",
   "execution_count": 11,
   "metadata": {
    "hidden": true
   },
   "outputs": [
    {
     "data": {
      "text/plain": [
       "[<matplotlib.lines.Line2D at 0x279de6034e0>]"
      ]
     },
     "execution_count": 11,
     "metadata": {},
     "output_type": "execute_result"
    },
    {
     "data": {
      "image/png": "[encoded data removed]",
      "text/plain": [
       "<matplotlib.figure.Figure at 0x27805ef4ac8>"
      ]
     },
     "metadata": {},
     "output_type": "display_data"
    }
   ],
   "source": [
    "plt.plot(dl[100:])"
   ]
  },
  {
   "cell_type": "code",
   "execution_count": 12,
   "metadata": {
    "hidden": true
   },
   "outputs": [
    {
     "data": {
      "text/plain": [
       "[<matplotlib.lines.Line2D at 0x279de6c7668>]"
      ]
     },
     "execution_count": 12,
     "metadata": {},
     "output_type": "execute_result"
    },
    {
     "data": {
      "image/png": "[encoded data removed]",
      "text/plain": [
       "<matplotlib.figure.Figure at 0x279de6342e8>"
      ]
     },
     "metadata": {},
     "output_type": "display_data"
    }
   ],
   "source": [
    "plt.plot(gl[100:])"
   ]
  },
  {
   "cell_type": "markdown",
   "metadata": {
    "hidden": true
   },
   "source": [
    "So this is basically what's known in the literature as \"mode collapse\". And the results are clearly bad."
   ]
  },
  {
   "cell_type": "code",
   "execution_count": 13,
   "metadata": {
    "hidden": true
   },
   "outputs": [
    {
     "data": {
      "image/png": "[encoded data removed]",
      "text/plain": [
       "<matplotlib.figure.Figure at 0x279de626ac8>"
      ]
     },
     "metadata": {},
     "output_type": "display_data"
    }
   ],
   "source": [
    "plot_gen(mlp_g)"
   ]
  },
  {
   "cell_type": "markdown",
   "metadata": {
    "hidden": true
   },
   "source": [
    "So we really have to improve on these results."
   ]
  },
  {
   "cell_type": "markdown",
   "metadata": {},
   "source": [
    "## DCGAN - Deep Convolutional Generative Adversarial Networks\n",
    "\n",
    "Basically, a lot of ideas have been floated to get GANs to work (notoriously painfull). The paper introducing [DCGANs](https://arxiv.org/abs/1511.06434) is the main basis for our next section. Also see [this GAN hacks Github repository](https://github.com/soumith/ganhacks) for many tips!\n",
    "\n",
    "The DCGAN Papers contributions, can be summed up in these points.\n",
    "\n",
    "Architecture guidelines for stable Deep Convolutional GANs\n",
    "* Replace any pooling layers with strided convolutions (discriminator) and fractional-strided convolutions (generator).\n",
    "* Use batchnorm in both the generator and the discriminator.\n",
    "* Remove fully connected hidden layers for deeper architectures.\n",
    "* Use ReLU activation in generator for all layers except for the output, which uses Tanh.\n",
    "* Use LeakyReLU activation in the discriminator for all layers.\n",
    "\n",
    "Interestingly, I find that using batchnorm in the discriminator, makes the training collapse. Instead, I use dropout in the discriminator.\n",
    "\n",
    "Because we're using a CNN from now on, we'll reshape our digits into proper images."
   ]
  },
  {
   "cell_type": "code",
   "execution_count": 8,
   "metadata": {
    "collapsed": true
   },
   "outputs": [],
   "source": [
    "x_train = x_train.reshape(n, 28, 28, 1)\n",
    "x_test = x_test.reshape(len(x_test), 28, 28, 1)"
   ]
  },
  {
   "cell_type": "markdown",
   "metadata": {},
   "source": [
    "Our generator uses a number of upsampling steps as suggested in the above papers. We use nearest neighbor upsampling rather than fractionally strided convolutions, as discussed in our style transfer notebook."
   ]
  },
  {
   "cell_type": "code",
   "execution_count": 10,
   "metadata": {
    "collapsed": true
   },
   "outputs": [],
   "source": [
    "# Generator\n",
    "cnn_g = Sequential([\n",
    "    Dense(512 * 7 * 7, input_dim = 100, activation = 'relu'),\n",
    "    BatchNormalization(),\n",
    "    Reshape((7, 7, 512)),\n",
    "    UpSampling2D(),\n",
    "    Conv2D(64, kernel_size = (3, 3), padding = 'same', activation = 'relu'),\n",
    "    BatchNormalization(),\n",
    "    UpSampling2D(),\n",
    "    Conv2D(32, kernel_size = (3, 3), padding = 'same', activation = 'relu'),\n",
    "    BatchNormalization(),\n",
    "    Conv2D(1, kernel_size = (1, 1), padding = 'same', activation = 'tanh')\n",
    "])\n",
    "\n",
    "# Discriminator\n",
    "\n",
    "cnn_d = Sequential([\n",
    "    Conv2D(256, kernel_size = (5, 5), strides = (2, 2), padding = 'same', \n",
    "           input_shape = (28, 28, 1)),\n",
    "    LeakyReLU(alpha = 0.2),\n",
    "    Dropout(0.3),\n",
    "    Conv2D(512, kernel_size = (5, 5), strides=(2, 2), padding = 'same'),\n",
    "    LeakyReLU(alpha = 0.2),\n",
    "    Dropout(0.3),\n",
    "    Flatten(),\n",
    "    Dense(1, activation = 'sigmoid')\n",
    "])"
   ]
  },
  {
   "cell_type": "markdown",
   "metadata": {},
   "source": [
    "Inspect models"
   ]
  },
  {
   "cell_type": "code",
   "execution_count": 11,
   "metadata": {},
   "outputs": [
    {
     "name": "stdout",
     "output_type": "stream",
     "text": [
      "_________________________________________________________________\n",
      "Layer (type)                 Output Shape              Param #   \n",
      "=================================================================\n",
      "dense_1 (Dense)              (None, 25088)             2533888   \n",
      "_________________________________________________________________\n",
      "batch_normalization_1 (Batch (None, 25088)             100352    \n",
      "_________________________________________________________________\n",
      "reshape_1 (Reshape)          (None, 7, 7, 512)         0         \n",
      "_________________________________________________________________\n",
      "up_sampling2d_1 (UpSampling2 (None, 14, 14, 512)       0         \n",
      "_________________________________________________________________\n",
      "conv2d_1 (Conv2D)            (None, 14, 14, 64)        294976    \n",
      "_________________________________________________________________\n",
      "batch_normalization_2 (Batch (None, 14, 14, 64)        256       \n",
      "_________________________________________________________________\n",
      "up_sampling2d_2 (UpSampling2 (None, 28, 28, 64)        0         \n",
      "_________________________________________________________________\n",
      "conv2d_2 (Conv2D)            (None, 28, 28, 32)        18464     \n",
      "_________________________________________________________________\n",
      "batch_normalization_3 (Batch (None, 28, 28, 32)        128       \n",
      "_________________________________________________________________\n",
      "conv2d_3 (Conv2D)            (None, 28, 28, 1)         33        \n",
      "=================================================================\n",
      "Total params: 2,948,097\n",
      "Trainable params: 2,897,729\n",
      "Non-trainable params: 50,368\n",
      "_________________________________________________________________\n"
     ]
    }
   ],
   "source": [
    "cnn_g.summary()"
   ]
  },
  {
   "cell_type": "markdown",
   "metadata": {},
   "source": [
    "Define and compile models"
   ]
  },
  {
   "cell_type": "code",
   "execution_count": 12,
   "metadata": {
    "collapsed": true
   },
   "outputs": [],
   "source": [
    "# Discriminator\n",
    "cnn_d.compile(Adam(1e-4), \"binary_crossentropy\")"
   ]
  },
  {
   "cell_type": "markdown",
   "metadata": {},
   "source": [
    "The paper suggest training the discriminator for a little bit, such that it can at least tell a real image from random noice."
   ]
  },
  {
   "cell_type": "code",
   "execution_count": 13,
   "metadata": {},
   "outputs": [
    {
     "name": "stdout",
     "output_type": "stream",
     "text": [
      "Epoch 1/1\n",
      "0s - loss: 0.6470\n"
     ]
    },
    {
     "data": {
      "text/plain": [
       "<keras.callbacks.History at 0x2addc2d70b8>"
      ]
     },
     "execution_count": 13,
     "metadata": {},
     "output_type": "execute_result"
    }
   ],
   "source": [
    "size = n // 200\n",
    "# Create a batch of randome images from MNIST and random noice\n",
    "x1 = np.concatenate([np.random.permutation(x_train)[:size],\n",
    "                     cnn_g.predict(noise(size))])\n",
    "\n",
    "# Fit the descriminator\n",
    "cnn_d.fit(x1, [0] * size + [1] * size, batch_size = 128, epochs = 1, verbose  = 2)"
   ]
  },
  {
   "cell_type": "markdown",
   "metadata": {},
   "source": [
    "We then define and compile the full model and set learning rate."
   ]
  },
  {
   "cell_type": "code",
   "execution_count": 14,
   "metadata": {
    "collapsed": true
   },
   "outputs": [],
   "source": [
    "cnn_m = Sequential([cnn_g, cnn_d])\n",
    "cnn_m.compile(Adam(1e-4), \"binary_crossentropy\")\n",
    "\n",
    "K.set_value(cnn_d.optimizer.lr, 1e-5)\n",
    "K.set_value(cnn_m.optimizer.lr, 1e-5)"
   ]
  },
  {
   "cell_type": "markdown",
   "metadata": {},
   "source": [
    "Initialise TensorBoard on the full model."
   ]
  },
  {
   "cell_type": "code",
   "execution_count": 15,
   "metadata": {
    "collapsed": true
   },
   "outputs": [],
   "source": [
    "callback = TensorBoard('./logs')\n",
    "callback.set_model(cnn_m)"
   ]
  },
  {
   "cell_type": "markdown",
   "metadata": {},
   "source": [
    "Now train the discriminator and generator iteratively"
   ]
  },
  {
   "cell_type": "code",
   "execution_count": 16,
   "metadata": {},
   "outputs": [
    {
     "name": "stderr",
     "output_type": "stream",
     "text": [
      "100%|██████████████████████████████████████████████████████████| 2500/2500 [06:14<00:00,  6.76it/s]\n"
     ]
    }
   ],
   "source": [
    "dl, gl = train(cnn_d, cnn_g, cnn_m, x_train, callback, 'run1', 2500)"
   ]
  },
  {
   "cell_type": "markdown",
   "metadata": {},
   "source": [
    "We can plot the loss functions again"
   ]
  },
  {
   "cell_type": "code",
   "execution_count": 15,
   "metadata": {},
   "outputs": [
    {
     "data": {
      "text/plain": [
       "[<matplotlib.lines.Line2D at 0x254837f16d8>]"
      ]
     },
     "execution_count": 15,
     "metadata": {},
     "output_type": "execute_result"
    },
    {
     "data": {
      "image/png": "[encoded data removed]",
      "text/plain": [
       "<matplotlib.figure.Figure at 0x254f0f38278>"
      ]
     },
     "metadata": {},
     "output_type": "display_data"
    }
   ],
   "source": [
    "plt.plot(dl[10:])"
   ]
  },
  {
   "cell_type": "code",
   "execution_count": 16,
   "metadata": {},
   "outputs": [
    {
     "data": {
      "text/plain": [
       "[<matplotlib.lines.Line2D at 0x254836e3b70>]"
      ]
     },
     "execution_count": 16,
     "metadata": {},
     "output_type": "execute_result"
    },
    {
     "data": {
      "image/png": "[encoded data removed]",
      "text/plain": [
       "<matplotlib.figure.Figure at 0x25483817160>"
      ]
     },
     "metadata": {},
     "output_type": "display_data"
    }
   ],
   "source": [
    "plt.plot(gl[10:])"
   ]
  },
  {
   "cell_type": "markdown",
   "metadata": {},
   "source": [
    "Increase the learning rate and train some more"
   ]
  },
  {
   "cell_type": "code",
   "execution_count": 17,
   "metadata": {},
   "outputs": [
    {
     "name": "stderr",
     "output_type": "stream",
     "text": [
      "100%|██████████████████████████████████████████████████████████| 2500/2500 [06:18<00:00,  6.73it/s]\n"
     ]
    }
   ],
   "source": [
    "K.set_value(cnn_d.optimizer.lr, 1e-4)\n",
    "K.set_value(cnn_m.optimizer.lr, 1e-4)\n",
    "\n",
    "dl, gl = train(cnn_d, cnn_g, cnn_m, x_train, callback, 'run_2', 2500)"
   ]
  },
  {
   "cell_type": "code",
   "execution_count": 18,
   "metadata": {},
   "outputs": [
    {
     "data": {
      "text/plain": [
       "[<matplotlib.lines.Line2D at 0x254837995f8>]"
      ]
     },
     "execution_count": 18,
     "metadata": {},
     "output_type": "execute_result"
    },
    {
     "data": {
      "image/png": "[encoded data removed]",
      "text/plain": [
       "<matplotlib.figure.Figure at 0x25483637da0>"
      ]
     },
     "metadata": {},
     "output_type": "display_data"
    }
   ],
   "source": [
    "plt.plot(dl[10:])"
   ]
  },
  {
   "cell_type": "code",
   "execution_count": 19,
   "metadata": {},
   "outputs": [
    {
     "data": {
      "text/plain": [
       "[<matplotlib.lines.Line2D at 0x25483602da0>]"
      ]
     },
     "execution_count": 19,
     "metadata": {},
     "output_type": "execute_result"
    },
    {
     "data": {
      "image/png": "[encoded data removed]",
      "text/plain": [
       "<matplotlib.figure.Figure at 0x254835669b0>"
      ]
     },
     "metadata": {},
     "output_type": "display_data"
    }
   ],
   "source": [
    "plt.plot(gl[10:])"
   ]
  },
  {
   "cell_type": "markdown",
   "metadata": {},
   "source": [
    "Increase the learning rate a last time"
   ]
  },
  {
   "cell_type": "code",
   "execution_count": 18,
   "metadata": {},
   "outputs": [
    {
     "name": "stderr",
     "output_type": "stream",
     "text": [
      "100%|██████████████████████████████████████████████████████████| 2500/2500 [06:22<00:00,  6.55it/s]\n"
     ]
    }
   ],
   "source": [
    "K.set_value(cnn_d.optimizer.lr, 1e-5)\n",
    "K.set_value(cnn_m.optimizer.lr, 1e-5)\n",
    "\n",
    "dl, gl = train(cnn_d, cnn_g, cnn_m, x_train, callback, 'run_3', 2500)"
   ]
  },
  {
   "cell_type": "code",
   "execution_count": 21,
   "metadata": {},
   "outputs": [
    {
     "data": {
      "text/plain": [
       "[<matplotlib.lines.Line2D at 0x254836af630>]"
      ]
     },
     "execution_count": 21,
     "metadata": {},
     "output_type": "execute_result"
    },
    {
     "data": {
      "image/png": "[encoded data removed]",
      "text/plain": [
       "<matplotlib.figure.Figure at 0x25483668668>"
      ]
     },
     "metadata": {},
     "output_type": "display_data"
    }
   ],
   "source": [
    "plt.plot(dl[10:])"
   ]
  },
  {
   "cell_type": "code",
   "execution_count": 22,
   "metadata": {},
   "outputs": [
    {
     "data": {
      "text/plain": [
       "[<matplotlib.lines.Line2D at 0x254837a4ac8>]"
      ]
     },
     "execution_count": 22,
     "metadata": {},
     "output_type": "execute_result"
    },
    {
     "data": {
      "image/png": "[encoded data removed]",
      "text/plain": [
       "<matplotlib.figure.Figure at 0x25483723358>"
      ]
     },
     "metadata": {},
     "output_type": "display_data"
    }
   ],
   "source": [
    "plt.plot(gl[10:])"
   ]
  },
  {
   "cell_type": "markdown",
   "metadata": {},
   "source": [
    "The results are better than our first effort, but still a lot to be desired. And evidently, training bigger size networks are extremely difficult."
   ]
  },
  {
   "cell_type": "code",
   "execution_count": 23,
   "metadata": {},
   "outputs": [
    {
     "data": {
      "image/png": "[encoded data removed]",
      "text/plain": [
       "<matplotlib.figure.Figure at 0x2548381e630>"
      ]
     },
     "metadata": {},
     "output_type": "display_data"
    }
   ],
   "source": [
    "plot_gen(cnn_g)"
   ]
  },
  {
   "cell_type": "markdown",
   "metadata": {},
   "source": [
    "## Wasserstein GAN\n",
    "\n",
    "Luckily early in 2017 the GAN training problem were solved! [This](https://arxiv.org/abs/1701.07875) paper shows a minor change to the loss function and constraining the weights allows a GAN to reliably learn following a consistent loss schedule.\n",
    "\n",
    "We continue working on MNIST. The authers of the Wasserstein GAN paper released their code in Pytorch. I have implemented it in Keras here.\n",
    "\n",
    "We start by defining the Wasserstein generator and discriminator. Pretty much the same as the DCGAN, but we replace dropout in the discriminator with batchnorm."
   ]
  },
  {
   "cell_type": "code",
   "execution_count": 9,
   "metadata": {
    "collapsed": true
   },
   "outputs": [],
   "source": [
    "# Get final whole number when downsampling with 2 factor\n",
    "def get_final_downsample(input_size):\n",
    "    \n",
    "    final_size = input_size\n",
    "    while final_size % 2 == 0 and final_size > 4:\n",
    "        final_size /= 2\n",
    "    \n",
    "    return int(final_size)\n",
    "\n",
    "# Generator\n",
    "def deconv_block(in_tensor, filters, kernel_size, strides, name,\n",
    "                 padding = 'same', use_bias = False):\n",
    "    \n",
    "    out_tensor = Conv2DTranspose(filters = filters,\n",
    "                                 kernel_size = kernel_size,\n",
    "                                 strides = strides,\n",
    "                                 name = name,\n",
    "                                 padding = padding,\n",
    "                                 use_bias = use_bias)(in_tensor)\n",
    "    out_tensor = BatchNormalization()(out_tensor)\n",
    "    out_tensor = Activation('relu')(out_tensor)\n",
    "    \n",
    "    return out_tensor\n",
    "\n",
    "def dcgan_generator(input_size = 28, latent_noize = 100, channels = 1,\n",
    "                    base_filters = 64, no_extra_layers = 1):\n",
    "\n",
    "    # Get final whole number when downsampling with 2 factor\n",
    "    final_size = get_final_downsample(input_size)\n",
    "    \n",
    "    # Input dimensions\n",
    "    input_dim = (1, 1, 100)\n",
    "    \n",
    "    # Number of conv filters\n",
    "    deconv_filters = base_filters // 2\n",
    "    \n",
    "    # Compute start filter dimensions from teminal dimension\n",
    "    size = final_size\n",
    "    while size != input_size:\n",
    "        deconv_filters *= 2\n",
    "        size *= 2\n",
    "    \n",
    "    inputs = Input(input_dim)\n",
    "    \n",
    "    # Initial deconv block\n",
    "    initial_deconv = deconv_block(inputs,\n",
    "                                  filters = deconv_filters,\n",
    "                                  kernel_size = (final_size, final_size),\n",
    "                                  strides = (1, 1),\n",
    "                                  padding = 'valid',\n",
    "                                  name = 'initial')\n",
    "    \n",
    "    # Upsample\n",
    "    deconv = initial_deconv\n",
    "    i = 0\n",
    "    while size <= input_size:\n",
    "        deconv = deconv_block(deconv,\n",
    "                              filters = deconv_filters // 2,\n",
    "                              kernel_size = (4, 4),\n",
    "                              strides = (2, 2),\n",
    "                              padding = 'same',\n",
    "                              name = 'deconv_' + str(i))\n",
    "        \n",
    "        deconv_filters //= 2\n",
    "        size *= 2\n",
    "        i += 1\n",
    "        \n",
    "    # Extra upsample layer\n",
    "    for t in range(no_extra_layers):\n",
    "        deconv = deconv_block(deconv,\n",
    "                              filters = deconv_filters,\n",
    "                              kernel_size = (3, 3),\n",
    "                              strides = (1, 1),\n",
    "                              padding = 'same',\n",
    "                              name = 'deconv_' + str(i))\n",
    "        \n",
    "    # Final layer to output:\n",
    "    final_layer = Conv2DTranspose(filters = channels,\n",
    "                                  kernel_size = (4, 4),\n",
    "                                  strides = (2, 2),\n",
    "                                  name = 'final_layer',\n",
    "                                  padding = 'same',\n",
    "                                  use_bias = False)(deconv)\n",
    "    outputs = Activation('tanh')(final_layer)\n",
    "    \n",
    "    # Define model\n",
    "    model = Model(inputs, outputs)\n",
    "    \n",
    "    return(model)\n",
    "\n",
    "# Discriminator\n",
    "def conv_block(in_tensor, filters, kernel_size, strides, name,\n",
    "               padding = 'same', use_bias = False):\n",
    "    \n",
    "    out_tensor = Conv2D(filters = filters,\n",
    "                        kernel_size = kernel_size,\n",
    "                        strides = strides,\n",
    "                        name = name,\n",
    "                        padding = padding,\n",
    "                        use_bias = use_bias,\n",
    "                        kernel_initializer = RandomNormal(0, 0.02))(in_tensor)\n",
    "    #out_tensor = BatchNormalization()(out_tensor)\n",
    "    out_tensor = LeakyReLU(alpha = 0.2)(out_tensor)\n",
    "    out_tensor = Dropout(0.3)(out_tensor)\n",
    "    \n",
    "    return(out_tensor)\n",
    "    \n",
    "def dcgan_discriminator(input_size = 28, channels = 1,\n",
    "                        base_filters = 64, no_extra_layers = 1):\n",
    "    \n",
    "    # Get final whole number when downsampling with 2 factor\n",
    "    final_size = get_final_downsample(input_size)\n",
    "\n",
    "    # Picture dimensions matching real images and fake from generator\n",
    "    input_dim = (input_size, input_size, channels)\n",
    "    \n",
    "    inputs = Input(input_dim)\n",
    "    \n",
    "    # Initial conv block\n",
    "    initial = conv_block(inputs, filters = base_filters,\n",
    "                         kernel_size = (4, 4), strides = (1, 1),\n",
    "                         name = 'initial')\n",
    "    \n",
    "    conv_size, conv_filters = input_size / 2, base_filters\n",
    "\n",
    "    # Extra layers\n",
    "    extra = initial\n",
    "    for i in range(no_extra_layers):\n",
    "        extra = conv_block(extra, filters = conv_filters,\n",
    "                           kernel_size = (3, 3), strides = (1, 1),\n",
    "                           name = 'extra_' + str(i))\n",
    "    \n",
    "    # Reducing conv layers\n",
    "    conv_deep = extra\n",
    "    while conv_size >= final_size:\n",
    "        conv_deep = conv_block(conv_deep, filters = conv_filters * 2,\n",
    "                               kernel_size = (4, 4), strides = (2, 2),\n",
    "                               name = 'deep_' + str(conv_size))\n",
    "        conv_size /= 2\n",
    "        conv_filters *= 2\n",
    "        \n",
    "    # Final conv layer\n",
    "    final = Conv2D(filters = 1,\n",
    "                   kernel_size = (final_size, final_size),\n",
    "                   strides = (1, 1),\n",
    "                   name = 'final',\n",
    "                   padding = 'valid',\n",
    "                   use_bias = False,\n",
    "                   kernel_initializer = RandomNormal(0, 0.02))(conv_deep)\n",
    "    \n",
    "    final = Flatten()(final)\n",
    "    \n",
    "    model = Model(inputs, final)\n",
    "    \n",
    "    return model\n"
   ]
  },
  {
   "cell_type": "markdown",
   "metadata": {},
   "source": [
    "Define descriminator the loss function of the Wasserstein GAN. The first finding of the Wasserstein GAN paper is, that the descriminator does not output a propability as such. Hense we can remove the loss function (previously cross enthropy)."
   ]
  },
  {
   "cell_type": "code",
   "execution_count": 10,
   "metadata": {
    "collapsed": true
   },
   "outputs": [],
   "source": [
    "def wasserstein_loss(target, output):\n",
    "    return K.mean(target * output)"
   ]
  },
  {
   "cell_type": "markdown",
   "metadata": {},
   "source": [
    "The second finding is that we should clip the weights through training. That is force them to stay within the range `[−0.01, 0.01]`. Further we should train the descriminator more than the generator."
   ]
  },
  {
   "cell_type": "code",
   "execution_count": 11,
   "metadata": {
    "collapsed": true
   },
   "outputs": [],
   "source": [
    "def train_wgan(D, G, m, train_data, callback, name, epochs = 5, batch_size = 64):\n",
    "    \n",
    "    # Define losses\n",
    "    dl, gl = [], []\n",
    "    \n",
    "    # Number of batches pr. epoch\n",
    "    no_batches = int(train_data.shape[0] / batch_size)\n",
    "    \n",
    "    for e in range(epochs):\n",
    "        \n",
    "        for gen_iteration in tqdm(range(no_batches)):\n",
    "            \n",
    "            # Specify number of iterations for the discriminator.\n",
    "            if gen_iteration < 25 or gen_iteration % 500 == 0:\n",
    "                disc_iterations = 100\n",
    "            else:\n",
    "                disc_iterations = 5\n",
    "            \n",
    "            # Make the discriminator trainable \n",
    "            make_trainable(D, True)\n",
    "            \n",
    "            i = 0\n",
    "            while i < disc_iterations:\n",
    "                # Create batch of real and generated data to the discriminator\n",
    "                X, y = data_D(train_data, batch_size // 2, G, len(train_data))\n",
    "                \n",
    "                # Train the descriminator and save the loss\n",
    "                d_logs = D.train_on_batch(X, y)\n",
    "                \n",
    "                i += 1\n",
    "            \n",
    "            # Report last discriminator loss\n",
    "            dl.append(d_logs)\n",
    "                \n",
    "            # Make the descriminator untrainable\n",
    "            make_trainable(D, False)\n",
    "            \n",
    "            # Train the generator to fool the descriminator\n",
    "            labels = np.ones([batch_size])\n",
    "\n",
    "            g_logs = m.train_on_batch(noise(batch_size),\n",
    "                                      labels)\n",
    "            gl.append(g_logs)\n",
    "            \n",
    "            # Write to TensorBoard\n",
    "            write_log(callback,\n",
    "                      [name + '_discriminator_loss', name + '_generator_loss'],\n",
    "                      [d_logs, g_logs],\n",
    "                      e * no_batches + gen_iteration)\n",
    "        \n",
    "    return dl, gl"
   ]
  },
  {
   "cell_type": "markdown",
   "metadata": {},
   "source": [
    "We then build the generator, the discriminator and the combined model."
   ]
  },
  {
   "cell_type": "code",
   "execution_count": 15,
   "metadata": {},
   "outputs": [],
   "source": [
    "# Discriminator\n",
    "wgan_d = dcgan_discriminator()\n",
    "wgan_d.compile(optimizer = Adam(lr = 1e-5, clipvalue = 0.01),\n",
    "               loss = wasserstein_loss)\n",
    "\n",
    "wgan_g = dcgan_generator()\n",
    "\n",
    "# Combined\n",
    "wgan_m = Sequential([wgan_g, wgan_d])\n",
    "wgan_m.compile(Adam(1e-5), wasserstein_loss)"
   ]
  },
  {
   "cell_type": "markdown",
   "metadata": {},
   "source": [
    "Summary of models"
   ]
  },
  {
   "cell_type": "code",
   "execution_count": 16,
   "metadata": {},
   "outputs": [
    {
     "name": "stdout",
     "output_type": "stream",
     "text": [
      "_________________________________________________________________\n",
      "Layer (type)                 Output Shape              Param #   \n",
      "=================================================================\n",
      "input_3 (InputLayer)         (None, 1, 1, 100)         0         \n",
      "_________________________________________________________________\n",
      "initial (Conv2DTranspose)    (None, 7, 7, 128)         627200    \n",
      "_________________________________________________________________\n",
      "batch_normalization_1 (Batch (None, 7, 7, 128)         512       \n",
      "_________________________________________________________________\n",
      "activation_1 (Activation)    (None, 7, 7, 128)         0         \n",
      "_________________________________________________________________\n",
      "deconv_0 (Conv2DTranspose)   (None, 14, 14, 64)        131072    \n",
      "_________________________________________________________________\n",
      "batch_normalization_2 (Batch (None, 14, 14, 64)        256       \n",
      "_________________________________________________________________\n",
      "activation_2 (Activation)    (None, 14, 14, 64)        0         \n",
      "_________________________________________________________________\n",
      "deconv_1 (Conv2DTranspose)   (None, 14, 14, 64)        36864     \n",
      "_________________________________________________________________\n",
      "batch_normalization_3 (Batch (None, 14, 14, 64)        256       \n",
      "_________________________________________________________________\n",
      "activation_3 (Activation)    (None, 14, 14, 64)        0         \n",
      "_________________________________________________________________\n",
      "final_layer (Conv2DTranspose (None, 28, 28, 1)         1024      \n",
      "_________________________________________________________________\n",
      "activation_4 (Activation)    (None, 28, 28, 1)         0         \n",
      "=================================================================\n",
      "Total params: 797,184\n",
      "Trainable params: 796,672\n",
      "Non-trainable params: 512\n",
      "_________________________________________________________________\n"
     ]
    }
   ],
   "source": [
    "wgan_g.summary()"
   ]
  },
  {
   "cell_type": "code",
   "execution_count": 17,
   "metadata": {},
   "outputs": [
    {
     "name": "stdout",
     "output_type": "stream",
     "text": [
      "_________________________________________________________________\n",
      "Layer (type)                 Output Shape              Param #   \n",
      "=================================================================\n",
      "input_2 (InputLayer)         (None, 28, 28, 1)         0         \n",
      "_________________________________________________________________\n",
      "initial (Conv2D)             (None, 28, 28, 64)        1024      \n",
      "_________________________________________________________________\n",
      "leaky_re_lu_5 (LeakyReLU)    (None, 28, 28, 64)        0         \n",
      "_________________________________________________________________\n",
      "dropout_5 (Dropout)          (None, 28, 28, 64)        0         \n",
      "_________________________________________________________________\n",
      "extra_0 (Conv2D)             (None, 28, 28, 64)        36864     \n",
      "_________________________________________________________________\n",
      "leaky_re_lu_6 (LeakyReLU)    (None, 28, 28, 64)        0         \n",
      "_________________________________________________________________\n",
      "dropout_6 (Dropout)          (None, 28, 28, 64)        0         \n",
      "_________________________________________________________________\n",
      "deep_14.0 (Conv2D)           (None, 14, 14, 128)       131072    \n",
      "_________________________________________________________________\n",
      "leaky_re_lu_7 (LeakyReLU)    (None, 14, 14, 128)       0         \n",
      "_________________________________________________________________\n",
      "dropout_7 (Dropout)          (None, 14, 14, 128)       0         \n",
      "_________________________________________________________________\n",
      "deep_7.0 (Conv2D)            (None, 7, 7, 256)         524288    \n",
      "_________________________________________________________________\n",
      "leaky_re_lu_8 (LeakyReLU)    (None, 7, 7, 256)         0         \n",
      "_________________________________________________________________\n",
      "dropout_8 (Dropout)          (None, 7, 7, 256)         0         \n",
      "_________________________________________________________________\n",
      "final (Conv2D)               (None, 1, 1, 1)           12544     \n",
      "_________________________________________________________________\n",
      "flatten_2 (Flatten)          (None, 1)                 0         \n",
      "=================================================================\n",
      "Total params: 705,792\n",
      "Trainable params: 705,792\n",
      "Non-trainable params: 0\n",
      "_________________________________________________________________\n"
     ]
    }
   ],
   "source": [
    "wgan_d.summary()"
   ]
  },
  {
   "cell_type": "markdown",
   "metadata": {},
   "source": [
    "Define TensorBoard call variables"
   ]
  },
  {
   "cell_type": "code",
   "execution_count": 18,
   "metadata": {
    "collapsed": true
   },
   "outputs": [],
   "source": [
    "callback = TensorBoard('./logs')\n",
    "callback.set_model(wgan_m)"
   ]
  },
  {
   "cell_type": "markdown",
   "metadata": {},
   "source": [
    "Run training"
   ]
  },
  {
   "cell_type": "code",
   "execution_count": 25,
   "metadata": {},
   "outputs": [
    {
     "name": "stderr",
     "output_type": "stream",
     "text": [
      "100%|███████████████████████████████████████| 937/937 [03:30<00:00,  6.05it/s]\n",
      "100%|███████████████████████████████████████| 937/937 [03:32<00:00,  5.96it/s]\n",
      "100%|███████████████████████████████████████| 937/937 [03:32<00:00,  6.00it/s]\n",
      "100%|███████████████████████████████████████| 937/937 [03:31<00:00,  6.25it/s]\n",
      "100%|███████████████████████████████████████| 937/937 [03:32<00:00,  6.25it/s]\n"
     ]
    }
   ],
   "source": [
    "dl, gl = train_wgan(wgan_d, wgan_g, wgan_m, x_train, callback, 'Wasserstein_GAN_Adam', epochs = 5, batch_size = 64)"
   ]
  },
  {
   "cell_type": "code",
   "execution_count": 26,
   "metadata": {},
   "outputs": [
    {
     "data": {
      "image/png": "[encoded data removed]",
      "text/plain": [
       "<matplotlib.figure.Figure at 0x1d0f8521278>"
      ]
     },
     "metadata": {},
     "output_type": "display_data"
    }
   ],
   "source": [
    "plot_gen(wgan_g)"
   ]
  },
  {
   "cell_type": "code",
   "execution_count": 27,
   "metadata": {},
   "outputs": [
    {
     "name": "stderr",
     "output_type": "stream",
     "text": [
      "100%|███████████████████████████████████████| 937/937 [03:30<00:00,  6.16it/s]\n",
      "100%|███████████████████████████████████████| 937/937 [03:31<00:00,  6.22it/s]\n",
      "100%|███████████████████████████████████████| 937/937 [03:31<00:00,  6.25it/s]\n",
      "100%|███████████████████████████████████████| 937/937 [03:32<00:00,  6.20it/s]\n",
      "100%|███████████████████████████████████████| 937/937 [03:32<00:00,  6.22it/s]\n",
      "100%|███████████████████████████████████████| 937/937 [03:32<00:00,  5.96it/s]\n",
      "100%|███████████████████████████████████████| 937/937 [03:31<00:00,  6.25it/s]\n",
      "100%|███████████████████████████████████████| 937/937 [03:31<00:00,  6.15it/s]\n",
      "100%|███████████████████████████████████████| 937/937 [03:32<00:00,  6.12it/s]\n",
      "100%|███████████████████████████████████████| 937/937 [03:33<00:00,  6.28it/s]\n",
      "100%|███████████████████████████████████████| 937/937 [03:31<00:00,  5.92it/s]\n",
      "100%|███████████████████████████████████████| 937/937 [03:35<00:00,  6.06it/s]\n",
      "100%|███████████████████████████████████████| 937/937 [03:38<00:00,  5.47it/s]\n",
      "100%|███████████████████████████████████████| 937/937 [03:30<00:00,  6.24it/s]\n",
      "100%|███████████████████████████████████████| 937/937 [03:31<00:00,  6.11it/s]\n"
     ]
    }
   ],
   "source": [
    "K.set_value(wgan_d.optimizer.lr, 1e-4)\n",
    "K.set_value(wgan_m.optimizer.lr, 1e-4)\n",
    "\n",
    "dl, gl = train_wgan(wgan_d, wgan_g, wgan_m, x_train, callback, 'Wasserstein_GAN_Adam_1', epochs = 15, batch_size = 64)"
   ]
  },
  {
   "cell_type": "code",
   "execution_count": 28,
   "metadata": {},
   "outputs": [
    {
     "data": {
      "image/png": "[encoded data removed]",
      "text/plain": [
       "<matplotlib.figure.Figure at 0x1d0f85e0c18>"
      ]
     },
     "metadata": {},
     "output_type": "display_data"
    }
   ],
   "source": [
    "plot_gen(wgan_g)"
   ]
  },
  {
   "cell_type": "code",
   "execution_count": 29,
   "metadata": {},
   "outputs": [
    {
     "name": "stderr",
     "output_type": "stream",
     "text": [
      "100%|███████████████████████████████████████| 937/937 [03:30<00:00,  6.09it/s]\n",
      "100%|███████████████████████████████████████| 937/937 [03:29<00:00,  6.04it/s]\n",
      "100%|███████████████████████████████████████| 937/937 [03:31<00:00,  6.17it/s]\n",
      "100%|███████████████████████████████████████| 937/937 [03:30<00:00,  6.16it/s]\n",
      "100%|███████████████████████████████████████| 937/937 [03:30<00:00,  6.18it/s]\n",
      "100%|███████████████████████████████████████| 937/937 [03:30<00:00,  6.17it/s]\n",
      "100%|███████████████████████████████████████| 937/937 [03:31<00:00,  6.09it/s]\n",
      "100%|███████████████████████████████████████| 937/937 [03:30<00:00,  6.16it/s]\n",
      "100%|███████████████████████████████████████| 937/937 [03:31<00:00,  6.22it/s]\n",
      "100%|███████████████████████████████████████| 937/937 [03:30<00:00,  6.17it/s]\n",
      "100%|███████████████████████████████████████| 937/937 [03:31<00:00,  6.19it/s]\n",
      "100%|███████████████████████████████████████| 937/937 [03:31<00:00,  6.20it/s]\n",
      "100%|███████████████████████████████████████| 937/937 [03:31<00:00,  6.12it/s]\n",
      "100%|███████████████████████████████████████| 937/937 [03:31<00:00,  6.27it/s]\n",
      "100%|███████████████████████████████████████| 937/937 [03:32<00:00,  6.17it/s]\n",
      "100%|███████████████████████████████████████| 937/937 [03:32<00:00,  6.17it/s]\n",
      "100%|███████████████████████████████████████| 937/937 [03:30<00:00,  6.21it/s]\n",
      "100%|███████████████████████████████████████| 937/937 [03:30<00:00,  6.23it/s]\n",
      "100%|███████████████████████████████████████| 937/937 [03:31<00:00,  6.14it/s]\n",
      "100%|███████████████████████████████████████| 937/937 [03:31<00:00,  6.22it/s]\n",
      "100%|███████████████████████████████████████| 937/937 [03:31<00:00,  6.00it/s]\n",
      "100%|███████████████████████████████████████| 937/937 [03:30<00:00,  6.36it/s]\n",
      "100%|███████████████████████████████████████| 937/937 [03:31<00:00,  6.14it/s]\n",
      "100%|███████████████████████████████████████| 937/937 [03:31<00:00,  6.18it/s]\n",
      "100%|███████████████████████████████████████| 937/937 [03:30<00:00,  6.11it/s]\n",
      "100%|███████████████████████████████████████| 937/937 [03:30<00:00,  6.12it/s]\n",
      "100%|███████████████████████████████████████| 937/937 [03:30<00:00,  6.14it/s]\n",
      "100%|███████████████████████████████████████| 937/937 [03:30<00:00,  6.35it/s]\n",
      "100%|███████████████████████████████████████| 937/937 [03:29<00:00,  6.27it/s]\n",
      "100%|███████████████████████████████████████| 937/937 [03:31<00:00,  6.18it/s]\n",
      "100%|███████████████████████████████████████| 937/937 [03:32<00:00,  6.03it/s]\n",
      "100%|███████████████████████████████████████| 937/937 [03:33<00:00,  5.93it/s]\n",
      "100%|███████████████████████████████████████| 937/937 [03:32<00:00,  6.15it/s]\n",
      "100%|███████████████████████████████████████| 937/937 [03:32<00:00,  6.01it/s]\n",
      "100%|███████████████████████████████████████| 937/937 [03:32<00:00,  6.16it/s]\n",
      "100%|███████████████████████████████████████| 937/937 [03:32<00:00,  6.08it/s]\n",
      "100%|███████████████████████████████████████| 937/937 [03:32<00:00,  6.09it/s]\n",
      "100%|███████████████████████████████████████| 937/937 [03:32<00:00,  6.12it/s]\n",
      "100%|███████████████████████████████████████| 937/937 [03:32<00:00,  6.19it/s]\n",
      "100%|███████████████████████████████████████| 937/937 [03:31<00:00,  6.16it/s]\n",
      "100%|███████████████████████████████████████| 937/937 [03:32<00:00,  6.16it/s]\n",
      "100%|███████████████████████████████████████| 937/937 [03:31<00:00,  6.19it/s]\n",
      "100%|███████████████████████████████████████| 937/937 [03:31<00:00,  6.25it/s]\n",
      "100%|███████████████████████████████████████| 937/937 [03:31<00:00,  6.11it/s]\n",
      "100%|███████████████████████████████████████| 937/937 [03:31<00:00,  6.13it/s]\n",
      "100%|███████████████████████████████████████| 937/937 [03:31<00:00,  6.05it/s]\n",
      "100%|███████████████████████████████████████| 937/937 [03:32<00:00,  6.07it/s]\n",
      "100%|███████████████████████████████████████| 937/937 [03:30<00:00,  6.13it/s]\n",
      "100%|███████████████████████████████████████| 937/937 [03:32<00:00,  6.09it/s]\n",
      "100%|███████████████████████████████████████| 937/937 [03:33<00:00,  6.00it/s]\n"
     ]
    }
   ],
   "source": [
    "dl, gl = train_wgan(wgan_d, wgan_g, wgan_m, x_train, callback, 'Wasserstein_GAN_Adam_2', epochs = 50, batch_size = 64)"
   ]
  },
  {
   "cell_type": "code",
   "execution_count": 30,
   "metadata": {},
   "outputs": [
    {
     "data": {
      "image/png": "[encoded data removed]",
      "text/plain": [
       "<matplotlib.figure.Figure at 0x1d0f98b0208>"
      ]
     },
     "metadata": {},
     "output_type": "display_data"
    }
   ],
   "source": [
    "plot_gen(wgan_g)"
   ]
  },
  {
   "cell_type": "code",
   "execution_count": null,
   "metadata": {
    "collapsed": true
   },
   "outputs": [],
   "source": []
  },
  {
   "cell_type": "code",
   "execution_count": null,
   "metadata": {
    "collapsed": true
   },
   "outputs": [],
   "source": []
  }
 ],
 "metadata": {
  "kernelspec": {
   "display_name": "Python 3",
   "language": "python",
   "name": "python3"
  },
  "language_info": {
   "codemirror_mode": {
    "name": "ipython",
    "version": 3
   },
   "file_extension": ".py",
   "mimetype": "text/x-python",
   "name": "python",
   "nbconvert_exporter": "python",
   "pygments_lexer": "ipython3",
   "version": "3.5.3"
  }
 },
 "nbformat": 4,
 "nbformat_minor": 2
}
