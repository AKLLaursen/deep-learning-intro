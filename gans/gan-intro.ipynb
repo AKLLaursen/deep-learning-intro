{
 "cells": [
  {
   "cell_type": "markdown",
   "metadata": {},
   "source": [
    "# General Advaserial Networks\n",
    "\n",
    "This notebook covers GANS, including the development of GANS from the first paper to the Wasserstein GAN."
   ]
  },
  {
   "cell_type": "markdown",
   "metadata": {},
   "source": [
    "## Setup\n",
    "Load libraries and functions."
   ]
  },
  {
   "cell_type": "code",
   "execution_count": 1,
   "metadata": {
    "collapsed": true
   },
   "outputs": [],
   "source": [
    "# Plots displayed inline in notebook\n",
    "%matplotlib inline\n",
    "\n",
    "# Make help libraries available\n",
    "import sys\n",
    "\n",
    "sys.path.append('D:/anlaursen/libraries')\n",
    "\n",
    "# Set visible devices, so as to just use a single GPU.\n",
    "import os\n",
    "os.environ[\"CUDA_DEVICE_ORDER\"] = 'PCI_BUS_ID'\n",
    "os.environ[\"CUDA_VISIBLE_DEVICES\"] = '0'"
   ]
  },
  {
   "cell_type": "code",
   "execution_count": 2,
   "metadata": {},
   "outputs": [
    {
     "name": "stderr",
     "output_type": "stream",
     "text": [
      "Using TensorFlow backend.\n"
     ]
    }
   ],
   "source": [
    "import numpy as np\n",
    "import matplotlib.pyplot as plt\n",
    "import tensorflow as tf\n",
    "\n",
    "from tqdm import tqdm\n",
    "\n",
    "from keras.models import Sequential, Model\n",
    "from keras.layers import (Dense, Flatten, Reshape, Conv2D, BatchNormalization,\n",
    "                          UpSampling2D, LeakyReLU, Dropout, Conv2DTranspose,\n",
    "                          Activation, MaxPool2D, Input)\n",
    "from keras.optimizers import Adam, RMSprop, SGD\n",
    "from keras.initializers import RandomNormal\n",
    "from keras.datasets import mnist\n",
    "from keras.callbacks import TensorBoard\n",
    "\n",
    "import keras.backend as K\n",
    "\n",
    "from kerastools.utils import plot_multi"
   ]
  },
  {
   "cell_type": "markdown",
   "metadata": {},
   "source": [
    "## Functions"
   ]
  },
  {
   "cell_type": "markdown",
   "metadata": {},
   "source": [
    "Define a bunch of help functions"
   ]
  },
  {
   "cell_type": "code",
   "execution_count": 16,
   "metadata": {
    "collapsed": true
   },
   "outputs": [],
   "source": [
    "# Plot function to plot a number of examples by reshaping a flat pixel layer to 2D\n",
    "def plot_gen(G, n_ex = 16):\n",
    "    plot_multi(G.predict(noise(n_ex)).reshape(n_ex, 28, 28), cmap = 'gray')\n",
    "\n",
    "# Create some random data for the generator.\n",
    "def noise(bs): return np.random.normal(0, 1, (bs, 100))\n",
    "\n",
    "# Create a batch of some real and some generated data, with appropriate labels, \n",
    "# for the discriminator.\n",
    "def data_D(train_data, size, G, n):\n",
    "    \n",
    "    # Real data\n",
    "    real_img = train_data[np.random.randint(0, n, size = size)]\n",
    "    \n",
    "    # Append generated data\n",
    "    X = np.concatenate((real_img, G.predict(noise(size))))\n",
    "    \n",
    "    y = [0] * size + [1] * size\n",
    "    \n",
    "    return X, y\n",
    "\n",
    "# Set trainable true/false for all layers in given model\n",
    "def make_trainable(net, val):\n",
    "    net.trainable = val\n",
    "    for l in net.layers: l.trainable = val"
   ]
  },
  {
   "cell_type": "markdown",
   "metadata": {},
   "source": [
    "Define log writer, such that we can log training to Tensorboard, when we do `train_on_batch()`."
   ]
  },
  {
   "cell_type": "code",
   "execution_count": 14,
   "metadata": {
    "collapsed": true
   },
   "outputs": [],
   "source": [
    "def write_log(callback, names, logs, batch_no):\n",
    "    for name, value in zip(names, logs):\n",
    "        summary = tf.Summary()\n",
    "        summary_value = summary.value.add()\n",
    "        summary_value.simple_value = value\n",
    "        summary_value.tag = name\n",
    "        callback.writer.add_summary(summary, batch_no)\n",
    "        callback.writer.flush()"
   ]
  },
  {
   "cell_type": "markdown",
   "metadata": {},
   "source": [
    "Train a few epochs, and return the losses for D and G. In each epoch we:\n",
    "\n",
    "1. Train D on one batch from data_D()\n",
    "2. Train G to create images that the discriminator predicts as real."
   ]
  },
  {
   "cell_type": "code",
   "execution_count": 11,
   "metadata": {
    "collapsed": true
   },
   "outputs": [],
   "source": [
    "def train(D, G, m, train_data, callback, name, epochs = 5000, batch_size = 128):\n",
    "    \n",
    "    dl, gl=[], []\n",
    "    for e in tqdm(range(epochs)):\n",
    "        # Create batch of real and generated data to the discriminator\n",
    "        X, y = data_D(train_data, batch_size // 2, G, train_data.shape[0])\n",
    "        \n",
    "        # Train the descriminator and save the loss\n",
    "        d_logs = D.train_on_batch(X, y)\n",
    "        dl.append(d_logs)\n",
    "        \n",
    "        # Make the descriminator untrainable\n",
    "        make_trainable(D, False)\n",
    "        \n",
    "        # Train the generator\n",
    "        g_logs = m.train_on_batch(noise(batch_size), np.zeros([batch_size]))\n",
    "        gl.append(g_logs)\n",
    "        \n",
    "        # Make the discriminator trainable again\n",
    "        make_trainable(D, True)\n",
    "        \n",
    "        # Write to TensorBoard\n",
    "        write_log(callback,\n",
    "                  [name + '_discriminator_loss', name + '_generator_loss'],\n",
    "                  [d_logs, g_logs],\n",
    "                  e)\n",
    "        \n",
    "    return dl, gl"
   ]
  },
  {
   "cell_type": "markdown",
   "metadata": {},
   "source": [
    "## The original GAN paper\n",
    "\n",
    "We start out by considering the approach of the original GAN outlined in [this paper](https://arxiv.org/abs/1406.2661). We'll be using MNIST as out dataset and we'll refer to the discriminator as 'D' and the generator as 'G'.\n",
    "\n",
    "Start by loading the MNIST dataset"
   ]
  },
  {
   "cell_type": "code",
   "execution_count": 3,
   "metadata": {},
   "outputs": [
    {
     "name": "stdout",
     "output_type": "stream",
     "text": [
      "(60000, 28, 28)\n"
     ]
    }
   ],
   "source": [
    "(x_train, y_train), (x_test, y_test) = mnist.load_data()\n",
    "print(x_train.shape)\n",
    "\n",
    "# Define number of observations in training dataset\n",
    "n = len(x_train)"
   ]
  },
  {
   "cell_type": "markdown",
   "metadata": {},
   "source": [
    "The original GAN uses simple multilayer perceptron models for both the generator and the discriminator, so we flatten the MNIST data, to correspond to this architecture."
   ]
  },
  {
   "cell_type": "code",
   "execution_count": 4,
   "metadata": {
    "collapsed": true
   },
   "outputs": [],
   "source": [
    "x_train = x_train.reshape(n, -1).astype(np.float32)\n",
    "x_test = x_test.reshape(len(x_test), -1).astype(np.float32)"
   ]
  },
  {
   "cell_type": "markdown",
   "metadata": {},
   "source": [
    "Finally we devide the data with 255 simply to get values between 0 and 1."
   ]
  },
  {
   "cell_type": "code",
   "execution_count": 5,
   "metadata": {
    "collapsed": true
   },
   "outputs": [],
   "source": [
    "x_train /= 255.; x_test /= 255."
   ]
  },
  {
   "cell_type": "markdown",
   "metadata": {},
   "source": [
    "### Multilayer perceptron GAN\n",
    "\n",
    "So we start out with the multi layer perceptron of the original GAN paper by Goodfellow et al. We start by defining the generator and discriminator."
   ]
  },
  {
   "cell_type": "code",
   "execution_count": 6,
   "metadata": {
    "collapsed": true
   },
   "outputs": [],
   "source": [
    "# Generator (upsampling)\n",
    "mlp_g = Sequential([\n",
    "    Dense(200, input_shape=(100, ), activation = 'relu'),\n",
    "    Dense(400, activation = 'relu'),\n",
    "    Dense(784, activation = 'sigmoid'),\n",
    "])\n",
    "\n",
    "# Discriminator (downsampling)\n",
    "mlp_d = Sequential([\n",
    "    Dense(300, input_shape=(784, ), activation = 'relu'),\n",
    "    Dense(300, activation = 'relu'),\n",
    "    Dense(1, activation = 'sigmoid'),\n",
    "])"
   ]
  },
  {
   "cell_type": "markdown",
   "metadata": {},
   "source": [
    "Create and compile models"
   ]
  },
  {
   "cell_type": "code",
   "execution_count": 7,
   "metadata": {
    "collapsed": true
   },
   "outputs": [],
   "source": [
    "# Discriminator\n",
    "mlp_d.compile(Adam(1e-4), \"binary_crossentropy\")\n",
    "\n",
    "# Full model\n",
    "mlp_m = Sequential([mlp_g, mlp_d])\n",
    "mlp_m.compile(Adam(1e-4), \"binary_crossentropy\")"
   ]
  },
  {
   "cell_type": "markdown",
   "metadata": {},
   "source": [
    "Initiate TensorBoard"
   ]
  },
  {
   "cell_type": "code",
   "execution_count": 8,
   "metadata": {
    "collapsed": true
   },
   "outputs": [],
   "source": [
    "callback = TensorBoard('./logs')\n",
    "callback.set_model(mlp_m)"
   ]
  },
  {
   "cell_type": "markdown",
   "metadata": {},
   "source": [
    "Train the model on MNIST for 8000 epochs (relatively fast on MNIST)"
   ]
  },
  {
   "cell_type": "code",
   "execution_count": 17,
   "metadata": {},
   "outputs": [
    {
     "name": "stderr",
     "output_type": "stream",
     "text": [
      "100%|███████████████████████████████████████████| 8000/8000 [03:02<00:00, 43.84it/s]\n"
     ]
    }
   ],
   "source": [
    "dl, gl = train(mlp_d, mlp_g, mlp_m,\n",
    "               x_train,\n",
    "               callback,\n",
    "               name = 'Original_gan',\n",
    "               epochs = 8000,\n",
    "               batch_size = 128)"
   ]
  },
  {
   "cell_type": "markdown",
   "metadata": {},
   "source": [
    "The loss plots for most GANs are nearly impossible to interpret - which is one of the things that make them hard to train."
   ]
  },
  {
   "cell_type": "code",
   "execution_count": 18,
   "metadata": {},
   "outputs": [
    {
     "data": {
      "text/plain": [
       "[<matplotlib.lines.Line2D at 0x265e1084128>]"
      ]
     },
     "execution_count": 18,
     "metadata": {},
     "output_type": "execute_result"
    },
    {
     "data": {
      "image/png": "[encoded data removed]",
      "text/plain": [
       "<matplotlib.figure.Figure at 0x265cd1929e8>"
      ]
     },
     "metadata": {},
     "output_type": "display_data"
    }
   ],
   "source": [
    "plt.plot(dl[100:])"
   ]
  },
  {
   "cell_type": "code",
   "execution_count": 19,
   "metadata": {},
   "outputs": [
    {
     "data": {
      "text/plain": [
       "[<matplotlib.lines.Line2D at 0x265e113c240>]"
      ]
     },
     "execution_count": 19,
     "metadata": {},
     "output_type": "execute_result"
    },
    {
     "data": {
      "image/png": "[encoded data removed]",
      "text/plain": [
       "<matplotlib.figure.Figure at 0x265e10cfb00>"
      ]
     },
     "metadata": {},
     "output_type": "display_data"
    }
   ],
   "source": [
    "plt.plot(gl[100:])"
   ]
  },
  {
   "cell_type": "markdown",
   "metadata": {},
   "source": [
    "So this is basically what's known in the literature as \"mode collapse\". And the results are clearly bad."
   ]
  },
  {
   "cell_type": "code",
   "execution_count": 20,
   "metadata": {},
   "outputs": [
    {
     "data": {
      "image/png": "[encoded data removed]",
      "text/plain": [
       "<matplotlib.figure.Figure at 0x265e1197278>"
      ]
     },
     "metadata": {},
     "output_type": "display_data"
    }
   ],
   "source": [
    "plot_gen(mlp_g)"
   ]
  },
  {
   "cell_type": "markdown",
   "metadata": {},
   "source": [
    "So we really have to improve on these results."
   ]
  },
  {
   "cell_type": "markdown",
   "metadata": {},
   "source": [
    "## DCGAN - Deep Convolutional Generative Adversarial Networks\n",
    "\n",
    "Basically, a lot of ideas have been floated to get GANs to work (notoriously painfull). The paper introducing [DCGANs](https://arxiv.org/abs/1511.06434) is the main basis for our next section. Also see [this GAN hacks Github repository](https://github.com/soumith/ganhacks) for many tips!\n",
    "\n",
    "The DCGAN Papers contributions, can be summed up in these points.\n",
    "\n",
    "Architecture guidelines for stable Deep Convolutional GANs\n",
    "* Replace any pooling layers with strided convolutions (discriminator) and fractional-strided convolutions (generator).\n",
    "* Use batchnorm in both the generator and the discriminator.\n",
    "* Remove fully connected hidden layers for deeper architectures.\n",
    "* Use ReLU activation in generator for all layers except for the output, which uses Tanh.\n",
    "* Use LeakyReLU activation in the discriminator for all layers.\n",
    "\n",
    "Interestingly, I find that using batchnorm in the discriminator, makes the training collapse. Instead, I use dropout in the discriminator.\n",
    "\n",
    "Because we're using a CNN from now on, we'll reshape our digits into proper images."
   ]
  },
  {
   "cell_type": "code",
   "execution_count": 21,
   "metadata": {
    "collapsed": true
   },
   "outputs": [],
   "source": [
    "x_train = x_train.reshape(n, 28, 28, 1)\n",
    "x_test = x_test.reshape(len(x_test), 28, 28, 1)"
   ]
  },
  {
   "cell_type": "markdown",
   "metadata": {},
   "source": [
    "Our generator uses a number of upsampling steps as suggested in the above papers. We use nearest neighbor upsampling rather than fractionally strided convolutions, as discussed in our style transfer notebook."
   ]
  },
  {
   "cell_type": "code",
   "execution_count": 22,
   "metadata": {
    "collapsed": true
   },
   "outputs": [],
   "source": [
    "# Generator\n",
    "cnn_g = Sequential([\n",
    "    Dense(512 * 7 * 7, input_dim = 100, activation = 'relu'),\n",
    "    BatchNormalization(),\n",
    "    Reshape((7, 7, 512)),\n",
    "    UpSampling2D(),\n",
    "    Conv2D(64, kernel_size = (3, 3), padding = 'same', activation = 'relu'),\n",
    "    BatchNormalization(),\n",
    "    UpSampling2D(),\n",
    "    Conv2D(32, kernel_size = (3, 3), padding = 'same', activation = 'relu'),\n",
    "    BatchNormalization(),\n",
    "    Conv2D(1, kernel_size = (1, 1), padding = 'same', activation = 'tanh')\n",
    "])\n",
    "\n",
    "# Discriminator\n",
    "\n",
    "cnn_d = Sequential([\n",
    "    Conv2D(256, kernel_size = (5, 5), strides = (2, 2), padding = 'same', \n",
    "           input_shape = (28, 28, 1)),\n",
    "    LeakyReLU(alpha = 0.2),\n",
    "    Dropout(0.3),\n",
    "    Conv2D(512, kernel_size = (5, 5), strides=(2, 2), padding = 'same'),\n",
    "    LeakyReLU(alpha = 0.2),\n",
    "    Dropout(0.3),\n",
    "    Flatten(),\n",
    "    Dense(1, activation = 'sigmoid')\n",
    "])"
   ]
  },
  {
   "cell_type": "markdown",
   "metadata": {},
   "source": [
    "Inspect models"
   ]
  },
  {
   "cell_type": "code",
   "execution_count": 23,
   "metadata": {},
   "outputs": [
    {
     "name": "stdout",
     "output_type": "stream",
     "text": [
      "_________________________________________________________________\n",
      "Layer (type)                 Output Shape              Param #   \n",
      "=================================================================\n",
      "dense_7 (Dense)              (None, 25088)             2533888   \n",
      "_________________________________________________________________\n",
      "batch_normalization_1 (Batch (None, 25088)             100352    \n",
      "_________________________________________________________________\n",
      "reshape_1 (Reshape)          (None, 7, 7, 512)         0         \n",
      "_________________________________________________________________\n",
      "up_sampling2d_1 (UpSampling2 (None, 14, 14, 512)       0         \n",
      "_________________________________________________________________\n",
      "conv2d_1 (Conv2D)            (None, 14, 14, 64)        294976    \n",
      "_________________________________________________________________\n",
      "batch_normalization_2 (Batch (None, 14, 14, 64)        256       \n",
      "_________________________________________________________________\n",
      "up_sampling2d_2 (UpSampling2 (None, 28, 28, 64)        0         \n",
      "_________________________________________________________________\n",
      "conv2d_2 (Conv2D)            (None, 28, 28, 32)        18464     \n",
      "_________________________________________________________________\n",
      "batch_normalization_3 (Batch (None, 28, 28, 32)        128       \n",
      "_________________________________________________________________\n",
      "conv2d_3 (Conv2D)            (None, 28, 28, 1)         33        \n",
      "=================================================================\n",
      "Total params: 2,948,097\n",
      "Trainable params: 2,897,729\n",
      "Non-trainable params: 50,368\n",
      "_________________________________________________________________\n"
     ]
    }
   ],
   "source": [
    "cnn_g.summary()"
   ]
  },
  {
   "cell_type": "code",
   "execution_count": 24,
   "metadata": {},
   "outputs": [
    {
     "name": "stdout",
     "output_type": "stream",
     "text": [
      "_________________________________________________________________\n",
      "Layer (type)                 Output Shape              Param #   \n",
      "=================================================================\n",
      "conv2d_4 (Conv2D)            (None, 14, 14, 256)       6656      \n",
      "_________________________________________________________________\n",
      "leaky_re_lu_1 (LeakyReLU)    (None, 14, 14, 256)       0         \n",
      "_________________________________________________________________\n",
      "dropout_1 (Dropout)          (None, 14, 14, 256)       0         \n",
      "_________________________________________________________________\n",
      "conv2d_5 (Conv2D)            (None, 7, 7, 512)         3277312   \n",
      "_________________________________________________________________\n",
      "leaky_re_lu_2 (LeakyReLU)    (None, 7, 7, 512)         0         \n",
      "_________________________________________________________________\n",
      "dropout_2 (Dropout)          (None, 7, 7, 512)         0         \n",
      "_________________________________________________________________\n",
      "flatten_1 (Flatten)          (None, 25088)             0         \n",
      "_________________________________________________________________\n",
      "dense_8 (Dense)              (None, 1)                 25089     \n",
      "=================================================================\n",
      "Total params: 3,309,057\n",
      "Trainable params: 3,309,057\n",
      "Non-trainable params: 0\n",
      "_________________________________________________________________\n"
     ]
    }
   ],
   "source": [
    "cnn_d.summary()"
   ]
  },
  {
   "cell_type": "markdown",
   "metadata": {},
   "source": [
    "Define and compile models"
   ]
  },
  {
   "cell_type": "code",
   "execution_count": 25,
   "metadata": {
    "collapsed": true
   },
   "outputs": [],
   "source": [
    "# Discriminator\n",
    "cnn_d.compile(Adam(1e-4), \"binary_crossentropy\")"
   ]
  },
  {
   "cell_type": "markdown",
   "metadata": {},
   "source": [
    "The paper suggest training the discriminator for a little bit, such that it can at least tell a real image from random noice."
   ]
  },
  {
   "cell_type": "code",
   "execution_count": 26,
   "metadata": {},
   "outputs": [
    {
     "name": "stdout",
     "output_type": "stream",
     "text": [
      "Epoch 1/1\n",
      "0s - loss: 0.6504\n"
     ]
    },
    {
     "data": {
      "text/plain": [
       "<keras.callbacks.History at 0x265e27a0c18>"
      ]
     },
     "execution_count": 26,
     "metadata": {},
     "output_type": "execute_result"
    }
   ],
   "source": [
    "size = n // 200\n",
    "# Create a batch of randome images from MNIST and random noice\n",
    "x1 = np.concatenate([np.random.permutation(x_train)[:size],\n",
    "                     cnn_g.predict(noise(size))])\n",
    "\n",
    "# Fit the descriminator\n",
    "cnn_d.fit(x1, [0] * size + [1] * size, batch_size = 128, epochs = 1, verbose  = 2)"
   ]
  },
  {
   "cell_type": "markdown",
   "metadata": {},
   "source": [
    "We then define and compile the full model and set learning rate."
   ]
  },
  {
   "cell_type": "code",
   "execution_count": 27,
   "metadata": {
    "collapsed": true
   },
   "outputs": [],
   "source": [
    "cnn_m = Sequential([cnn_g, cnn_d])\n",
    "cnn_m.compile(Adam(1e-4), \"binary_crossentropy\")\n",
    "\n",
    "K.set_value(cnn_d.optimizer.lr, 1e-5)\n",
    "K.set_value(cnn_m.optimizer.lr, 1e-5)"
   ]
  },
  {
   "cell_type": "markdown",
   "metadata": {},
   "source": [
    "Initialise TensorBoard on the full model."
   ]
  },
  {
   "cell_type": "code",
   "execution_count": 28,
   "metadata": {
    "collapsed": true
   },
   "outputs": [],
   "source": [
    "callback = TensorBoard('./logs')\n",
    "callback.set_model(cnn_m)"
   ]
  },
  {
   "cell_type": "markdown",
   "metadata": {},
   "source": [
    "Now train the discriminator and generator iteratively"
   ]
  },
  {
   "cell_type": "code",
   "execution_count": 29,
   "metadata": {},
   "outputs": [
    {
     "name": "stderr",
     "output_type": "stream",
     "text": [
      "100%|███████████████████████████████████████████| 2500/2500 [06:14<00:00,  6.56it/s]\n"
     ]
    }
   ],
   "source": [
    "dl, gl = train(cnn_d, cnn_g, cnn_m,\n",
    "               x_train,\n",
    "               callback,\n",
    "               name = 'dc_gan',\n",
    "               epochs = 2500,\n",
    "               batch_size = 128)"
   ]
  },
  {
   "cell_type": "markdown",
   "metadata": {},
   "source": [
    "We can plot the loss functions again"
   ]
  },
  {
   "cell_type": "code",
   "execution_count": 30,
   "metadata": {},
   "outputs": [
    {
     "data": {
      "text/plain": [
       "[<matplotlib.lines.Line2D at 0x265e114c2b0>]"
      ]
     },
     "execution_count": 30,
     "metadata": {},
     "output_type": "execute_result"
    },
    {
     "data": {
      "image/png": "[encoded data removed]",
      "text/plain": [
       "<matplotlib.figure.Figure at 0x265e10d3f98>"
      ]
     },
     "metadata": {},
     "output_type": "display_data"
    }
   ],
   "source": [
    "plt.plot(dl[10:])"
   ]
  },
  {
   "cell_type": "code",
   "execution_count": 31,
   "metadata": {},
   "outputs": [
    {
     "data": {
      "text/plain": [
       "[<matplotlib.lines.Line2D at 0x265e86c8908>]"
      ]
     },
     "execution_count": 31,
     "metadata": {},
     "output_type": "execute_result"
    },
    {
     "data": {
      "image/png": "[encoded data removed]",
      "text/plain": [
       "<matplotlib.figure.Figure at 0x265e1171ba8>"
      ]
     },
     "metadata": {},
     "output_type": "display_data"
    }
   ],
   "source": [
    "plt.plot(gl[10:])"
   ]
  },
  {
   "cell_type": "markdown",
   "metadata": {},
   "source": [
    "The results are better than our first effort, but still a lot to be desired. And evidently, training bigger size networks are extremely difficult."
   ]
  },
  {
   "cell_type": "code",
   "execution_count": 32,
   "metadata": {},
   "outputs": [
    {
     "data": {
      "image/png": "[encoded data removed]",
      "text/plain": [
       "<matplotlib.figure.Figure at 0x265e7fecf28>"
      ]
     },
     "metadata": {},
     "output_type": "display_data"
    }
   ],
   "source": [
    "plot_gen(cnn_g)"
   ]
  },
  {
   "cell_type": "markdown",
   "metadata": {},
   "source": [
    "## Wasserstein GAN\n",
    "\n",
    "Luckily early in 2017 the GAN training problem were solved! [This](https://arxiv.org/abs/1701.07875) paper shows a minor change to the loss function and constraining the weights allows a GAN to reliably learn following a consistent loss schedule.\n",
    "\n",
    "The main contributions of Wasserstein GAN are:\n",
    "\n",
    "1. Replace loss function with the mean of the product of the target and outputs for both generator and discriminator, as the descriminator really doesn't output a propability.\n",
    "2. Train the descriminator more than the generator (5:1 and 100:1 in some intervals).\n",
    "3. Clip the weights of the descriminator within a given range, typically -0.1 to 0.1.\n",
    "\n",
    "We continue working on MNIST. The authers of the Wasserstein GAN paper released their code in Pytorch. I have implemented it in Keras here.\n",
    "\n",
    "We start by redefining af few functions to reflect new model dynamics"
   ]
  },
  {
   "cell_type": "code",
   "execution_count": 53,
   "metadata": {
    "collapsed": true
   },
   "outputs": [],
   "source": [
    "# Create some random data for the generator.\n",
    "def noise(bs): return np.random.normal(0, 1, (bs, 100))\n",
    "\n",
    "# Create a batch of some real and some generated data, with appropriate labels, \n",
    "# for the discriminator.\n",
    "def data_D(train_data, size, G, n):\n",
    "    \n",
    "    # Real data\n",
    "    real_img = train_data[np.random.randint(0, n, size = size)]\n",
    "    fake_img = G.predict(noise(size))\n",
    "    \n",
    "    # Minus 0ne is real. One is fake\n",
    "    fake_label = np.ones((size, 1))\n",
    "    real_label = fake_label * -1\n",
    "    \n",
    "    return real_img, real_label, fake_img, fake_label"
   ]
  },
  {
   "cell_type": "markdown",
   "metadata": {
    "collapsed": true
   },
   "source": [
    "Load MNIST data and expand dimensions to include channel of dim 1."
   ]
  },
  {
   "cell_type": "code",
   "execution_count": 54,
   "metadata": {},
   "outputs": [
    {
     "name": "stdout",
     "output_type": "stream",
     "text": [
      "(60000, 28, 28, 1)\n",
      "(10000, 28, 28, 1)\n"
     ]
    }
   ],
   "source": [
    "(x_train, y_train), (x_test, y_test) = mnist.load_data()\n",
    "\n",
    "x_train = np.expand_dims(x_train, axis = 3)\n",
    "x_test = np.expand_dims(x_test, axis = 3)\n",
    "print(x_train.shape)\n",
    "print(x_test.shape)\n",
    "\n",
    "# Define number of observations in training dataset\n",
    "n = len(x_train)"
   ]
  },
  {
   "cell_type": "markdown",
   "metadata": {},
   "source": [
    "Resize the pixel values to take sizes between -1 and 1."
   ]
  },
  {
   "cell_type": "code",
   "execution_count": 55,
   "metadata": {
    "collapsed": true
   },
   "outputs": [],
   "source": [
    "x_train = (x_train.astype(np.float32) - 127.5) / 127.5\n",
    "x_test = (x_test.astype(np.float32) - 127.5) / 127.5"
   ]
  },
  {
   "cell_type": "markdown",
   "metadata": {},
   "source": [
    "Define generator and discriminator"
   ]
  },
  {
   "cell_type": "code",
   "execution_count": 56,
   "metadata": {
    "collapsed": true
   },
   "outputs": [],
   "source": [
    "# Get final whole number when downsampling with 2 factor\n",
    "def get_final_downsample(input_size):\n",
    "    \n",
    "    final_size = input_size\n",
    "    while final_size % 2 == 0 and final_size > 4:\n",
    "        final_size /= 2\n",
    "    \n",
    "    return int(final_size)\n",
    "\n",
    "# Generator transpose-conv block\n",
    "def deconv_block(in_tensor, filters, kernel_size, strides, name,\n",
    "                 padding = 'same', use_bias = False):\n",
    "    \n",
    "    out_tensor = Conv2DTranspose(filters = filters,\n",
    "                                 kernel_size = kernel_size,\n",
    "                                 strides = strides,\n",
    "                                 name = name,\n",
    "                                 padding = padding,\n",
    "                                 use_bias = use_bias,\n",
    "                                 kernel_initializer = RandomNormal(0.0, 0.02))(in_tensor)\n",
    "    out_tensor = Activation('relu')(out_tensor)\n",
    "    out_tensor = BatchNormalization()(out_tensor)\n",
    "    \n",
    "    return out_tensor\n",
    "\n",
    "#Generator upsample-conv block\n",
    "\n",
    "# Generator builder\n",
    "def dcgan_generator(input_size = 28, latent_noize = 100, channels = 1,\n",
    "                    base_filters = 64, no_extra_layers = 1):\n",
    "\n",
    "    # Get final whole number when downsampling with 2 factor\n",
    "    final_size = get_final_downsample(input_size)\n",
    "    \n",
    "    # Input dimensions\n",
    "    input_dim = (latent_noize,)\n",
    "    \n",
    "    # Number of conv filters\n",
    "    deconv_filters = base_filters // 2\n",
    "    \n",
    "    # Compute start filter dimensions from teminal dimension\n",
    "    size = final_size\n",
    "    while size != input_size:\n",
    "        deconv_filters *= 2\n",
    "        size *= 2\n",
    "    \n",
    "    inputs = Input(input_dim)\n",
    "    \n",
    "    # Reshape\n",
    "    reshaping = Reshape((1, 1, inputs.shape.as_list()[1]))(inputs)\n",
    "    \n",
    "    # Initial deconv block\n",
    "    initial_deconv = deconv_block(reshaping,\n",
    "                                  filters = deconv_filters,\n",
    "                                  kernel_size = (final_size, final_size),\n",
    "                                  strides = (1, 1),\n",
    "                                  padding = 'valid',\n",
    "                                  name = 'initial')\n",
    "    \n",
    "    # Upsample\n",
    "    deconv = initial_deconv\n",
    "    i = 0\n",
    "    while size <= input_size:\n",
    "        deconv = deconv_block(deconv,\n",
    "                              filters = deconv_filters // 2,\n",
    "                              kernel_size = (4, 4),\n",
    "                              strides = (2, 2),\n",
    "                              padding = 'same',\n",
    "                              name = 'deconv_' + str(i))\n",
    "        \n",
    "        deconv_filters //= 2\n",
    "        size *= 2\n",
    "        i += 1\n",
    "        \n",
    "    # Extra upsample layer\n",
    "    for t in range(no_extra_layers):\n",
    "        deconv = deconv_block(deconv,\n",
    "                              filters = deconv_filters,\n",
    "                              kernel_size = (3, 3),\n",
    "                              strides = (1, 1),\n",
    "                              padding = 'same',\n",
    "                              name = 'deconv_' + str(i))\n",
    "        \n",
    "    # Final layer to output:\n",
    "    final_layer = Conv2DTranspose(filters = channels,\n",
    "                                  kernel_size = (4, 4),\n",
    "                                  strides = (2, 2),\n",
    "                                  name = 'final_layer',\n",
    "                                  padding = 'same',\n",
    "                                  use_bias = False)(deconv)\n",
    "    outputs = Activation('tanh')(final_layer)\n",
    "    \n",
    "    # Define model\n",
    "    model = Model(inputs, outputs)\n",
    "    \n",
    "    return(model)\n",
    "\n",
    "# Discriminator conv-block\n",
    "def conv_block(in_tensor, filters, kernel_size, strides, name,\n",
    "               padding = 'same', use_bias = False):\n",
    "    \n",
    "    out_tensor = Conv2D(filters = filters,\n",
    "                        kernel_size = kernel_size,\n",
    "                        strides = strides,\n",
    "                        name = name,\n",
    "                        padding = padding,\n",
    "                        use_bias = use_bias,\n",
    "                        kernel_initializer = RandomNormal(0.0, 0.02))(in_tensor)\n",
    "    out_tensor = LeakyReLU(alpha = 0.2)(out_tensor)\n",
    "    #out_tensor = Dropout(0.25)(out_tensor)\n",
    "    out_tensor = BatchNormalization(momentum = 0.8)(out_tensor)\n",
    "    \n",
    "    return(out_tensor)\n",
    "\n",
    "# Discriminator builder\n",
    "def dcgan_discriminator(input_size = 28, channels = 1,\n",
    "                        base_filters = 64, no_extra_layers = 1):\n",
    "    \n",
    "    # Get final whole number when downsampling with 2 factor\n",
    "    final_size = get_final_downsample(input_size)\n",
    "\n",
    "    # Picture dimensions matching real images and fake from generator\n",
    "    input_dim = (input_size, input_size, channels)\n",
    "    \n",
    "    inputs = Input(input_dim)\n",
    "    \n",
    "    # Initial conv block\n",
    "    initial = conv_block(inputs, filters = base_filters,\n",
    "                         kernel_size = (4, 4), strides = (1, 1),\n",
    "                         name = 'initial')\n",
    "    \n",
    "    conv_size, conv_filters = input_size / 2, base_filters\n",
    "\n",
    "    # Extra layers\n",
    "    extra = initial\n",
    "    for i in range(no_extra_layers):\n",
    "        extra = conv_block(extra, filters = conv_filters,\n",
    "                           kernel_size = (3, 3), strides = (1, 1),\n",
    "                           name = 'extra_' + str(i))\n",
    "    \n",
    "    # Reducing conv layers\n",
    "    conv_deep = extra\n",
    "    while conv_size >= final_size:\n",
    "        conv_deep = conv_block(conv_deep, filters = conv_filters * 2,\n",
    "                               kernel_size = (4, 4), strides = (2, 2),\n",
    "                               name = 'deep_' + str(conv_size))\n",
    "        conv_size /= 2\n",
    "        conv_filters *= 2\n",
    "        \n",
    "    # Final conv layer\n",
    "    final = Conv2D(filters = 1,\n",
    "                   kernel_size = (final_size, final_size),\n",
    "                   strides = (1, 1),\n",
    "                   name = 'final',\n",
    "                   padding = 'valid',\n",
    "                   use_bias = False)(conv_deep)\n",
    "    \n",
    "    final = Flatten()(final)\n",
    "    \n",
    "    model = Model(inputs, final)\n",
    "    \n",
    "    return model\n"
   ]
  },
  {
   "cell_type": "markdown",
   "metadata": {},
   "source": [
    "Define descriminator the loss function of the Wasserstein GAN. The first finding of the Wasserstein GAN paper is, that the descriminator does not output a propability as such. Hense we can remove the loss function (previously cross enthropy)."
   ]
  },
  {
   "cell_type": "code",
   "execution_count": 57,
   "metadata": {
    "collapsed": true
   },
   "outputs": [],
   "source": [
    "def wasserstein_loss(target, output):\n",
    "    return K.mean(target * output)"
   ]
  },
  {
   "cell_type": "markdown",
   "metadata": {},
   "source": [
    "The second finding is that we should clip the weights through training. That is force them to stay within the range `[−0.01, 0.01]`. Further we should train the descriminator more than the generator."
   ]
  },
  {
   "cell_type": "code",
   "execution_count": 70,
   "metadata": {
    "collapsed": true
   },
   "outputs": [],
   "source": [
    "def train_wgan(D, G, m, train_data, callback, name, epochs = 4000, batch_size = 64):\n",
    "    \n",
    "    # Define losses\n",
    "    dl, gl = [], []\n",
    "    \n",
    "    # Number of batches pr. epoch\n",
    "    no_batches = int(train_data.shape[0] / batch_size)\n",
    "    \n",
    "    for e in range(epochs):\n",
    "        \n",
    "        for gen_iteration in tqdm(range(no_batches)):\n",
    "            \n",
    "            # Specify number of iterations for the discriminator.\n",
    "            if gen_iteration < 25 or gen_iteration % 500 == 0:\n",
    "                disc_iterations = 100\n",
    "            else:\n",
    "                disc_iterations = 5\n",
    "            \n",
    "            # Make the discriminator trainable \n",
    "            make_trainable(D, True)\n",
    "            \n",
    "            i = 0\n",
    "            while i < disc_iterations:\n",
    "                # Create batch of real and generated data to the discriminator\n",
    "                real_img, real_label, fake_img, fake_label = data_D(train_data, batch_size // 2, G, len(train_data))\n",
    "                \n",
    "                # Train the descriminator and save the loss\n",
    "                d_logs_real =  D.train_on_batch(real_img, real_label)\n",
    "                d_logs_fake = D.train_on_batch(fake_img, fake_label)\n",
    "                d_logs = 0.5 * np.add(d_logs_fake, d_logs_real)\n",
    "                \n",
    "                # Clip the absolute weights of the discriminator\n",
    "                for l in D.layers:\n",
    "                    weights = l.get_weights()\n",
    "                    weights = [np.clip(w, -0.01, 0.01) for w in weights]\n",
    "                    l.set_weights(weights)\n",
    "                \n",
    "                i += 1\n",
    "                \n",
    "            # Report last discriminator loss\n",
    "            dl.append(d_logs[0])\n",
    "                \n",
    "            # Make the descriminator untrainable\n",
    "            make_trainable(D, False)\n",
    "            \n",
    "            # Train the generator to fool the descriminator\n",
    "            labels = - np.ones([batch_size])\n",
    "\n",
    "            g_logs = m.train_on_batch(noise(batch_size),\n",
    "                                      labels)\n",
    "            \n",
    "            gl.append(g_logs[0])\n",
    "            \n",
    "            # Write to TensorBoard\n",
    "            write_log(callback,\n",
    "                      [name + '_discriminator_loss', name + '_generator_loss'],\n",
    "                      [d_logs[0], g_logs[0]],\n",
    "                      e * no_batches + gen_iteration)\n",
    "        \n",
    "    return dl, gl"
   ]
  },
  {
   "cell_type": "markdown",
   "metadata": {},
   "source": [
    "We then build the generator, the discriminator and the combined model."
   ]
  },
  {
   "cell_type": "code",
   "execution_count": 71,
   "metadata": {
    "collapsed": true
   },
   "outputs": [],
   "source": [
    "# Discriminator\n",
    "wgan_d = dcgan_discriminator()\n",
    "wgan_d.compile(optimizer = RMSprop(lr = 0.00005),\n",
    "               loss = wasserstein_loss,\n",
    "               metrics = ['accuracy'])\n",
    "\n",
    "wgan_g = dcgan_generator()\n",
    "\n",
    "make_trainable(wgan_d, False)\n",
    "\n",
    "# Combined\n",
    "wgan_m = Sequential([wgan_g, wgan_d])\n",
    "wgan_m.compile(optimizer = RMSprop(lr = 0.00005),\n",
    "               loss = wasserstein_loss,\n",
    "               metrics = ['accuracy'])"
   ]
  },
  {
   "cell_type": "markdown",
   "metadata": {},
   "source": [
    "Summary of models"
   ]
  },
  {
   "cell_type": "code",
   "execution_count": 72,
   "metadata": {},
   "outputs": [
    {
     "name": "stdout",
     "output_type": "stream",
     "text": [
      "_________________________________________________________________\n",
      "Layer (type)                 Output Shape              Param #   \n",
      "=================================================================\n",
      "input_10 (InputLayer)        (None, 100)               0         \n",
      "_________________________________________________________________\n",
      "reshape_6 (Reshape)          (None, 1, 1, 100)         0         \n",
      "_________________________________________________________________\n",
      "initial (Conv2DTranspose)    (None, 7, 7, 128)         627200    \n",
      "_________________________________________________________________\n",
      "activation_17 (Activation)   (None, 7, 7, 128)         0         \n",
      "_________________________________________________________________\n",
      "batch_normalization_36 (Batc (None, 7, 7, 128)         512       \n",
      "_________________________________________________________________\n",
      "deconv_0 (Conv2DTranspose)   (None, 14, 14, 64)        131072    \n",
      "_________________________________________________________________\n",
      "activation_18 (Activation)   (None, 14, 14, 64)        0         \n",
      "_________________________________________________________________\n",
      "batch_normalization_37 (Batc (None, 14, 14, 64)        256       \n",
      "_________________________________________________________________\n",
      "deconv_1 (Conv2DTranspose)   (None, 14, 14, 64)        36864     \n",
      "_________________________________________________________________\n",
      "activation_19 (Activation)   (None, 14, 14, 64)        0         \n",
      "_________________________________________________________________\n",
      "batch_normalization_38 (Batc (None, 14, 14, 64)        256       \n",
      "_________________________________________________________________\n",
      "final_layer (Conv2DTranspose (None, 28, 28, 1)         1024      \n",
      "_________________________________________________________________\n",
      "activation_20 (Activation)   (None, 28, 28, 1)         0         \n",
      "=================================================================\n",
      "Total params: 797,184\n",
      "Trainable params: 796,672\n",
      "Non-trainable params: 512\n",
      "_________________________________________________________________\n"
     ]
    }
   ],
   "source": [
    "wgan_g.summary()"
   ]
  },
  {
   "cell_type": "code",
   "execution_count": 73,
   "metadata": {},
   "outputs": [
    {
     "name": "stdout",
     "output_type": "stream",
     "text": [
      "_________________________________________________________________\n",
      "Layer (type)                 Output Shape              Param #   \n",
      "=================================================================\n",
      "input_9 (InputLayer)         (None, 28, 28, 1)         0         \n",
      "_________________________________________________________________\n",
      "initial (Conv2D)             (None, 28, 28, 64)        1024      \n",
      "_________________________________________________________________\n",
      "leaky_re_lu_19 (LeakyReLU)   (None, 28, 28, 64)        0         \n",
      "_________________________________________________________________\n",
      "batch_normalization_32 (Batc (None, 28, 28, 64)        256       \n",
      "_________________________________________________________________\n",
      "extra_0 (Conv2D)             (None, 28, 28, 64)        36864     \n",
      "_________________________________________________________________\n",
      "leaky_re_lu_20 (LeakyReLU)   (None, 28, 28, 64)        0         \n",
      "_________________________________________________________________\n",
      "batch_normalization_33 (Batc (None, 28, 28, 64)        256       \n",
      "_________________________________________________________________\n",
      "deep_14.0 (Conv2D)           (None, 14, 14, 128)       131072    \n",
      "_________________________________________________________________\n",
      "leaky_re_lu_21 (LeakyReLU)   (None, 14, 14, 128)       0         \n",
      "_________________________________________________________________\n",
      "batch_normalization_34 (Batc (None, 14, 14, 128)       512       \n",
      "_________________________________________________________________\n",
      "deep_7.0 (Conv2D)            (None, 7, 7, 256)         524288    \n",
      "_________________________________________________________________\n",
      "leaky_re_lu_22 (LeakyReLU)   (None, 7, 7, 256)         0         \n",
      "_________________________________________________________________\n",
      "batch_normalization_35 (Batc (None, 7, 7, 256)         1024      \n",
      "_________________________________________________________________\n",
      "final (Conv2D)               (None, 1, 1, 1)           12544     \n",
      "_________________________________________________________________\n",
      "flatten_6 (Flatten)          (None, 1)                 0         \n",
      "=================================================================\n",
      "Total params: 707,840\n",
      "Trainable params: 0\n",
      "Non-trainable params: 707,840\n",
      "_________________________________________________________________\n"
     ]
    }
   ],
   "source": [
    "wgan_d.summary()"
   ]
  },
  {
   "cell_type": "markdown",
   "metadata": {},
   "source": [
    "Define TensorBoard call variables"
   ]
  },
  {
   "cell_type": "code",
   "execution_count": 74,
   "metadata": {
    "collapsed": true
   },
   "outputs": [],
   "source": [
    "callback = TensorBoard('./logs')\n",
    "callback.set_model(wgan_m)"
   ]
  },
  {
   "cell_type": "markdown",
   "metadata": {},
   "source": [
    "Run training"
   ]
  },
  {
   "cell_type": "code",
   "execution_count": 75,
   "metadata": {},
   "outputs": [
    {
     "name": "stderr",
     "output_type": "stream",
     "text": [
      "\n",
      "  0%|                                                       | 0/468 [00:00<?, ?it/s]\n",
      "100%|█████████████████████████████████████████████| 468/468 [07:30<00:00,  2.05it/s]\n",
      "100%|█████████████████████████████████████████████| 468/468 [07:11<00:00,  2.01it/s]\n",
      "100%|█████████████████████████████████████████████| 468/468 [07:12<00:00,  2.04it/s]\n",
      "100%|█████████████████████████████████████████████| 468/468 [07:12<00:00,  2.06it/s]\n",
      "100%|█████████████████████████████████████████████| 468/468 [07:18<00:00,  2.02it/s]\n"
     ]
    }
   ],
   "source": [
    "dl, gl = train_wgan(wgan_d, wgan_g, wgan_m,\n",
    "                    x_train, callback,\n",
    "                    'Wasserstein_1',\n",
    "                    epochs = 5,\n",
    "                    batch_size = 128)"
   ]
  },
  {
   "cell_type": "markdown",
   "metadata": {},
   "source": [
    "A much better result, which we can improve further by more training."
   ]
  },
  {
   "cell_type": "code",
   "execution_count": 77,
   "metadata": {},
   "outputs": [
    {
     "data": {
      "image/png": "[encoded data removed]",
      "text/plain": [
       "<matplotlib.figure.Figure at 0x26424e51470>"
      ]
     },
     "metadata": {},
     "output_type": "display_data"
    }
   ],
   "source": [
    "plot_gen(wgan_g)"
   ]
  },
  {
   "cell_type": "markdown",
   "metadata": {},
   "source": [
    "Run for more epochs"
   ]
  },
  {
   "cell_type": "code",
   "execution_count": null,
   "metadata": {},
   "outputs": [
    {
     "name": "stderr",
     "output_type": "stream",
     "text": [
      "100%|█████████████████████████████████████████████| 468/468 [07:19<00:00,  2.04it/s]\n",
      " 74%|█████████████████████████████████▏           | 345/468 [06:19<01:00,  2.03it/s]"
     ]
    }
   ],
   "source": [
    "dl, gl = train_wgan(wgan_d, wgan_g, wgan_m,\n",
    "                    x_train, callback,\n",
    "                    'Wasserstein_2',\n",
    "                    epochs = 15,\n",
    "                    batch_size = 128)"
   ]
  },
  {
   "cell_type": "code",
   "execution_count": null,
   "metadata": {
    "collapsed": true
   },
   "outputs": [],
   "source": [
    "Now we get something that looks a lot as numbers."
   ]
  },
  {
   "cell_type": "code",
   "execution_count": null,
   "metadata": {},
   "outputs": [],
   "source": [
    "plot_gen(wgan_g)"
   ]
  },
  {
   "cell_type": "markdown",
   "metadata": {
    "collapsed": true
   },
   "source": [
    "We can rerun, but this time use upsample convolutions."
   ]
  },
  {
   "cell_type": "code",
   "execution_count": null,
   "metadata": {
    "collapsed": true
   },
   "outputs": [],
   "source": []
  }
 ],
 "metadata": {
  "kernelspec": {
   "display_name": "Python 3",
   "language": "python",
   "name": "python3"
  },
  "language_info": {
   "codemirror_mode": {
    "name": "ipython",
    "version": 3
   },
   "file_extension": ".py",
   "mimetype": "text/x-python",
   "name": "python",
   "nbconvert_exporter": "python",
   "pygments_lexer": "ipython3",
   "version": "3.5.3"
  }
 },
 "nbformat": 4,
 "nbformat_minor": 2
}
