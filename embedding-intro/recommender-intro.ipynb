{
 "cells": [
  {
   "cell_type": "markdown",
   "metadata": {},
   "source": [
    "# Introduction to Embeddings\n",
    "\n",
    "This notebook provides a thorough introduction to the concept of embeddings."
   ]
  },
  {
   "cell_type": "markdown",
   "metadata": {},
   "source": [
    "## Setup libraries and functions.\n",
    "\n",
    "We start by importing various libraries needed."
   ]
  },
  {
   "cell_type": "code",
   "execution_count": 1,
   "metadata": {
    "collapsed": true
   },
   "outputs": [],
   "source": [
    "# Plots displayed inline in notebook\n",
    "%matplotlib inline\n",
    "\n",
    "# Make Python 3 consistent\n",
    "from __future__ import print_function, division\n",
    "\n",
    "# Make help libraries available\n",
    "import sys\n",
    "\n",
    "sys.path.append('/home/ubuntu/personal-libraries')\n",
    "\n",
    "# Set visible devices, so as to just use a single GPU.\n",
    "import os\n",
    "os.environ[\"CUDA_DEVICE_ORDER\"] = \"PCI_BUS_ID\"   # see issue #152\n",
    "os.environ[\"CUDA_VISIBLE_DEVICES\"] = \"0\""
   ]
  },
  {
   "cell_type": "code",
   "execution_count": 2,
   "metadata": {},
   "outputs": [
    {
     "name": "stderr",
     "output_type": "stream",
     "text": [
      "Using TensorFlow backend.\n"
     ]
    }
   ],
   "source": [
    "import pandas as pd\n",
    "import numpy as np\n",
    "\n",
    "from operator import itemgetter\n",
    "from matplotlib import pyplot as plt\n",
    "\n",
    "from keras.models import Model\n",
    "from keras.layers import Input, Dense, Flatten, merge, Dropout\n",
    "from keras.layers.merge import dot, add, concatenate\n",
    "from keras.layers.embeddings import Embedding\n",
    "from keras.regularizers import l2\n",
    "from keras.optimizers import Adam\n",
    "\n",
    "from keras import backend as K\n",
    "K.set_image_data_format('channels_last')"
   ]
  },
  {
   "cell_type": "markdown",
   "metadata": {},
   "source": [
    "Setup paths and batch size. We work with the movielens dataset, and utilise the small dataset at first."
   ]
  },
  {
   "cell_type": "code",
   "execution_count": 3,
   "metadata": {
    "collapsed": true
   },
   "outputs": [],
   "source": [
    "#path = \"data/ml-20m/\"\n",
    "path = \"data/movielens/ml-latest-small/\"\n",
    "model_path = 'models/recommender-intro/'\n",
    "\n",
    "batch_size = 64"
   ]
  },
  {
   "cell_type": "markdown",
   "metadata": {},
   "source": [
    "## Set up data"
   ]
  },
  {
   "cell_type": "markdown",
   "metadata": {},
   "source": [
    "We're working with the movielens data, which contains one rating per row, like this:"
   ]
  },
  {
   "cell_type": "code",
   "execution_count": 4,
   "metadata": {
    "scrolled": true
   },
   "outputs": [
    {
     "data": {
      "text/html": [
       "<div>\n",
       "<style>\n",
       "    .dataframe thead tr:only-child th {\n",
       "        text-align: right;\n",
       "    }\n",
       "\n",
       "    .dataframe thead th {\n",
       "        text-align: left;\n",
       "    }\n",
       "\n",
       "    .dataframe tbody tr th {\n",
       "        vertical-align: top;\n",
       "    }\n",
       "</style>\n",
       "<table border=\"1\" class=\"dataframe\">\n",
       "  <thead>\n",
       "    <tr style=\"text-align: right;\">\n",
       "      <th></th>\n",
       "      <th>userId</th>\n",
       "      <th>movieId</th>\n",
       "      <th>rating</th>\n",
       "      <th>timestamp</th>\n",
       "    </tr>\n",
       "  </thead>\n",
       "  <tbody>\n",
       "    <tr>\n",
       "      <th>0</th>\n",
       "      <td>1</td>\n",
       "      <td>31</td>\n",
       "      <td>2.5</td>\n",
       "      <td>1260759144</td>\n",
       "    </tr>\n",
       "    <tr>\n",
       "      <th>1</th>\n",
       "      <td>1</td>\n",
       "      <td>1029</td>\n",
       "      <td>3.0</td>\n",
       "      <td>1260759179</td>\n",
       "    </tr>\n",
       "    <tr>\n",
       "      <th>2</th>\n",
       "      <td>1</td>\n",
       "      <td>1061</td>\n",
       "      <td>3.0</td>\n",
       "      <td>1260759182</td>\n",
       "    </tr>\n",
       "    <tr>\n",
       "      <th>3</th>\n",
       "      <td>1</td>\n",
       "      <td>1129</td>\n",
       "      <td>2.0</td>\n",
       "      <td>1260759185</td>\n",
       "    </tr>\n",
       "    <tr>\n",
       "      <th>4</th>\n",
       "      <td>1</td>\n",
       "      <td>1172</td>\n",
       "      <td>4.0</td>\n",
       "      <td>1260759205</td>\n",
       "    </tr>\n",
       "  </tbody>\n",
       "</table>\n",
       "</div>"
      ],
      "text/plain": [
       "   userId  movieId  rating   timestamp\n",
       "0       1       31     2.5  1260759144\n",
       "1       1     1029     3.0  1260759179\n",
       "2       1     1061     3.0  1260759182\n",
       "3       1     1129     2.0  1260759185\n",
       "4       1     1172     4.0  1260759205"
      ]
     },
     "execution_count": 4,
     "metadata": {},
     "output_type": "execute_result"
    }
   ],
   "source": [
    "ratings = pd.read_csv(path + 'ratings.csv')\n",
    "ratings.head()"
   ]
  },
  {
   "cell_type": "code",
   "execution_count": 5,
   "metadata": {},
   "outputs": [
    {
     "data": {
      "text/plain": [
       "100004"
      ]
     },
     "execution_count": 5,
     "metadata": {},
     "output_type": "execute_result"
    }
   ],
   "source": [
    "len(ratings)"
   ]
  },
  {
   "cell_type": "markdown",
   "metadata": {},
   "source": [
    "Just for display purposes, let's read in the movie names too."
   ]
  },
  {
   "cell_type": "code",
   "execution_count": 6,
   "metadata": {
    "collapsed": true
   },
   "outputs": [],
   "source": [
    "movie_names = pd.read_csv(path + 'movies.csv').set_index('movieId')['title'].to_dict()"
   ]
  },
  {
   "cell_type": "markdown",
   "metadata": {},
   "source": [
    "Define users and movies (as ids)"
   ]
  },
  {
   "cell_type": "code",
   "execution_count": 7,
   "metadata": {
    "collapsed": true
   },
   "outputs": [],
   "source": [
    "users = ratings.userId.unique()\n",
    "movies = ratings.movieId.unique()"
   ]
  },
  {
   "cell_type": "markdown",
   "metadata": {},
   "source": [
    "We define two dictionaries mapping each user and movie to a continous ordered integer."
   ]
  },
  {
   "cell_type": "code",
   "execution_count": 8,
   "metadata": {
    "collapsed": true
   },
   "outputs": [],
   "source": [
    "userid2idx = {o:i for i, o in enumerate(users)}\n",
    "movieid2idx = {o:i for i, o in enumerate(movies)}"
   ]
  },
  {
   "cell_type": "markdown",
   "metadata": {},
   "source": [
    "We update the movie and user ids so that they are contiguous integers, which we want when using embeddings."
   ]
  },
  {
   "cell_type": "code",
   "execution_count": 9,
   "metadata": {
    "collapsed": true
   },
   "outputs": [],
   "source": [
    "ratings.movieId = ratings.movieId.apply(lambda x: movieid2idx[x])\n",
    "ratings.userId = ratings.userId.apply(lambda x: userid2idx[x])"
   ]
  },
  {
   "cell_type": "markdown",
   "metadata": {},
   "source": [
    "To get an overview of the structure of the data, we consider the max and min values."
   ]
  },
  {
   "cell_type": "code",
   "execution_count": 10,
   "metadata": {},
   "outputs": [
    {
     "data": {
      "text/plain": [
       "(0, 670, 0, 9065)"
      ]
     },
     "execution_count": 10,
     "metadata": {},
     "output_type": "execute_result"
    }
   ],
   "source": [
    "user_min, user_max, movie_min, movie_max = (ratings.userId.min(), \n",
    "                                            ratings.userId.max(),\n",
    "                                            ratings.movieId.min(),\n",
    "                                            ratings.movieId.max())\n",
    "\n",
    "user_min, user_max, movie_min, movie_max"
   ]
  },
  {
   "cell_type": "markdown",
   "metadata": {},
   "source": [
    "So we have 671 users mapped to continous IDs and 9066 movies mapped to continous IDs. We check by considering the length of the objects."
   ]
  },
  {
   "cell_type": "code",
   "execution_count": 11,
   "metadata": {},
   "outputs": [
    {
     "data": {
      "text/plain": [
       "(671, 9066)"
      ]
     },
     "execution_count": 11,
     "metadata": {},
     "output_type": "execute_result"
    }
   ],
   "source": [
    "n_users = ratings.userId.nunique()\n",
    "n_movies = ratings.movieId.nunique()\n",
    "n_users, n_movies"
   ]
  },
  {
   "cell_type": "markdown",
   "metadata": {},
   "source": [
    "We specify the number of latent factors in each embedding. This is a free parameter."
   ]
  },
  {
   "cell_type": "code",
   "execution_count": 12,
   "metadata": {
    "collapsed": true
   },
   "outputs": [],
   "source": [
    "n_factors = 50"
   ]
  },
  {
   "cell_type": "code",
   "execution_count": 13,
   "metadata": {
    "collapsed": true
   },
   "outputs": [],
   "source": [
    "# Specify numpy seed, such that we get the same random sample each time\n",
    "np.random.seed = 42"
   ]
  },
  {
   "cell_type": "markdown",
   "metadata": {},
   "source": [
    "Randomly split into training and validation."
   ]
  },
  {
   "cell_type": "code",
   "execution_count": 14,
   "metadata": {
    "collapsed": true
   },
   "outputs": [],
   "source": [
    "msk = np.random.rand(len(ratings)) < 0.8\n",
    "trn = ratings[msk]\n",
    "val = ratings[~msk]"
   ]
  },
  {
   "cell_type": "markdown",
   "metadata": {
    "heading_collapsed": true
   },
   "source": [
    "## Create subset for Excel"
   ]
  },
  {
   "cell_type": "markdown",
   "metadata": {
    "hidden": true
   },
   "source": [
    "We create a crosstab of the most popular movies and most movie-addicted users which we'll copy into Excel for creating a simple example. This isn't necessary for any of the modeling below however."
   ]
  },
  {
   "cell_type": "code",
   "execution_count": 15,
   "metadata": {
    "collapsed": true,
    "hidden": true
   },
   "outputs": [],
   "source": [
    "g = ratings.groupby('userId')['rating'].count()\n",
    "topUsers = g.sort_values(ascending = False)[:15]"
   ]
  },
  {
   "cell_type": "code",
   "execution_count": 16,
   "metadata": {
    "collapsed": true,
    "hidden": true
   },
   "outputs": [],
   "source": [
    "g = ratings.groupby('movieId')['rating'].count()\n",
    "topMovies = g.sort_values(ascending = False)[:15]"
   ]
  },
  {
   "cell_type": "code",
   "execution_count": 17,
   "metadata": {
    "collapsed": true,
    "hidden": true
   },
   "outputs": [],
   "source": [
    "top_r = ratings.join(topUsers, rsuffix = '_r', how = 'inner', on = 'userId')"
   ]
  },
  {
   "cell_type": "code",
   "execution_count": 18,
   "metadata": {
    "collapsed": true,
    "hidden": true
   },
   "outputs": [],
   "source": [
    "top_r = top_r.join(topMovies, rsuffix = '_r', how = 'inner', on = 'movieId')"
   ]
  },
  {
   "cell_type": "code",
   "execution_count": 19,
   "metadata": {
    "hidden": true,
    "scrolled": true
   },
   "outputs": [
    {
     "data": {
      "text/html": [
       "<div>\n",
       "<style>\n",
       "    .dataframe thead tr:only-child th {\n",
       "        text-align: right;\n",
       "    }\n",
       "\n",
       "    .dataframe thead th {\n",
       "        text-align: left;\n",
       "    }\n",
       "\n",
       "    .dataframe tbody tr th {\n",
       "        vertical-align: top;\n",
       "    }\n",
       "</style>\n",
       "<table border=\"1\" class=\"dataframe\">\n",
       "  <thead>\n",
       "    <tr style=\"text-align: right;\">\n",
       "      <th>movieId</th>\n",
       "      <th>27</th>\n",
       "      <th>49</th>\n",
       "      <th>57</th>\n",
       "      <th>72</th>\n",
       "      <th>79</th>\n",
       "      <th>89</th>\n",
       "      <th>92</th>\n",
       "      <th>99</th>\n",
       "      <th>143</th>\n",
       "      <th>179</th>\n",
       "      <th>180</th>\n",
       "      <th>197</th>\n",
       "      <th>402</th>\n",
       "      <th>417</th>\n",
       "      <th>505</th>\n",
       "    </tr>\n",
       "    <tr>\n",
       "      <th>userId</th>\n",
       "      <th></th>\n",
       "      <th></th>\n",
       "      <th></th>\n",
       "      <th></th>\n",
       "      <th></th>\n",
       "      <th></th>\n",
       "      <th></th>\n",
       "      <th></th>\n",
       "      <th></th>\n",
       "      <th></th>\n",
       "      <th></th>\n",
       "      <th></th>\n",
       "      <th></th>\n",
       "      <th></th>\n",
       "      <th></th>\n",
       "    </tr>\n",
       "  </thead>\n",
       "  <tbody>\n",
       "    <tr>\n",
       "      <th>14</th>\n",
       "      <td>3.0</td>\n",
       "      <td>5.0</td>\n",
       "      <td>1.0</td>\n",
       "      <td>3.0</td>\n",
       "      <td>4.0</td>\n",
       "      <td>4.0</td>\n",
       "      <td>5.0</td>\n",
       "      <td>2.0</td>\n",
       "      <td>5.0</td>\n",
       "      <td>5.0</td>\n",
       "      <td>4.0</td>\n",
       "      <td>5.0</td>\n",
       "      <td>5.0</td>\n",
       "      <td>2.0</td>\n",
       "      <td>5.0</td>\n",
       "    </tr>\n",
       "    <tr>\n",
       "      <th>29</th>\n",
       "      <td>5.0</td>\n",
       "      <td>5.0</td>\n",
       "      <td>5.0</td>\n",
       "      <td>4.0</td>\n",
       "      <td>5.0</td>\n",
       "      <td>4.0</td>\n",
       "      <td>4.0</td>\n",
       "      <td>5.0</td>\n",
       "      <td>4.0</td>\n",
       "      <td>4.0</td>\n",
       "      <td>5.0</td>\n",
       "      <td>5.0</td>\n",
       "      <td>3.0</td>\n",
       "      <td>4.0</td>\n",
       "      <td>5.0</td>\n",
       "    </tr>\n",
       "    <tr>\n",
       "      <th>72</th>\n",
       "      <td>4.0</td>\n",
       "      <td>5.0</td>\n",
       "      <td>5.0</td>\n",
       "      <td>4.0</td>\n",
       "      <td>5.0</td>\n",
       "      <td>3.0</td>\n",
       "      <td>4.5</td>\n",
       "      <td>5.0</td>\n",
       "      <td>4.5</td>\n",
       "      <td>5.0</td>\n",
       "      <td>5.0</td>\n",
       "      <td>5.0</td>\n",
       "      <td>4.5</td>\n",
       "      <td>5.0</td>\n",
       "      <td>4.0</td>\n",
       "    </tr>\n",
       "    <tr>\n",
       "      <th>211</th>\n",
       "      <td>5.0</td>\n",
       "      <td>4.0</td>\n",
       "      <td>4.0</td>\n",
       "      <td>3.0</td>\n",
       "      <td>5.0</td>\n",
       "      <td>3.0</td>\n",
       "      <td>4.0</td>\n",
       "      <td>4.5</td>\n",
       "      <td>4.0</td>\n",
       "      <td>NaN</td>\n",
       "      <td>3.0</td>\n",
       "      <td>3.0</td>\n",
       "      <td>5.0</td>\n",
       "      <td>3.0</td>\n",
       "      <td>NaN</td>\n",
       "    </tr>\n",
       "    <tr>\n",
       "      <th>212</th>\n",
       "      <td>2.5</td>\n",
       "      <td>NaN</td>\n",
       "      <td>2.0</td>\n",
       "      <td>5.0</td>\n",
       "      <td>NaN</td>\n",
       "      <td>4.0</td>\n",
       "      <td>2.5</td>\n",
       "      <td>NaN</td>\n",
       "      <td>5.0</td>\n",
       "      <td>5.0</td>\n",
       "      <td>3.0</td>\n",
       "      <td>3.0</td>\n",
       "      <td>4.0</td>\n",
       "      <td>3.0</td>\n",
       "      <td>2.0</td>\n",
       "    </tr>\n",
       "    <tr>\n",
       "      <th>293</th>\n",
       "      <td>3.0</td>\n",
       "      <td>NaN</td>\n",
       "      <td>4.0</td>\n",
       "      <td>4.0</td>\n",
       "      <td>4.0</td>\n",
       "      <td>3.0</td>\n",
       "      <td>NaN</td>\n",
       "      <td>3.0</td>\n",
       "      <td>4.0</td>\n",
       "      <td>4.0</td>\n",
       "      <td>4.5</td>\n",
       "      <td>4.0</td>\n",
       "      <td>4.5</td>\n",
       "      <td>4.0</td>\n",
       "      <td>NaN</td>\n",
       "    </tr>\n",
       "    <tr>\n",
       "      <th>310</th>\n",
       "      <td>3.0</td>\n",
       "      <td>3.0</td>\n",
       "      <td>5.0</td>\n",
       "      <td>4.5</td>\n",
       "      <td>5.0</td>\n",
       "      <td>4.5</td>\n",
       "      <td>2.0</td>\n",
       "      <td>4.5</td>\n",
       "      <td>4.0</td>\n",
       "      <td>3.0</td>\n",
       "      <td>4.5</td>\n",
       "      <td>4.5</td>\n",
       "      <td>4.0</td>\n",
       "      <td>3.0</td>\n",
       "      <td>4.0</td>\n",
       "    </tr>\n",
       "    <tr>\n",
       "      <th>379</th>\n",
       "      <td>5.0</td>\n",
       "      <td>5.0</td>\n",
       "      <td>5.0</td>\n",
       "      <td>4.0</td>\n",
       "      <td>NaN</td>\n",
       "      <td>4.0</td>\n",
       "      <td>5.0</td>\n",
       "      <td>4.0</td>\n",
       "      <td>4.0</td>\n",
       "      <td>4.0</td>\n",
       "      <td>NaN</td>\n",
       "      <td>3.0</td>\n",
       "      <td>5.0</td>\n",
       "      <td>4.0</td>\n",
       "      <td>4.0</td>\n",
       "    </tr>\n",
       "    <tr>\n",
       "      <th>451</th>\n",
       "      <td>4.0</td>\n",
       "      <td>5.0</td>\n",
       "      <td>4.0</td>\n",
       "      <td>5.0</td>\n",
       "      <td>4.0</td>\n",
       "      <td>4.0</td>\n",
       "      <td>5.0</td>\n",
       "      <td>5.0</td>\n",
       "      <td>4.0</td>\n",
       "      <td>4.0</td>\n",
       "      <td>4.0</td>\n",
       "      <td>4.0</td>\n",
       "      <td>2.0</td>\n",
       "      <td>3.5</td>\n",
       "      <td>5.0</td>\n",
       "    </tr>\n",
       "    <tr>\n",
       "      <th>467</th>\n",
       "      <td>3.0</td>\n",
       "      <td>3.5</td>\n",
       "      <td>3.0</td>\n",
       "      <td>2.5</td>\n",
       "      <td>NaN</td>\n",
       "      <td>NaN</td>\n",
       "      <td>3.0</td>\n",
       "      <td>3.5</td>\n",
       "      <td>3.5</td>\n",
       "      <td>3.0</td>\n",
       "      <td>3.5</td>\n",
       "      <td>3.0</td>\n",
       "      <td>3.0</td>\n",
       "      <td>4.0</td>\n",
       "      <td>4.0</td>\n",
       "    </tr>\n",
       "    <tr>\n",
       "      <th>508</th>\n",
       "      <td>5.0</td>\n",
       "      <td>5.0</td>\n",
       "      <td>4.0</td>\n",
       "      <td>3.0</td>\n",
       "      <td>5.0</td>\n",
       "      <td>2.0</td>\n",
       "      <td>4.0</td>\n",
       "      <td>4.0</td>\n",
       "      <td>5.0</td>\n",
       "      <td>5.0</td>\n",
       "      <td>5.0</td>\n",
       "      <td>3.0</td>\n",
       "      <td>4.5</td>\n",
       "      <td>3.0</td>\n",
       "      <td>4.5</td>\n",
       "    </tr>\n",
       "    <tr>\n",
       "      <th>546</th>\n",
       "      <td>NaN</td>\n",
       "      <td>5.0</td>\n",
       "      <td>2.0</td>\n",
       "      <td>3.0</td>\n",
       "      <td>5.0</td>\n",
       "      <td>NaN</td>\n",
       "      <td>5.0</td>\n",
       "      <td>5.0</td>\n",
       "      <td>NaN</td>\n",
       "      <td>2.5</td>\n",
       "      <td>2.0</td>\n",
       "      <td>3.5</td>\n",
       "      <td>3.5</td>\n",
       "      <td>3.5</td>\n",
       "      <td>5.0</td>\n",
       "    </tr>\n",
       "    <tr>\n",
       "      <th>563</th>\n",
       "      <td>1.0</td>\n",
       "      <td>5.0</td>\n",
       "      <td>3.0</td>\n",
       "      <td>5.0</td>\n",
       "      <td>4.0</td>\n",
       "      <td>5.0</td>\n",
       "      <td>5.0</td>\n",
       "      <td>NaN</td>\n",
       "      <td>2.0</td>\n",
       "      <td>5.0</td>\n",
       "      <td>5.0</td>\n",
       "      <td>3.0</td>\n",
       "      <td>3.0</td>\n",
       "      <td>4.0</td>\n",
       "      <td>5.0</td>\n",
       "    </tr>\n",
       "    <tr>\n",
       "      <th>579</th>\n",
       "      <td>4.5</td>\n",
       "      <td>4.5</td>\n",
       "      <td>3.5</td>\n",
       "      <td>3.0</td>\n",
       "      <td>4.0</td>\n",
       "      <td>4.5</td>\n",
       "      <td>4.0</td>\n",
       "      <td>4.0</td>\n",
       "      <td>4.0</td>\n",
       "      <td>4.0</td>\n",
       "      <td>3.5</td>\n",
       "      <td>3.0</td>\n",
       "      <td>4.5</td>\n",
       "      <td>4.0</td>\n",
       "      <td>4.5</td>\n",
       "    </tr>\n",
       "    <tr>\n",
       "      <th>623</th>\n",
       "      <td>NaN</td>\n",
       "      <td>5.0</td>\n",
       "      <td>3.0</td>\n",
       "      <td>3.0</td>\n",
       "      <td>NaN</td>\n",
       "      <td>3.0</td>\n",
       "      <td>5.0</td>\n",
       "      <td>NaN</td>\n",
       "      <td>5.0</td>\n",
       "      <td>5.0</td>\n",
       "      <td>5.0</td>\n",
       "      <td>5.0</td>\n",
       "      <td>2.0</td>\n",
       "      <td>5.0</td>\n",
       "      <td>4.0</td>\n",
       "    </tr>\n",
       "  </tbody>\n",
       "</table>\n",
       "</div>"
      ],
      "text/plain": [
       "movieId  27   49   57   72   79   89   92   99   143  179  180  197  402  417  \\\n",
       "userId                                                                          \n",
       "14       3.0  5.0  1.0  3.0  4.0  4.0  5.0  2.0  5.0  5.0  4.0  5.0  5.0  2.0   \n",
       "29       5.0  5.0  5.0  4.0  5.0  4.0  4.0  5.0  4.0  4.0  5.0  5.0  3.0  4.0   \n",
       "72       4.0  5.0  5.0  4.0  5.0  3.0  4.5  5.0  4.5  5.0  5.0  5.0  4.5  5.0   \n",
       "211      5.0  4.0  4.0  3.0  5.0  3.0  4.0  4.5  4.0  NaN  3.0  3.0  5.0  3.0   \n",
       "212      2.5  NaN  2.0  5.0  NaN  4.0  2.5  NaN  5.0  5.0  3.0  3.0  4.0  3.0   \n",
       "293      3.0  NaN  4.0  4.0  4.0  3.0  NaN  3.0  4.0  4.0  4.5  4.0  4.5  4.0   \n",
       "310      3.0  3.0  5.0  4.5  5.0  4.5  2.0  4.5  4.0  3.0  4.5  4.5  4.0  3.0   \n",
       "379      5.0  5.0  5.0  4.0  NaN  4.0  5.0  4.0  4.0  4.0  NaN  3.0  5.0  4.0   \n",
       "451      4.0  5.0  4.0  5.0  4.0  4.0  5.0  5.0  4.0  4.0  4.0  4.0  2.0  3.5   \n",
       "467      3.0  3.5  3.0  2.5  NaN  NaN  3.0  3.5  3.5  3.0  3.5  3.0  3.0  4.0   \n",
       "508      5.0  5.0  4.0  3.0  5.0  2.0  4.0  4.0  5.0  5.0  5.0  3.0  4.5  3.0   \n",
       "546      NaN  5.0  2.0  3.0  5.0  NaN  5.0  5.0  NaN  2.5  2.0  3.5  3.5  3.5   \n",
       "563      1.0  5.0  3.0  5.0  4.0  5.0  5.0  NaN  2.0  5.0  5.0  3.0  3.0  4.0   \n",
       "579      4.5  4.5  3.5  3.0  4.0  4.5  4.0  4.0  4.0  4.0  3.5  3.0  4.5  4.0   \n",
       "623      NaN  5.0  3.0  3.0  NaN  3.0  5.0  NaN  5.0  5.0  5.0  5.0  2.0  5.0   \n",
       "\n",
       "movieId  505  \n",
       "userId        \n",
       "14       5.0  \n",
       "29       5.0  \n",
       "72       4.0  \n",
       "211      NaN  \n",
       "212      2.0  \n",
       "293      NaN  \n",
       "310      4.0  \n",
       "379      4.0  \n",
       "451      5.0  \n",
       "467      4.0  \n",
       "508      4.5  \n",
       "546      5.0  \n",
       "563      5.0  \n",
       "579      4.5  \n",
       "623      4.0  "
      ]
     },
     "execution_count": 19,
     "metadata": {},
     "output_type": "execute_result"
    }
   ],
   "source": [
    "pd.crosstab(top_r.userId, top_r.movieId, top_r.rating, aggfunc = np.sum)"
   ]
  },
  {
   "cell_type": "markdown",
   "metadata": {
    "hidden": true
   },
   "source": [
    "We can then consider the intuition of collavborative filtering in Excel."
   ]
  },
  {
   "cell_type": "code",
   "execution_count": 20,
   "metadata": {
    "hidden": true
   },
   "outputs": [
    {
     "data": {
      "text/html": [
       "<a href='collab_filter.xlsx' target='_blank'>collab_filter.xlsx</a><br>"
      ],
      "text/plain": [
       "D:\\anlaursen\\libraries\\deep-learning-intro\\embedding-intro\\collab_filter.xlsx"
      ]
     },
     "execution_count": 20,
     "metadata": {},
     "output_type": "execute_result"
    }
   ],
   "source": [
    "from IPython.display import FileLink\n",
    "FileLink('collab_filter.xlsx')"
   ]
  },
  {
   "cell_type": "markdown",
   "metadata": {
    "collapsed": true,
    "heading_collapsed": true
   },
   "source": [
    "## Dot product"
   ]
  },
  {
   "cell_type": "markdown",
   "metadata": {
    "hidden": true
   },
   "source": [
    "The most basic model is a dot product of a movie embedding and a user embedding. Let's see how well that works. We build two simple embeddings, one for users and one for movies. Note the onedimensional input. Also note that we add regularisation."
   ]
  },
  {
   "cell_type": "code",
   "execution_count": 21,
   "metadata": {
    "collapsed": true,
    "hidden": true
   },
   "outputs": [],
   "source": [
    "user_in = Input(shape=(1, ), dtype = 'int64', name = 'user_in')\n",
    "u = Embedding(n_users, n_factors, input_length = 1, embeddings_regularizer = l2(1e-4))(user_in)\n",
    "movie_in = Input(shape=(1, ), dtype = 'int64', name = 'movie_in')\n",
    "m = Embedding(n_movies, n_factors, input_length = 1, embeddings_regularizer = l2(1e-4))(movie_in)"
   ]
  },
  {
   "cell_type": "markdown",
   "metadata": {
    "hidden": true
   },
   "source": [
    "We then merge the two input layers via the dotproduct of the two. Note in this case of collaborative filtering for recomender systems, we use embeddings of users and movies to save computation time. We could have one hot encoded the layers, but that would gie us giant matrices to multiply. Instead we use an embedding representation."
   ]
  },
  {
   "cell_type": "code",
   "execution_count": 22,
   "metadata": {
    "collapsed": true,
    "hidden": true
   },
   "outputs": [],
   "source": [
    "# Define model layers\n",
    "# Note that axes has to be set to 2! Remember the order is (batches, channels, dim1)\n",
    "x = dot([u, m], 2)\n",
    "x = Flatten()(x)\n",
    "\n",
    "# Initialise and compile the model\n",
    "model = Model([user_in, movie_in], x)\n",
    "model.compile(Adam(0.001), loss = 'mse')"
   ]
  },
  {
   "cell_type": "markdown",
   "metadata": {
    "hidden": true
   },
   "source": [
    "Let's consider the model."
   ]
  },
  {
   "cell_type": "code",
   "execution_count": 23,
   "metadata": {
    "hidden": true
   },
   "outputs": [
    {
     "name": "stdout",
     "output_type": "stream",
     "text": [
      "____________________________________________________________________________________________________\n",
      "Layer (type)                     Output Shape          Param #     Connected to                     \n",
      "====================================================================================================\n",
      "user_in (InputLayer)             (None, 1)             0                                            \n",
      "____________________________________________________________________________________________________\n",
      "movie_in (InputLayer)            (None, 1)             0                                            \n",
      "____________________________________________________________________________________________________\n",
      "embedding_1 (Embedding)          (None, 1, 50)         33550       user_in[0][0]                    \n",
      "____________________________________________________________________________________________________\n",
      "embedding_2 (Embedding)          (None, 1, 50)         453300      movie_in[0][0]                   \n",
      "____________________________________________________________________________________________________\n",
      "dot_1 (Dot)                      (None, 1, 1)          0           embedding_1[0][0]                \n",
      "                                                                   embedding_2[0][0]                \n",
      "____________________________________________________________________________________________________\n",
      "flatten_1 (Flatten)              (None, 1)             0           dot_1[0][0]                      \n",
      "====================================================================================================\n",
      "Total params: 486,850\n",
      "Trainable params: 486,850\n",
      "Non-trainable params: 0\n",
      "____________________________________________________________________________________________________\n"
     ]
    }
   ],
   "source": [
    "model.summary()"
   ]
  },
  {
   "cell_type": "markdown",
   "metadata": {
    "hidden": true
   },
   "source": [
    "Train the model for a single epoch."
   ]
  },
  {
   "cell_type": "code",
   "execution_count": 24,
   "metadata": {
    "hidden": true
   },
   "outputs": [
    {
     "name": "stdout",
     "output_type": "stream",
     "text": [
      "Train on 80041 samples, validate on 19963 samples\n",
      "Epoch 1/1\n",
      "80041/80041 [==============================] - 8s - loss: 9.9172 - val_loss: 4.2515\n"
     ]
    },
    {
     "data": {
      "text/plain": [
       "<keras.callbacks.History at 0x189ef7d6b70>"
      ]
     },
     "execution_count": 24,
     "metadata": {},
     "output_type": "execute_result"
    }
   ],
   "source": [
    "model.fit(x = [trn.userId, trn.movieId],\n",
    "          y = trn.rating,\n",
    "          batch_size = batch_size,\n",
    "          epochs = 1, \n",
    "          validation_data = ([val.userId, val.movieId], val.rating))"
   ]
  },
  {
   "cell_type": "markdown",
   "metadata": {
    "hidden": true
   },
   "source": [
    "Increase the learning rate and run for 3 more epochs."
   ]
  },
  {
   "cell_type": "code",
   "execution_count": 25,
   "metadata": {
    "hidden": true
   },
   "outputs": [
    {
     "name": "stdout",
     "output_type": "stream",
     "text": [
      "Train on 80041 samples, validate on 19963 samples\n",
      "Epoch 1/3\n",
      "80041/80041 [==============================] - 5s - loss: 3.1452 - val_loss: 2.8117\n",
      "Epoch 2/3\n",
      "80041/80041 [==============================] - 5s - loss: 2.4247 - val_loss: 2.6116\n",
      "Epoch 3/3\n",
      "80041/80041 [==============================] - 5s - loss: 2.2578 - val_loss: 2.5682\n"
     ]
    },
    {
     "data": {
      "text/plain": [
       "<keras.callbacks.History at 0x189ef8b3710>"
      ]
     },
     "execution_count": 25,
     "metadata": {},
     "output_type": "execute_result"
    }
   ],
   "source": [
    "model.optimizer.lr = 0.01\n",
    "\n",
    "model.fit(x = [trn.userId, trn.movieId],\n",
    "          y = trn.rating,\n",
    "          batch_size = batch_size,\n",
    "          epochs = 3, \n",
    "          validation_data = ([val.userId, val.movieId], val.rating))"
   ]
  },
  {
   "cell_type": "markdown",
   "metadata": {
    "hidden": true
   },
   "source": [
    "Finally lower the learning rate again and train for 6 more epochs."
   ]
  },
  {
   "cell_type": "code",
   "execution_count": 26,
   "metadata": {
    "hidden": true
   },
   "outputs": [
    {
     "name": "stdout",
     "output_type": "stream",
     "text": [
      "Train on 80041 samples, validate on 19963 samples\n",
      "Epoch 1/6\n",
      "80041/80041 [==============================] - 5s - loss: 2.1956 - val_loss: 2.5583\n",
      "Epoch 2/6\n",
      "80041/80041 [==============================] - 5s - loss: 2.1581 - val_loss: 2.5479\n",
      "Epoch 3/6\n",
      "80041/80041 [==============================] - 5s - loss: 2.1299 - val_loss: 2.5468\n",
      "Epoch 4/6\n",
      "80041/80041 [==============================] - 5s - loss: 2.1021 - val_loss: 2.5458\n",
      "Epoch 5/6\n",
      "80041/80041 [==============================] - 5s - loss: 2.0783 - val_loss: 2.5555\n",
      "Epoch 6/6\n",
      "80041/80041 [==============================] - 5s - loss: 2.0538 - val_loss: 2.5681\n"
     ]
    },
    {
     "data": {
      "text/plain": [
       "<keras.callbacks.History at 0x189ef56def0>"
      ]
     },
     "execution_count": 26,
     "metadata": {},
     "output_type": "execute_result"
    }
   ],
   "source": [
    "model.optimizer.lr=0.001\n",
    "model.fit(x = [trn.userId, trn.movieId],\n",
    "          y = trn.rating,\n",
    "          batch_size = batch_size,\n",
    "          epochs = 6, \n",
    "          validation_data = ([val.userId, val.movieId], val.rating))"
   ]
  },
  {
   "cell_type": "markdown",
   "metadata": {
    "hidden": true
   },
   "source": [
    "The [best benchmarks](http://www.librec.net/example.html) are a bit over 0.9, so this model doesn't seem to be working that well..."
   ]
  },
  {
   "cell_type": "markdown",
   "metadata": {
    "heading_collapsed": true
   },
   "source": [
    "##  Bias"
   ]
  },
  {
   "cell_type": "markdown",
   "metadata": {
    "hidden": true
   },
   "source": [
    "The problem is likely to be that we don't have bias terms - that is, a single bias for each user and each movie representing how positive or negative each user is, and how good each movie is. We can add that easily by simply creating an embedding with one output for each movie and each user, and adding it to our output."
   ]
  },
  {
   "cell_type": "markdown",
   "metadata": {
    "hidden": true
   },
   "source": [
    "So we start by defining an embedding input layer."
   ]
  },
  {
   "cell_type": "code",
   "execution_count": 27,
   "metadata": {
    "collapsed": true,
    "hidden": true
   },
   "outputs": [],
   "source": [
    "def embedding_input(name, n_in, n_out, reg):\n",
    "    \n",
    "    inp = Input(shape=(1, ), dtype = 'int64', name = name)\n",
    "    return inp, Embedding(n_in, n_out, input_length = 1, embeddings_regularizer = l2(reg))(inp)"
   ]
  },
  {
   "cell_type": "markdown",
   "metadata": {
    "hidden": true
   },
   "source": [
    "And then create the actual embedding layers."
   ]
  },
  {
   "cell_type": "code",
   "execution_count": 28,
   "metadata": {
    "collapsed": true,
    "hidden": true
   },
   "outputs": [],
   "source": [
    "user_in, u = embedding_input('user_in', n_users, n_factors, 1e-4)\n",
    "movie_in, m = embedding_input('movie_in', n_movies, n_factors, 1e-4)"
   ]
  },
  {
   "cell_type": "markdown",
   "metadata": {
    "hidden": true
   },
   "source": [
    "We then ddefine the bias terms. Note that this is just a one dimensional output embedding."
   ]
  },
  {
   "cell_type": "code",
   "execution_count": 29,
   "metadata": {
    "collapsed": true,
    "hidden": true
   },
   "outputs": [],
   "source": [
    "def create_bias(inp, n_in):\n",
    "    x = Embedding(n_in, 1, input_length = 1)(inp)\n",
    "    return Flatten()(x)"
   ]
  },
  {
   "cell_type": "markdown",
   "metadata": {
    "hidden": true
   },
   "source": [
    "We then create the actual bias layers."
   ]
  },
  {
   "cell_type": "code",
   "execution_count": 30,
   "metadata": {
    "collapsed": true,
    "hidden": true
   },
   "outputs": [],
   "source": [
    "ub = create_bias(user_in, n_users)\n",
    "mb = create_bias(movie_in, n_movies)"
   ]
  },
  {
   "cell_type": "markdown",
   "metadata": {
    "hidden": true
   },
   "source": [
    "We then merge the input embeddings as we did before via the dot product, but now we also add the movie and user bias layers."
   ]
  },
  {
   "cell_type": "code",
   "execution_count": 31,
   "metadata": {
    "collapsed": true,
    "hidden": true
   },
   "outputs": [],
   "source": [
    "x = dot([u, m], 2)\n",
    "x = Flatten()(x)\n",
    "x = add([x, ub])\n",
    "x = add([x, mb])\n",
    "\n",
    "model = Model([user_in, movie_in], x)\n",
    "model.compile(Adam(0.001), loss = 'mse')"
   ]
  },
  {
   "cell_type": "markdown",
   "metadata": {
    "hidden": true
   },
   "source": [
    "Let's inspect the model."
   ]
  },
  {
   "cell_type": "code",
   "execution_count": 32,
   "metadata": {
    "hidden": true
   },
   "outputs": [
    {
     "name": "stdout",
     "output_type": "stream",
     "text": [
      "____________________________________________________________________________________________________\n",
      "Layer (type)                     Output Shape          Param #     Connected to                     \n",
      "====================================================================================================\n",
      "user_in (InputLayer)             (None, 1)             0                                            \n",
      "____________________________________________________________________________________________________\n",
      "movie_in (InputLayer)            (None, 1)             0                                            \n",
      "____________________________________________________________________________________________________\n",
      "embedding_3 (Embedding)          (None, 1, 50)         33550       user_in[0][0]                    \n",
      "____________________________________________________________________________________________________\n",
      "embedding_4 (Embedding)          (None, 1, 50)         453300      movie_in[0][0]                   \n",
      "____________________________________________________________________________________________________\n",
      "dot_2 (Dot)                      (None, 1, 1)          0           embedding_3[0][0]                \n",
      "                                                                   embedding_4[0][0]                \n",
      "____________________________________________________________________________________________________\n",
      "embedding_5 (Embedding)          (None, 1, 1)          671         user_in[0][0]                    \n",
      "____________________________________________________________________________________________________\n",
      "flatten_4 (Flatten)              (None, 1)             0           dot_2[0][0]                      \n",
      "____________________________________________________________________________________________________\n",
      "flatten_2 (Flatten)              (None, 1)             0           embedding_5[0][0]                \n",
      "____________________________________________________________________________________________________\n",
      "embedding_6 (Embedding)          (None, 1, 1)          9066        movie_in[0][0]                   \n",
      "____________________________________________________________________________________________________\n",
      "add_1 (Add)                      (None, 1)             0           flatten_4[0][0]                  \n",
      "                                                                   flatten_2[0][0]                  \n",
      "____________________________________________________________________________________________________\n",
      "flatten_3 (Flatten)              (None, 1)             0           embedding_6[0][0]                \n",
      "____________________________________________________________________________________________________\n",
      "add_2 (Add)                      (None, 1)             0           add_1[0][0]                      \n",
      "                                                                   flatten_3[0][0]                  \n",
      "====================================================================================================\n",
      "Total params: 496,587\n",
      "Trainable params: 496,587\n",
      "Non-trainable params: 0\n",
      "____________________________________________________________________________________________________\n"
     ]
    }
   ],
   "source": [
    "model.summary()"
   ]
  },
  {
   "cell_type": "markdown",
   "metadata": {
    "hidden": true
   },
   "source": [
    "We then train the model for a single epoch with the default learning rate."
   ]
  },
  {
   "cell_type": "code",
   "execution_count": 33,
   "metadata": {
    "hidden": true
   },
   "outputs": [
    {
     "name": "stdout",
     "output_type": "stream",
     "text": [
      "Train on 80041 samples, validate on 19963 samples\n",
      "Epoch 1/1\n",
      "80041/80041 [==============================] - 7s - loss: 8.9274 - val_loss: 3.5458\n"
     ]
    },
    {
     "data": {
      "text/plain": [
       "<keras.callbacks.History at 0x189efd54208>"
      ]
     },
     "execution_count": 33,
     "metadata": {},
     "output_type": "execute_result"
    }
   ],
   "source": [
    "model.fit(x = [trn.userId, trn.movieId],\n",
    "          y = trn.rating,\n",
    "          batch_size = batch_size,\n",
    "          epochs = 1, \n",
    "          validation_data = ([val.userId, val.movieId], val.rating))"
   ]
  },
  {
   "cell_type": "markdown",
   "metadata": {
    "hidden": true
   },
   "source": [
    "Next we increase the learning rate and train for 6 more epochs."
   ]
  },
  {
   "cell_type": "code",
   "execution_count": 34,
   "metadata": {
    "hidden": true
   },
   "outputs": [
    {
     "name": "stdout",
     "output_type": "stream",
     "text": [
      "Train on 80041 samples, validate on 19963 samples\n",
      "Epoch 1/6\n",
      "80041/80041 [==============================] - 6s - loss: 2.6085 - val_loss: 2.2922\n",
      "Epoch 2/6\n",
      "80041/80041 [==============================] - 6s - loss: 1.9969 - val_loss: 2.0901\n",
      "Epoch 3/6\n",
      "80041/80041 [==============================] - 6s - loss: 1.8328 - val_loss: 1.9995\n",
      "Epoch 4/6\n",
      "80041/80041 [==============================] - 6s - loss: 1.7369 - val_loss: 1.9235\n",
      "Epoch 5/6\n",
      "80041/80041 [==============================] - 6s - loss: 1.6554 - val_loss: 1.8589\n",
      "Epoch 6/6\n",
      "80041/80041 [==============================] - 6s - loss: 1.5808 - val_loss: 1.7949\n"
     ]
    },
    {
     "data": {
      "text/plain": [
       "<keras.callbacks.History at 0x18b4acda940>"
      ]
     },
     "execution_count": 34,
     "metadata": {},
     "output_type": "execute_result"
    }
   ],
   "source": [
    "model.optimizer.lr = 0.01\n",
    "\n",
    "model.fit(x = [trn.userId, trn.movieId],\n",
    "          y = trn.rating,\n",
    "          batch_size = batch_size,\n",
    "          epochs = 6, \n",
    "          validation_data = ([val.userId, val.movieId], val.rating))"
   ]
  },
  {
   "cell_type": "markdown",
   "metadata": {
    "hidden": true
   },
   "source": [
    "Let's run for 6 more epochs."
   ]
  },
  {
   "cell_type": "markdown",
   "metadata": {
    "hidden": true
   },
   "source": [
    "Let's decrease the learning rate and run for 20 more epochs."
   ]
  },
  {
   "cell_type": "code",
   "execution_count": 35,
   "metadata": {
    "hidden": true
   },
   "outputs": [
    {
     "name": "stdout",
     "output_type": "stream",
     "text": [
      "Train on 80041 samples, validate on 19963 samples\n",
      "Epoch 1/30\n",
      "80041/80041 [==============================] - 6s - loss: 1.5085 - val_loss: 1.7280\n",
      "Epoch 2/30\n",
      "80041/80041 [==============================] - 6s - loss: 1.4388 - val_loss: 1.6689\n",
      "Epoch 3/30\n",
      "80041/80041 [==============================] - 6s - loss: 1.3713 - val_loss: 1.6111\n",
      "Epoch 4/30\n",
      "80041/80041 [==============================] - 6s - loss: 1.3050 - val_loss: 1.5586\n",
      "Epoch 5/30\n",
      "80041/80041 [==============================] - 6s - loss: 1.2430 - val_loss: 1.5037\n",
      "Epoch 6/30\n",
      "80041/80041 [==============================] - 6s - loss: 1.1826 - val_loss: 1.4551\n",
      "Epoch 7/30\n",
      "80041/80041 [==============================] - 6s - loss: 1.1244 - val_loss: 1.4099\n",
      "Epoch 8/30\n",
      "80041/80041 [==============================] - 6s - loss: 1.0703 - val_loss: 1.3673\n",
      "Epoch 9/30\n",
      "80041/80041 [==============================] - 6s - loss: 1.0175 - val_loss: 1.3274\n",
      "Epoch 10/30\n",
      "80041/80041 [==============================] - 6s - loss: 0.9682 - val_loss: 1.2902\n",
      "Epoch 11/30\n",
      "80041/80041 [==============================] - 6s - loss: 0.9220 - val_loss: 1.2538\n",
      "Epoch 12/30\n",
      "80041/80041 [==============================] - 6s - loss: 0.8792 - val_loss: 1.2237\n",
      "Epoch 13/30\n",
      "80041/80041 [==============================] - 6s - loss: 0.8382 - val_loss: 1.1941\n",
      "Epoch 14/30\n",
      "80041/80041 [==============================] - 6s - loss: 0.8011 - val_loss: 1.1686\n",
      "Epoch 15/30\n",
      "80041/80041 [==============================] - 6s - loss: 0.7660 - val_loss: 1.1430\n",
      "Epoch 16/30\n",
      "80041/80041 [==============================] - 6s - loss: 0.7354 - val_loss: 1.1230\n",
      "Epoch 17/30\n",
      "80041/80041 [==============================] - 6s - loss: 0.7066 - val_loss: 1.1036\n",
      "Epoch 18/30\n",
      "80041/80041 [==============================] - 6s - loss: 0.6815 - val_loss: 1.0865\n",
      "Epoch 19/30\n",
      "80041/80041 [==============================] - 6s - loss: 0.6588 - val_loss: 1.0710\n",
      "Epoch 20/30\n",
      "80041/80041 [==============================] - 6s - loss: 0.6388 - val_loss: 1.0596\n",
      "Epoch 21/30\n",
      "80041/80041 [==============================] - 6s - loss: 0.6217 - val_loss: 1.0490\n",
      "Epoch 22/30\n",
      "80041/80041 [==============================] - 6s - loss: 0.6070 - val_loss: 1.0409\n",
      "Epoch 23/30\n",
      "80041/80041 [==============================] - 6s - loss: 0.5942 - val_loss: 1.0346\n",
      "Epoch 24/30\n",
      "80041/80041 [==============================] - 6s - loss: 0.5840 - val_loss: 1.0300\n",
      "Epoch 25/30\n",
      "80041/80041 [==============================] - 6s - loss: 0.5746 - val_loss: 1.0262\n",
      "Epoch 26/30\n",
      "80041/80041 [==============================] - 6s - loss: 0.5678 - val_loss: 1.0244\n",
      "Epoch 27/30\n",
      "80041/80041 [==============================] - 6s - loss: 0.5614 - val_loss: 1.0228\n",
      "Epoch 28/30\n",
      "80041/80041 [==============================] - 6s - loss: 0.5568 - val_loss: 1.0212\n",
      "Epoch 29/30\n",
      "80041/80041 [==============================] - 6s - loss: 0.5526 - val_loss: 1.0210\n",
      "Epoch 30/30\n",
      "80041/80041 [==============================] - 6s - loss: 0.5490 - val_loss: 1.0208\n"
     ]
    },
    {
     "data": {
      "text/plain": [
       "<keras.callbacks.History at 0x18b4acdaa90>"
      ]
     },
     "execution_count": 35,
     "metadata": {},
     "output_type": "execute_result"
    }
   ],
   "source": [
    "model.optimizer.lr = 0.001\n",
    "\n",
    "model.fit(x = [trn.userId, trn.movieId],\n",
    "          y = trn.rating,\n",
    "          batch_size = batch_size,\n",
    "          epochs = 30, \n",
    "          validation_data = ([val.userId, val.movieId], val.rating))"
   ]
  },
  {
   "cell_type": "markdown",
   "metadata": {
    "hidden": true
   },
   "source": [
    "Let's lower the learning rate even further, and see what that results in."
   ]
  },
  {
   "cell_type": "code",
   "execution_count": 36,
   "metadata": {
    "hidden": true
   },
   "outputs": [
    {
     "name": "stdout",
     "output_type": "stream",
     "text": [
      "Train on 80041 samples, validate on 19963 samples\n",
      "Epoch 1/10\n",
      "80041/80041 [==============================] - 6s - loss: 0.5460 - val_loss: 1.0212\n",
      "Epoch 2/10\n",
      "80041/80041 [==============================] - 6s - loss: 0.5434 - val_loss: 1.0215\n",
      "Epoch 3/10\n",
      "80041/80041 [==============================] - 6s - loss: 0.5414 - val_loss: 1.0225\n",
      "Epoch 4/10\n",
      "80041/80041 [==============================] - 6s - loss: 0.5391 - val_loss: 1.0227\n",
      "Epoch 5/10\n",
      "80041/80041 [==============================] - 6s - loss: 0.5380 - val_loss: 1.0237\n",
      "Epoch 6/10\n",
      "80041/80041 [==============================] - 6s - loss: 0.5360 - val_loss: 1.0243\n",
      "Epoch 7/10\n",
      "80041/80041 [==============================] - 6s - loss: 0.5349 - val_loss: 1.0259\n",
      "Epoch 8/10\n",
      "80041/80041 [==============================] - 6s - loss: 0.5335 - val_loss: 1.0269\n",
      "Epoch 9/10\n",
      "80041/80041 [==============================] - 6s - loss: 0.5324 - val_loss: 1.0277\n",
      "Epoch 10/10\n",
      "80041/80041 [==============================] - 6s - loss: 0.5313 - val_loss: 1.0283\n"
     ]
    },
    {
     "data": {
      "text/plain": [
       "<keras.callbacks.History at 0x18b3faf8e10>"
      ]
     },
     "execution_count": 36,
     "metadata": {},
     "output_type": "execute_result"
    }
   ],
   "source": [
    "model.optimizer.lr = 0.0001\n",
    "model.fit(x = [trn.userId, trn.movieId],\n",
    "          y = trn.rating,\n",
    "          batch_size = batch_size,\n",
    "          epochs = 10, \n",
    "          validation_data = ([val.userId, val.movieId], val.rating))"
   ]
  },
  {
   "cell_type": "markdown",
   "metadata": {
    "hidden": true
   },
   "source": [
    "This result is quite a bit better than the best benchmarks that we could find with a quick google search - so looks like a great approach! (Jeremy was able to get < 0.9 level validation accuracy. I don't see how..."
   ]
  },
  {
   "cell_type": "code",
   "execution_count": 39,
   "metadata": {
    "collapsed": true,
    "hidden": true
   },
   "outputs": [],
   "source": [
    "model.save_weights(model_path + 'bias.h5')"
   ]
  },
  {
   "cell_type": "code",
   "execution_count": 40,
   "metadata": {
    "collapsed": true,
    "hidden": true
   },
   "outputs": [],
   "source": [
    "model.load_weights(model_path + 'bias.h5')"
   ]
  },
  {
   "cell_type": "markdown",
   "metadata": {
    "hidden": true
   },
   "source": [
    "We can use the model to generate predictions by passing a pair of ints - a user id and a movie id. For instance, this predicts that user #3 would really enjoy movie #6."
   ]
  },
  {
   "cell_type": "code",
   "execution_count": 41,
   "metadata": {
    "hidden": true
   },
   "outputs": [
    {
     "data": {
      "text/plain": [
       "array([[ 4.93231916]], dtype=float32)"
      ]
     },
     "execution_count": 41,
     "metadata": {},
     "output_type": "execute_result"
    }
   ],
   "source": [
    "model.predict([np.array([3]), np.array([6])])"
   ]
  },
  {
   "cell_type": "markdown",
   "metadata": {
    "heading_collapsed": true
   },
   "source": [
    "## Analyze results"
   ]
  },
  {
   "cell_type": "markdown",
   "metadata": {
    "hidden": true
   },
   "source": [
    "To make the analysis of the factors more interesting, we'll restrict it to the top 2000 most popular movies."
   ]
  },
  {
   "cell_type": "code",
   "execution_count": 42,
   "metadata": {
    "collapsed": true,
    "hidden": true
   },
   "outputs": [],
   "source": [
    "g = ratings.groupby('movieId')['rating'].count()\n",
    "topMovies = g.sort_values(ascending = False)[:2000]\n",
    "topMovies = np.array(topMovies.index)"
   ]
  },
  {
   "cell_type": "markdown",
   "metadata": {
    "hidden": true
   },
   "source": [
    "First, we'll look at the movie bias term. We create a 'model' - which in keras is simply a way of associating one or more inputs with one more more outputs, using the functional API. Here, our input is the movie id (a single id), and the output is the movie bias (a single float)."
   ]
  },
  {
   "cell_type": "code",
   "execution_count": 43,
   "metadata": {
    "collapsed": true,
    "hidden": true
   },
   "outputs": [],
   "source": [
    "get_movie_bias = Model(movie_in, mb)\n",
    "movie_bias = get_movie_bias.predict(topMovies)\n",
    "movie_ratings = [(b[0], movie_names[movies[i]]) for i, b in zip(topMovies, movie_bias)]"
   ]
  },
  {
   "cell_type": "markdown",
   "metadata": {
    "hidden": true
   },
   "source": [
    "Now we can look at the top and bottom rated movies. These ratings are corrected for different levels of reviewer sentiment, as well as different types of movies that different reviewers watch."
   ]
  },
  {
   "cell_type": "code",
   "execution_count": 44,
   "metadata": {
    "hidden": true
   },
   "outputs": [
    {
     "data": {
      "text/plain": [
       "[(-1.0561457, 'Battlefield Earth (2000)'),\n",
       " (-0.83329892, 'House on Haunted Hill (1999)'),\n",
       " (-0.7398892, 'Blade: Trinity (2004)'),\n",
       " (-0.73784155, 'Super Mario Bros. (1993)'),\n",
       " (-0.70995641, 'Howard the Duck (1986)'),\n",
       " (-0.70382619, 'Speed 2: Cruise Control (1997)'),\n",
       " (-0.67088401, 'Police Academy 6: City Under Siege (1989)'),\n",
       " (-0.65878975, 'Jaws 3-D (1983)'),\n",
       " (-0.61235446, 'Police Academy 5: Assignment: Miami Beach (1988)'),\n",
       " (-0.59647095, 'Mighty Morphin Power Rangers: The Movie (1995)'),\n",
       " (-0.58434021, 'Spice World (1997)'),\n",
       " (-0.54095608, 'Bio-Dome (1996)'),\n",
       " (-0.51857686, 'Police Academy 4: Citizens on Patrol (1987)'),\n",
       " (-0.51041955, 'Police Academy 3: Back in Training (1986)'),\n",
       " (-0.46748823, 'Superman IV: The Quest for Peace (1987)')]"
      ]
     },
     "execution_count": 44,
     "metadata": {},
     "output_type": "execute_result"
    }
   ],
   "source": [
    "sorted(movie_ratings, key = itemgetter(0))[:15]"
   ]
  },
  {
   "cell_type": "code",
   "execution_count": 45,
   "metadata": {
    "hidden": true
   },
   "outputs": [
    {
     "data": {
      "text/plain": [
       "[(1.8909986, 'Paths of Glory (1957)'),\n",
       " (1.8645297, 'Mister Roberts (1955)'),\n",
       " (1.8641818, 'Shawshank Redemption, The (1994)'),\n",
       " (1.8293394, 'Ran (1985)'),\n",
       " (1.8022811, 'African Queen, The (1951)'),\n",
       " (1.7947235, 'Treasure of the Sierra Madre, The (1948)'),\n",
       " (1.7933743, 'Modern Times (1936)'),\n",
       " (1.7909102, 'Roger & Me (1989)'),\n",
       " (1.7740263, 'It Happened One Night (1934)'),\n",
       " (1.7693988, 'On the Waterfront (1954)'),\n",
       " (1.7630339, 'Inherit the Wind (1960)'),\n",
       " (1.7604537, 'Philadelphia Story, The (1940)'),\n",
       " (1.7476585, 'Rush (2013)'),\n",
       " (1.7392251, 'Help, The (2011)'),\n",
       " (1.7378691, 'Tom Jones (1963)')]"
      ]
     },
     "execution_count": 45,
     "metadata": {},
     "output_type": "execute_result"
    }
   ],
   "source": [
    "sorted(movie_ratings, key=itemgetter(0), reverse=True)[:15]"
   ]
  },
  {
   "cell_type": "markdown",
   "metadata": {
    "hidden": true
   },
   "source": [
    "We can now do the same thing for the embeddings."
   ]
  },
  {
   "cell_type": "code",
   "execution_count": 46,
   "metadata": {
    "hidden": true
   },
   "outputs": [
    {
     "data": {
      "text/plain": [
       "(2000, 50)"
      ]
     },
     "execution_count": 46,
     "metadata": {},
     "output_type": "execute_result"
    }
   ],
   "source": [
    "get_movie_emb = Model(movie_in, m)\n",
    "movie_emb = np.squeeze(get_movie_emb.predict([topMovies]))\n",
    "movie_emb.shape"
   ]
  },
  {
   "cell_type": "markdown",
   "metadata": {
    "hidden": true
   },
   "source": [
    "Because it's hard to interpret 50 embeddings, we use [PCA](https://plot.ly/ipython-notebooks/principal-component-analysis/) to simplify them down to just 3 vectors. (Dimensionality reduction)"
   ]
  },
  {
   "cell_type": "code",
   "execution_count": 47,
   "metadata": {
    "collapsed": true,
    "hidden": true
   },
   "outputs": [],
   "source": [
    "from sklearn.decomposition import PCA\n",
    "pca = PCA(n_components = 3)\n",
    "movie_pca = pca.fit(movie_emb.T).components_"
   ]
  },
  {
   "cell_type": "code",
   "execution_count": 48,
   "metadata": {
    "collapsed": true,
    "hidden": true
   },
   "outputs": [],
   "source": [
    "fac0 = movie_pca[0]"
   ]
  },
  {
   "cell_type": "code",
   "execution_count": 49,
   "metadata": {
    "collapsed": true,
    "hidden": true
   },
   "outputs": [],
   "source": [
    "movie_comp = [(f, movie_names[movies[i]]) for f,i in zip(fac0, topMovies)]"
   ]
  },
  {
   "cell_type": "markdown",
   "metadata": {
    "hidden": true
   },
   "source": [
    "Here's the 1st component. It seems to be 'classic' or small/independent."
   ]
  },
  {
   "cell_type": "code",
   "execution_count": 50,
   "metadata": {
    "hidden": true
   },
   "outputs": [
    {
     "data": {
      "text/plain": [
       "[(0.10770899672271031, 'Independence Day (a.k.a. ID4) (1996)'),\n",
       " (0.10016707216496824, 'Armageddon (1998)'),\n",
       " (0.080419437864229351, 'Ace Ventura: When Nature Calls (1995)'),\n",
       " (0.072584803651980778, 'True Lies (1994)'),\n",
       " (0.071686767221479902, 'Con Air (1997)'),\n",
       " (0.070939722457062093, 'X-Men (2000)'),\n",
       " (0.070461072734728139, 'Stargate (1994)'),\n",
       " (0.067602619592812982, 'Twister (1996)'),\n",
       " (0.065477102755570796, 'Ace Ventura: Pet Detective (1994)'),\n",
       " (0.064063137679417889, 'Star Trek: First Contact (1996)')]"
      ]
     },
     "execution_count": 50,
     "metadata": {},
     "output_type": "execute_result"
    }
   ],
   "source": [
    "sorted(movie_comp, key = itemgetter(0), reverse = True)[:10]"
   ]
  },
  {
   "cell_type": "code",
   "execution_count": 51,
   "metadata": {
    "hidden": true
   },
   "outputs": [
    {
     "data": {
      "text/plain": [
       "[(-0.092215276029395166, 'Clockwork Orange, A (1971)'),\n",
       " (-0.090882173298437646, 'Leaving Las Vegas (1995)'),\n",
       " (-0.088824124249761993, 'Godfather, The (1972)'),\n",
       " (-0.087951353305510627, '2001: A Space Odyssey (1968)'),\n",
       " (-0.087310922085484452, 'Apocalypse Now (1979)'),\n",
       " (-0.086625975115362935, 'Big Lebowski, The (1998)'),\n",
       " (-0.085668047177759984, 'Taxi Driver (1976)'),\n",
       " (-0.079758573836595958, 'Willy Wonka & the Chocolate Factory (1971)'),\n",
       " (-0.079171479256873831, 'Sideways (2004)'),\n",
       " (-0.077314003793693895, 'Fargo (1996)')]"
      ]
     },
     "execution_count": 51,
     "metadata": {},
     "output_type": "execute_result"
    }
   ],
   "source": [
    "sorted(movie_comp, key = itemgetter(0))[:10]"
   ]
  },
  {
   "cell_type": "code",
   "execution_count": 52,
   "metadata": {
    "collapsed": true,
    "hidden": true
   },
   "outputs": [],
   "source": [
    "fac1 = movie_pca[1]"
   ]
  },
  {
   "cell_type": "code",
   "execution_count": 53,
   "metadata": {
    "collapsed": true,
    "hidden": true
   },
   "outputs": [],
   "source": [
    "movie_comp = [(f, movie_names[movies[i]]) for f, i in zip(fac1, topMovies)]"
   ]
  },
  {
   "cell_type": "markdown",
   "metadata": {
    "hidden": true
   },
   "source": [
    "The 2nd is 'hollywood blockbuster'."
   ]
  },
  {
   "cell_type": "code",
   "execution_count": 54,
   "metadata": {
    "hidden": true
   },
   "outputs": [
    {
     "data": {
      "text/plain": [
       "[(0.061034940952054473, 'Judge Dredd (1995)'),\n",
       " (0.056590465733465573, 'Little Miss Sunshine (2006)'),\n",
       " (0.054632949235247336, 'Alien: Resurrection (1997)'),\n",
       " (0.053747497453646938, 'Space Jam (1996)'),\n",
       " (0.052933930832902869, 'Showgirls (1995)'),\n",
       " (0.052865039720159553, 'Room with a View, A (1986)'),\n",
       " (0.052496064033530097, 'Eraser (1996)'),\n",
       " (0.051108180313515078, 'Island of Dr. Moreau, The (1996)'),\n",
       " (0.050626388588866665, 'Leaving Las Vegas (1995)'),\n",
       " (0.04917945704800071, 'Nightmare Before Christmas, The (1993)')]"
      ]
     },
     "execution_count": 54,
     "metadata": {},
     "output_type": "execute_result"
    }
   ],
   "source": [
    "sorted(movie_comp, key = itemgetter(0), reverse = True)[:10]"
   ]
  },
  {
   "cell_type": "code",
   "execution_count": 55,
   "metadata": {
    "hidden": true,
    "scrolled": true
   },
   "outputs": [
    {
     "data": {
      "text/plain": [
       "[(-0.18339302942456542, 'Lord of the Rings: The Two Towers, The (2002)'),\n",
       " (-0.18278682977432703,\n",
       "  'Lord of the Rings: The Fellowship of the Ring, The (2001)'),\n",
       " (-0.17337106664937005,\n",
       "  'Lord of the Rings: The Return of the King, The (2003)'),\n",
       " (-0.13795019965457711, 'Star Wars: Episode IV - A New Hope (1977)'),\n",
       " (-0.12080709712910603, 'Saving Private Ryan (1998)'),\n",
       " (-0.11753734611704354, 'Dances with Wolves (1990)'),\n",
       " (-0.11753110743846377, 'Star Wars: Episode VI - Return of the Jedi (1983)'),\n",
       " (-0.11491317926407874, \"Schindler's List (1993)\"),\n",
       " (-0.1097363941659721,\n",
       "  'Star Wars: Episode V - The Empire Strikes Back (1980)'),\n",
       " (-0.10766904880317012, 'Matrix, The (1999)')]"
      ]
     },
     "execution_count": 55,
     "metadata": {},
     "output_type": "execute_result"
    }
   ],
   "source": [
    "sorted(movie_comp, key = itemgetter(0))[:10]"
   ]
  },
  {
   "cell_type": "code",
   "execution_count": 56,
   "metadata": {
    "collapsed": true,
    "hidden": true
   },
   "outputs": [],
   "source": [
    "fac2 = movie_pca[2]"
   ]
  },
  {
   "cell_type": "code",
   "execution_count": 57,
   "metadata": {
    "collapsed": true,
    "hidden": true
   },
   "outputs": [],
   "source": [
    "movie_comp = [(f, movie_names[movies[i]]) for f,i in zip(fac2, topMovies)]"
   ]
  },
  {
   "cell_type": "markdown",
   "metadata": {
    "hidden": true
   },
   "source": [
    "The 3rd is 'violent vs happy'. Or more likely kid friendly vs. not that."
   ]
  },
  {
   "cell_type": "code",
   "execution_count": 58,
   "metadata": {
    "hidden": true
   },
   "outputs": [
    {
     "data": {
      "text/plain": [
       "[(0.11262946805639418, 'Dumb & Dumber (Dumb and Dumber) (1994)'),\n",
       " (0.085348206085556599, 'Terminator 2: Judgment Day (1991)'),\n",
       " (0.084397019399722287, 'Ace Ventura: Pet Detective (1994)'),\n",
       " (0.079300957303861955, 'Stargate (1994)'),\n",
       " (0.075666404055126896, 'Scream (1996)'),\n",
       " (0.075555685504738013, 'Happy Gilmore (1996)'),\n",
       " (0.072242122286135219, 'Seven (a.k.a. Se7en) (1995)'),\n",
       " (0.070860262933190823, 'Eyes Wide Shut (1999)'),\n",
       " (0.07064283158871823, 'Meet the Parents (2000)'),\n",
       " (0.070374324965692403, 'Zoolander (2001)')]"
      ]
     },
     "execution_count": 58,
     "metadata": {},
     "output_type": "execute_result"
    }
   ],
   "source": [
    "sorted(movie_comp, key=itemgetter(0), reverse=True)[:10]"
   ]
  },
  {
   "cell_type": "code",
   "execution_count": 59,
   "metadata": {
    "hidden": true
   },
   "outputs": [
    {
     "data": {
      "text/plain": [
       "[(-0.12275726914416121, 'Babe (1995)'),\n",
       " (-0.10157681854746053, 'Beauty and the Beast (1991)'),\n",
       " (-0.091529611382819273, 'While You Were Sleeping (1995)'),\n",
       " (-0.088404740929398679, 'Erin Brockovich (2000)'),\n",
       " (-0.080775209178407997, 'Shakespeare in Love (1998)'),\n",
       " (-0.079858416769867296, 'Toy Story 2 (1999)'),\n",
       " (-0.078280288210015703,\n",
       "  \"Amelie (Fabuleux destin d'Amélie Poulain, Le) (2001)\"),\n",
       " (-0.072912549224054476, 'Sabrina (1995)'),\n",
       " (-0.071913365964180215, 'Shrek (2001)'),\n",
       " (-0.071145953690339395, 'Chicken Run (2000)')]"
      ]
     },
     "execution_count": 59,
     "metadata": {},
     "output_type": "execute_result"
    }
   ],
   "source": [
    "sorted(movie_comp, key=itemgetter(0))[:10]"
   ]
  },
  {
   "cell_type": "markdown",
   "metadata": {
    "hidden": true
   },
   "source": [
    "We can draw a picture to see how various movies appear on the map of these components. This picture shows the 1st and 3rd components."
   ]
  },
  {
   "cell_type": "code",
   "execution_count": 67,
   "metadata": {
    "hidden": true
   },
   "outputs": [
    {
     "data": {
      "image/png": "[encoded data removed]",
      "text/plain": [
       "<matplotlib.figure.Figure at 0x18b56c017b8>"
      ]
     },
     "metadata": {},
     "output_type": "display_data"
    }
   ],
   "source": [
    "start = 50; end = 100\n",
    "X = fac0[start:end]\n",
    "Y = fac1[start:end]\n",
    "plt.figure(figsize = (15, 15))\n",
    "plt.scatter(X, Y)\n",
    "for i, x, y in zip(topMovies[start:end], X, Y):\n",
    "    plt.text(x,y,movie_names[movies[i]], color = np.random.rand(3) * 0.7, fontsize = 14)\n",
    "plt.show()"
   ]
  },
  {
   "cell_type": "markdown",
   "metadata": {
    "heading_collapsed": true
   },
   "source": [
    "##  Neural net"
   ]
  },
  {
   "cell_type": "markdown",
   "metadata": {
    "hidden": true
   },
   "source": [
    "Rather than creating a special purpose architecture (like our dot-product with bias earlier), it's often both easier and more accurate to use a standard neural network. Let's try it! Here, we simply concatenate the user and movie embeddings into a single vector, which we feed into the neural net."
   ]
  },
  {
   "cell_type": "code",
   "execution_count": 68,
   "metadata": {
    "collapsed": true,
    "hidden": true
   },
   "outputs": [],
   "source": [
    "user_in, u = embedding_input('user_in', n_users, n_factors, 1e-4)\n",
    "movie_in, m = embedding_input('movie_in', n_movies, n_factors, 1e-4)"
   ]
  },
  {
   "cell_type": "code",
   "execution_count": 69,
   "metadata": {
    "collapsed": true,
    "hidden": true
   },
   "outputs": [],
   "source": [
    "x = concatenate([u, m])\n",
    "x = Flatten()(x)\n",
    "x = Dropout(0.3)(x)\n",
    "x = Dense(70, activation='relu')(x)\n",
    "x = Dropout(0.75)(x)\n",
    "x = Dense(1)(x)\n",
    "\n",
    "nn = Model([user_in, movie_in], x)\n",
    "nn.compile(Adam(0.001), loss='mse')"
   ]
  },
  {
   "cell_type": "markdown",
   "metadata": {
    "hidden": true
   },
   "source": [
    "Let's inspect the model"
   ]
  },
  {
   "cell_type": "code",
   "execution_count": 70,
   "metadata": {
    "hidden": true
   },
   "outputs": [
    {
     "name": "stdout",
     "output_type": "stream",
     "text": [
      "____________________________________________________________________________________________________\n",
      "Layer (type)                     Output Shape          Param #     Connected to                     \n",
      "====================================================================================================\n",
      "user_in (InputLayer)             (None, 1)             0                                            \n",
      "____________________________________________________________________________________________________\n",
      "movie_in (InputLayer)            (None, 1)             0                                            \n",
      "____________________________________________________________________________________________________\n",
      "embedding_9 (Embedding)          (None, 1, 50)         33550       user_in[0][0]                    \n",
      "____________________________________________________________________________________________________\n",
      "embedding_10 (Embedding)         (None, 1, 50)         453300      movie_in[0][0]                   \n",
      "____________________________________________________________________________________________________\n",
      "concatenate_2 (Concatenate)      (None, 1, 100)        0           embedding_9[0][0]                \n",
      "                                                                   embedding_10[0][0]               \n",
      "____________________________________________________________________________________________________\n",
      "flatten_6 (Flatten)              (None, 100)           0           concatenate_2[0][0]              \n",
      "____________________________________________________________________________________________________\n",
      "dropout_3 (Dropout)              (None, 100)           0           flatten_6[0][0]                  \n",
      "____________________________________________________________________________________________________\n",
      "dense_3 (Dense)                  (None, 70)            7070        dropout_3[0][0]                  \n",
      "____________________________________________________________________________________________________\n",
      "dropout_4 (Dropout)              (None, 70)            0           dense_3[0][0]                    \n",
      "____________________________________________________________________________________________________\n",
      "dense_4 (Dense)                  (None, 1)             71          dropout_4[0][0]                  \n",
      "====================================================================================================\n",
      "Total params: 493,991\n",
      "Trainable params: 493,991\n",
      "Non-trainable params: 0\n",
      "____________________________________________________________________________________________________\n"
     ]
    }
   ],
   "source": [
    "nn.summary()"
   ]
  },
  {
   "cell_type": "markdown",
   "metadata": {
    "collapsed": true,
    "hidden": true
   },
   "source": [
    "We then train the model"
   ]
  },
  {
   "cell_type": "code",
   "execution_count": 71,
   "metadata": {
    "hidden": true
   },
   "outputs": [
    {
     "name": "stdout",
     "output_type": "stream",
     "text": [
      "Train on 80041 samples, validate on 19963 samples\n",
      "Epoch 1/8\n",
      "80041/80041 [==============================] - 7s - loss: 2.5400 - val_loss: 0.9187\n",
      "Epoch 2/8\n",
      "80041/80041 [==============================] - 7s - loss: 1.4721 - val_loss: 0.8851\n",
      "Epoch 3/8\n",
      "80041/80041 [==============================] - 7s - loss: 1.2234 - val_loss: 0.8630\n",
      "Epoch 4/8\n",
      "80041/80041 [==============================] - 7s - loss: 1.0349 - val_loss: 0.8549\n",
      "Epoch 5/8\n",
      "80041/80041 [==============================] - 7s - loss: 0.9116 - val_loss: 0.8383\n",
      "Epoch 6/8\n",
      "80041/80041 [==============================] - 7s - loss: 0.8499 - val_loss: 0.8313\n",
      "Epoch 7/8\n",
      "80041/80041 [==============================] - 7s - loss: 0.8224 - val_loss: 0.8320\n",
      "Epoch 8/8\n",
      "80041/80041 [==============================] - 7s - loss: 0.8123 - val_loss: 0.8306\n"
     ]
    },
    {
     "data": {
      "text/plain": [
       "<keras.callbacks.History at 0x18b588650f0>"
      ]
     },
     "execution_count": 71,
     "metadata": {},
     "output_type": "execute_result"
    }
   ],
   "source": [
    "nn.fit(x = [trn.userId, trn.movieId],\n",
    "       y = trn.rating,\n",
    "       batch_size = batch_size,\n",
    "       epochs = 8, \n",
    "       validation_data = ([val.userId, val.movieId], val.rating))"
   ]
  },
  {
   "cell_type": "markdown",
   "metadata": {
    "hidden": true
   },
   "source": [
    "This improves on our already impressive accuracy even further!"
   ]
  },
  {
   "cell_type": "markdown",
   "metadata": {},
   "source": [
    "## Analyze results\n",
    "\n",
    "To make the analysis of the factors more interesting, we'll restrict it to the top 2000 most popular movies."
   ]
  },
  {
   "cell_type": "code",
   "execution_count": 72,
   "metadata": {
    "collapsed": true
   },
   "outputs": [],
   "source": [
    "g = ratings.groupby('movieId')['rating'].count()\n",
    "topMovies = g.sort_values(ascending = False)[:2000]\n",
    "topMovies = np.array(topMovies.index)"
   ]
  },
  {
   "cell_type": "markdown",
   "metadata": {},
   "source": [
    "We now cannot consider the bias terms. Only the embeddings."
   ]
  },
  {
   "cell_type": "code",
   "execution_count": 73,
   "metadata": {},
   "outputs": [
    {
     "data": {
      "text/plain": [
       "(2000, 50)"
      ]
     },
     "execution_count": 73,
     "metadata": {},
     "output_type": "execute_result"
    }
   ],
   "source": [
    "get_movie_emb = Model(movie_in, m)\n",
    "movie_emb = np.squeeze(get_movie_emb.predict([topMovies]))\n",
    "movie_emb.shape"
   ]
  },
  {
   "cell_type": "markdown",
   "metadata": {},
   "source": [
    "Because it's hard to interpret 50 embeddings, we use PCA to simplify them down to just 3 vectors."
   ]
  },
  {
   "cell_type": "code",
   "execution_count": 74,
   "metadata": {
    "collapsed": true
   },
   "outputs": [],
   "source": [
    "from sklearn.decomposition import PCA\n",
    "pca = PCA(n_components = 3)\n",
    "movie_pca = pca.fit(movie_emb.T).components_"
   ]
  },
  {
   "cell_type": "code",
   "execution_count": 75,
   "metadata": {
    "collapsed": true
   },
   "outputs": [],
   "source": [
    "fac0 = movie_pca[0]"
   ]
  },
  {
   "cell_type": "code",
   "execution_count": 76,
   "metadata": {
    "collapsed": true
   },
   "outputs": [],
   "source": [
    "movie_comp = [(f, movie_names[movies[i]]) for f,i in zip(fac0, topMovies)]"
   ]
  },
  {
   "cell_type": "markdown",
   "metadata": {},
   "source": [
    "Here's the 1st component. It seems to be 'critically acclaimed' or 'classic' or small/independent."
   ]
  },
  {
   "cell_type": "code",
   "execution_count": 77,
   "metadata": {},
   "outputs": [
    {
     "data": {
      "text/plain": [
       "[(0.058057187595790295, 'Battlefield Earth (2000)'),\n",
       " (0.056309416497995826, 'Super Mario Bros. (1993)'),\n",
       " (0.055257070184890136, 'Police Academy 6: City Under Siege (1989)'),\n",
       " (0.05440171441966507, 'Police Academy 5: Assignment: Miami Beach (1988)'),\n",
       " (0.054069211297897143, \"Charlie's Angels: Full Throttle (2003)\"),\n",
       " (0.05201436616730408, 'Superman IV: The Quest for Peace (1987)'),\n",
       " (0.051414897756137459, 'Wild Wild West (1999)'),\n",
       " (0.050201674767934579, 'Bio-Dome (1996)'),\n",
       " (0.049907868958498698, 'House on Haunted Hill (1999)'),\n",
       " (0.049828140841970313,\n",
       "  'Highlander III: The Sorcerer (a.k.a. Highlander: The Final Dimension) (1994)')]"
      ]
     },
     "execution_count": 77,
     "metadata": {},
     "output_type": "execute_result"
    }
   ],
   "source": [
    "sorted(movie_comp, key = itemgetter(0), reverse = True)[:10]"
   ]
  },
  {
   "cell_type": "code",
   "execution_count": 78,
   "metadata": {},
   "outputs": [
    {
     "data": {
      "text/plain": [
       "[(-0.062636811820419178, 'Shawshank Redemption, The (1994)'),\n",
       " (-0.058529108867377354, 'Godfather, The (1972)'),\n",
       " (-0.057769670553237049, 'Godfather: Part II, The (1974)'),\n",
       " (-0.056686966939466996, 'Philadelphia Story, The (1940)'),\n",
       " (-0.054846533899306701, 'Cool Hand Luke (1967)'),\n",
       " (-0.05480384201264888, 'Usual Suspects, The (1995)'),\n",
       " (-0.054408226155738849, 'Chinatown (1974)'),\n",
       " (-0.053877402236154601, 'Fargo (1996)'),\n",
       " (-0.052636618946479134, 'African Queen, The (1951)'),\n",
       " (-0.052058806846534099, 'North by Northwest (1959)')]"
      ]
     },
     "execution_count": 78,
     "metadata": {},
     "output_type": "execute_result"
    }
   ],
   "source": [
    "sorted(movie_comp, key = itemgetter(0))[:10]"
   ]
  },
  {
   "cell_type": "code",
   "execution_count": 79,
   "metadata": {
    "collapsed": true
   },
   "outputs": [],
   "source": [
    "fac1 = movie_pca[1]"
   ]
  },
  {
   "cell_type": "code",
   "execution_count": 80,
   "metadata": {
    "collapsed": true
   },
   "outputs": [],
   "source": [
    "movie_comp = [(f, movie_names[movies[i]]) for f, i in zip(fac1, topMovies)]"
   ]
  },
  {
   "cell_type": "markdown",
   "metadata": {},
   "source": [
    "The 2nd is 'hollywood blockbuster'."
   ]
  },
  {
   "cell_type": "code",
   "execution_count": 81,
   "metadata": {},
   "outputs": [
    {
     "data": {
      "text/plain": [
       "[(0.062761525188472583, 'Inside Out (2015)'),\n",
       " (0.062459164174865751, 'Battlefield Earth (2000)'),\n",
       " (0.062015043805280903, 'Hannibal (2001)'),\n",
       " (0.058884127480591866, 'Bicentennial Man (1999)'),\n",
       " (0.05855064403555741, 'Volcano (1997)'),\n",
       " (0.058307673284360768, 'Stalag 17 (1953)'),\n",
       " (0.055929576767238511, 'Mr. Deeds (2002)'),\n",
       " (0.053966323356196173, 'Con Air (1997)'),\n",
       " (0.053525622102446158, 'Snatch (2000)'),\n",
       " (0.052640896181965963, 'Little Nicky (2000)')]"
      ]
     },
     "execution_count": 81,
     "metadata": {},
     "output_type": "execute_result"
    }
   ],
   "source": [
    "sorted(movie_comp, key = itemgetter(0), reverse = True)[:10]"
   ]
  },
  {
   "cell_type": "code",
   "execution_count": 82,
   "metadata": {
    "scrolled": true
   },
   "outputs": [
    {
     "data": {
      "text/plain": [
       "[(-0.08439633020886185, 'Napoleon Dynamite (2004)'),\n",
       " (-0.080797878816099594, 'Batman (1989)'),\n",
       " (-0.079322305003935223, \"Dracula (Bram Stoker's Dracula) (1992)\"),\n",
       " (-0.07232820078210532, 'Virgin Suicides, The (1999)'),\n",
       " (-0.071502416577592626, 'Arachnophobia (1990)'),\n",
       " (-0.0673614966824162, \"Things to Do in Denver When You're Dead (1995)\"),\n",
       " (-0.064576278857699759, 'Lawnmower Man, The (1992)'),\n",
       " (-0.064116630782590472, 'Fast Times at Ridgemont High (1982)'),\n",
       " (-0.063684909509389334, 'Natural Born Killers (1994)'),\n",
       " (-0.063613100936164887, 'Cocoon (1985)')]"
      ]
     },
     "execution_count": 82,
     "metadata": {},
     "output_type": "execute_result"
    }
   ],
   "source": [
    "sorted(movie_comp, key = itemgetter(0))[:10]"
   ]
  },
  {
   "cell_type": "code",
   "execution_count": 83,
   "metadata": {
    "collapsed": true
   },
   "outputs": [],
   "source": [
    "fac2 = movie_pca[2]"
   ]
  },
  {
   "cell_type": "code",
   "execution_count": 84,
   "metadata": {
    "collapsed": true
   },
   "outputs": [],
   "source": [
    "movie_comp = [(f, movie_names[movies[i]]) for f,i in zip(fac2, topMovies)]"
   ]
  },
  {
   "cell_type": "markdown",
   "metadata": {},
   "source": [
    "The 3rd is 'violent vs happy'. Or more likely kid friendly vs. not that."
   ]
  },
  {
   "cell_type": "code",
   "execution_count": 85,
   "metadata": {},
   "outputs": [
    {
     "data": {
      "text/plain": [
       "[(0.096763754607299926, 'Chasing Amy (1997)'),\n",
       " (0.083573558665504713, \"There's Something About Mary (1998)\"),\n",
       " (0.07967683157510555, 'Scary Movie (2000)'),\n",
       " (0.079192285736638932, 'Analyze This (1999)'),\n",
       " (0.06806022070702207, 'M (1931)'),\n",
       " (0.065518081187811925, 'Superman II (1980)'),\n",
       " (0.064758573603732314, 'Cable Guy, The (1996)'),\n",
       " (0.064181873612542337, 'Field of Dreams (1989)'),\n",
       " (0.06383985931167302, 'Prince of Egypt, The (1998)'),\n",
       " (0.063822642800296245, 'Mrs. Doubtfire (1993)')]"
      ]
     },
     "execution_count": 85,
     "metadata": {},
     "output_type": "execute_result"
    }
   ],
   "source": [
    "sorted(movie_comp, key = itemgetter(0), reverse = True)[:10]"
   ]
  },
  {
   "cell_type": "code",
   "execution_count": 86,
   "metadata": {},
   "outputs": [
    {
     "data": {
      "text/plain": [
       "[(-0.070544092409096537, 'Mallrats (1995)'),\n",
       " (-0.06883937421403992, 'Sin City (2005)'),\n",
       " (-0.068638857650364565, 'Curious Case of Benjamin Button, The (2008)'),\n",
       " (-0.06750454792437649, 'Chocolat (2000)'),\n",
       " (-0.067113296625721894, 'Silence of the Lambs, The (1991)'),\n",
       " (-0.066282850507901878, 'Big Trouble in Little China (1986)'),\n",
       " (-0.064060962812114403, 'I Know What You Did Last Summer (1997)'),\n",
       " (-0.06115964044110881, 'Godfather: Part II, The (1974)'),\n",
       " (-0.060968009203664804, 'Dumb & Dumber (Dumb and Dumber) (1994)'),\n",
       " (-0.060185944337567993, 'Aliens (1986)')]"
      ]
     },
     "execution_count": 86,
     "metadata": {},
     "output_type": "execute_result"
    }
   ],
   "source": [
    "sorted(movie_comp, key = itemgetter(0))[:10]"
   ]
  },
  {
   "cell_type": "code",
   "execution_count": null,
   "metadata": {
    "collapsed": true
   },
   "outputs": [],
   "source": []
  }
 ],
 "metadata": {
  "kernelspec": {
   "display_name": "Python 3",
   "language": "python",
   "name": "python3"
  },
  "language_info": {
   "codemirror_mode": {
    "name": "ipython",
    "version": 3
   },
   "file_extension": ".py",
   "mimetype": "text/x-python",
   "name": "python",
   "nbconvert_exporter": "python",
   "pygments_lexer": "ipython3",
   "version": "3.5.3"
  }
 },
 "nbformat": 4,
 "nbformat_minor": 1
}
