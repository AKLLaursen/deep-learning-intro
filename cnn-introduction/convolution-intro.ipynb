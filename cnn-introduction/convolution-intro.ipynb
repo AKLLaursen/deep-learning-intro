{
 "cells": [
  {
   "cell_type": "markdown",
   "metadata": {},
   "source": [
    "# Introduction to Convolutional Neural Networks\n",
    "\n",
    "This notebook contains code generating examples explaining the intuition of the convolutional filter and max pool step op a convolutional neural network as well as the intuition of the gradient descent algorithm.\n",
    "\n",
    "## The intution of convolution and max pooling\n",
    "\n",
    "We start by importing needed libraries."
   ]
  },
  {
   "cell_type": "code",
   "execution_count": 62,
   "metadata": {
    "collapsed": false
   },
   "outputs": [],
   "source": [
    "%matplotlib inline\n",
    "\n",
    "import math, sys, os\n",
    "import numpy as np\n",
    "import cPickle as pickle\n",
    "\n",
    "from numpy.linalg import norm\n",
    "from PIL import Image\n",
    "from matplotlib import pyplot as plt, rcParams, rc\n",
    "from scipy.ndimage import imread\n",
    "from scipy.ndimage.filters import correlate, convolve\n",
    "from skimage.measure import block_reduce\n",
    "from ipywidgets import interact, interactive, fixed\n",
    "from ipywidgets.widgets import *\n",
    "from tensorflow.examples.tutorials.mnist import input_data\n",
    "from __future__ import print_function\n",
    "\n",
    "# Set up matplotlib to display animation in the notebook\n",
    "rc('animation', html = 'html5')\n",
    "rcParams['figure.figsize'] = 3, 6\n",
    "\n",
    "# Set global precision for numpy\n",
    "%precision 4\n",
    "np.set_printoptions(precision = 4, linewidth = 100)"
   ]
  },
  {
   "cell_type": "markdown",
   "metadata": {},
   "source": [
    "We then import the MNIST data set. MNIST is a large dataset of handwritten digits that is commonly used for training various image processing systems and machine learning models.\n",
    "\n",
    "The MNIST dataset is one of the example dataset included with TensorFlow. It has 55,000 handwritten and labeled 28x28 pixel numbers."
   ]
  },
  {
   "cell_type": "code",
   "execution_count": 2,
   "metadata": {
    "collapsed": false
   },
   "outputs": [
    {
     "name": "stdout",
     "output_type": "stream",
     "text": [
      "Extracting MNIST_data/train-images-idx3-ubyte.gz\n",
      "Extracting MNIST_data/train-labels-idx1-ubyte.gz\n",
      "Extracting MNIST_data/t10k-images-idx3-ubyte.gz\n",
      "Extracting MNIST_data/t10k-labels-idx1-ubyte.gz\n"
     ]
    }
   ],
   "source": [
    "# Read the MNIST dataset from the TensorFlow examples.\n",
    "mnist = input_data.read_data_sets(\"MNIST_data/\")\n",
    "\n",
    "# The images and labels are stores as methods. Extract these into stand alone objects\n",
    "images, labels = mnist.train.images, mnist.train.labels\n",
    "\n",
    "# When importing the images, they are stored in a sing 55000 x 784 numpy array.\n",
    "# That is each image is stored in a one dimensional array of 784 pixels. We reshape\n",
    "# the array, such that each image is instead stored in a 28 x 28 arrauy. Reflecting the\n",
    "# actual shape of the image.\n",
    "images = images.reshape((55000, 28, 28))\n",
    "\n",
    "# Save the array into a single file in compressed .npz format\n",
    "np.savez_compressed(\"MNIST_data/train\", images = images, labels = labels)"
   ]
  },
  {
   "cell_type": "markdown",
   "metadata": {},
   "source": [
    "We then define some plot functions for later use."
   ]
  },
  {
   "cell_type": "code",
   "execution_count": 3,
   "metadata": {
    "collapsed": true
   },
   "outputs": [],
   "source": [
    "def plots(ims, interp = False, titles = None):\n",
    "    \n",
    "    ims=np.array(ims)\n",
    "    mn, mx = ims.min(), ims.max()\n",
    "    \n",
    "    f = plt.figure(figsize = (12, 24))\n",
    "    \n",
    "    for i in range(len(ims)):\n",
    "        \n",
    "        sp = f.add_subplot(1, len(ims), i + 1)\n",
    "        \n",
    "        if not titles is None: sp.set_title(titles[i], fontsize = 18)\n",
    "            \n",
    "        plt.imshow(ims[i], interpolation = None if interp else 'none', vmin = mn,vmax = mx)\n",
    "\n",
    "def plot(im, interp = False):\n",
    "    f = plt.figure(figsize=(3, 6), frameon = True)\n",
    "    plt.imshow(im, interpolation = None if interp else 'none')\n",
    "\n",
    "plt.gray()\n",
    "plt.close()"
   ]
  },
  {
   "cell_type": "markdown",
   "metadata": {},
   "source": [
    "We load the data from the files stored. (We have stored the file earlier, such that we do not have to rely on having TensorFlow available)."
   ]
  },
  {
   "cell_type": "code",
   "execution_count": 4,
   "metadata": {
    "collapsed": false
   },
   "outputs": [
    {
     "data": {
      "text/plain": [
       "(55000, 28, 28)"
      ]
     },
     "execution_count": 4,
     "metadata": {},
     "output_type": "execute_result"
    }
   ],
   "source": [
    "# Load data\n",
    "data = np.load(\"MNIST_data/train.npz\")\n",
    "\n",
    "# Separate into images and label arrays\n",
    "images = data['images']\n",
    "labels = data['labels']\n",
    "\n",
    "# Define length of array (55,000) and print the shape (dimensions of the array)\n",
    "n = len(images)\n",
    "images.shape"
   ]
  },
  {
   "cell_type": "markdown",
   "metadata": {},
   "source": [
    "We can then plot a sample image and the label."
   ]
  },
  {
   "cell_type": "code",
   "execution_count": 5,
   "metadata": {
    "collapsed": false
   },
   "outputs": [
    {
     "data": {
      "image/png": "[encoded data removed]",
      "text/plain": [
       "<matplotlib.figure.Figure at 0x7f52ee6c1c50>"
      ]
     },
     "metadata": {},
     "output_type": "display_data"
    }
   ],
   "source": [
    "plot(images[0])"
   ]
  },
  {
   "cell_type": "code",
   "execution_count": 6,
   "metadata": {
    "collapsed": false
   },
   "outputs": [
    {
     "data": {
      "text/plain": [
       "7"
      ]
     },
     "execution_count": 6,
     "metadata": {},
     "output_type": "execute_result"
    }
   ],
   "source": [
    "labels[0]"
   ]
  },
  {
   "cell_type": "markdown",
   "metadata": {},
   "source": [
    "We can also plot the first 5 numbers and associated labels."
   ]
  },
  {
   "cell_type": "code",
   "execution_count": 7,
   "metadata": {
    "collapsed": false
   },
   "outputs": [
    {
     "data": {
      "image/png": "[encoded data removed]",
      "text/plain": [
       "<matplotlib.figure.Figure at 0x7f52ee6c1cd0>"
      ]
     },
     "metadata": {},
     "output_type": "display_data"
    }
   ],
   "source": [
    "plots(images[:5], titles = labels[:5])"
   ]
  },
  {
   "cell_type": "markdown",
   "metadata": {},
   "source": [
    "Now lets define a simple 3 x 3 matrix of pixels. This is our first filter. Now, what will have happen when we shift the filter accross the number matrixes. At each point we multiply the matrices element wise and take the sum.\n",
    "\n",
    "For a cool visualisation of how the multiplication works see [this link](http://setosa.io/ev/image-kernels/)"
   ]
  },
  {
   "cell_type": "code",
   "execution_count": 8,
   "metadata": {
    "collapsed": false
   },
   "outputs": [
    {
     "data": {
      "image/png": "[encoded data removed]",
      "text/plain": [
       "<matplotlib.figure.Figure at 0x7f52ebe07b90>"
      ]
     },
     "metadata": {},
     "output_type": "display_data"
    }
   ],
   "source": [
    "top = [[-1,-1,-1],\n",
    "       [ 1, 1, 1],\n",
    "       [ 0, 0, 0]]\n",
    "\n",
    "plot(top)"
   ]
  },
  {
   "cell_type": "markdown",
   "metadata": {},
   "source": [
    "Lets zoom in on the top part to see how the filter works on our numbers"
   ]
  },
  {
   "cell_type": "code",
   "execution_count": 15,
   "metadata": {
    "collapsed": false
   },
   "outputs": [
    {
     "data": {
      "image/png": "[encoded data removed]",
      "text/plain": [
       "<matplotlib.figure.Figure at 0x7f52eb3d8b90>"
      ]
     },
     "metadata": {},
     "output_type": "display_data"
    }
   ],
   "source": [
    "r = (0, 28)\n",
    "def zoomim(x1 = 0, x2 = 28, y1 = 0, y2 = 28):\n",
    "    plot(images[0, y1:y2, x1:x2])\n",
    "    \n",
    "w = interactive(zoomim, x1 = r, x2 = r, y1 = r, y2 = r)\n",
    "w"
   ]
  },
  {
   "cell_type": "markdown",
   "metadata": {},
   "source": [
    "Now lets study what actually happens with the pixels. First we print the actual pixel values of the zoomed image."
   ]
  },
  {
   "cell_type": "code",
   "execution_count": 16,
   "metadata": {
    "collapsed": false
   },
   "outputs": [
    {
     "data": {
      "text/plain": [
       "array([[ 0.    ,  0.    ,  0.    ,  0.    ,  0.    ,  0.    ,  0.    ,  0.    ,  0.    ,  0.    ],\n",
       "       [ 0.    ,  0.    ,  0.    ,  0.    ,  0.    ,  0.    ,  0.    ,  0.    ,  0.    ,  0.    ],\n",
       "       [ 0.    ,  0.    ,  0.    ,  0.    ,  0.    ,  0.    ,  0.    ,  0.    ,  0.    ,  0.    ],\n",
       "       [ 0.    ,  0.    ,  0.    ,  0.    ,  0.    ,  0.    ,  0.    ,  0.    ,  0.    ,  0.    ],\n",
       "       [ 0.    ,  0.    ,  0.    ,  0.3529,  0.5412,  0.9216,  0.9216,  0.9216,  0.9216,  0.9216],\n",
       "       [ 0.    ,  0.    ,  0.549 ,  0.9843,  0.9961,  0.9961,  0.9961,  0.9961,  0.9961,  0.9961],\n",
       "       [ 0.    ,  0.    ,  0.8863,  0.9961,  0.8157,  0.7804,  0.7804,  0.7804,  0.7804,  0.5451],\n",
       "       [ 0.    ,  0.    ,  0.149 ,  0.3216,  0.051 ,  0.    ,  0.    ,  0.    ,  0.    ,  0.    ],\n",
       "       [ 0.    ,  0.    ,  0.    ,  0.    ,  0.    ,  0.    ,  0.    ,  0.    ,  0.    ,  0.    ],\n",
       "       [ 0.    ,  0.    ,  0.    ,  0.    ,  0.    ,  0.    ,  0.    ,  0.    ,  0.    ,  0.    ],\n",
       "       [ 0.    ,  0.    ,  0.    ,  0.    ,  0.    ,  0.    ,  0.    ,  0.    ,  0.    ,  0.    ]], dtype=float32)"
      ]
     },
     "execution_count": 16,
     "metadata": {},
     "output_type": "execute_result"
    }
   ],
   "source": [
    "k = w.kwargs\n",
    "dims = np.index_exp[k['y1']:k['y2']:1, k['x1']:k['x2']]\n",
    "images[0][dims]"
   ]
  },
  {
   "cell_type": "markdown",
   "metadata": {},
   "source": [
    "Now we perform the actual calculation. It is called correlating - in that we correlate the image and the filter. We correlate the image and the filter and print the result as pixel and as image."
   ]
  },
  {
   "cell_type": "code",
   "execution_count": 17,
   "metadata": {
    "collapsed": false
   },
   "outputs": [
    {
     "data": {
      "text/plain": [
       "array([[ 0.    ,  0.    ,  0.    ,  0.    ,  0.    ,  0.    ,  0.    ,  0.    ,  0.    ,  0.    ],\n",
       "       [ 0.    ,  0.    ,  0.    ,  0.    ,  0.    ,  0.    ,  0.    ,  0.    ,  0.    ,  0.    ],\n",
       "       [ 0.    ,  0.    ,  0.    ,  0.    ,  0.    ,  0.    ,  0.    ,  0.    ,  0.    ,  0.    ],\n",
       "       [ 0.    ,  0.    ,  0.    ,  0.    ,  0.    ,  0.    ,  0.    ,  0.    ,  0.    ,  0.    ],\n",
       "       [ 0.    ,  0.    ,  0.3529,  0.8941,  1.8157,  2.3843,  2.7647,  2.7647,  2.7647,  2.7647],\n",
       "       [ 0.    ,  0.549 ,  1.1804,  1.6353,  1.1608,  0.6039,  0.2235,  0.2235,  0.2235,  0.2235],\n",
       "       [ 0.    ,  0.3373,  0.349 ,  0.1686, -0.3843, -0.6118, -0.6471, -0.6471, -0.8824, -1.4235],\n",
       "       [ 0.    , -0.7373, -1.4118, -2.1765, -2.2196, -2.3255, -2.3412, -2.3412, -2.1059, -1.5647],\n",
       "       [ 0.    , -0.149 , -0.4706, -0.5216, -0.3725, -0.051 ,  0.    ,  0.    ,  0.    ,  0.    ],\n",
       "       [ 0.    ,  0.    ,  0.    ,  0.    ,  0.    ,  0.    ,  0.    ,  0.    ,  0.    ,  0.    ],\n",
       "       [ 0.    ,  0.    ,  0.    ,  0.    ,  0.    ,  0.    ,  0.    ,  0.    ,  0.    ,  0.    ]], dtype=float32)"
      ]
     },
     "execution_count": 17,
     "metadata": {},
     "output_type": "execute_result"
    }
   ],
   "source": [
    "corrtop = correlate(images[0], top)\n",
    "corrtop[dims]"
   ]
  },
  {
   "cell_type": "code",
   "execution_count": 18,
   "metadata": {
    "collapsed": false
   },
   "outputs": [
    {
     "data": {
      "image/png": "[encoded data removed]",
      "text/plain": [
       "<matplotlib.figure.Figure at 0x7f52eb55aa50>"
      ]
     },
     "metadata": {},
     "output_type": "display_data"
    }
   ],
   "source": [
    "plot(corrtop[dims])"
   ]
  },
  {
   "cell_type": "code",
   "execution_count": 19,
   "metadata": {
    "collapsed": false
   },
   "outputs": [
    {
     "data": {
      "image/png": "[encoded data removed]",
      "text/plain": [
       "<matplotlib.figure.Figure at 0x7f52eb43c510>"
      ]
     },
     "metadata": {},
     "output_type": "display_data"
    }
   ],
   "source": [
    "plot(corrtop)"
   ]
  },
  {
   "cell_type": "markdown",
   "metadata": {},
   "source": [
    "We see that in correlating image and the filter, we get a new image where lines/edges on top a shape is highlighted. Before deep learning this is what people would do by hand in crafting features for their image recognition models - i.e. feature engineering.\n",
    "\n",
    "We can then rotate our filter 90 degrees."
   ]
  },
  {
   "cell_type": "code",
   "execution_count": 20,
   "metadata": {
    "collapsed": false
   },
   "outputs": [
    {
     "data": {
      "text/plain": [
       "array([[-1,  1,  0],\n",
       "       [-1,  1,  0],\n",
       "       [-1,  1,  0]])"
      ]
     },
     "execution_count": 20,
     "metadata": {},
     "output_type": "execute_result"
    }
   ],
   "source": [
    "np.rot90(top, 1)"
   ]
  },
  {
   "cell_type": "markdown",
   "metadata": {},
   "source": [
    "When we keep rotating we get filters in which we can detect edges on all sides of shapes in our image."
   ]
  },
  {
   "cell_type": "code",
   "execution_count": 21,
   "metadata": {
    "collapsed": false
   },
   "outputs": [
    {
     "data": {
      "image/png": "[encoded data removed]",
      "text/plain": [
       "<matplotlib.figure.Figure at 0x7f52eb564bd0>"
      ]
     },
     "metadata": {},
     "output_type": "display_data"
    }
   ],
   "source": [
    "straights = [np.rot90(top, i) for i in range(4)]\n",
    "plots(straights)"
   ]
  },
  {
   "cell_type": "markdown",
   "metadata": {},
   "source": [
    "All imagerecognition today basically utalises convolutional neural networks. How did they get that name?\n",
    "\n",
    "What does convolution mean? Well basically it's the same mathematical opperation as when correlating. The only difference is that in convolution you take the original filter and rotate it 180 degrees before performing the mathematical opperations.\n",
    "\n",
    "We can easily proove that."
   ]
  },
  {
   "cell_type": "code",
   "execution_count": 22,
   "metadata": {
    "collapsed": false,
    "scrolled": true
   },
   "outputs": [
    {
     "data": {
      "text/plain": [
       "True"
      ]
     },
     "execution_count": 22,
     "metadata": {},
     "output_type": "execute_result"
    },
    {
     "data": {
      "image/png": "[encoded data removed]",
      "text/plain": [
       "<matplotlib.figure.Figure at 0x7f52ee6555d0>"
      ]
     },
     "metadata": {},
     "output_type": "display_data"
    }
   ],
   "source": [
    "# Perform the convolution on the original filter rotated 180 degrees perfore. When\n",
    "# we convolve it will be rotated 180 degrees again and we get the original shape again.\n",
    "convtop = convolve(images[0], np.rot90(top,2))\n",
    "\n",
    "# We then plot the output of the convolution and see that it is exactly the same output\n",
    "# as our correlation above.\n",
    "plot(convtop)\n",
    "np.allclose(convtop, corrtop)"
   ]
  },
  {
   "cell_type": "markdown",
   "metadata": {
    "collapsed": false
   },
   "source": [
    "We can also make filters that detect diagonal edges."
   ]
  },
  {
   "cell_type": "code",
   "execution_count": 23,
   "metadata": {
    "collapsed": false
   },
   "outputs": [
    {
     "data": {
      "image/png": "[encoded data removed]",
      "text/plain": [
       "<matplotlib.figure.Figure at 0x7f52ec128090>"
      ]
     },
     "metadata": {},
     "output_type": "display_data"
    }
   ],
   "source": [
    "br = [[ 0, 0, 1],\n",
    "      [ 0, 1,-1.5],\n",
    "      [ 1,-1.5, 0]]\n",
    "\n",
    "diags = [np.rot90(br, i) for i in range(4)]\n",
    "plots(diags)"
   ]
  },
  {
   "cell_type": "markdown",
   "metadata": {},
   "source": [
    "We can then correlate all the filters across our image and see that we can detect all the edges of the image. Thus we have some engineered features."
   ]
  },
  {
   "cell_type": "code",
   "execution_count": 24,
   "metadata": {
    "collapsed": false
   },
   "outputs": [
    {
     "data": {
      "image/png": "[encoded data removed]",
      "text/plain": [
       "<matplotlib.figure.Figure at 0x7f52ec11b350>"
      ]
     },
     "metadata": {},
     "output_type": "display_data"
    }
   ],
   "source": [
    "rots = straights + diags\n",
    "corrs = [correlate(images[0], rot) for rot in rots]\n",
    "plots(corrs)"
   ]
  },
  {
   "cell_type": "markdown",
   "metadata": {},
   "source": [
    "In deep learning we basically wants to extract the fingerprint of each image. That is, how does a certain object look on average across all images of the object in the trianing data set.\n",
    "\n",
    "A way to do this is to use max pooling. We shift across the image again, this time in a 7 x 7 grid and return the max pixel. I.e. the brightest pixel. Thus for each filter we get a 4 x 4 representation of the image. Essentially our \"finger print.\""
   ]
  },
  {
   "cell_type": "code",
   "execution_count": 25,
   "metadata": {
    "collapsed": false
   },
   "outputs": [
    {
     "data": {
      "image/png": "[encoded data removed]",
      "text/plain": [
       "<matplotlib.figure.Figure at 0x7f52ebdbdc10>"
      ]
     },
     "metadata": {},
     "output_type": "display_data"
    }
   ],
   "source": [
    "def pool(im): return block_reduce(im, (7,7), np.max)\n",
    "\n",
    "plots([pool(im) for im in corrs])"
   ]
  },
  {
   "cell_type": "markdown",
   "metadata": {},
   "source": [
    "We can then utalise this on our data set in order to classify ones and eights (chosen as they are subjectively the most different types of numbers). We start by grapping the ones and eights and plotting some examples."
   ]
  },
  {
   "cell_type": "code",
   "execution_count": 26,
   "metadata": {
    "collapsed": false
   },
   "outputs": [],
   "source": [
    "eights = [images[i] for i in xrange(n) if labels[i] == 8]\n",
    "ones = [images[i] for i in xrange(n) if labels[i] == 1]"
   ]
  },
  {
   "cell_type": "code",
   "execution_count": 27,
   "metadata": {
    "collapsed": false
   },
   "outputs": [
    {
     "data": {
      "image/png": "[encoded data removed]",
      "text/plain": [
       "<matplotlib.figure.Figure at 0x7f52eb94a850>"
      ]
     },
     "metadata": {},
     "output_type": "display_data"
    },
    {
     "data": {
      "image/png": "[encoded data removed]",
      "text/plain": [
       "<matplotlib.figure.Figure at 0x7f52eb94a150>"
      ]
     },
     "metadata": {},
     "output_type": "display_data"
    }
   ],
   "source": [
    "plots(eights[:5])\n",
    "plots(ones[:5])"
   ]
  },
  {
   "cell_type": "markdown",
   "metadata": {},
   "source": [
    "We then run the correlation with all the filters and do max pooling on top for the eights."
   ]
  },
  {
   "cell_type": "code",
   "execution_count": 29,
   "metadata": {
    "collapsed": true
   },
   "outputs": [],
   "source": [
    "pool8 = [np.array([pool(correlate(im, rot)) for im in eights]) for rot in rots]"
   ]
  },
  {
   "cell_type": "markdown",
   "metadata": {},
   "source": [
    "We see that out dataset has 5389 images containing eights. For each image we now have eight 4 x 4 representations of the image. One for each filter."
   ]
  },
  {
   "cell_type": "code",
   "execution_count": 30,
   "metadata": {
    "collapsed": false
   },
   "outputs": [
    {
     "data": {
      "text/plain": [
       "(8, (5389, 4, 4))"
      ]
     },
     "execution_count": 30,
     "metadata": {},
     "output_type": "execute_result"
    }
   ],
   "source": [
    "len(pool8), pool8[0].shape"
   ]
  },
  {
   "cell_type": "markdown",
   "metadata": {},
   "source": [
    "And we can plot the first filter of the first 5 images."
   ]
  },
  {
   "cell_type": "code",
   "execution_count": 32,
   "metadata": {
    "collapsed": false
   },
   "outputs": [
    {
     "data": {
      "image/png": "[encoded data removed]",
      "text/plain": [
       "<matplotlib.figure.Figure at 0x7f52eb983310>"
      ]
     },
     "metadata": {},
     "output_type": "display_data"
    }
   ],
   "source": [
    "plots(pool8[0][0:5])"
   ]
  },
  {
   "cell_type": "markdown",
   "metadata": {},
   "source": [
    "We can then take the mean accross each filter such that we get a filter the average filter representation of all the eights. Having taken the mean, we can also normalise across the filters. We can see this as an ideal representation of an eight."
   ]
  },
  {
   "cell_type": "code",
   "execution_count": 41,
   "metadata": {
    "collapsed": true
   },
   "outputs": [],
   "source": [
    "def normalize(arr): return (arr - arr.mean()) / arr.std()"
   ]
  },
  {
   "cell_type": "code",
   "execution_count": 42,
   "metadata": {
    "collapsed": false
   },
   "outputs": [],
   "source": [
    "filts8 = np.array([ims.mean(axis = 0) for ims in pool8])\n",
    "filts8 = normalize(filts8)"
   ]
  },
  {
   "cell_type": "code",
   "execution_count": 43,
   "metadata": {
    "collapsed": false
   },
   "outputs": [
    {
     "data": {
      "image/png": "[encoded data removed]",
      "text/plain": [
       "<matplotlib.figure.Figure at 0x7f52ebaf1850>"
      ]
     },
     "metadata": {},
     "output_type": "display_data"
    }
   ],
   "source": [
    "plots(filts8)"
   ]
  },
  {
   "cell_type": "markdown",
   "metadata": {},
   "source": [
    "We then do the same for the ones. Immediately wee see a difference in the representation. Eg. ones have strong vetical edges and almost none diagonal edges when compared to the eights."
   ]
  },
  {
   "cell_type": "code",
   "execution_count": 64,
   "metadata": {
    "collapsed": false
   },
   "outputs": [
    {
     "name": "stdout",
     "output_type": "stream",
     "text": [
      "8 (6179, 4, 4)\n"
     ]
    }
   ],
   "source": [
    "pool1 = [np.array([pool(correlate(im, rot)) for im in ones]) for rot in rots]\n",
    "\n",
    "print(len(pool1), pool1[0].shape)\n",
    "\n",
    "filts1 = np.array([ims.mean(axis=0) for ims in pool1])\n",
    "filts1 = normalize(filts1)"
   ]
  },
  {
   "cell_type": "code",
   "execution_count": 45,
   "metadata": {
    "collapsed": false
   },
   "outputs": [
    {
     "data": {
      "image/png": "[encoded data removed]",
      "text/plain": [
       "<matplotlib.figure.Figure at 0x7f52ebeb6810>"
      ]
     },
     "metadata": {},
     "output_type": "display_data"
    }
   ],
   "source": [
    "plots(filts1)"
   ]
  },
  {
   "cell_type": "markdown",
   "metadata": {},
   "source": [
    "We can then utalise this to make a simple digit recognition algorithm. We do this by correlating every image and filter in our dataset and compare it to the \"ideal\" representations of our ones and eights above.\n",
    "\n",
    "We start we writing a function that performs both the correlation and the max pooling. (Remember `rot` is the 8 filters (4 vertical/horisontal and 4 diagonal)."
   ]
  },
  {
   "cell_type": "code",
   "execution_count": 49,
   "metadata": {
    "collapsed": false
   },
   "outputs": [],
   "source": [
    "def pool_corr(im): return np.array([pool(correlate(im, rot)) for rot in rots])"
   ]
  },
  {
   "cell_type": "markdown",
   "metadata": {},
   "source": [
    "Below we see the calculated correlation for our first eight."
   ]
  },
  {
   "cell_type": "code",
   "execution_count": 50,
   "metadata": {
    "collapsed": false
   },
   "outputs": [
    {
     "data": {
      "image/png": "[encoded data removed]",
      "text/plain": [
       "<matplotlib.figure.Figure at 0x7f52eba101d0>"
      ]
     },
     "metadata": {},
     "output_type": "display_data"
    }
   ],
   "source": [
    "plots(pool_corr(eights[0]))"
   ]
  },
  {
   "cell_type": "markdown",
   "metadata": {},
   "source": [
    "We can now define a function to determine wether or not a number is an eight or not."
   ]
  },
  {
   "cell_type": "code",
   "execution_count": 51,
   "metadata": {
    "collapsed": true
   },
   "outputs": [],
   "source": [
    "# Function calculating the sum of squared errors\n",
    "def sse(a, b): return ((a - b) ** 2).sum()\n",
    "\n",
    "# Function returning a 1 if the sum of squared errors between the max pooled image and filter \n",
    "# correlation and the average one filters (the ideal representation) is greater then the sum\n",
    "# of squared errors of the max pooled image and filter correlation and the average eight \n",
    "# filters.\n",
    "def is8_n2(im): return 1 if sse(pool_corr(im), filts1) > sse(pool_corr(im), filts8) else 0"
   ]
  },
  {
   "cell_type": "markdown",
   "metadata": {},
   "source": [
    "We can test this on the first eight image, where we see that we do indeed obtain a lower sum of squared error for the eight filters than for the one filters."
   ]
  },
  {
   "cell_type": "code",
   "execution_count": 52,
   "metadata": {
    "collapsed": false
   },
   "outputs": [
    {
     "data": {
      "text/plain": [
       "(126.77776, 181.26105)"
      ]
     },
     "execution_count": 52,
     "metadata": {},
     "output_type": "execute_result"
    }
   ],
   "source": [
    "sse(pool_corr(eights[0]), filts8), sse(pool_corr(eights[0]), filts1)"
   ]
  },
  {
   "cell_type": "markdown",
   "metadata": {},
   "source": [
    "We can then run the function across the entire dataset of eights and ones. In the output below we see, that we majorily identify the eights. 5223 out the 5389 eights in the dataset. However, we do also misclassify some of the ones, 287 out of 6179."
   ]
  },
  {
   "cell_type": "code",
   "execution_count": 53,
   "metadata": {
    "collapsed": false
   },
   "outputs": [
    {
     "data": {
      "text/plain": [
       "[5223, 287]"
      ]
     },
     "execution_count": 53,
     "metadata": {},
     "output_type": "execute_result"
    }
   ],
   "source": [
    "[np.array([is8_n2(im) for im in ims]).sum() for ims in [eights, ones]]"
   ]
  },
  {
   "cell_type": "markdown",
   "metadata": {},
   "source": [
    "We can also do the same for `1 - is8_n2(im)`, that is determine if its not an eight. Here we hit 5892 out of 6179 and mis 166 out of 5389."
   ]
  },
  {
   "cell_type": "code",
   "execution_count": 57,
   "metadata": {
    "collapsed": false,
    "scrolled": true
   },
   "outputs": [
    {
     "data": {
      "text/plain": [
       "[166, 5892]"
      ]
     },
     "execution_count": 57,
     "metadata": {},
     "output_type": "execute_result"
    }
   ],
   "source": [
    "[np.array([(1-is8_n2(im)) for im in ims]).sum() for ims in [eights,ones]]"
   ]
  },
  {
   "cell_type": "markdown",
   "metadata": {},
   "source": [
    "We can check the same result when using a different loss function. For instance the sum of absolute errors."
   ]
  },
  {
   "cell_type": "code",
   "execution_count": 58,
   "metadata": {
    "collapsed": true
   },
   "outputs": [],
   "source": [
    "# Function calculating the sum of absolute errors\n",
    "def n1(a, b): return (np.fabs(a - b)).sum()\n",
    "\n",
    "# Function returning a 1 if the sum of absolute errors between the max pooled image and filter \n",
    "# correlation and the average one filters (the ideal representation) is greater then the sum\n",
    "# of absolute errors of the max pooled image and filter correlation and the average eight \n",
    "# filters.\n",
    "def is8_n1(im): return 1 if n1(pool_corr(im),filts1) > n1(pool_corr(im),filts8) else 0"
   ]
  },
  {
   "cell_type": "markdown",
   "metadata": {},
   "source": [
    "For detecting eights we get slightly lower misclassfication (false positives) but also lower true positives."
   ]
  },
  {
   "cell_type": "code",
   "execution_count": 59,
   "metadata": {
    "collapsed": false
   },
   "outputs": [
    {
     "data": {
      "text/plain": [
       "[5129, 254]"
      ]
     },
     "execution_count": 59,
     "metadata": {},
     "output_type": "execute_result"
    }
   ],
   "source": [
    "[np.array([is8_n1(im) for im in ims]).sum() for ims in [eights,ones]]"
   ]
  },
  {
   "cell_type": "markdown",
   "metadata": {},
   "source": [
    "For detecting \"not eights\" (ones) we get more false positives but also more true positives."
   ]
  },
  {
   "cell_type": "code",
   "execution_count": 60,
   "metadata": {
    "collapsed": false
   },
   "outputs": [
    {
     "data": {
      "text/plain": [
       "[260, 5925]"
      ]
     },
     "execution_count": 60,
     "metadata": {},
     "output_type": "execute_result"
    }
   ],
   "source": [
    "[np.array([(1-is8_n1(im)) for im in ims]).sum() for ims in [eights,ones]]"
   ]
  },
  {
   "cell_type": "markdown",
   "metadata": {
    "collapsed": true
   },
   "source": [
    "## Making the algorithm better\n",
    "\n",
    "So how do we make this algorithm better?\n",
    "\n",
    "1. Instead of using the 8 simple features (filters) that we created, there are much better alternatives. Specifically there are a lot of better 3 x 3 filters, that we could be using.\n",
    "\n",
    "2. We also treat all the filters as equally important. Some filters might be more important than others.\n",
    "\n",
    "3. More complex filters. Not just lines and diagonals, but eg. corners.\n",
    "\n",
    "Deep learning does all of this for us. Deep learning is simply an optimisation problem across the points specified above (could be more steps, eg. non-linearity). In the optimisation problem we simply start with random values for each filter (we specify the number 8, 100, etc.) The optimisation algorithm then attempts to make the filters better and better for each iteration.\n",
    "\n",
    "The process is that of backpropagation through the neural network. Essentially it is a stochastic gradient descent algorithm, the intuition of which is presented below.\n",
    "\n",
    "## Stochastic Gradient Descent\n",
    "\n",
    "We here present the intuition of stochastic gradient descent, exemplified by linear regression - the deep learning way. We start by importing the libraries adn functions we will use."
   ]
  },
  {
   "cell_type": "code",
   "execution_count": 1,
   "metadata": {
    "collapsed": true
   },
   "outputs": [],
   "source": [
    "%matplotlib inline\n",
    "\n",
    "import math, sys, os\n",
    "import numpy as np\n",
    "\n",
    "from numpy.random import random\n",
    "from matplotlib import pyplot as plt, rcParams, animation, rc\n",
    "from __future__ import print_function, division\n",
    "from ipywidgets import interact, interactive, fixed\n",
    "from ipywidgets.widgets import *\n",
    "from IPython.display import FileLink\n",
    "\n",
    "# Set up matplotlib to display animation in the notebook\n",
    "rc('animation', html = 'html5')\n",
    "rcParams['figure.figsize'] = 3, 3\n",
    "\n",
    "# Set global precision for numpy\n",
    "%precision 4\n",
    "np.set_printoptions(precision = 4, linewidth = 100)"
   ]
  },
  {
   "cell_type": "markdown",
   "metadata": {},
   "source": [
    "Define the function for a line"
   ]
  },
  {
   "cell_type": "code",
   "execution_count": 2,
   "metadata": {
    "collapsed": true
   },
   "outputs": [],
   "source": [
    "def lin(a, b, x): return a * x + b"
   ]
  },
  {
   "cell_type": "markdown",
   "metadata": {},
   "source": [
    "We can then set up some data - i.e. actual values of `a` and `b`."
   ]
  },
  {
   "cell_type": "code",
   "execution_count": 3,
   "metadata": {
    "collapsed": true
   },
   "outputs": [],
   "source": [
    "a = 3.\n",
    "b = 8."
   ]
  },
  {
   "cell_type": "markdown",
   "metadata": {},
   "source": [
    "Next we generate some random data."
   ]
  },
  {
   "cell_type": "code",
   "execution_count": 4,
   "metadata": {
    "collapsed": true
   },
   "outputs": [],
   "source": [
    "n = 30\n",
    "x = random(n)\n",
    "y = lin(a, b, x)"
   ]
  },
  {
   "cell_type": "markdown",
   "metadata": {},
   "source": [
    "So `x` and `y` here is out data based on which we would like to find the values of `a` and `b`, which would be onknown in a real seeting. This is equivalent to finding the values of the optimal filters in the convolution example above. We can consider out data."
   ]
  },
  {
   "cell_type": "code",
   "execution_count": 5,
   "metadata": {
    "collapsed": false
   },
   "outputs": [
    {
     "data": {
      "text/plain": [
       "array([ 0.2446,  0.9021,  0.4742,  0.3992,  0.8905,  0.4417,  0.0539,  0.5675,  0.7648,  0.0738,\n",
       "        0.9274,  0.0267,  0.6182,  0.6592,  0.1896,  0.5248,  0.2622,  0.6663,  0.7612,  0.7455,\n",
       "        0.5831,  0.5738,  0.3912,  0.3171,  0.1461,  0.1136,  0.6558,  0.9313,  0.1588,  0.0846])"
      ]
     },
     "execution_count": 5,
     "metadata": {},
     "output_type": "execute_result"
    }
   ],
   "source": [
    "x"
   ]
  },
  {
   "cell_type": "code",
   "execution_count": 6,
   "metadata": {
    "collapsed": false
   },
   "outputs": [
    {
     "data": {
      "text/plain": [
       "array([  8.7338,  10.7062,   9.4227,   9.1977,  10.6714,   9.3251,   8.1617,   9.7025,  10.2945,\n",
       "         8.2215,  10.7821,   8.08  ,   9.8546,   9.9775,   8.5689,   9.5744,   8.7867,   9.9989,\n",
       "        10.2835,  10.2365,   9.7493,   9.7215,   9.1735,   8.9512,   8.4383,   8.3407,   9.9675,\n",
       "        10.794 ,   8.4764,   8.2537])"
      ]
     },
     "execution_count": 6,
     "metadata": {},
     "output_type": "execute_result"
    }
   ],
   "source": [
    "y"
   ]
  },
  {
   "cell_type": "markdown",
   "metadata": {},
   "source": [
    "We can also plot the data."
   ]
  },
  {
   "cell_type": "code",
   "execution_count": 7,
   "metadata": {
    "collapsed": false
   },
   "outputs": [
    {
     "data": {
      "text/plain": [
       "<matplotlib.collections.PathCollection at 0x7f07e95b58d0>"
      ]
     },
     "execution_count": 7,
     "metadata": {},
     "output_type": "execute_result"
    },
    {
     "data": {
      "image/png": "[encoded data removed]",
      "text/plain": [
       "<matplotlib.figure.Figure at 0x7f081686c3d0>"
      ]
     },
     "metadata": {},
     "output_type": "display_data"
    }
   ],
   "source": [
    "plt.scatter(x, y)"
   ]
  },
  {
   "cell_type": "markdown",
   "metadata": {},
   "source": [
    "We can then evaluate out prediction as before utilising the sum of squared errors, which will be out loss function."
   ]
  },
  {
   "cell_type": "code",
   "execution_count": 8,
   "metadata": {
    "collapsed": true
   },
   "outputs": [],
   "source": [
    "# Function computing the sum of squared error between a vector of predictions and true values.\n",
    "def sse(y, y_pred): return ((y-y_pred)**2).sum()\n",
    "\n",
    "# Function computing the loss function for our liniear regression. \n",
    "def loss(y,a,b,x): return sse(y, lin(a, b, x))\n",
    "\n",
    "# Function computing the \"average\" loss, i,e, taking the root of sum of squared errors and\n",
    "# deviding by the number of observations.\n",
    "def avg_loss(y, a, b, x): return np.sqrt(loss(y, a, b, x) / n)"
   ]
  },
  {
   "cell_type": "markdown",
   "metadata": {},
   "source": [
    "We then initialise the algorithm by chosing some random values of a and b and compute our loss."
   ]
  },
  {
   "cell_type": "code",
   "execution_count": 9,
   "metadata": {
    "collapsed": false
   },
   "outputs": [
    {
     "data": {
      "text/plain": [
       "8.9586"
      ]
     },
     "execution_count": 9,
     "metadata": {},
     "output_type": "execute_result"
    }
   ],
   "source": [
    "a_guess = -1.\n",
    "b_guess = 1.\n",
    "avg_loss(y, a_guess, b_guess, x)"
   ]
  },
  {
   "cell_type": "markdown",
   "metadata": {},
   "source": [
    "So on average we miss the true values for each x_i with this values. So how do we improve this? Can we improve the result by changing `a` and `b` by a small amount? Yes we can. See the intution in this spreadsheet:"
   ]
  },
  {
   "cell_type": "code",
   "execution_count": 10,
   "metadata": {
    "collapsed": false
   },
   "outputs": [
    {
     "data": {
      "text/html": [
       "<a href='graddesc.xlsm' target='_blank'>graddesc.xlsm</a><br>"
      ],
      "text/plain": [
       "/home/ubuntu/deep-learning/cnn-introduction/graddesc.xlsm"
      ]
     },
     "execution_count": 10,
     "metadata": {},
     "output_type": "execute_result"
    }
   ],
   "source": [
    "FileLink('graddesc.xlsm')"
   ]
  },
  {
   "cell_type": "markdown",
   "metadata": {},
   "source": [
    "How do we define what a and b should change by? It is up for grabs. It's called the learning rate and here we set it as 0.01."
   ]
  },
  {
   "cell_type": "code",
   "execution_count": 12,
   "metadata": {
    "collapsed": true
   },
   "outputs": [],
   "source": [
    "lr = 0.01\n",
    "\n",
    "# d[(y-(a*x+b))**2,a] = 2 x (b + a x - y)    = x * dy/db"
   ]
  },
  {
   "cell_type": "markdown",
   "metadata": {},
   "source": [
    "We can then specify our optimisation algorithm. This is the gradient descent algorithm."
   ]
  },
  {
   "cell_type": "code",
   "execution_count": 13,
   "metadata": {
    "collapsed": true
   },
   "outputs": [],
   "source": [
    "def upd():\n",
    "    \n",
    "    # Specify the a and b guess as global values.\n",
    "    global a_guess, b_guess\n",
    "    \n",
    "    # Calculate our prediction\n",
    "    y_pred = lin(a_guess, b_guess, x)\n",
    "    \n",
    "    # Calculate the partial derivative (gradient) of the loss function in regards to b\n",
    "    # d[(y - (a * x + b)) ** 2, b] = 2 (b + a x - y) = 2 (y_pred - y)\n",
    "    dydb = 2 * (y_pred - y)\n",
    "    \n",
    "    # Calculate the partial derivative (gradient) of the loss function in regards to a\n",
    "    # d[(y - (a * x + b)) ** 2, a] = 2 x (b + a x - y) = x * dy/db\n",
    "    dyda = x * dydb\n",
    "    \n",
    "    # We then update our guesses by this change multiplied by our learning rate.\n",
    "    a_guess -= lr * dyda.mean()\n",
    "    b_guess -= lr * dydb.mean()"
   ]
  },
  {
   "cell_type": "markdown",
   "metadata": {},
   "source": [
    "We can then animate what happens as we run our stochastic gradient descent algorithm. Note, running the code requires the yasm and ffmpeg library)."
   ]
  },
  {
   "cell_type": "code",
   "execution_count": 14,
   "metadata": {
    "collapsed": false
   },
   "outputs": [
    {
     "data": {
      "text/html": [
       "<video width=\"500.0\" height=\"400.0\" controls autoplay loop>\n",
       "  <source type=\"video/mp4\" src=\"data:video/mp4;base64,AAAAHGZ0eXBNNFYgAAACAGlzb21pc28yYXZjMQAAAAhmcmVlAABapm1kYXQAAAKuBgX//6rcRem9\n",
       "5tlIt5Ys2CDZI+7veDI2NCAtIGNvcmUgMTQ4IHIyNjQzIDVjNjU3MDQgLSBILjI2NC9NUEVHLTQg\n",
       "QVZDIGNvZGVjIC0gQ29weWxlZnQgMjAwMy0yMDE1IC0gaHR0cDovL3d3dy52aWRlb2xhbi5vcmcv\n",
       "eDI2NC5odG1sIC0gb3B0aW9uczogY2FiYWM9MSByZWY9MyBkZWJsb2NrPTE6MDowIGFuYWx5c2U9\n",
       "MHgzOjB4MTEzIG1lPWhleCBzdWJtZT03IHBzeT0xIHBzeV9yZD0xLjAwOjAuMDAgbWl4ZWRfcmVm\n",
       "PTEgbWVfcmFuZ2U9MTYgY2hyb21hX21lPTEgdHJlbGxpcz0xIDh4OGRjdD0xIGNxbT0wIGRlYWR6\n",
       "b25lPTIxLDExIGZhc3RfcHNraXA9MSBjaHJvbWFfcXBfb2Zmc2V0PS0yIHRocmVhZHM9NiBsb29r\n",
       "YWhlYWRfdGhyZWFkcz0xIHNsaWNlZF90aHJlYWRzPTAgbnI9MCBkZWNpbWF0ZT0xIGludGVybGFj\n",
       "ZWQ9MCBibHVyYXlfY29tcGF0PTAgY29uc3RyYWluZWRfaW50cmE9MCBiZnJhbWVzPTMgYl9weXJh\n",
       "bWlkPTIgYl9hZGFwdD0xIGJfYmlhcz0wIGRpcmVjdD0xIHdlaWdodGI9MSBvcGVuX2dvcD0wIHdl\n",
       "aWdodHA9MiBrZXlpbnQ9MjUwIGtleWludF9taW49MTAgc2NlbmVjdXQ9NDAgaW50cmFfcmVmcmVz\n",
       "aD0wIHJjX2xvb2thaGVhZD00MCByYz1jcmYgbWJ0cmVlPTEgY3JmPTIzLjAgcWNvbXA9MC42MCBx\n",
       "cG1pbj0wIHFwbWF4PTY5IHFwc3RlcD00IGlwX3JhdGlvPTEuNDAgYXE9MToxLjAwAIAAABQfZYiE\n",
       "AD///vdonwKbWkN6gOSVxSXbT4H/q2dwfI/pAwAAAwAAAwAkAvzHv6EHQzQgAABRkkpUkmIiRmAh\n",
       "sP+ebxUt65SzxgV5BtAtfEw+/RTgAd48X43c8vDOKyJ16Rb4I57ikspKAdLwEk640y9hTBSnOt2G\n",
       "9BfCLxxHiE8R2vxbFfhlHsSYn/lgrj+csSHqPXWFIiuVSUakG23Sd4x/QuzaiGTNOsTcfHtp1c0F\n",
       "8d5p56QHO2NCvcPN3PdVxHR9zDztCTRMa1cvsz0Wia9wbxWyPEkl1uYb9aBB43hPouJ+f8RMP6um\n",
       "f0o5wMG73IE8znakG2R5y/6t1YxvKPyaHNAZYSqCGJi014nLz1/chjcp7H/KUay9z/UPhpfjrAvJ\n",
       "yVgG4F4UPlY4T5fGRWdnN65c9x7LyJEoSneX3LcaIQ27qJ/n3w//K/QWYnKgkwgV5qeTS99Ehhjy\n",
       "XYuyEC/v3VIq//kluFMfrJnKLDSZEOPHZmbGAZIrGbjat+UWueeDJMuyxxLvXwhOzrOUs9qYlMY9\n",
       "dr0NZYUcfP2rRV1u9s74001dv9PIe+rNvDBPJSz+RMZ/pcMduux5NMhPg7xVxCKcPqKcVjlrrc8+\n",
       "tSEWKK3M+79smF2i5bPX7NwnSXHH6tdmYE+O5h9P/1Hyf4CfPTRTR+ShU6dxFluAbwAABJA86aRI\n",
       "gd843UZ7qje+ssToqZbc0riJT6dGt3gmVEiJO/CZttqhLWXQzAL9PHOpoDwIY2Cq5ejSb25cikjg\n",
       "mMnG57z/ftkiewf9blcWiSwgOeg+NAjRlyP5XI/QFlxYmWpmlb8aCvb82QbjSqcoODwNFfvfSXY+\n",
       "6QTgaBSvVpv/u7EE6XYgU1ShP4L1o8UhHF+vQZ5kkkIjCA0Spd0+/di1C6p+Ysos5rzJe4dU1Teq\n",
       "oKGAg/atJ3/JhsPTXAuMyD2JTDCvVuQ8ozmgjx2dPOhCtLr824liKQDKdsBiuJ4HSpHVl9zpLHwT\n",
       "uFjQPEWEf43/bIp3+yPENl6nwbXWbxeT5ST+jUc2+ggIw68OGNaplkw1XzkzxO6sgRmgVSU3aG+u\n",
       "ZqZqfBr+33LmIAs6S7rEARvrbxFyKo6jJBlpIPUFIEYUasHoQM63QY5wTbTpoz7xMSjoa+klLI2w\n",
       "B5lhHEnRi8DkICa3drqGV3nEaErY1ieWGwjL8z0pHURSwUUFS6K+mBK06u/jj1nTd3cjpl5FgB8j\n",
       "qdvGvgraBS1zZJuaa0inq8Ds8Pz82TfdOvpjj3YHaLpwRCLI2/H7VI9nZQn5MapEmMTg6CJmQfGR\n",
       "aZ656FlTvlwgMcs5Ll6MMvm9N2uX29iN1TGDZMFQGCjPEi3yZ6m9m7l6agVj6GOyzm7qejIm6z/L\n",
       "ozuPOQvYGSLgmMGl8/3Ut6GT+HIHX51ManCj6kEE9Vw97IHGRPDb+OnX8Zy65IN/u9uv2URLgGdq\n",
       "hf7dOAOzmMErMb5i0MYrn03Cwhod3HRUe56wFpq+ZBn36lDj34PeHHIuqIpcGcBiYmjX/YL8zVNu\n",
       "9FlIs8GItVYNPf6nYg6TUiCa5ZLTncllXjxmq33OrEi7NuVZ2toL0ha9qo/Jqoe9ajiYn/CZe0kY\n",
       "O6oi/UgPDi0MCjjkyWwf1K+FTmy4Kse3TJR43dEDFTiW7Tdi120sUADIzT6D4HsZAZRDGBXqvIYF\n",
       "JvUmoSlmjA/hZ5a9tyNdILbo43wXwEweNDPYlaGeuxJTYWMVd7FiczptZbBs6QqRz9YutUoNCdJr\n",
       "q9rMzsgJs5/sf+r68UXd3EyZY/tSn8fX46okIj46fgxuoeG6T2bDcXemvT0owjdayjr6pRn+yZ1L\n",
       "8NITGUkyxAfYzhtdR86YdzNqZ0DqgtRiJ3VTSwEI6WOrWsCf4kvm5C8vSbffDVI4W4S1qmQnr+pz\n",
       "zqF6XgKmRf/42oP28wNS1LGzN3Rk35FgGUcQglmRkQZdeVMrFAlRo/4iBEd4aYN6GVNDm4K7cIBL\n",
       "mg1NFDrOlSX+MpjUpA3+2pp9qu5NdODuM8w/ddAemwR1COPRALdZXjret+vFFUCQdQ56keHC/0tG\n",
       "JyatwRE/1c63Vo98C4nnLqCsnnXe7vPAynMhW7erODpRlI/vuHd9bCu7fVijlVovo4D7ESUzhI/b\n",
       "GKh632rjmHoaO4g0XAgT90h7BRCmIH3zC+Qx8qmY+X87XV/iE9s26bRMZGhD3rymFFK9vdzYmZyK\n",
       "ycwMMVwLjQiR3TuNxd7Uvrg2XLcglMrL1jVs22q+HJK9g1bXajK5k4msHxPWAo7ZXyT4Ns5nQ7P1\n",
       "/wHExhDlrBeBttyKfCh2WPAaXVDnRiGmuod2lt9Mj1bE85o4IqKmMWDJ6Txjs0PGPcKqv4aQtpE5\n",
       "DsKk+XhOymU8+3/gVojl/ewGBAOfBP9Uen2FWyrOq7B8G4dvlsMQ9Q34k9YeQWYy0Vgr6cPnlpW6\n",
       "0/Ih4dnOpRtSVM0r9jX1EjIgtX8s+mytxqxFm4AbFLMHcBBsHsapJB/xodIThwzpVVY6eA7A2eZc\n",
       "66jkdt8GLgpd2rwekjASgKGdgiCzNDvTCGJSMSlV3oIAL8aaymhLzA8/ux2fclgPKlJFI3rJJY/G\n",
       "waY0XXVEoNftnve5eKQYhC/bz+z12nw/9KjoFXtqSB/38JYhFRIZ/e4WxWhDez6SIgFaFoo1CQ2z\n",
       "7rPr+8Z+rhr/m0tUkBEiGgskunPab+MFc0p1ldMLycrtCun9mEvRCxbZVn1EuhCVHqSxP0FThmqB\n",
       "ITTR8vW5G3LGgre+QX8fcLe4CRsQ39+q10zLT1jtwDtvlVN9CgF6/I0oMktn9FBvEhH156akN0m/\n",
       "u0IFUfWntiDUjII0Yk0teDBrEYbo4t3cKn+xEAnxCPbtfRZgq5x8S04LvShe08g0TnOoRxuKiL8R\n",
       "OEZ5B9w6wTLzdLXrwSacpUAm8AW6sGlufUgo6HqDELFp9u1X0M7kqP9sNx3Vs23EyLXFNZMGsJuZ\n",
       "QPtQw1Q8S8zTSNUjkadlvpszhrl2cBGBqBS4+w+rTzyniDRisPOgLTC8vHavS5rqh33O0pGjmssR\n",
       "sY4KtpuZ8Wu1GWLxrom5HT30dy9HPRIg9VMPCfL2YyueKVgFLVQESQTEjFccqJUULnTemrV9WRoX\n",
       "vEb8HZIvAH/bKe7bifoQ4PjlNyO5n9NAbJi3hq7k+Sizw3TrMLpCOvOvuEtFgsiB+MdHDiI6DWld\n",
       "re+7NUzFUEUxnol2S6e4Q+xs3YOHtySYNluFfgJlERfRUQxTGmKACU1tKUUTGAPTO3rYxGgnwT9B\n",
       "CBwRXc/TyEdpZ/FthnAFb4Sbv+YK0mD6d4hDI6BnXcY9POLzIj1NAUlBuVKeSMGJkCzAkVSCqsJs\n",
       "xlwFO7c+AAWewLWFIegKgGQgY7/+hYOB3aDP4KrNDP8UcmomxylqPaunzKSQ4Vo/BI+iaY1U+o4i\n",
       "D/41fNpkWYbkwCi1ux4wuIT5ATnMmIsxvapVZdbE1I3GOtyKL9ckEk3QvLpzs1HdKEnzsGnN6vNe\n",
       "3nIYF583To26EYspgZaPeWXeESPgG/P3InkQS+8/oub4YFS84oBdFPrq2LG+wEjaQbjThP0g8tEP\n",
       "j4Sor37aeRebp6M4+YyxDyWSeTEZmiNRh1acWEQZBvuU3rYLS+FBXCOEHSHJgQcSZameaYeTcCbX\n",
       "AFT8NHljPgd7MHyytw26h6s45u8vH8D67BNkqpM9VPEpAQenEALL5zscOQi6VkXnfwqKHqT7zwKK\n",
       "ceebmnBbUkKAm+Kv/4xUqsSoLQ6WyhV+Jzxta34/BZxmt/5RsegcPyQllqdgSDaZOEDYLj3/CL9l\n",
       "Xc8ciOZsx+TYBq9C0AP5gWGawR+iVWAE05nHH18a2nE/fWjQybdDlrQkWevx9TTYd8uXyN9kJ1V1\n",
       "w+Fsyvn+9n8NLUa6stOJFLtAO7FCAgJzQr1rGDPfjoFXFCiy8Whu/dQsFTTiE3WiQypfZDcMRwqY\n",
       "N/06+c4uQbVj2sfPwqBO4km9Q9vWbZ5Weri+BCJtsNTMgbXAO9XpXFXZ8KNxw+eRFkTbKmL3/C1n\n",
       "4wY8u4bTFMKo4OeqVuzELhEfc5TDkvUfAGW4R5FVdm+UZO+yxhIoNEUFv1PZBDt7jt9MVOEc0N42\n",
       "UaDuqZJpJsjqgbwOKmocJ3LqJyTmAhWqMTF4M4wvZuazvjNt1nL///nJr1LPlP1nGg+uQ3/9B2Ie\n",
       "HDqP7MRu/4F6YjFo10EKbB8pv/Pqvn/23WOqlxSBDlEOZHvq2FaK2MUY3sqNDbs4eTJb72r2/QtT\n",
       "/PiwDGjFfY3QuKy7m2vpAxv9Um/I0OZ0P2xd8Qp0bn4428+zjYXZBJwF7uCyKsBQxveshsbc6Awu\n",
       "iynDlr4Xw+kMayN5lfbDvWAF79x9iSRMQD///6O9PF8H1hbIygbFpG4RZdU2PDL/7JsYsUgzh+TF\n",
       "XkMcPO3dfztjoD49zGcwIhzOdeFBi9PFFQc5fxs8xgJYuT0lwzKbVh0mMAAz7x4YZ5uI6iey5qwi\n",
       "lSFL905PXeqNQ1V2a8p5PlzZqGl5+xVmwnWH/EhyhhuoR0FmlfInEoYnAWjRo5OYHkCil6JUjzIo\n",
       "2w/DiD7F+jSQCRrASlN+HjkEo+UEEaWWnxDZEiZKi4ACRruI0n5T2+L8vIJ14dUbpLgkezS6O1YH\n",
       "NNsh+ns4gENimR2R7wUSAa+slQhfUF4g/IVzrCXHO6MdE5xLMjPD+PagSy2Z2DEtt64DLI6N/s/y\n",
       "QB9IuqQpilfBUGZYuzh+dxDeFLD9zoCamSNBr4LNAvy823i7mxAmIF0cLF11Zwqcfu27FBnRLCnQ\n",
       "iAF5Eg8Sj3rxP3MNKGKUF7HaMDM+Dy+wmV2oYgGzMDGnpCM8SfWHM7By6RBYaSw7+Sd/+aNNLl35\n",
       "q8IlbgbNAAddv5sQEcvFhI3iLPgvSTGVXTXxOUnQfDXnQ4NwFfB50bEy8zVZUiy+gTY4SIclsnf6\n",
       "5GU/SNZsS7tGCLW5VMn72RJ+vEvorYzI/x2eBxN89y5RTbjMbOAzV2l63fooTFna67FaHcnaCXF6\n",
       "02QYLw68cFE5SvVmAb24Yg0zztFc5yc8bB//YZ10L0TKmjACVMprfAaZPmvzm2+raBZI6saMBGYK\n",
       "YqZFOdv529gcF2aGRtvQPq0hEGgRq20L1F5gGwgQnRtzGzTYqftAZi3fEEaGvZieVK+RQISyVgBU\n",
       "VZ9kSBdGKQjOb+vf/d2uonXpE6bbNT/2//2M2VO8qIW/LjIvDGSKG2FpNAjogdj+wDTUdozGWaIa\n",
       "FJsmHdgBMcrGlYxHtj+0PAnwbAdEpo8kMrpysH5raGNDyHw3gUfqK2r12gUyb/nPWf/s9pZEj/tm\n",
       "Pg6LnVFYxMNTwfSjDJz2O4SQ0JKZ9vZYyTVljVCy6LGxijtF6P6gzmIf652iWQa6GXOZ/qecrB9e\n",
       "P8ImdUFZbrIm03QmwLVmeNC01nsrZFfxzAAyCEnk6uEh8h6V9rbxQdiUR1FU/mVEMmJ0QqkxNBFr\n",
       "YP41DU6nhFkE4Rn8ey5rUg0mUeWeapMyvg3bsxgmvFdsDbckLaVnxOuEfL9DEV3w+mc6nhjK7/Wb\n",
       "H1JtBu7mjJfImdusXzb5Q54fa0x6iKjtKlEKCDmOyMiH43J+UQA7Fj/m5HP+aNpPcZXsk5F1PsS8\n",
       "8RWhyOSc/S4OLu3QDH8J6Cg7dLKBv7RedYz/Su5SdFD6q4pvfHeXjt9kkx5itcU5s1X2ZmvTYY0o\n",
       "VA4VXNzwenyxF6u4kAaW0WXbFE8pm6JDqlanRbGdPMcLluGe2awRn/lhLt16vujEYB03rZo6Nj6k\n",
       "2g3dzRkvjbJMk29cmhWl/mNOgwiisNloQKfbASNaZgNNVpQiqTssKb3mNkb9ZtBo7j7QfdEy4ilh\n",
       "NNizF0N17P4EL2JgkRRcQMf2Tj3McCD9dH9nzb7hDmn9CNs03rZKoHdeLH4CxzLa4gKjdJhX9uqU\n",
       "IFLJ6W23VtHKbL/XLNbKSZ1jxv3x+HhXr4YRc4p11fAV3uZhybLkox8d/uDPnhAw3L4gn4No/3Zn\n",
       "KgjdTrAy1/H+cnRvE/gdd2wii3BKp5bCECClgBaNxrH16nAHhD2o/TITOYBI6QZhNDW9GMtpqMJ5\n",
       "gV8i3cqmObXQfVqTOP7P/pqsftirYmobrFr/UzLVvXalM3IXcNPECjFIMnukvrDw+XVnSBpNJ4Mn\n",
       "XumFDn/OpKSRi/YaHu4Un0h71OmduzIGN2vWL5CQSWlhwLbxcEBG8cfMwpUV6M/5tZM+WCDLsnV7\n",
       "owved1pz+4P7zt0RwqKXPRCp7Gz2ZpJIMyT+GHUA09PyWWP7zxnBV/3JYzNyPK5G/4klIjkX5O5Y\n",
       "GwEwU/CvneYQqVFyxxB4LRj/vPr9TBG35l9w7pD9ebPg5Y+kK8uco2/guaG9tTrHQ4k2+MP6YjAV\n",
       "KkX3IGujCCCHm1ih8TpJs7rCdZz6icJSEHEcn/VcJfTOoC5gXJcXTUiZh4DsSW8Wii3rgs04uSDo\n",
       "iAhnCiGYh7BIuDEEEjWe9UQm1982gJKW0pSjHp/yy4XeTkAvNX6c0J/wFnyJHQchxoV4v9QFRjy1\n",
       "rNQPTolIixD35mBi0A/hETHMLssAwQwUQMua5qc3k5oku1EDwcbU3PQUcDlrqGjMa+onMl9FzDHd\n",
       "XJLxGFlA1kmq61S0e0hABilLTDm0gJKr7N4kaa23jLvrqmiSmkt7KPH015i2lgC4al4GwSPTKrbM\n",
       "y2OoAPkhqHpGgbu1b664bVkKbI4W1z9CNTsny1MvcljF3/Dna4lgMpR9/XONaAAJiPi9jnepKiop\n",
       "HE+KZuI5I1dr9fSlIsO5a40wz/amSuDQeA0PqwMn7TleDuIDk+F2sBvnkxiZDfsnz6diVRkp7OwA\n",
       "AOVPLT5wDMUaNssPeHgAAM6BAAAB1EGaIWxD//6plgBbhMvQDronN1s+Sw+fP+iXV1jkDJCO91Nt\n",
       "NuOSIr92kKYD9yG/xgCSsQ+ZP47kSSAq7H6z29f9FIbk12yPHL+ZSEgk/Gl/YxQkm+aGBTijw/IB\n",
       "EAydDhyIus/Zhs8PkNCykL5F4s3LJcOIX/0FHBtfl22hSDe7Do/qreZGGHXPF+783vELFCJ3/AXP\n",
       "gGgpaWeje+sAyd4hAiquATSx0Gm3JHRIQUW6bEjkwhw0wAy9R3jV80Mi+zpfqH+rkn2s0DGJNShQ\n",
       "w+o7Eg0aAQWbc05GvwQ91qnAS4R5uNue3kEUpATkJO74EjeeHtp4yoHpKHEXWoYtblfYnSiXl84S\n",
       "GiBHCxs8b02vNDvkcP60dQ8iXyBsdowJfsZgglB75i58tQP7KoqxTWMRwlTWlOVosaSlIPAt+i0P\n",
       "8moKXJBLR2HDlrfpkzfQRFQjeaMuR9uu7NHh35/de6ZJ0Ys9h4VUNcqk3vzXlz0mTj/p57y3miFe\n",
       "tWQY369HMZq01JVqG59t5DzA5+QHAlWurMQqh+3ut15nL/SvMlpGnPeBJrVMt8/DexrM4Z2+w9AA\n",
       "AAMAUnYQCTZBtpWLh5M2Qwdaj/g7aZu7sI04XdYal4LlbQAAAopBmkI8IZMphD///qmWAAEASCiS\n",
       "ulfQB5c5Ubuk/Cf/CM7MpRErpwGoU7x1K9t+DfVZzUDwQRhs7xC037u4Zunz+F6V5k6ikHx/elm9\n",
       "+xZb2emGCa1GjezeGwmI2y7IOUl6YxlI6/+DFntnjKRg0jMZwNUiU1/CD4t5HdK2Re3NMeVv2tLZ\n",
       "10T9ZQWJQaYH2LKnBjipIF1ChHeDuI//62rHKRAFir8FJI6b4+lu4B3Nllt/7SsK7VoRaD2bMSrc\n",
       "O6hfXXDQbI0rDvszCgDhqNpmA60mAODHwWNJEcFpYoeYvn6rbzBTRT4oRaiy+FXRU/YWctzt3b2r\n",
       "0rY9QDiiyjVk2JjnfSbqhYnc2NmKfr3622htE1m/2c8f1a6BWnRho75ex+RyiGgzmAXHEzw+yDl9\n",
       "TFHue9e+VeZ9NpeIqN12qL91jSMLZzfVlIx1ykY039CDHLxDTFJesXviT0Tcll6JJVNPzRAesWOg\n",
       "FLkWUuYqgKoCRLO8RkNhNP+8SD8ixLmRuGPJg3Bt0O8g3aTIaJXla99dgtsGXgd3uHZR5/YgM6x8\n",
       "vdnOCaEhVSwczhp34OqdxfnLv/h7Rk3i3V5hBMECPR20236q5ukX/K0VFxJyA/QM27AF7lyW2sYW\n",
       "Oc7ZJrkKYBDNDx92+I9ER/dMDlIb8xyUhc5hJbu5UONkxo6qH2EwWB+02vJpQ1yFBC1DIJF0rBvw\n",
       "4kHFdKPWhjvN0ngzxH8qV1Pdw9iLuF24w+VxOvMiusUTRDJ4ZZu27ZTi5AwbBYdg29BZx8f+ctHj\n",
       "HRSxAdTZrMgoa+cnASkQToUgukjU9a/7tMLGDWq+/jx/Vo1YIQKG2uJzBPpAUu7RlgLPK6lZY0Bb\n",
       "wKdUwQAAA19BmmNJ4Q8mUwIf//6plgAAVvnNgGxIbulAMv/DwqNURCV08Vm8tnJ+YfQfy9mkZivt\n",
       "+NhCvZWiam5AJhnFbclk8q+wOO+A58gnbOJHFKTZ7Y9vAlxgVEQVzaFO/gynRWkwV0pIZgj28ZMx\n",
       "UDRtOoJsJocSLc4V/E1OtHt60jkrpcyNzl/iK4zQS82OOBVPHHRFbzyMgZQawMt+GznKf+Ttfeho\n",
       "Tm0j1mpgtzryLMweXXMvxRbmYhBY1pGQT8xO1rBMEtQ3jagjdwD5D2f3lzff+r/uipN4d3RZOTxA\n",
       "ieZOPG5fIF8+7Z9vJKQZyiJWCrHhwxaBjeL7CgB5ZeO38o3I4OocH5O+5340wTy8UtCZg7m9RbRw\n",
       "BCZW+xQ1K3tNWZvLTQJzDHGo2+UdN51idtJW9YQ33HGzssozT2z0+crkEl7WpkDixLcz8wrL61Dx\n",
       "AACEZGhc2WHCVFv0uJkXB7fdGZ4Fz2wexHKsGKaLH5KujbgmgKqWEP9pe0MrQ6BFZW/jMpnHN8Hk\n",
       "Zv28i7GHRok9AaazqU83NBbaUPCKJk3pgJyxxKzQV5QNTpwmxVL8EcakiCWkBx8oCoagC9nWu6DE\n",
       "r4No1SGtyh0ceSA3jZFc6snw+M8arGYWHgQREozLaKBk/puZb73zo2QJMIbFR82yXb17shQFtuTh\n",
       "H6if/T5/B1Cwu9mu8YIpetaCtEPIx97FwkYj7fxzsN5wrJ5Owy/xj8z8PniHtXLDJdrzTeD2QJrI\n",
       "zXa+Cvg0DImTxfWVbCYiVHmVNA8PoT+2+IAItHjpYN3iT8ja+CkcI9yP+S6j/KxlxKOcItKt5sdK\n",
       "qUW8/TmVsRz/8C7dPLH23kGed8Rmy2eLaGYEo4NRpEa0UIzSJ5+DE6b49qH/x7L+Gx/p7V9alISA\n",
       "SdT5RtFN26uimNfX8A+cdEgz1fsD2yJ8xxe4YY42ZrnilAE2vrO0rmbyqDIOXDDZEHvBXLzTGohB\n",
       "oJK0IGdLEInv1IBgPQyLmvtD/rkQ1ITZmHSe9YIaTmB99bJphm19fO+1BQnixFHKcaK3WstsR8So\n",
       "2dBSID1ApjJPlrHpW4VCOoFaa+f678Q6XQhts67uXKB+1SH9/w4RGItB2Fvdxxm4+LHjXPKgmsBP\n",
       "TAG7G60TViEH9YvJOAAE3AAAAi9BmoRJ4Q8mUwIf//6plgAAykthDY7Ndl3UhG9h74KZTNUoABnb\n",
       "/h87/AAS1dled/JclWn9pEJtT8upzlDEks+RBrYdJuHTB8TL5Pmsp3uyhXFjguIuvw41q0FBvAgS\n",
       "t8rNGUqmaycRIWAQT1dGHsZVXZ0T3jSPv9Y4H6RiBG4pn9J7/Npvrxbv2cg0gFLhZ0njzSkhMyDF\n",
       "JcxcmX/86SPXwuQthqVR19gU8HeH0VZwkFPATHmsuYHf0tKz1qpWlxs6Zti5caJYK71vdn93viXu\n",
       "hbs3xF/ZorA4SD9AFEW/fVJf62rJUpChLv7KpdcJ9VQGYxoJvIwZH1Aycs0AAUNEkTODvtFjGQGB\n",
       "MtTxKvsIgjGMWaurRpY9GNY7DP8Epp0tmBJFxiS3t0DW67vH9drzeSaxx/758sFfM7tXIql5PCET\n",
       "Z5hkkNEUuaGGZT6sF1q4GSm57/wY7iUJaeoMu6YI5FHgiS2jbvQ0feo3Ht68vdRdWnv4SRg4aygd\n",
       "18eETfxFWe/vrK1ckRW0nwE0yFHUzyzS/lny6UIQdQ0HEIqBJlDluEMkTcKM/FKFlePlhcZUO1WH\n",
       "I2kyyxhhgdeOHt4LH/8Ub7eqFDvn0xKtB0MwBbhesdy8CC2c2I/ZsLc0J+bTsJvxJDn5XNLw3riC\n",
       "OczWz83MG7B5srS7e8gbwBjSgYLsnSbidyrykU8p5AAuLytKP2aTtm+qqtp9w2nbYV9WoZBFG4mL\n",
       "1Me9FKvDLGpBAAACUEGapUnhDyZTAgh//qpVAABxzuZ4YI2+XC/9Yv/320H86On2GlDW/w8MlAA7\n",
       "S85KkbrYDzsch6usVly6Sn6LLOUNtl81YkmTcfOMLNX1uklsL7BTfvzJ6pVCG8fpZUnz9MYbE/L3\n",
       "hdbDA5WW3nqrsO1OdnmqGgU3n7MvQwO9oQqCcrWdsIhxEFXk1W35wcSr5B8/OL5jJ2DV0WsUC57E\n",
       "7I1xP3/u1XFQ+wljGtPaJwdLLdzPI4JiAiCbL/xW6uUgU8GvnY8zkh+eSutrsDX7qzxVkCJ17l/f\n",
       "IWR0cDGH9NFI2JrwtpFykPlJrV+oa8Rw7rAeG0DK5QJDrzAQYRZ9RfYrxsSIA/BDgZzaF/12iKib\n",
       "dksWL3iRK1gV1EmOw52aF+DmivEZNcgkjUA3pkQWL+jUDyvXHOcvxlQ5S8MghzLTFXUvaQi7InGX\n",
       "Hnd1/qCLI6sP7taleLyoBXJ0LzR7/NZ7d/Q+jFKx983I4fjpzEo+GMEhDWCHGzLjlvEe0kaI26z/\n",
       "ayhIZYhDP4mcqk1JgcwgssBcKtd3GwLJhuAoXdZIJPpEOsdsMeTvzbFnrVXGN7cO2g782oVwMmLW\n",
       "9C2/vQfeIsUbHVU8/e+QoyiOJ9K5z14aYwySivCRgB9E0OcZKBPT9nYWVJuB/qbzlnMlz1Yim6ug\n",
       "P6CevgzjqcQiO+cgd3J8l0fp9qqkMoxbDXOfAWK6NGkz0D+3r++xVsReTXS80cUj9G28fXHCfSxQ\n",
       "LRvy4ZaoNgzbn41zcYQTvcW7iMvfP86GgImGktQAAEEjGVEAAAHFQZrGSeEPJlMCCH/+qlUAAPQe\n",
       "Dh67fCI4hGGa//COiKALpR8lOq2Ecvnpdxkw8Evhd7lDroAlDLNQSlqXwzCiOmOo9hjd05iceof3\n",
       "+xmogjA2Ejgj9tMgfcMlwBTw7rvqlgNtOM57YYbE8sd/UtyuWM8LiKD6bLPimFgcTwGF5ofu7KXe\n",
       "3yocV7vtws8tRteM4Dhl+GmEaTM7285AjcZ5c7j4RR0LTp89aqUSpVMzJUqStxDls0wi5AIDl676\n",
       "g2J3ZpCpg74CZY3APx/FnSImL1z9CUHIz1abAlXq+uAAhxfDJcHAW7wE/hAoIh4sMmB8kGtu7ZbJ\n",
       "ZxHQPT32i3vMx6OmRPyX6P0fby3pKYOfUACOmRXqX+9GA7VhMw+2K3BoJhiXi7lQZv6tXgdI7xlF\n",
       "oeAf1kVyqver2JX6ZwDnp++09P9X6bj/iVFS9+S7ov133cg/OLqdVWyIH5WOXivji+DBqdkoT2r4\n",
       "mnTDIPrELHSf9Jxt7hNebcUTv0X38P5YI+SFICDIsVGcgka1794zT9R6dl1mQ8slSZ7nP30Q1uwM\n",
       "PqLOxRBfP9/DVXsRM/KA+gF5P51Zbyfmu6uVkAAAAwDezDQhAAABp0Ga50nhDyZTAgj//rUqgACE\n",
       "/66ISZDvcCjV6zHGsxnHEk+FL0E8j5F5zJ45ieMceSCAw1T4KqKMD2jIbkcAFj0VeYieLicrQRnX\n",
       "u5t1zOh+34ISyxrqRIGZ2LU7mk3f7BjfTU/hhBE3kEa77ulNyeuxp5IWuwz7bfL1ytR46aWaR+Pi\n",
       "NveLSyA1LFa/tD+7duSzwG7gD8p4TUnXVYo1DTqcQmej/lM8GGx13IOhdY9Yv7CqJ6hwZgdcpJyN\n",
       "Ffb7Uc+atPcyj1P7KWhGZbuQmjmU6VE0louj/+n4DlpXgTx45xlobuDrRfdWH2Cqed+3UCAhWwfp\n",
       "uKkKnxDTBypQ7P3iA2zaA2lAC34VhXXpqibdViDHzGcr5AVUt/SDux1Mca625x9WJiVfNAiFe8hR\n",
       "921TKzdQy0At6XGMrx1HrziIvhjW9WUpuM77+GcoOQ/zo170Ve85/sqbvbh5+tJVTZ/01HV/322W\n",
       "IWLHMI0BnZ6eBAgiP0ZLkcnZpvmI+u9QONy7cmohoQpMvH/ktb17g9qgoIbEEnI12aLSAwAAAwAA\n",
       "AwArNqiVgQAAA4RBmwtJ4Q8mUwII//61KoABMG+QgAqO2w6NZgZ7ENlSDv/7JGFOj3bF/wCC2XTO\n",
       "VMvl17YStDdPgadVv3VPnj3wRbgvZtfueSfZtWs8XaqhFhTkuNFrgkxiLVl1WasR/5OQzodkoNH5\n",
       "6Ad1Rz9Gsj7BmwMyyKXv0B1SfVi3nrmwBxl8BPEh18Bc71GqWFtISu0ROukf4UxUh7iqQ5nymK4s\n",
       "5MkZ3Pg+9On+RYuuX9t4EsZM1763Pf/jQuylERcgm0eJqjiQbVOZioC2NKi/nBPwHcPiVCabPyxu\n",
       "nZH9IupRmyA/6kvccJQQvKM43c6DvRPn3cgAq+rOQvIcb+9+tZVZzyqSNRkk3PMwsCdOwERvLqG8\n",
       "naZF3NerjhPQy2rjzEuGjyc+4zbGf7f1hMN3+dkLqbAMYf8P0IOhDN8BZR2PoRuxKoseoJ9917hD\n",
       "5hWWWV4++/LSNMpB4LcB8AMaJpBNz7cIvzUbAHaJH8e+2Z/tlWGzElm3MrNqvtYZKmESjA04FuiX\n",
       "aSW/v0S0juJkpw2r/YVtijobxirdOF/0Vwr12IU8RQOPuEzH/IClCrRQL0ZXCxJme1uDm1FUywyJ\n",
       "LccwgL8eoe84lkohgmgCZJFbXcAs9adzzhcd8xv4z5fozu3g2BDKv1GuprN1Il1BlkGLJAm4mtR9\n",
       "w0WJuMHXIIlOnQr7StHIlMGC4RgsaPLiV1cbyeQI7x2TncFaQTYJkaa1sO11Kyxhj0NaVXJ4wIpz\n",
       "FP+jLBnVvH7Eom6VuEb4ItZmoqR0PvQADU2fWhCbeeoS8HtN8nBZZTxXwf2BioooQSy0wMlyQ7/1\n",
       "sUo1emTS9whpdgvbpaEzQXdmtKPs1y4YWrVzW0rSGO+8hapQy7LnZtZRpuPm6/86wVHqJh8rOEQo\n",
       "wdemlHJVUyXdDaMdRDwo0ErQEDx41iwIKut7ZBJE7CBnsjex5aJt5TK+sLvrOnuoB6XWhM3rNZeL\n",
       "F+WXszR80cNTysq1m29rf5oe/eIvoDPao9OuX7yd/877neNLJrJmurzdfxQVkWNaNL5yyuDyPHbc\n",
       "+mdeFjhTIWFkCNs45F5cpOiA3PO8jzdIUQca5n7eooiR09H1lUDBecpl4yMlI8TXfpdbZlFpADAN\n",
       "maRb7cj9b/IHqtc+Y8gIqoxmVPO8lzsx24605tUW64U2PIZwdo3vLbLd2QsSt42UArikPliVjPgA\n",
       "AAGjQZ8pRRE8O/8ABKI/rzb0aAEQaEx/GJxkwF1SsbMAzlRi/ClsqdQ18GNVP72jqiBootPv5kbN\n",
       "NkViWf/qH1YquRCVBGo/dlvhTisWzMsGYXb5D7XXI1RV+7DPwDiQwxeSEr8BJ+pg2ISqNLpUaseG\n",
       "2OfOr2yB63OSCXkBow4YNAGNMYMNVZjUL7p3AUGmBQDVSbxv01HauagBEfPWmlzK6V9Dqu/c6lDz\n",
       "ZYv0TQxijXh07Poz2OTefYRYz8iMuZS12f+WixZMXIJGy3B1O1ne3FtUBwngFw7uQ+HeFRFVDwbZ\n",
       "T+q5quuu7VahiZDYnPu2p6r/ka/OARvjuNOV+gZKraPD1mU9wt+NF14jJLEe5ua4+rZJIU7GfH6K\n",
       "1biB4XA/LOyx/x2mWM8VWNb//5gkwfIiTJt+IopdY9oFSicOEjxU8Z0H24wLft1R4Gbr0zjjYOnw\n",
       "rAohEzQ/r0BCmxGUW+x8Moqjq10hJDfbC/3IN6WG1uge5Z9e1AtaR8VYsIZD5G+wfWHLF0zQW1KM\n",
       "h0QCVDTGjp/buVedSWxSwolqCfuWeUIAAAEbAZ9IdEN/AAZJCZoL+7hKBhqH5GJ1bkzJcAJpn87Z\n",
       "xTE7PlHVNs8j+ZySRzrhkIYhh/7KeR0wF2tHr4LaApeLsmV8jIYN8nlbAuboPvmVctqY3cwdY6T3\n",
       "HOTrgh5AmMa2Ztn8495WUUVXw1yqdYCad8kPkKRNd2ID+ILqDrDFJzSIJ9aN+s5fbm/B4GtmTbqm\n",
       "08IfcbTu1QmkLhDkU9Zq0UUky60qrCs6iiwxH3MUG9RVekbn84yZd24xO9BJ9NKcg5LAX71Q3URf\n",
       "JO80yqMt//MGk4ZX3AKg04eSvxrJE9ucgau5DBVkxwLor/O2qsB9iLQaaEQBhWA4ddCeGyFN6uiq\n",
       "tVi0ewDYpsQ+U5qOUMUDRDwDzdMxs8dhgQAAAWEBn0pqQ38ABplMBeAWTLpe+GURq+yMti7EoJjT\n",
       "JZ3VKtcbABDzvw6ocZkytVf0Ev895/R+k3tlfjpy0FOD5JC/D2hLqMT/aGMRJzWfEZMsWfJAZ8dH\n",
       "7RrWmLJJd+GIVa7XzUalPNAYtij6oh8e6aZZetMVhYlBGatCCirNfyBu3HKD4eMQwCow1Lh4Q8Xq\n",
       "oDR39swAQM6ukH9QdYw/cvRfyPNfcI2DEogsqXhUhjqj0kCkpM0RMwUJcIYS7ZrwMgmzlZb0YmR1\n",
       "bRwx39W2Z2oIs1t8OUBUvYOzO+zArnI8NpwPA5VajVi6cKDIiEvLZkJvtGCQtV56vU8vlct+2a5e\n",
       "75+lTvqknm4OWLMw+Br40+g5QcX4FBEcIjW0KC4VjB5tgLNM2hQBsFEcTQTohmJg2Zmhwhf9kOU9\n",
       "sPKnlY2jIQLD8tOcWp7d+IcWpTI0fMD0L/9w+9wC1F2buvEvmZeqQAAABGlBm09JqEFomUwIIf/+\n",
       "qlUABQL+rYY1mPE3NYAbzSoygyawE4WyeuVrjKiugqdg1ls6/BSBDomZSXhPsn/XrNpaewJITN2k\n",
       "20DGIHqrYQTotJNmFc8k9ErolBLEGd9ilbCV6HehSHdZAfl6SQsq9s4UyqoU4cfHAKXoWl6l8PVg\n",
       "NJEulXtWe8yzBeIiDqzo6ICf35mqUlhhkMiAx5fTjCsvhNgn6zVIy0yzresrEdxeczPIn7qLVrhz\n",
       "5/Tg9r+rAvuzBS3nH6/CmqfliX+UxZpfgW+dvY+vX1wvY8/4VdlHvna8MbAlBU66g2gd2M/mL5VI\n",
       "VObE3jdLzWehZKbPjfugGBrdpLlKWgmNs8C0SG6iIGxV3CWKsM7Qg68mwHpJudUv1gV5mASIDh/0\n",
       "ij77jkawh9aiDHAGGPZlIojSK1hDw5ku/SvQ94//G/wOoQL+waeywiv3Brmfh9Xl/yQj/UCtIQVQ\n",
       "WLNDL23aPYNRJoKn3duga3+XWPSh4nC3sQDTYoyA+WLP0j/JSwR8WR4R128Gd2N2WQIw5tAsXxri\n",
       "IAPKht3L6raXBY4fgXXTD/jlzyYak/Ri0xo07NhRLvFOdUWIwWaAIK6B+GZbBQt2xozfA27o2a/A\n",
       "gL1oYR9HfeIW36ZEtd2Trv6d9MfCoyNuqkMfGheLDVGjQ8lb4SMZeUN6H1wl4ZrOtl95wn8k8I6z\n",
       "TbMcp16HAj996VS3qmYa9qBbKtrvU1rguy8WoIH0TsN0BJCYOVCJ6yhfx6eHtFb/Id1eNAuTuPYv\n",
       "FoiN65UgXfRb9dZIPTjDy6rLDgqHwnDcZt5JDtSaFuUwI0bQ2sGAcB+43ABlNimaaxJO2E6HU9Bk\n",
       "m24w6SV0VHMzjfux2TfQF5n9UNFmOJOvt1kx3QtR5wllKrik7SrK/BUF3aprk7mwMDaCBYvoQN2g\n",
       "09BJYbJSw6+jo52I+0QYUTKWap8/qEzrUUdqCUziBHUphzT5PScc9pKjJ0lK19KMWIxHl4L+hDk1\n",
       "K7SSbYnzYxSjarGEr7+4FHjVSxL4E4xiIF9FpnCmwLxPkcx50z2Zcxrp7e0NmXAZvsz8CfdNq0yK\n",
       "Sv2vkRNwI5tBvtFEFIqQW/CwRvwIehIlmqUrJu4Lh/e0BgF358lCUtN9K2vA0boGjQt6PObWhkiD\n",
       "Uhv9H129iaeJe5MQ6zlfQEpTJBGcnSSMvkr2RtNk5pB9rMZ0vmuVgxRmxADRYxGbHOeUMBXtv8Ac\n",
       "TcJkzaF4YZS0zzNfl6crKsZFCOXaKqxKEnLlkEM9c6NqxnWcVAFBx0jG2Br1HxfF1KbKTNbxNHM9\n",
       "nEvhGO1OgHytck2OH8fzLMcwFOSUyNyQTqZa839PMqb6gzPdPdtuLfhWhdVCJnyysL+0A00CWgwE\n",
       "WdWc0TBzktsouL69XhSRlrCBhVfntCsMQTYJhh0voVMlA04R0rmSAMyucuBLGeP2YP3dB+B5zZEC\n",
       "LuPkv2MTWe8hv8KlLAC9LPt0icv/k9xqxkFrF9Xc6w7oAAADDkGfbUURLDv/AAnEeLWex3rY/XYt\n",
       "Xs4n+0gAB14UvY3bWxEBT8ShrzqDYJEaznDlbwDylhqJDpMI8ppZfW8OfKuySyOLF1XqyxUzFMDQ\n",
       "7hP1wBbr9OLeZer+Icx43+WTWPdp4+6HtO9Cvtnm4tssF6faq8MXEqS1qIoay3n2VmaaXGKaVUDo\n",
       "DGXcLqrochT/4KPLt1Ptg/Df3J9j+JNpCRCcaFA3JlMlHBa5DzUYdLCUjFe7vdABznmBMEmOUFTs\n",
       "NU8mzIZyqeakVVxAlVBklTUZnBmTm/JHG/ndlR/WncTgFFplphRdzYeTlteckoIufWhQ9WmQO2kF\n",
       "dg0GYvWG5b2gnxUxbtePbDK5YFvZM2Uv2grQ01font2EMuzA/LePshdmv/d0PrWNuWs/rXIcvhEF\n",
       "v6VHp9MtJiPwVpEgP2pVWeF/Hb969qRG82DLAD3W6whGTue0jUlwfegQIlc/CSGH5+FBCzTBeoo7\n",
       "tZj/SxKupesZdNY56RCADF5cz1J8OaJA8O2+IRMT/RP7a4qfY1+yJfVXCFExu8Nk7leU9ALxIYv6\n",
       "cYlPxzRVbULhsDCND5CpZkMFY/jz/UNV8TpLJgO712PDx1TSyKzmLwI0KQEaKOV3h7Qp0XsUvWCi\n",
       "BJjl/wKyji+ACtvKY556xpshXim+RGUtxKDg6acmV8hHDQt8l3i9WTsVckuPHIFaeTqFH1CzCDQ6\n",
       "uUQg2iya6UOD+DhL9kVBdn25Pn43KN96g2j0cF5S1ZqEUxM/RvETVREcsjrrsD8U/e4M2hwO7NCj\n",
       "2DIt2T72OJG1K7KuWkJa5PQgtoqKfrvFJf7cpcUrx4mLHB9o5BET/TTNP/M7bIUk+d0TSOAyo6va\n",
       "RyfOi4bo34Xj/LqrSS44vhclTex9juPruI4tgHVdZFdVWbYoK1PhHOMp6w0DjaiNZU/8bUqiocrP\n",
       "dyETYGwO5muWHWY0YdyPIEMfVqhdvmDBPNQr009hepZMg9qD7k5svX1o57G5CuqJzqXXbWzXskYh\n",
       "5Y+/FrYsEW/jBGoSshGwC0YEnhx5AAACMAGfjHRDfwAN0hMwsAA166izBAA5ru9DuavtfOSD7v8x\n",
       "5WQMskqavoVp2Io0ZDQb255cTI0dJPwHTw3TXs3rZir8sVDDSMi1IvGwbP24uywDqSSovsvlTVQj\n",
       "5+y8eBfIMSSCEbf7mSyLXHTI5relrBEDlMcfCTqcYO+9e8Z+9s5WITR84HHv4XS8l6uz7XkWU9X8\n",
       "rlzlgz3EMTYOnezGtVP6fdWaTl6jb+qRbvtsqUJw/I/Yhx1hskZJouhNZRHHOgE6GVTXcWx+ogVi\n",
       "wmVVoIjHkbxLYa3v02ZBwDEmILLIW4zd0/xDQgz8tdbi3qjs4OPrDz/SoOsA0JKW36O2uFLgEq27\n",
       "da7RnX0X8A8FbptE2jzaOIaErjX06QsypRF8KWPm5hhZ+TaWUVk++nETfS9FKQ/PYpNNbywORzAC\n",
       "cDCUGJMFnvrDVKHy0n6UtZ3bcu5ROCpSSWyC5zBPDVQDmsO/S07FRmAdC9V7zlv1nHboXRFmBv3V\n",
       "oC2sUFqSpgrNjUqnaZ2b2g2EwAEQx0jbheaRiJrLWFr2R803n9bA0QOkES2f7rm1y1iRbVJ508I/\n",
       "sHPFTNPEqfznVKgfNm+uPIvui/M67uLd5Lto+hoM6ewWy6VZ80WKztmf9Lf3Y/yxGIeWDaw64B70\n",
       "SdIbBCR5nuY9Tb264SSh6HCSZkWX6L3Z3DfasPEf9rAi9Bx15OjzRgr9ruepckNCrZdUjOHJD6C2\n",
       "w6F/lhEzChV4hm9HRwkFAAACHQGfjmpDfwANyktw7qrJAAOvqw5bA7jUqc/RrLGt68JSfe77P+f3\n",
       "6r1AQmLIjueTVe7D3QmF3GEgMnLg64sJ4A6SSG5ZAkPyCIeL7P8mQkw+4f0m91WLeIxlTB67yJQz\n",
       "j2tjNpFzeaIG/JnrhhBgdc87SFO7yqGpMcl6/GU3YOPt1hwrEsJg34La8F7kV8TLXbwxy+7s5qHh\n",
       "GbKrQv1gNBDyX761PFNgVoYVi6V/Kxedz7NdzmgiJwTNozecVF057YY6CBVR4VkgFiVrQr8JNtVk\n",
       "/uEB7pPISK39aLoN23NwzxKU8uLKifWwxBO+R7XINq+ubhqmoSCWiZUhYzyvPOL3zKmEQUxwm/Eu\n",
       "XvyiEakXzBjhS3gKVQi2QZUHhu4gwgH9exXp9N8KTuxDfZjPFBPfU32qwkEFB9/VzDLfK7KO7vtb\n",
       "Gkhyj1D4V1HOaJ+SoyD0k2WbJzJVdTZdLt6fikPf1QU5bXhDa7yyPhXkSf+dCTUVjfAUxboakykg\n",
       "707jPdYBKVkpVoEGc0ev9yvOhR4hVXgFyV0D42wPT0XIJwAN8l+uWvf3ALnkxBzGPQ4QSxX7Lgtu\n",
       "Pl1Zq38osZpG3alDDDBL5SKNJqLQu/p/V7XDzxBeotf6G/RIDnJ8g/binHtEX7XVifleXwjZC1yq\n",
       "LHuaRWfV+jFykmtNHrRjyLaTGbg1D201xliBEUQsPLajB2Z/dFiGXGcWaKq3BI0AAAOlQZuQSahB\n",
       "bJlMCCH//qpVAAUEMuwBVQAjFHXgPyRdEKCtlG58lmN7BdtaiG2+ygoZKo4SShaIy09bXduiaRRt\n",
       "pNs5txxDof4OSIfu+EvRa0hFMvCvNSNo8tZOps46xN6o/yBhaRRwBH7eRiQuYAq4UpqCpEkjeeFo\n",
       "WFUcnvD5ZW9YnzGzlYlkvhkQH7F/iZ7ybhqEJqbAcrSXneypJlbt5cF5PXqMyEBBpu5CF85pJ+zC\n",
       "mO29iORPatuODNgi8JZqKTr5ZtXMksMjLdRFyyX6Xqt6CDrVLfZdhnym4MUSv1s5riUNk3J70GKf\n",
       "dQNv9HrYAooGUsrCRZo5AgsyUETjZbRU/5gBlX8n4iYvt7fetBXbFNmhFeJ6yAsCCj2ls0ZiBiaU\n",
       "/sGaceJqFO2yNIyZyBaY5mBh3XYKktdtdJmkaz7iXdbOeSl6IHcF4mbxfyL6FiQd4tVk/q8aNxKa\n",
       "K5H5MiKBRfJxX6BAGb7TRPg3CfelDBLyzlCLdpjDs5LtfzjY1tb10S9ruU5NFLVXZQi9Nc+NcwEY\n",
       "lHWgzQ5BxI8oTrPgcyRqw2d4kscrp8R0ZS0iZTN23TAdB90Yfto1J5JR4eH6CGfknU6uiFo9IUh1\n",
       "6HccBXiLoUhXRtOc2Zn7ETq12h6PpjX+KkJQ28D4eNpBA1nK3fXzG4SNzXXddcZbGy9+Xo/+gFL0\n",
       "n49+lyBOPGy9XC+xu/dwPlw21yQYYw4Qw3EWZOtMLiTpukPNBNO6FEK6E3Kahwc/lFQsOfX+INpd\n",
       "YuLy11pc6Mqrb4mh0+D4p1GvAasbe+o9nvg/JVkO/8qi19RTQoqyZjPe0EiqY/1sWcgFT97Or2fy\n",
       "ljavo5GX5SKML0fgfnTyZh5xvSCls6nce7p/+yu/uQb4vmdSSukjGWsNjMOXYzilux9m7HOPu20Q\n",
       "tINWVxZW64gzE8FeHA4i1NdbxlXctQ+puKu0GWFsL3repNVzO69aZkaVGaSGfitjmG51pcgUQIcb\n",
       "k7BX6FA6fCbkGren2jnSVJVY8BEXol1VbujqNs6D9Jz6SmCStzOiNTpU4XWeVflB2kMvv/naFbKs\n",
       "f189dwnoTvjYBB+WqZTGItxZMWGHpFfWQ78CUjiFMAkbZTjMtAUx7ILc+JXQBsgBGqOOK85TvADJ\n",
       "cEwriGmNodvCTWQpyFBgJ44gBgR6RizBFDMCvBWZdhE+Iy3Tc6I13U9BScnjsTqeN2v0GDwn9rgl\n",
       "8v5Mnqokl4g96Tm3uihgAAAFTkGbtEnhClJlMCH//qmWABQZ6dirwAsMledup5hHJf31vCKMB7Hs\n",
       "pUdt0dT3vakafFU73dMwEbE6IeIHp7l9DMvw31kYdPW75LZqfN53V+PFN27fcQG/11C3R3IHs85r\n",
       "DN+brpLEAeEV4JjVgxP0gI11pGKVZ4qrCblujpGiOQweR7w9ybgeHNKhvCGiORBK+v6pgBoRyZca\n",
       "nPL9Ht6UGlnLfHot3xvk5JQbq7qiYi6fgrIgxhM83Ki1qUue6CaNOzqLjYoZSS4J7oXL5zLq+56A\n",
       "cXyNotoegplQwVoOckuOyrlHmts4RpkbUdjjwQtLikDr/noZ77BOBAMwB8bCliDTJQgMnXEbKMEq\n",
       "m5v//AGKmQyaIVbPD5xzv6nDuO1Ci4bdC5/kix2yIkmMuFR+wfD+6+EBog//V6iQGrFNHxn8QGMt\n",
       "iAXOR4bAa2qpyw0Iqn4vWrPbLc+FWMY4w8D+e4S3tmq/xrfYuNvN4uxZjWOfq/pTIn8FK7nMzIj4\n",
       "xxlW9VruWe4V4eBmiOgcxeWPRexjdDEU17V//JwJMyYPUFksgvbuOBU29mBG/hAWACJrtPj0Ntax\n",
       "/tecN6e7tZHmPhDl5JE0hXLoScWFu9al42QeQcj45kqpRRn9EXCWBMVe9Djx77mvyO7D+QuJiOUo\n",
       "Qqkqp4vKuzqlwOvPG6Ul0+4BRA97zYyGGVlYYWkjewOwzeG4xqb1cAJT7LFoPP/LSSIeBuKpMsyc\n",
       "K2OBKahgpzWHT6keZb3lu3qWWfiIBEdnu3GdLc12FYzdQAxCVTfD0cOYSqLaXB2elO1uJZgnyrmu\n",
       "njPWpRNCx6Y8dV7Y3rG7fjkNP7HmIK8QP+n9hpURDz8c57KFTHjcpQr7lBQ8cHGT46CBDngRxoQm\n",
       "cX8my82VwDwBLXSkwBzkw8MXlnsgK7HmW6AD21j6Ef6ivQtHQMzgiqPunSxSCWvqgljPZqFokpgm\n",
       "xeVrcf7Su59jqiRqNwE7z+YQc8ni3LIw8+q15IqOS/FjyoKJWIrcEYgAAXkZwJB/t5q8MsjWCF1o\n",
       "/Zo68FDYAMwdecQsWGha1ymCqziCWx3mCTud2z45u7wIVRl+YTXssdgNv3jqoeslPrhDpxdtaDeH\n",
       "II8a05RcKNMkTwJHeDfs9m+CPuTGXu2f678YsRdd+ZN9iYNmXhT7C+GhuD6svecSxTV4TdmJJgJY\n",
       "n2z/nIPkjIG6ydHLzjOS5pNtJdj7O+YDsLDTzG7WqohRIEPjySKW717oW7gBS6mBKwX8lLfZRSya\n",
       "B+wZnBfbeO0d4HdofQjxlxmUSfbeRDtG6uw4kxh5/ih/1vIZ4ELKp1aQEGqe74LJgUU3rWIKNuXC\n",
       "2gWCmDB2z7R8ujNIiclDSK5zram/twy3L2DURpA9j/9n8vtUueGjh+1aD+N8HwfegL2kOEX2NAXV\n",
       "eXaQYovOwKdFAtKp7z7ZLIQpXi0jX7VNNTW2lT9+XgutUQ8NFGUKUaPm+LTBhciSuOzxFHPg6Jwn\n",
       "IF7Sxp/cRy8TovM0eZaQwr/p4IT2uAn4Dyb5Tz7/uZ45HuLc/k4+ueSxFCfkmV1RXK3YK9HEdyD/\n",
       "gJgNBkMEXdx+ga7lWYADiCnA1ZbdHdPVNTB4IHC4urW5cVb7G2Ep8JuoxWCa7zpuN4JQKL3BeUkb\n",
       "rFxHQRO1VkecAat5voXUQT4IaENrGiW7tR5TF8AQ39Au4/EdDpEmFoFQdkVX7cgsPAp0KKMru2lN\n",
       "njfA+OD64I1BGF1LVJOboX6mw+clgn2Y6KYAIYsJYQD2x4KvfrlcTHuw9m4cj93qH8ChzwFIf2w6\n",
       "BJoH+MAmg91bAAACTEGf0kU0TDv/AAqasNNIgANo0/fmjcRD2mAMC2hs0NvA0FvWKKAt1La38lAt\n",
       "NmnfWQ8Xnjj++dBc2gqDS4ViCKyPPdMu0je9fnzNjI+wCIm4lHZ5ug8G3Q8D6S821IMEjf28cJce\n",
       "y+RjWOF2P0BPivIGS5Awzg6xdw7Eq7G7y8JkeHBmDZi64PJBD7D8vHXqVz/NG5hL0UaHVKv9dEmg\n",
       "//Di38mAqcPR5UEdfNCwOz2rYRS3qKqxokLg3+r3qwVEep2mnkv/BxXa4d7TZrPEE/x/9vw3OYhs\n",
       "TS9cCpQ1ltqUIs3sohzJUvgcyLKkF8qSVcODb+Zia40sd9L/YC13LzXKL5qJWnopuKY9icOLITAM\n",
       "AzQjh5VNveaeoHwatgaha+aajX2OWVRmCkOaAfIR44RexQ4owyF9ewvtZXiFoPUe/zbqVe0HwbPU\n",
       "MLovKAPM7gqJf+WG7G02uP7oEtavio3m0vLNFYwsj8MUtWVRNJiKDcFPtyPs87yt6okK0MT//5QF\n",
       "Lukqzz86mltboRTlVPP7rc3j/Mr4a4cXdv50lwOudMhDrSlVGqaxo1mBqEA533cPz1YRVtJGMZYn\n",
       "aAguAglhpxkj7eacQny0feyan4RHpy7UQcZ9h2HG51kukkKua3ifKxo0Is01Ya6uoGf0KStZC/kU\n",
       "oCfI21qQ5ImNvvnBKcOyFVYvffUXPKMLLqlubeGIkuwxKDiZWJEYlpugX6xCZ0S0qIm+vegpkUue\n",
       "BBOR+boYLbgA0jn/WuucY1h6jor1zxdrGwdUAs/gEwAAAaUBn/F0Q38ADtn2Bw14AL695nKW42j7\n",
       "9cv96uqxxSSPRUxl8Oky/amL4IAE7Nr/0/McmiCAc0NIR8Si16sGkz9ttmIIgn21/5+/xtoA5vez\n",
       "KJMMDB+Lomis5zTdY+MnNeJMjyhLcjr0KCODnbc4IMYyIFZVIGJ3YFffgX2X5u37lJkDT220sKfe\n",
       "fUYb8K3BWIp/ciqZEdEFO8++2mhoAS/dmzZbnCa5OhMT4Hh2zOu2nLWMT5YjleCVWd+8/QzwenpO\n",
       "aqKdfM2isZrQMiJanfR/hNFavIl/QbHTn4Qx6md9VTAfBbXICkVTk54/9XOiSvtaW9Ljv0DUt97m\n",
       "AS2t5xhaq7vA9gLIBPV92bar5lDqlsPMIHGLtGF7f4fOhVzqm1KYdSvkIyeJ363VQ9vljuH1mohU\n",
       "WshWIELc/I02EpTvHXDaKpo2eKe3Rc8kGJGcKsA1/1h6+Zrj8V8cZBvAlvhHu0FtYhBeNCs6hYGB\n",
       "bRYOgmFO45ErBLsHOTPBvzxI3v8yLM8n659PlkRjkH76vI0cT38XocoDZ8JZHvCyxBccmCZi4BBw\n",
       "AAABLAGf82pDfwAO2pX1aXABzZWBlnpAuZYmbEUlQY6j4lwRxq0RiD1hAvVuB8gtv0xTR4AzdJLC\n",
       "J8eZ4+WpagzpqgDuwrxTWGm9lPdnMj/jVK8p0OizPGLLbXHx2VG2jia5KNI7iywxa97Y43Ks9yj/\n",
       "rMd9x2q5EIcRRZydqATkD/AYSmMkbfpzs+TkoqbYbihjV/N/iaRgssQ6wjY/WnTp1sR8HxRFyMlq\n",
       "RWOPiNPua4S9smRrXWg7Yu28pjXtE/BrjiS94VeqvhSYoW3oOl1YswsWxUtlrXXwotD9Q3VWrPdK\n",
       "XPjctJOS6McFKgpZJvg4LEy6qNI9vgl3eiCUX9NoIlHFhprlRItnC068AnBFFJQp+mGF5UVsb+2R\n",
       "VbesIPAZ88fksKZqSYtrf3hgQAAAAwNBm/VJqEFomUwIIf/+qlUABSfE3gAulHyVK/In3m7UNPMP\n",
       "f670NttiHfpnP2/c1fF3HMastPs3zdWbnB86xJybFbo/e99Ei4rLzLXguNOk8rgCMX+zl5kF4JaR\n",
       "67tE33v9VvT/CGK0VFKTWV8vDyvCtm522YeF8VSZxz4f0bgyirVHds3JrTlA+Rqfo0Ijxg/m7+ZL\n",
       "36cqS15luv/EQwBiTFNdBwBguqpdWVPpOMnOxNQGZcVrYKrVWHDzrkOUcB2QObZ94206by7uwNfw\n",
       "+JeoRelWVjlhJV4zL1fYrMgAk9PARrV1gfPPzGbt6BuOVLJQKt5ooOSLRaWutp3MDAo8sBF923dY\n",
       "6D9xpK9bNrR1sJnC7b4J0QQq2SoC9Cfek7FcrAIyCf6qBetxC5nmG5D+9uqdb3efCdiFsWbi3glI\n",
       "Zm+N74c5lizDGKoHvDpmcanHqeo01OWnqx34pkvS3A9xr7DhWlNMBFcpIcpADg23zv8Ki7vZmA6J\n",
       "E7W87PqdB758Nh+awB578wl39LEV2Ju6ZgV9mDPBYHRG4Bj0qTYCmWVx7tJOE1hq0OuO5uqxU2A1\n",
       "arzM521KlzIodvZgO1Wod2K8s9aEVaE1jVvOr2+/WbSXlXK4g+vf1D0LqqOt9COu5A44nsikHsRb\n",
       "NpjOhu52VcuViuHdjzUKF6aeaJ3mFSPynIGsK3UWLiiND7HqgY4Zq/MyROPUI04YkCQm286COwGi\n",
       "2YBjSTkZIUaTySndiFS8gnUoxNCFrnHJlp5b8fy49GDrKi6acheMFj7Nd0v/1vMGdL8UQqczXESE\n",
       "03DaTzKgOwAESz8WagPcMkz+UX+yxYRdvH0S0SMrJuDvb9p2SbD1ZPN78eYhFBO+21Sa9inDYsZN\n",
       "tv/aoYyjdeeKFWKMMLOO67Kyl4tzQ4n4yEe0K5CyaskFWQd6rqKxY0E6Nry7DwQ+BJyJqoYAi0hM\n",
       "oG3GRPnbEJfVCMp/CRqp+8e4U6nZVq4NDBqTLgLPTzuE8tfi9DSLSCRkcdEeuBhQV3DEmfEAAALP\n",
       "QZoWSeEKUmUwIIf//qpVAAUnyvIAW48IDJ+dCmAxfS22M79fcL8Kb3VxMRWSvmUaVj31swaSaJOz\n",
       "i/2NJ9tqvMtUGsCUwdMWWQMcPlji9703ZjAB858BqmhxYxrgt39EbRY818/1x4m5lUc9IN9Y96Oy\n",
       "pwBk/enMUAsxXP9aP26OS8IEWnHIk+hdlxIYhDN9rXmpiG79BVSDROAfoSwAeQRhVgZyKvERCNOj\n",
       "r8BlJhjrNV37YDOsgqTBb9WVUy8X20tw/At5VDz2hI1glQTWMIsmPXCwRuI6+ereuRWZExFH5mAm\n",
       "7flzFHlsXN8rnprSk49ovw5ua8IJ7W9CghIqzbigaPCKihPbUFTveA3GLPmQi01TTy1Axrs9/Egi\n",
       "uI+oBRj0wFGTlXWveCldITLb942PnCixtj5yulygUs3QlF8KR9WoaawXGYSFx2zQqoKJEtW0Q68J\n",
       "DUvNFASpAgSqPjCD89XjOsn9TbezZ5W6ddCj72lg2rCOdXLqPKB865z8UjV72+vGyrnqY3QBfd9h\n",
       "BrEmupC+hwvbeueloXU7eKQYHk7XL0FYYocOoeI+yxUaRgUGTZb6JqdYuNH3mlCnbTBBv+QsL7Lo\n",
       "/Ig6/B6/yt5sGDqlwEuGeLiR2q9tdI0rQCb8PmyaiE9MaRuxSOuJNe6AZYDYxThaOpdjbAT9XQSb\n",
       "MwjgNMunRVArk5yuyOk8NIpN0NqxggKa5Wq1Y57nKhLCow5IpXqaoyMahrGGl5NfVtkUI65XC9gy\n",
       "G06nBA+0yWBG0MmOVgOvXgGQ0RyQThh0QGErRRQGnSwFnnKQLRPd1cuW54SoNZLtJtWROlG2DK8R\n",
       "L75jq0CaRt8qNJRMuaKMKSYx+y5gAipOYhVoC1WUueRZXuuy0h3ZfZhLWyp7/CtZ9mV23vgNXGAE\n",
       "34AICwKJQqKBBmPJytb5x+TUqU81d1mwT0qf+KYTkPYABUwAAAJrQZo3SeEOiZTAgh/+qlUABSfE\n",
       "3gAupFkBPeDO2axsh3dv+yUi8v1rdrDBaF/yEOotoTDRZDLM3TdNzD84qugii6brPcHHfEaiFVU9\n",
       "uqYCqgXdx3Hw4Pmt1ZCERu99o4JrB8mBEYDABY52qdnFibGXGQPfri5p9tJYPcy781Db+353QzHG\n",
       "n7DQsMZgd31HQEuTdNuHJiFnuISHgtp572D47rkfQPm1ndkEhg4ne8YKo3UObmopfgUZaadOT5Xl\n",
       "UnTMEQwLy+hD/e2JiOflf/DFA3m3JndrRywYs8lelkTU4ckPctCeoTq0Qw6PGVLnByPPi8x0MB8l\n",
       "uRO7x8fZRZjX33AXjbIvB5xxklNl2EoK2dueL1lls7C9ZlDZzrfPVi8mMryOPiFOzNIjl0O6iyzJ\n",
       "+pjQs/BXcq6A1nzXczFsN9N780bhocHZ8sBxbp3J8AAbXhRMcwnRP4KzMYOMQLJhxfCYV1htGzBc\n",
       "py7CwTMgCx8EmvpoHeU/Rpbd3Q+T5r3+8EKY+/uOW8X5BbeE2Dy+gL6rqh8NZRoQa9Q5ZXRuhpGU\n",
       "VEZKHMBwR8wZrRAl2SOwg4nGc6pMmyCEUD/lp8sPfsiXB1EUSlJE/cB7D2+Al5qu0VwHyoksISQ6\n",
       "PPOD50/vT3JbI8UqyY5kI62cuiq+wruwXrAyJNRAJO7ssKY0+nPZECwZ2uWvelubdVA0FQZKDe+l\n",
       "hmzW6EiO+zlYm95Uf8pZuGuCdxMk0IvH3fj1Y24qSFhHtvcUuiALh9o+24KoOBLwA5BiqH/WFqpD\n",
       "RsDrrQYwVWKTL/cZAeiZVI9B3bTVUAbJjtq0UgbAgQAAAjVBmlhJ4Q8mUwII//61KoAClE/SABOj\n",
       "o8lJTZN/Uu6yMxSN03QupM+rQ5RcPVh/vY72FIniLm1UJZN+3OcI3mNOU5zs9E1QyWGMU7jZnw5H\n",
       "jswYnjpT6ZYiVQGDPoGj4XWnNlWga3ZVVxSB+ZXBpWqZG8YfXo3boFq28t3LXojbza3KEyrcEXh5\n",
       "Bbmvo9VKT2vFS9WM87RA8SsjGShm2ZxXBhfNhfdP/RJwOQhzA1L4dcA0e5cPC/TLvmlSRRf1VcnY\n",
       "Tlg7wf8iN6FAT/ALaMBzTU/kNK/Ynn18sTGqMZn6JuEyNv4v6RdrYWBWDgp47S4n9tewNfG6HwJc\n",
       "dxSjj/ss2nuwfQscZsfPqtkssBVqic6b4OK1/C5VtO1TC3MDxdcbqa6b8TcxvLfmQeCRu2Fm2ZZZ\n",
       "kt7IDOfHpEXPLLzWLL38OTdHvLx+iLXwIH9Wlsip0wdxgBajwUXbL0UJym8emmzp/geQmtvZYJv9\n",
       "IM3ZltTaSNpnQgwoY4Z/lEX/Zxtxsu6IBklZZWbEEAVBz/mhDd5xeVL+eff9JwPMNxE430+pISfH\n",
       "6DMIAMGfaXswzf/tP9qmMu2S/0QX+PTtzU5400asfM6elturbkcD1rNAWulzc8UbGG6s+8k86f6w\n",
       "aHf+XBWp1/4GnRqfFxZ9zMosbhAr3lQsHmfZzb3yvNSCozn3qVkW5xLe1eBRo2e5YSiIEhTY4mNC\n",
       "LhsHQvxluRAPnQaK3nwUdjGd2Y+FKI5jEN7AAI+BAAAC4UGafEnhDyZTAgj//rUqgAKUT9IAF0pL\n",
       "FJOe5HYzp0pxkbiFontOgaF4/8NdjgEqp2Ejwvq1nbFEZEcYmz4cBVAUSQW2OrH22gKUn0f4votd\n",
       "1MnmQnx53CJIc/1wv8WLhJqFtRWh3rC+/MI0rKkuB6Rf/OMOmc8KKv22KMjL0qPApT0rBsvolXG4\n",
       "BNLjqzdfA32+6ziSZgyt4PP8IE0G6ckujiREkDZhTrwKhjWfvnIxjqtEORB0OEZY4/Qv8heI8bBn\n",
       "CuldqUnQQWIQacr8u7XBVbSNNthofQrZEM22v/fqaCytmopQmRa4vvtwioi6DiN0M6oEaAH1tayh\n",
       "m0QYt5O+2y6CVZc69cbmFhTIFUUHZ2xxWgNPUKZWHmmpEsPDKNBNlb0Xg4apN5xmCbm0R2s2LR1c\n",
       "6vi7XbFhJaXwEYV8oPQRuINYPuPpYEf5Br39ha1Bz+WLc2lHbUu7NvjV77YndsuyU08SN5aRyHbi\n",
       "7xf5SCB/fvyf/HHVPVIpkk9cPdqnyWlp6bL/0UI7SdRse6c1A9pfs202VNv4q7wwjhOh01GcV0mI\n",
       "2hCWUSskNilR6vAVoQ38BaRJCDBnUZV0xiREHloHagsSH/MQ9S9OnBI8q38nDuPDewdW32ZLrVMV\n",
       "gIs2cW4n4Vb7GpPM9J8UfUUhJJj8FpnhAuL6vN2/1oLf3RN2/p1swimYI2T6VJgCW5z4rfVqucP1\n",
       "H3Nfsx8BvkFLhMxHtliklPcYctqj/VuVCC3YxRzhZFS3rAqrdWcT4rka3waZf/WapexIjnK9UWIu\n",
       "nn8OmGSAQcWtU2VEkLWN7eyT43dksUdLNvcPYUsEg5l0bACwmRaZdfTCAfo8a+EovSnKmqOm0CkD\n",
       "9Y4pe7DcB3L3CVm6RJ63Sz+9prunBXCIO3wclnTunjwP055qIMZJ74xLvxfePXAEoXkIE9vH9lgr\n",
       "VgChNISm8jRmP7/Y5FxgC9QYzQ8omd9mmK8DRssCAAAAokGemkURPDv/AAoPmoAIfbR0EUnYXhjN\n",
       "V6Cce6Uuz8gQMOfd5lyL2UxloDykOZ+lyo9G8JGiGqgWpA0shSsC4boYDrZ0tjlZleXddHrSVpjq\n",
       "zRTnY43aWX8YDonnVdAjXwal5gw4sW627gE+9YOfQz5Ky21ViPIAp0KJeoUE1YHXu+n9Sxgfajlb\n",
       "9aTxeqB258UfWQqyzsVWPcC2gpnULVr+SQAAAD4Bnrl0Q38ADrKqjumvkrMBcbXW6d+OI0AHaU4K\n",
       "3m70DarPpEXfA2l95B40IflFe2WMKhYtweu0rBCDDpez4AAAAC4BnrtqQ38ADrKqO0eR3gYgBChZ\n",
       "7o/0+K+KdZ/T6BFsW8GQmw6DZbiRydEQvz/BAAABRkGaoEmoQWiZTAgh//6qVQAFKXIrwAWucArb\n",
       "17T1XIVjkHhcxghvu1wmd5dGqw9V0UvxsYzdhHezc61ubfEswXo/cI/tMEiPf838hVp3xVCkKQ8R\n",
       "HoCDH9IcAD0oVuIthecnLN6CKRmjUWgo4Jw9phgqNPMWbvSI4Hy1q/1SqWEpdYaUUlM63RQbh7F1\n",
       "3wiTTSxZFkieuxOgzGLnd44Xc59Nd2RBof3k3Trto+CMgeklNX45kjodo3v0YJCzSEwuuPodoM5u\n",
       "Jl11oxMXtWidkd3zpCTZbDBdzgejRfMRVxIbRSIU7s9e3W8A65YuffQfQaryZguR6NpquRsVuQ6J\n",
       "16NIabbh8Rb4IwMPq9rApLiSpiuJA/K4EMhosegYsIihQE/vYxzcnFj2gkybbV2rc7h1CxizP9Y8\n",
       "Z7QdCQNWsaXaXhsMAB1RAAAAV0Ge3kURLDv/AAmmHFD5gAfcH5NnQoN+mzWPNT2fAO1PjfDOd2Nj\n",
       "ActPIb1+FxVwllEj1dibsijX/mYJd+SIPWiZResZC6CBGIbO1PqlOlHc5e8S8uY8oAAAACMBnv10\n",
       "Q38AB4VVTD0+TuRyi1G9JjpL+SmFtHE8AD5QAOypdQAAABsBnv9qQ38AB4VVR2w9udBpshDo3mSR\n",
       "LDvCdfkAAADbQZrkSahBbJlMCH///qmWABQVyY0AE0VlpLScCdyfkqujMsTf+tyq9aIcxC9HP7vX\n",
       "vhb4nn+zIHp1CAANfPHEL43ROO0y0PmihjOzXzepoi51L3N+KEXjbCfKJFksJLGsfNLb+7y1gTsX\n",
       "qmHiklPgUrOmDDzbR5ZwDYhZKX9dsWta4RWyJEeg1eAhzc0NCQ84FuYFkIGMoFwVyLMtPYUAgljl\n",
       "8+jiAH9fw0FZfXiDmxpdLTs9X4I+6sxRveacYYgAkGMFVYeMkmUXj03FrcufZh8HDxhvVOXcHGpg\n",
       "AAAAJ0GfAkUVLDv/AAp+MFduhR93WKpLhlJqKa3Y4YOrUvEcbS5aAv5LZwAAABgBnyF0Q38ADtae\n",
       "N1GvughNrhlPg0XGOjgAAAAYAZ8jakN/AA7ZRC+EGu1H0H6KA51TmqXVAAAAY0GbJ0moQWyZTAhv\n",
       "//6nhAAnu3JAAdoaOi0IDwUMRiDxsZCmTE6IaFYEpApTi4G0xUhzDDj/FnEnGNX/dlNFGNDt7X7r\n",
       "fg7JJVGizvPuVTyeFvKJoIe9h7jy2lMXvNG1iUADpwAAACNBn0ZCG/8ADtqV1kgFzKcNuMTmTpgi\n",
       "jX+D8+gviJuAxo3hcQAAABoBn2VpEN8ADtaeL3RR9APk/3GtLUqAZCxwwQAABL9tb292AAAAbG12\n",
       "aGQAAAAAAAAAAAAAAAAAAAPoAAAPoAABAAABAAAAAAAAAAAAAAAAAQAAAAAAAAAAAAAAAAAAAAEA\n",
       "AAAAAAAAAAAAAAAAAEAAAAAAAAAAAAAAAAAAAAAAAAAAAAAAAAAAAAAAAAACAAAD6XRyYWsAAABc\n",
       "dGtoZAAAAAMAAAAAAAAAAAAAAAEAAAAAAAAPoAAAAAAAAAAAAAAAAAAAAAAAAQAAAAAAAAAAAAAA\n",
       "AAAAAAEAAAAAAAAAAAAAAAAAAEAAAAAB9AAAAZAAAAAAACRlZHRzAAAAHGVsc3QAAAAAAAAAAQAA\n",
       "D6AAAAgAAAEAAAAAA2FtZGlhAAAAIG1kaGQAAAAAAAAAAAAAAAAAACgAAACgAFXEAAAAAAAtaGRs\n",
       "cgAAAAAAAAAAdmlkZQAAAAAAAAAAAAAAAFZpZGVvSGFuZGxlcgAAAAMMbWluZgAAABR2bWhkAAAA\n",
       "AQAAAAAAAAAAAAAAJGRpbmYAAAAcZHJlZgAAAAAAAAABAAAADHVybCAAAAABAAACzHN0YmwAAAC0\n",
       "c3RzZAAAAAAAAAABAAAApGF2YzEAAAAAAAAAAQAAAAAAAAAAAAAAAAAAAAAB9AGQAEgAAABIAAAA\n",
       "AAAAAAEAAAAAAAAAAAAAAAAAAAAAAAAAAAAAAAAAAAAAAAAAAAAY//8AAAAyYXZjQwFkABb/4QAZ\n",
       "Z2QAFqzZQIAz5+EAAAMAAQAAAwAUDxYtlgEABmjr48siwAAAABx1dWlka2hA8l8kT8W6OaUbzwMj\n",
       "8wAAAAAAAAAYc3R0cwAAAAAAAAABAAAAKAAABAAAAAAUc3RzcwAAAAAAAAABAAAAAQAAAQBjdHRz\n",
       "AAAAAAAAAB4AAAAIAAAIAAAAAAEAABQAAAAAAQAACAAAAAABAAAAAAAAAAEAAAQAAAAAAQAAFAAA\n",
       "AAABAAAIAAAAAAEAAAAAAAAAAQAABAAAAAABAAAIAAAAAAEAABQAAAAAAQAACAAAAAABAAAAAAAA\n",
       "AAEAAAQAAAAABAAACAAAAAABAAAUAAAAAAEAAAgAAAAAAQAAAAAAAAABAAAEAAAAAAEAABQAAAAA\n",
       "AQAACAAAAAABAAAAAAAAAAEAAAQAAAAAAQAAFAAAAAABAAAIAAAAAAEAAAAAAAAAAQAABAAAAAAB\n",
       "AAAQAAAAAAEAAAgAAAAAAQAAAAAAAAAcc3RzYwAAAAAAAAABAAAAAQAAACgAAAABAAAAtHN0c3oA\n",
       "AAAAAAAAAAAAACgAABbVAAAB2AAAAo4AAANjAAACMwAAAlQAAAHJAAABqwAAA4gAAAGnAAABHwAA\n",
       "AWUAAARtAAADEgAAAjQAAAIhAAADqQAABVIAAAJQAAABqQAAATAAAAMHAAAC0wAAAm8AAAI5AAAC\n",
       "5QAAAKYAAABCAAAAMgAAAUoAAABbAAAAJwAAAB8AAADfAAAAKwAAABwAAAAcAAAAZwAAACcAAAAe\n",
       "AAAAFHN0Y28AAAAAAAAAAQAAACwAAABidWR0YQAAAFptZXRhAAAAAAAAACFoZGxyAAAAAAAAAABt\n",
       "ZGlyYXBwbAAAAAAAAAAAAAAAAC1pbHN0AAAAJal0b28AAAAdZGF0YQAAAAEAAAAATGF2ZjU2LjQw\n",
       "LjEwMQ==\n",
       "\">\n",
       "  Your browser does not support the video tag.\n",
       "</video>"
      ],
      "text/plain": [
       "<matplotlib.animation.FuncAnimation at 0x7f07e9076d10>"
      ]
     },
     "execution_count": 14,
     "metadata": {},
     "output_type": "execute_result"
    }
   ],
   "source": [
    "# Run the animation\n",
    "fig = plt.figure(dpi = 100, figsize = (5, 4))\n",
    "plt.scatter(x, y)\n",
    "line, = plt.plot(x, lin(a_guess, b_guess, x))\n",
    "plt.close()\n",
    "\n",
    "def animate(i):\n",
    "    line.set_ydata(lin(a_guess, b_guess, x))\n",
    "    for i in range(10): upd()\n",
    "    return line,\n",
    "\n",
    "# Run the update 40 times\n",
    "ani = animation.FuncAnimation(fig, animate, np.arange(0, 40), interval = 100)\n",
    "ani"
   ]
  },
  {
   "cell_type": "markdown",
   "metadata": {},
   "source": [
    "In convolutional neural networks we take this approach and apply it on each of our filters. Typically our filters will themselves be input to other filters which will be optimised. This approach can lead to eg. cornor detection by taking som from the horisontal and vertical base filter.\n",
    "\n",
    "On page 824 in [this](https://www.cs.nyu.edu/~fergus/papers/zeilerECCV2014.pdf) paper, examples from a five layer CNN is showed, where the filter and activation for the first filter is shown and the activation of the five last filters is shown as well.\n",
    "\n",
    "Deep learning models today typically utilises more than 1000 filters. Imagine the exponential improving levels of semantic richness and the consequences for machine learning models."
   ]
  },
  {
   "cell_type": "code",
   "execution_count": null,
   "metadata": {
    "collapsed": true
   },
   "outputs": [],
   "source": []
  }
 ],
 "metadata": {
  "anaconda-cloud": {},
  "kernelspec": {
   "display_name": "Python [conda root]",
   "language": "python",
   "name": "conda-root-py"
  },
  "language_info": {
   "codemirror_mode": {
    "name": "ipython",
    "version": 2
   },
   "file_extension": ".py",
   "mimetype": "text/x-python",
   "name": "python",
   "nbconvert_exporter": "python",
   "pygments_lexer": "ipython2",
   "version": "2.7.12"
  },
  "nav_menu": {},
  "toc": {
   "navigate_menu": true,
   "number_sections": true,
   "sideBar": true,
   "threshold": 6,
   "toc_cell": false,
   "toc_section_display": "block",
   "toc_window_display": false
  },
  "widgets": {
   "state": {
    "ce3fb6375aff476fa07463e08ed01338": {
     "views": [
      {
       "cell_index": 16
      }
     ]
    }
   },
   "version": "1.2.0"
  }
 },
 "nbformat": 4,
 "nbformat_minor": 0
}
