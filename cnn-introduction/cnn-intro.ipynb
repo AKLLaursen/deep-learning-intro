{
 "cells": [
  {
   "cell_type": "markdown",
   "metadata": {},
   "source": [
    "# Introduction to Convolutional Neural Networks\n",
    "\n",
    "This notebook contains code generating examples explaining the intuition of the convolutional filter and max pool step op a convolutional neural network as well as the intuition of the gradient descent algorithm.\n",
    "\n",
    "## The intution of convolution and max pooling\n",
    "\n",
    "We start by importing needed libraries."
   ]
  },
  {
   "cell_type": "code",
   "execution_count": 1,
   "metadata": {
    "collapsed": true
   },
   "outputs": [],
   "source": [
    "%matplotlib inline\n",
    "\n",
    "import math, sys, os\n",
    "import numpy as np\n",
    "import six.moves.cPickle as pickle\n",
    "\n",
    "from numpy.linalg import norm\n",
    "from PIL import Image\n",
    "from matplotlib import pyplot as plt, rcParams, rc\n",
    "from scipy.ndimage import imread\n",
    "from scipy.ndimage.filters import correlate, convolve\n",
    "from skimage.measure import block_reduce\n",
    "from ipywidgets import interact, interactive, fixed\n",
    "from ipywidgets.widgets import *\n",
    "from tensorflow.examples.tutorials.mnist import input_data\n",
    "from __future__ import print_function\n",
    "\n",
    "# Set up matplotlib to display animation in the notebook\n",
    "rc('animation', html = 'html5')\n",
    "rcParams['figure.figsize'] = 3, 6\n",
    "\n",
    "# Set global precision for numpy\n",
    "%precision 4\n",
    "np.set_printoptions(precision = 4, linewidth = 100)"
   ]
  },
  {
   "cell_type": "markdown",
   "metadata": {},
   "source": [
    "We then import the MNIST data set. MNIST is a large dataset of handwritten digits that is commonly used for training various image processing systems and machine learning models.\n",
    "\n",
    "The MNIST dataset is one of the example dataset included with TensorFlow. It has 55,000 handwritten and labeled 28x28 pixel numbers."
   ]
  },
  {
   "cell_type": "code",
   "execution_count": 2,
   "metadata": {},
   "outputs": [
    {
     "name": "stdout",
     "output_type": "stream",
     "text": [
      "Extracting MNIST_data/train-images-idx3-ubyte.gz\n",
      "Extracting MNIST_data/train-labels-idx1-ubyte.gz\n",
      "Extracting MNIST_data/t10k-images-idx3-ubyte.gz\n",
      "Extracting MNIST_data/t10k-labels-idx1-ubyte.gz\n"
     ]
    }
   ],
   "source": [
    "# Read the MNIST dataset from the TensorFlow examples.\n",
    "mnist = input_data.read_data_sets(\"MNIST_data/\")\n",
    "\n",
    "# The images and labels are stores as methods. Extract these into stand alone objects\n",
    "images, labels = mnist.train.images, mnist.train.labels\n",
    "\n",
    "# When importing the images, they are stored in a sing 55000 x 784 numpy array.\n",
    "# That is each image is stored in a one dimensional array of 784 pixels. We reshape\n",
    "# the array, such that each image is instead stored in a 28 x 28 arrauy. Reflecting the\n",
    "# actual shape of the image.\n",
    "images = images.reshape((55000, 28, 28))\n",
    "\n",
    "# Save the array into a single file in compressed .npz format\n",
    "np.savez_compressed(\"MNIST_data/train\", images = images, labels = labels)"
   ]
  },
  {
   "cell_type": "markdown",
   "metadata": {},
   "source": [
    "We then define some plot functions for later use."
   ]
  },
  {
   "cell_type": "code",
   "execution_count": 3,
   "metadata": {
    "collapsed": true
   },
   "outputs": [],
   "source": [
    "def plots(ims, interp = False, titles = None):\n",
    "    \n",
    "    ims=np.array(ims)\n",
    "    mn, mx = ims.min(), ims.max()\n",
    "    \n",
    "    f = plt.figure(figsize = (12, 24))\n",
    "    \n",
    "    for i in range(len(ims)):\n",
    "        \n",
    "        sp = f.add_subplot(1, len(ims), i + 1)\n",
    "        \n",
    "        if not titles is None: sp.set_title(titles[i], fontsize = 18)\n",
    "            \n",
    "        plt.imshow(ims[i], interpolation = None if interp else 'none', vmin = mn,vmax = mx)\n",
    "\n",
    "def plot(im, interp = False):\n",
    "    f = plt.figure(figsize=(3, 6), frameon = True)\n",
    "    plt.imshow(im, interpolation = None if interp else 'none')\n",
    "    \n",
    "def plot_int(im):\n",
    "    f = plt.figure(figsize=(3, 6), frameon = True)\n",
    "    plt.show(im)\n",
    "\n",
    "plt.gray()\n",
    "plt.close()"
   ]
  },
  {
   "cell_type": "markdown",
   "metadata": {},
   "source": [
    "We load the data from the files stored. (We have stored the file earlier, such that we do not have to rely on having TensorFlow available)."
   ]
  },
  {
   "cell_type": "code",
   "execution_count": 4,
   "metadata": {},
   "outputs": [
    {
     "data": {
      "text/plain": [
       "(55000, 28, 28)"
      ]
     },
     "execution_count": 4,
     "metadata": {},
     "output_type": "execute_result"
    }
   ],
   "source": [
    "# Load data\n",
    "data = np.load(\"MNIST_data/train.npz\")\n",
    "\n",
    "# Separate into images and label arrays\n",
    "images = data['images']\n",
    "labels = data['labels']\n",
    "\n",
    "# Define length of array (55,000) and print the shape (dimensions of the array)\n",
    "n = len(images)\n",
    "images.shape"
   ]
  },
  {
   "cell_type": "markdown",
   "metadata": {},
   "source": [
    "We can then plot a sample image and the label."
   ]
  },
  {
   "cell_type": "code",
   "execution_count": 5,
   "metadata": {},
   "outputs": [
    {
     "data": {
      "image/png": "[encoded data removed]",
      "text/plain": [
       "<matplotlib.figure.Figure at 0x1b323bb5d30>"
      ]
     },
     "metadata": {},
     "output_type": "display_data"
    }
   ],
   "source": [
    "plot(images[0])"
   ]
  },
  {
   "cell_type": "code",
   "execution_count": 6,
   "metadata": {},
   "outputs": [
    {
     "data": {
      "text/plain": [
       "7"
      ]
     },
     "execution_count": 6,
     "metadata": {},
     "output_type": "execute_result"
    }
   ],
   "source": [
    "labels[0]"
   ]
  },
  {
   "cell_type": "markdown",
   "metadata": {},
   "source": [
    "We can also plot the first 5 numbers and associated labels."
   ]
  },
  {
   "cell_type": "code",
   "execution_count": 7,
   "metadata": {},
   "outputs": [
    {
     "data": {
      "image/png": "[encoded data removed]",
      "text/plain": [
       "<matplotlib.figure.Figure at 0x1b323c1a390>"
      ]
     },
     "metadata": {},
     "output_type": "display_data"
    }
   ],
   "source": [
    "plots(images[:5], titles = labels[:5])"
   ]
  },
  {
   "cell_type": "markdown",
   "metadata": {},
   "source": [
    "Now lets define a simple 3 x 3 matrix of pixels. This is our first filter. Now, what will have happen when we shift the filter accross the number matrixes. At each point we multiply the matrices element wise and take the sum.\n",
    "\n",
    "For a cool visualisation of how the multiplication works see [this link](http://setosa.io/ev/image-kernels/)"
   ]
  },
  {
   "cell_type": "code",
   "execution_count": 8,
   "metadata": {},
   "outputs": [
    {
     "data": {
      "image/png": "[encoded data removed]",
      "text/plain": [
       "<matplotlib.figure.Figure at 0x1b32b998898>"
      ]
     },
     "metadata": {},
     "output_type": "display_data"
    }
   ],
   "source": [
    "top = [[-1,-1,-1],\n",
    "       [ 1, 1, 1],\n",
    "       [ 0, 0, 0]]\n",
    "\n",
    "plot(top)"
   ]
  },
  {
   "cell_type": "markdown",
   "metadata": {},
   "source": [
    "Lets zoom in on the top part to see how the filter works on our numbers"
   ]
  },
  {
   "cell_type": "code",
   "execution_count": 9,
   "metadata": {},
   "outputs": [
    {
     "data": {
      "application/vnd.jupyter.widget-view+json": {
       "model_id": "155f0867396343d78ceb74c992325e19"
      }
     },
     "metadata": {},
     "output_type": "display_data"
    }
   ],
   "source": [
    "r = (0, 28)\n",
    "def zoomim(x1 = 0, x2 = 28, y1 = 0, y2 = 28):\n",
    "    plot(images[0, y1:y2, x1:x2])\n",
    "    plt.show()\n",
    "    \n",
    "w = interactive(zoomim, x1 = r, x2 = r, y1 = r, y2 = r)\n",
    "w"
   ]
  },
  {
   "cell_type": "markdown",
   "metadata": {},
   "source": [
    "Now lets study what actually happens with the pixels. First we print the actual pixel values of the zoomed image."
   ]
  },
  {
   "cell_type": "code",
   "execution_count": 10,
   "metadata": {},
   "outputs": [
    {
     "data": {
      "text/plain": [
       "array([[ 0.    ,  0.    ,  0.    ,  0.    ,  0.    ,  0.    ,  0.    ,  0.    ,  0.    ,  0.    ,\n",
       "         0.    ,  0.    ,  0.    ,  0.    ,  0.    ,  0.    ,  0.    ,  0.    ,  0.    ,  0.    ,\n",
       "         0.    ,  0.    ,  0.    ,  0.    ,  0.    ,  0.    ,  0.    ,  0.    ],\n",
       "       [ 0.    ,  0.    ,  0.    ,  0.    ,  0.    ,  0.    ,  0.    ,  0.    ,  0.    ,  0.    ,\n",
       "         0.    ,  0.    ,  0.    ,  0.    ,  0.    ,  0.    ,  0.    ,  0.    ,  0.    ,  0.    ,\n",
       "         0.    ,  0.    ,  0.    ,  0.    ,  0.    ,  0.    ,  0.    ,  0.    ],\n",
       "       [ 0.    ,  0.    ,  0.    ,  0.    ,  0.    ,  0.    ,  0.    ,  0.    ,  0.    ,  0.    ,\n",
       "         0.    ,  0.    ,  0.    ,  0.    ,  0.    ,  0.    ,  0.    ,  0.    ,  0.    ,  0.    ,\n",
       "         0.    ,  0.    ,  0.    ,  0.    ,  0.    ,  0.    ,  0.    ,  0.    ],\n",
       "       [ 0.    ,  0.    ,  0.    ,  0.    ,  0.    ,  0.    ,  0.    ,  0.    ,  0.    ,  0.    ,\n",
       "         0.    ,  0.    ,  0.    ,  0.    ,  0.    ,  0.    ,  0.    ,  0.    ,  0.    ,  0.    ,\n",
       "         0.    ,  0.    ,  0.    ,  0.    ,  0.    ,  0.    ,  0.    ,  0.    ],\n",
       "       [ 0.    ,  0.    ,  0.    ,  0.    ,  0.    ,  0.    ,  0.    ,  0.    ,  0.    ,  0.    ,\n",
       "         0.    ,  0.    ,  0.    ,  0.    ,  0.    ,  0.    ,  0.    ,  0.    ,  0.    ,  0.    ,\n",
       "         0.    ,  0.    ,  0.    ,  0.    ,  0.    ,  0.    ,  0.    ,  0.    ],\n",
       "       [ 0.    ,  0.    ,  0.    ,  0.    ,  0.    ,  0.    ,  0.    ,  0.    ,  0.    ,  0.    ,\n",
       "         0.    ,  0.    ,  0.    ,  0.    ,  0.    ,  0.    ,  0.    ,  0.    ,  0.    ,  0.    ,\n",
       "         0.    ,  0.    ,  0.    ,  0.    ,  0.    ,  0.    ,  0.    ,  0.    ],\n",
       "       [ 0.    ,  0.    ,  0.    ,  0.    ,  0.    ,  0.    ,  0.    ,  0.    ,  0.    ,  0.    ,\n",
       "         0.    ,  0.    ,  0.    ,  0.    ,  0.    ,  0.    ,  0.    ,  0.    ,  0.    ,  0.    ,\n",
       "         0.    ,  0.    ,  0.    ,  0.    ,  0.    ,  0.    ,  0.    ,  0.    ],\n",
       "       [ 0.    ,  0.    ,  0.    ,  0.    ,  0.    ,  0.    ,  0.    ,  0.    ,  0.    ,  0.    ,\n",
       "         0.    ,  0.3804,  0.3765,  0.302 ,  0.4627,  0.2392,  0.    ,  0.    ,  0.    ,  0.    ,\n",
       "         0.    ,  0.    ,  0.    ,  0.    ,  0.    ,  0.    ,  0.    ,  0.    ],\n",
       "       [ 0.    ,  0.    ,  0.    ,  0.3529,  0.5412,  0.9216,  0.9216,  0.9216,  0.9216,  0.9216,\n",
       "         0.9216,  0.9843,  0.9843,  0.9725,  0.9961,  0.9608,  0.9216,  0.7451,  0.0824,  0.    ,\n",
       "         0.    ,  0.    ,  0.    ,  0.    ,  0.    ,  0.    ,  0.    ,  0.    ],\n",
       "       [ 0.    ,  0.    ,  0.549 ,  0.9843,  0.9961,  0.9961,  0.9961,  0.9961,  0.9961,  0.9961,\n",
       "         0.9961,  0.9961,  0.9961,  0.9961,  0.9961,  0.9961,  0.9961,  0.9961,  0.7412,  0.0902,\n",
       "         0.    ,  0.    ,  0.    ,  0.    ,  0.    ,  0.    ,  0.    ,  0.    ],\n",
       "       [ 0.    ,  0.    ,  0.8863,  0.9961,  0.8157,  0.7804,  0.7804,  0.7804,  0.7804,  0.5451,\n",
       "         0.2392,  0.2392,  0.2392,  0.2392,  0.2392,  0.502 ,  0.8706,  0.9961,  0.9961,  0.7412,\n",
       "         0.0824,  0.    ,  0.    ,  0.    ,  0.    ,  0.    ,  0.    ,  0.    ],\n",
       "       [ 0.    ,  0.    ,  0.149 ,  0.3216,  0.051 ,  0.    ,  0.    ,  0.    ,  0.    ,  0.    ,\n",
       "         0.    ,  0.    ,  0.    ,  0.    ,  0.    ,  0.    ,  0.1333,  0.8353,  0.9961,  0.9961,\n",
       "         0.451 ,  0.    ,  0.    ,  0.    ,  0.    ,  0.    ,  0.    ,  0.    ],\n",
       "       [ 0.    ,  0.    ,  0.    ,  0.    ,  0.    ,  0.    ,  0.    ,  0.    ,  0.    ,  0.    ,\n",
       "         0.    ,  0.    ,  0.    ,  0.    ,  0.    ,  0.    ,  0.    ,  0.3294,  0.9961,  0.9961,\n",
       "         0.9176,  0.    ,  0.    ,  0.    ,  0.    ,  0.    ,  0.    ,  0.    ],\n",
       "       [ 0.    ,  0.    ,  0.    ,  0.    ,  0.    ,  0.    ,  0.    ,  0.    ,  0.    ,  0.    ,\n",
       "         0.    ,  0.    ,  0.    ,  0.    ,  0.    ,  0.    ,  0.    ,  0.3294,  0.9961,  0.9961,\n",
       "         0.9176,  0.    ,  0.    ,  0.    ,  0.    ,  0.    ,  0.    ,  0.    ],\n",
       "       [ 0.    ,  0.    ,  0.    ,  0.    ,  0.    ,  0.    ,  0.    ,  0.    ,  0.    ,  0.    ,\n",
       "         0.    ,  0.    ,  0.    ,  0.    ,  0.    ,  0.    ,  0.4157,  0.6157,  0.9961,  0.9961,\n",
       "         0.9529,  0.2   ,  0.    ,  0.    ,  0.    ,  0.    ,  0.    ,  0.    ],\n",
       "       [ 0.    ,  0.    ,  0.    ,  0.    ,  0.    ,  0.    ,  0.    ,  0.    ,  0.    ,  0.    ,\n",
       "         0.    ,  0.098 ,  0.4588,  0.8941,  0.8941,  0.8941,  0.9922,  0.9961,  0.9961,  0.9961,\n",
       "         0.9961,  0.9412,  0.    ,  0.    ,  0.    ,  0.    ,  0.    ,  0.    ],\n",
       "       [ 0.    ,  0.    ,  0.    ,  0.    ,  0.    ,  0.    ,  0.    ,  0.    ,  0.    ,  0.2667,\n",
       "         0.4667,  0.8627,  0.9961,  0.9961,  0.9961,  0.9961,  0.9961,  0.9961,  0.9961,  0.9961,\n",
       "         0.9961,  0.5569,  0.    ,  0.    ,  0.    ,  0.    ,  0.    ,  0.    ],\n",
       "       [ 0.    ,  0.    ,  0.    ,  0.    ,  0.    ,  0.    ,  0.    ,  0.1451,  0.7333,  0.9922,\n",
       "         0.9961,  0.9961,  0.9961,  0.8745,  0.8078,  0.8078,  0.2941,  0.2667,  0.8431,  0.9961,\n",
       "         0.9961,  0.4588,  0.    ,  0.    ,  0.    ,  0.    ,  0.    ,  0.    ],\n",
       "       [ 0.    ,  0.    ,  0.    ,  0.    ,  0.    ,  0.    ,  0.4431,  0.8588,  0.9961,  0.949 ,\n",
       "         0.8902,  0.451 ,  0.349 ,  0.1216,  0.    ,  0.    ,  0.    ,  0.    ,  0.7843,  0.9961,\n",
       "         0.9451,  0.1608,  0.    ,  0.    ,  0.    ,  0.    ,  0.    ,  0.    ],\n",
       "       [ 0.    ,  0.    ,  0.    ,  0.    ,  0.    ,  0.    ,  0.6627,  0.9961,  0.6902,  0.2431,\n",
       "         0.    ,  0.    ,  0.    ,  0.    ,  0.    ,  0.    ,  0.    ,  0.1882,  0.9059,  0.9961,\n",
       "         0.9176,  0.    ,  0.    ,  0.    ,  0.    ,  0.    ,  0.    ,  0.    ],\n",
       "       [ 0.    ,  0.    ,  0.    ,  0.    ,  0.    ,  0.    ,  0.0706,  0.4863,  0.    ,  0.    ,\n",
       "         0.    ,  0.    ,  0.    ,  0.    ,  0.    ,  0.    ,  0.    ,  0.3294,  0.9961,  0.9961,\n",
       "         0.651 ,  0.    ,  0.    ,  0.    ,  0.    ,  0.    ,  0.    ,  0.    ],\n",
       "       [ 0.    ,  0.    ,  0.    ,  0.    ,  0.    ,  0.    ,  0.    ,  0.    ,  0.    ,  0.    ,\n",
       "         0.    ,  0.    ,  0.    ,  0.    ,  0.    ,  0.    ,  0.    ,  0.5451,  0.9961,  0.9333,\n",
       "         0.2235,  0.    ,  0.    ,  0.    ,  0.    ,  0.    ,  0.    ,  0.    ],\n",
       "       [ 0.    ,  0.    ,  0.    ,  0.    ,  0.    ,  0.    ,  0.    ,  0.    ,  0.    ,  0.    ,\n",
       "         0.    ,  0.    ,  0.    ,  0.    ,  0.    ,  0.    ,  0.8235,  0.9804,  0.9961,  0.6588,\n",
       "         0.    ,  0.    ,  0.    ,  0.    ,  0.    ,  0.    ,  0.    ,  0.    ],\n",
       "       [ 0.    ,  0.    ,  0.    ,  0.    ,  0.    ,  0.    ,  0.    ,  0.    ,  0.    ,  0.    ,\n",
       "         0.    ,  0.    ,  0.    ,  0.    ,  0.    ,  0.    ,  0.949 ,  0.9961,  0.9373,  0.2235,\n",
       "         0.    ,  0.    ,  0.    ,  0.    ,  0.    ,  0.    ,  0.    ,  0.    ],\n",
       "       [ 0.    ,  0.    ,  0.    ,  0.    ,  0.    ,  0.    ,  0.    ,  0.    ,  0.    ,  0.    ,\n",
       "         0.    ,  0.    ,  0.    ,  0.    ,  0.    ,  0.349 ,  0.9843,  0.9451,  0.3373,  0.    ,\n",
       "         0.    ,  0.    ,  0.    ,  0.    ,  0.    ,  0.    ,  0.    ,  0.    ],\n",
       "       [ 0.    ,  0.    ,  0.    ,  0.    ,  0.    ,  0.    ,  0.    ,  0.    ,  0.    ,  0.    ,\n",
       "         0.    ,  0.    ,  0.    ,  0.    ,  0.0196,  0.8078,  0.9647,  0.6157,  0.    ,  0.    ,\n",
       "         0.    ,  0.    ,  0.    ,  0.    ,  0.    ,  0.    ,  0.    ,  0.    ],\n",
       "       [ 0.    ,  0.    ,  0.    ,  0.    ,  0.    ,  0.    ,  0.    ,  0.    ,  0.    ,  0.    ,\n",
       "         0.    ,  0.    ,  0.    ,  0.    ,  0.0157,  0.4588,  0.2706,  0.    ,  0.    ,  0.    ,\n",
       "         0.    ,  0.    ,  0.    ,  0.    ,  0.    ,  0.    ,  0.    ,  0.    ],\n",
       "       [ 0.    ,  0.    ,  0.    ,  0.    ,  0.    ,  0.    ,  0.    ,  0.    ,  0.    ,  0.    ,\n",
       "         0.    ,  0.    ,  0.    ,  0.    ,  0.    ,  0.    ,  0.    ,  0.    ,  0.    ,  0.    ,\n",
       "         0.    ,  0.    ,  0.    ,  0.    ,  0.    ,  0.    ,  0.    ,  0.    ]], dtype=float32)"
      ]
     },
     "execution_count": 10,
     "metadata": {},
     "output_type": "execute_result"
    }
   ],
   "source": [
    "k = w.kwargs\n",
    "dims = np.index_exp[k['y1']:k['y2']:1, k['x1']:k['x2']]\n",
    "images[0][dims]"
   ]
  },
  {
   "cell_type": "markdown",
   "metadata": {},
   "source": [
    "Now we perform the actual calculation. It is called correlating - in that we correlate the image and the filter. We correlate the image and the filter and print the result as pixel and as image."
   ]
  },
  {
   "cell_type": "code",
   "execution_count": 11,
   "metadata": {},
   "outputs": [
    {
     "data": {
      "text/plain": [
       "array([[ 0.    ,  0.    ,  0.    ,  0.    ,  0.    ,  0.    ,  0.    ,  0.    ,  0.    ,  0.    ,\n",
       "         0.    ,  0.    ,  0.    ,  0.    ,  0.    ,  0.    ,  0.    ,  0.    ,  0.    ,  0.    ,\n",
       "         0.    ,  0.    ,  0.    ,  0.    ,  0.    ,  0.    ,  0.    ,  0.    ],\n",
       "       [ 0.    ,  0.    ,  0.    ,  0.    ,  0.    ,  0.    ,  0.    ,  0.    ,  0.    ,  0.    ,\n",
       "         0.    ,  0.    ,  0.    ,  0.    ,  0.    ,  0.    ,  0.    ,  0.    ,  0.    ,  0.    ,\n",
       "         0.    ,  0.    ,  0.    ,  0.    ,  0.    ,  0.    ,  0.    ,  0.    ],\n",
       "       [ 0.    ,  0.    ,  0.    ,  0.    ,  0.    ,  0.    ,  0.    ,  0.    ,  0.    ,  0.    ,\n",
       "         0.    ,  0.    ,  0.    ,  0.    ,  0.    ,  0.    ,  0.    ,  0.    ,  0.    ,  0.    ,\n",
       "         0.    ,  0.    ,  0.    ,  0.    ,  0.    ,  0.    ,  0.    ,  0.    ],\n",
       "       [ 0.    ,  0.    ,  0.    ,  0.    ,  0.    ,  0.    ,  0.    ,  0.    ,  0.    ,  0.    ,\n",
       "         0.    ,  0.    ,  0.    ,  0.    ,  0.    ,  0.    ,  0.    ,  0.    ,  0.    ,  0.    ,\n",
       "         0.    ,  0.    ,  0.    ,  0.    ,  0.    ,  0.    ,  0.    ,  0.    ],\n",
       "       [ 0.    ,  0.    ,  0.    ,  0.    ,  0.    ,  0.    ,  0.    ,  0.    ,  0.    ,  0.    ,\n",
       "         0.    ,  0.    ,  0.    ,  0.    ,  0.    ,  0.    ,  0.    ,  0.    ,  0.    ,  0.    ,\n",
       "         0.    ,  0.    ,  0.    ,  0.    ,  0.    ,  0.    ,  0.    ,  0.    ],\n",
       "       [ 0.    ,  0.    ,  0.    ,  0.    ,  0.    ,  0.    ,  0.    ,  0.    ,  0.    ,  0.    ,\n",
       "         0.    ,  0.    ,  0.    ,  0.    ,  0.    ,  0.    ,  0.    ,  0.    ,  0.    ,  0.    ,\n",
       "         0.    ,  0.    ,  0.    ,  0.    ,  0.    ,  0.    ,  0.    ,  0.    ],\n",
       "       [ 0.    ,  0.    ,  0.    ,  0.    ,  0.    ,  0.    ,  0.    ,  0.    ,  0.    ,  0.    ,\n",
       "         0.    ,  0.    ,  0.    ,  0.    ,  0.    ,  0.    ,  0.    ,  0.    ,  0.    ,  0.    ,\n",
       "         0.    ,  0.    ,  0.    ,  0.    ,  0.    ,  0.    ,  0.    ,  0.    ],\n",
       "       [ 0.    ,  0.    ,  0.    ,  0.    ,  0.    ,  0.    ,  0.    ,  0.    ,  0.    ,  0.    ,\n",
       "         0.3804,  0.7569,  1.0588,  1.1412,  1.0039,  0.702 ,  0.2392,  0.    ,  0.    ,  0.    ,\n",
       "         0.    ,  0.    ,  0.    ,  0.    ,  0.    ,  0.    ,  0.    ,  0.    ],\n",
       "       [ 0.    ,  0.    ,  0.3529,  0.8941,  1.8157,  2.3843,  2.7647,  2.7647,  2.7647,  2.7647,\n",
       "         2.4471,  2.1333,  1.8824,  1.8118,  1.9255,  2.1765,  2.3882,  1.749 ,  0.8275,  0.0824,\n",
       "         0.    ,  0.    ,  0.    ,  0.    ,  0.    ,  0.    ,  0.    ,  0.    ],\n",
       "       [ 0.    ,  0.549 ,  1.1804,  1.6353,  1.1608,  0.6039,  0.2235,  0.2235,  0.2235,  0.2235,\n",
       "         0.1608,  0.098 ,  0.0471,  0.0353,  0.0588,  0.1098,  0.3608,  0.9843,  1.    ,  0.749 ,\n",
       "         0.0902,  0.    ,  0.    ,  0.    ,  0.    ,  0.    ,  0.    ,  0.    ],\n",
       "       [ 0.    ,  0.3373,  0.349 ,  0.1686, -0.3843, -0.6118, -0.6471, -0.6471, -0.8824, -1.4235,\n",
       "        -1.9647, -2.2706, -2.2706, -2.2706, -2.0078, -1.3765, -0.6196,  0.1294,  0.9059,  0.9882,\n",
       "         0.7333,  0.0824,  0.    ,  0.    ,  0.    ,  0.    ,  0.    ,  0.    ],\n",
       "       [ 0.    , -0.7373, -1.4118, -2.1765, -2.2196, -2.3255, -2.3412, -2.3412, -2.1059, -1.5647,\n",
       "        -1.0235, -0.7176, -0.7176, -0.7176, -0.9804, -1.4784, -1.4   , -0.898 ,  0.0941,  0.6235,\n",
       "         0.6235,  0.3686,  0.    ,  0.    ,  0.    ,  0.    ,  0.    ,  0.    ],\n",
       "       [ 0.    , -0.149 , -0.4706, -0.5216, -0.3725, -0.051 ,  0.    ,  0.    ,  0.    ,  0.    ,\n",
       "         0.    ,  0.    ,  0.    ,  0.    ,  0.    , -0.1333, -0.6392, -0.6392, -0.5059,  0.4667,\n",
       "         0.4667,  0.4667,  0.    ,  0.    ,  0.    ,  0.    ,  0.    ,  0.    ],\n",
       "       [ 0.    ,  0.    ,  0.    ,  0.    ,  0.    ,  0.    ,  0.    ,  0.    ,  0.    ,  0.    ,\n",
       "         0.    ,  0.    ,  0.    ,  0.    ,  0.    ,  0.    ,  0.    ,  0.    ,  0.    ,  0.    ,\n",
       "         0.    ,  0.    ,  0.    ,  0.    ,  0.    ,  0.    ,  0.    ,  0.    ],\n",
       "       [ 0.    ,  0.    ,  0.    ,  0.    ,  0.    ,  0.    ,  0.    ,  0.    ,  0.    ,  0.    ,\n",
       "         0.    ,  0.    ,  0.    ,  0.    ,  0.    ,  0.4157,  0.702 ,  0.702 ,  0.2863,  0.0353,\n",
       "         0.2353,  0.2353,  0.2   ,  0.    ,  0.    ,  0.    ,  0.    ,  0.    ],\n",
       "       [ 0.    ,  0.    ,  0.    ,  0.    ,  0.    ,  0.    ,  0.    ,  0.    ,  0.    ,  0.    ,\n",
       "         0.098 ,  0.5569,  1.451 ,  2.2471,  2.6824,  2.3647,  1.851 ,  0.9569,  0.3804,  0.0431,\n",
       "         0.7843,  0.7843,  0.7412,  0.    ,  0.    ,  0.    ,  0.    ,  0.    ],\n",
       "       [ 0.    ,  0.    ,  0.    ,  0.    ,  0.    ,  0.    ,  0.    ,  0.    ,  0.2667,  0.7333,\n",
       "         1.498 ,  1.7686,  1.4039,  0.7412,  0.3059,  0.2078,  0.1059,  0.0039,  0.    ,  0.    ,\n",
       "        -0.3843, -0.3843, -0.3843,  0.    ,  0.    ,  0.    ,  0.    ,  0.    ],\n",
       "       [ 0.    ,  0.    ,  0.    ,  0.    ,  0.    ,  0.    ,  0.1451,  0.8784,  1.6039,  1.9882,\n",
       "         1.3882,  0.6627,  0.0118, -0.3098, -0.498 , -1.0784, -1.6196, -1.5843, -0.8824, -0.1529,\n",
       "        -0.098 , -0.098 , -0.098 ,  0.    ,  0.    ,  0.    ,  0.    ,  0.    ],\n",
       "       [ 0.    ,  0.    ,  0.    ,  0.    ,  0.    ,  0.4431,  1.1569,  1.4196,  0.9333,  0.1137,\n",
       "        -0.6941, -1.298 , -1.9451, -2.2078, -2.3686, -1.9098, -1.3686, -0.6196, -0.3255, -0.1098,\n",
       "        -0.349 , -0.349 , -0.298 ,  0.    ,  0.    ,  0.    ,  0.    ,  0.    ],\n",
       "       [ 0.    ,  0.    ,  0.    ,  0.    ,  0.    ,  0.2196,  0.3569,  0.051 , -0.8745, -1.902 ,\n",
       "        -2.0471, -1.6902, -0.9216, -0.4706, -0.1216,  0.    ,  0.1882,  0.3098,  0.3098,  0.0941,\n",
       "        -0.1882, -0.1882, -0.1608,  0.    ,  0.    ,  0.    ,  0.    ,  0.    ],\n",
       "       [ 0.    ,  0.    ,  0.    ,  0.    ,  0.    , -0.5922, -1.102 , -1.7922, -1.4431, -0.9333,\n",
       "        -0.2431,  0.    ,  0.    ,  0.    ,  0.    ,  0.    ,  0.1412,  0.2314,  0.2314, -0.1765,\n",
       "        -0.2667, -0.2667,  0.    ,  0.    ,  0.    ,  0.    ,  0.    ,  0.    ],\n",
       "       [ 0.    ,  0.    ,  0.    ,  0.    ,  0.    , -0.0706, -0.5569, -0.5569, -0.4863,  0.    ,\n",
       "         0.    ,  0.    ,  0.    ,  0.    ,  0.    ,  0.    ,  0.2157,  0.2157,  0.1529, -0.4902,\n",
       "        -0.4902, -0.4275,  0.    ,  0.    ,  0.    ,  0.    ,  0.    ,  0.    ],\n",
       "       [ 0.    ,  0.    ,  0.    ,  0.    ,  0.    ,  0.    ,  0.    ,  0.    ,  0.    ,  0.    ,\n",
       "         0.    ,  0.    ,  0.    ,  0.    ,  0.    ,  0.8235,  1.2588,  1.2588,  0.1608, -0.498 ,\n",
       "        -0.498 , -0.2235,  0.    ,  0.    ,  0.    ,  0.    ,  0.    ,  0.    ],\n",
       "       [ 0.    ,  0.    ,  0.    ,  0.    ,  0.    ,  0.    ,  0.    ,  0.    ,  0.    ,  0.    ,\n",
       "         0.    ,  0.    ,  0.    ,  0.    ,  0.    ,  0.1255,  0.1412,  0.0824, -0.4784, -0.4941,\n",
       "        -0.4353,  0.    ,  0.    ,  0.    ,  0.    ,  0.    ,  0.    ,  0.    ],\n",
       "       [ 0.    ,  0.    ,  0.    ,  0.    ,  0.    ,  0.    ,  0.    ,  0.    ,  0.    ,  0.    ,\n",
       "         0.    ,  0.    ,  0.    ,  0.    ,  0.349 ,  0.3843,  0.3333, -0.6157, -0.8745, -0.8235,\n",
       "        -0.2235,  0.    ,  0.    ,  0.    ,  0.    ,  0.    ,  0.    ,  0.    ],\n",
       "       [ 0.    ,  0.    ,  0.    ,  0.    ,  0.    ,  0.    ,  0.    ,  0.    ,  0.    ,  0.    ,\n",
       "         0.    ,  0.    ,  0.    ,  0.0196,  0.4784,  0.4588,  0.1098, -0.6863, -0.6667, -0.3373,\n",
       "         0.    ,  0.    ,  0.    ,  0.    ,  0.    ,  0.    ,  0.    ,  0.    ],\n",
       "       [ 0.    ,  0.    ,  0.    ,  0.    ,  0.    ,  0.    ,  0.    ,  0.    ,  0.    ,  0.    ,\n",
       "         0.    ,  0.    ,  0.    , -0.0039, -0.3529, -1.0471, -1.6588, -1.3098, -0.6157,  0.    ,\n",
       "         0.    ,  0.    ,  0.    ,  0.    ,  0.    ,  0.    ,  0.    ,  0.    ],\n",
       "       [ 0.    ,  0.    ,  0.    ,  0.    ,  0.    ,  0.    ,  0.    ,  0.    ,  0.    ,  0.    ,\n",
       "         0.    ,  0.    ,  0.    , -0.0157, -0.4745, -0.7451, -0.7294, -0.2706,  0.    ,  0.    ,\n",
       "         0.    ,  0.    ,  0.    ,  0.    ,  0.    ,  0.    ,  0.    ,  0.    ]], dtype=float32)"
      ]
     },
     "execution_count": 11,
     "metadata": {},
     "output_type": "execute_result"
    }
   ],
   "source": [
    "corrtop = correlate(images[0], top)\n",
    "corrtop[dims]"
   ]
  },
  {
   "cell_type": "code",
   "execution_count": 12,
   "metadata": {},
   "outputs": [
    {
     "data": {
      "image/png": "[encoded data removed]",
      "text/plain": [
       "<matplotlib.figure.Figure at 0x1b32b36aa58>"
      ]
     },
     "metadata": {},
     "output_type": "display_data"
    }
   ],
   "source": [
    "plot(corrtop[dims])"
   ]
  },
  {
   "cell_type": "code",
   "execution_count": 13,
   "metadata": {},
   "outputs": [
    {
     "data": {
      "image/png": "[encoded data removed]",
      "text/plain": [
       "<matplotlib.figure.Figure at 0x1b32b9bde10>"
      ]
     },
     "metadata": {},
     "output_type": "display_data"
    }
   ],
   "source": [
    "plot(corrtop)"
   ]
  },
  {
   "cell_type": "markdown",
   "metadata": {},
   "source": [
    "We see that in correlating image and the filter, we get a new image where lines/edges on top a shape is highlighted. Before deep learning this is what people would do by hand in crafting features for their image recognition models - i.e. feature engineering.\n",
    "\n",
    "We can then rotate our filter 90 degrees."
   ]
  },
  {
   "cell_type": "code",
   "execution_count": 14,
   "metadata": {},
   "outputs": [
    {
     "data": {
      "text/plain": [
       "array([[-1,  1,  0],\n",
       "       [-1,  1,  0],\n",
       "       [-1,  1,  0]])"
      ]
     },
     "execution_count": 14,
     "metadata": {},
     "output_type": "execute_result"
    }
   ],
   "source": [
    "np.rot90(top, 1)"
   ]
  },
  {
   "cell_type": "markdown",
   "metadata": {},
   "source": [
    "When we keep rotating we get filters in which we can detect edges on all sides of shapes in our image."
   ]
  },
  {
   "cell_type": "code",
   "execution_count": 15,
   "metadata": {},
   "outputs": [
    {
     "data": {
      "image/png": "[encoded data removed]",
      "text/plain": [
       "<matplotlib.figure.Figure at 0x1b32b2fd978>"
      ]
     },
     "metadata": {},
     "output_type": "display_data"
    }
   ],
   "source": [
    "straights = [np.rot90(top, i) for i in range(4)]\n",
    "plots(straights)"
   ]
  },
  {
   "cell_type": "markdown",
   "metadata": {},
   "source": [
    "All imagerecognition today basically utalises convolutional neural networks. How did they get that name?\n",
    "\n",
    "What does convolution mean? Well basically it's the same mathematical opperation as when correlating. The only difference is that in convolution you take the original filter and rotate it 180 degrees before performing the mathematical opperations.\n",
    "\n",
    "We can easily proove that."
   ]
  },
  {
   "cell_type": "code",
   "execution_count": 16,
   "metadata": {
    "scrolled": true
   },
   "outputs": [
    {
     "data": {
      "text/plain": [
       "True"
      ]
     },
     "execution_count": 16,
     "metadata": {},
     "output_type": "execute_result"
    },
    {
     "data": {
      "image/png": "[encoded data removed]",
      "text/plain": [
       "<matplotlib.figure.Figure at 0x1b32b44cc88>"
      ]
     },
     "metadata": {},
     "output_type": "display_data"
    }
   ],
   "source": [
    "# Perform the convolution on the original filter rotated 180 degrees perfore. When\n",
    "# we convolve it will be rotated 180 degrees again and we get the original shape again.\n",
    "convtop = convolve(images[0], np.rot90(top, 2))\n",
    "\n",
    "# We then plot the output of the convolution and see that it is exactly the same output\n",
    "# as our correlation above.\n",
    "plot(convtop)\n",
    "np.allclose(convtop, corrtop)"
   ]
  },
  {
   "cell_type": "markdown",
   "metadata": {},
   "source": [
    "We can also make filters that detect diagonal edges."
   ]
  },
  {
   "cell_type": "code",
   "execution_count": 17,
   "metadata": {},
   "outputs": [
    {
     "data": {
      "image/png": "[encoded data removed]",
      "text/plain": [
       "<matplotlib.figure.Figure at 0x1b32b4f4748>"
      ]
     },
     "metadata": {},
     "output_type": "display_data"
    }
   ],
   "source": [
    "br = [[ 0, 0, 1],\n",
    "      [ 0, 1,-1.5],\n",
    "      [ 1,-1.5, 0]]\n",
    "\n",
    "diags = [np.rot90(br, i) for i in range(4)]\n",
    "plots(diags)"
   ]
  },
  {
   "cell_type": "markdown",
   "metadata": {},
   "source": [
    "We can then correlate all the filters across our image and see that we can detect all the edges of the image. Thus we have some engineered features."
   ]
  },
  {
   "cell_type": "code",
   "execution_count": 18,
   "metadata": {},
   "outputs": [
    {
     "data": {
      "image/png": "[encoded data removed]",
      "text/plain": [
       "<matplotlib.figure.Figure at 0x1b32b4f4da0>"
      ]
     },
     "metadata": {},
     "output_type": "display_data"
    }
   ],
   "source": [
    "rots = straights + diags\n",
    "corrs = [correlate(images[0], rot) for rot in rots]\n",
    "plots(corrs)"
   ]
  },
  {
   "cell_type": "markdown",
   "metadata": {},
   "source": [
    "In deep learning we basically wants to extract the fingerprint of each image. That is, how does a certain object look on average across all images of the object in the trianing data set.\n",
    "\n",
    "A way to do this is to use max pooling. We shift across the image again, this time in a 7 x 7 grid and return the max pixel. I.e. the brightest pixel. Thus for each filter we get a 4 x 4 representation of the image. Essentially our \"finger print.\""
   ]
  },
  {
   "cell_type": "code",
   "execution_count": 19,
   "metadata": {},
   "outputs": [
    {
     "data": {
      "image/png": "[encoded data removed]",
      "text/plain": [
       "<matplotlib.figure.Figure at 0x1b32b204128>"
      ]
     },
     "metadata": {},
     "output_type": "display_data"
    }
   ],
   "source": [
    "def pool(im): return block_reduce(im, (7, 7), np.max)\n",
    "\n",
    "plots([pool(im) for im in corrs])"
   ]
  },
  {
   "cell_type": "markdown",
   "metadata": {},
   "source": [
    "We can then utalise this on our data set in order to classify ones and eights (chosen as they are subjectively the most different types of numbers). We start by grapping the ones and eights and plotting some examples."
   ]
  },
  {
   "cell_type": "code",
   "execution_count": 20,
   "metadata": {
    "collapsed": true
   },
   "outputs": [],
   "source": [
    "eights = [images[i] for i in range(n) if labels[i] == 8]\n",
    "ones = [images[i] for i in range(n) if labels[i] == 1]"
   ]
  },
  {
   "cell_type": "code",
   "execution_count": 21,
   "metadata": {},
   "outputs": [
    {
     "data": {
      "image/png": "[encoded data removed]",
      "text/plain": [
       "<matplotlib.figure.Figure at 0x1b32b5d8c50>"
      ]
     },
     "metadata": {},
     "output_type": "display_data"
    },
    {
     "data": {
      "image/png": "[encoded data removed]",
      "text/plain": [
       "<matplotlib.figure.Figure at 0x1b32b23cfd0>"
      ]
     },
     "metadata": {},
     "output_type": "display_data"
    }
   ],
   "source": [
    "plots(eights[:5])\n",
    "plots(ones[:5])"
   ]
  },
  {
   "cell_type": "markdown",
   "metadata": {},
   "source": [
    "We then run the correlation with all the filters and do max pooling on top for the eights."
   ]
  },
  {
   "cell_type": "code",
   "execution_count": 22,
   "metadata": {
    "collapsed": true
   },
   "outputs": [],
   "source": [
    "pool8 = [np.array([pool(correlate(im, rot)) for im in eights]) for rot in rots]"
   ]
  },
  {
   "cell_type": "markdown",
   "metadata": {},
   "source": [
    "We see that out dataset has 5389 images containing eights. For each image we now have eight 4 x 4 representations of the image. One for each filter."
   ]
  },
  {
   "cell_type": "code",
   "execution_count": 23,
   "metadata": {},
   "outputs": [
    {
     "data": {
      "text/plain": [
       "(8, (5389, 4, 4))"
      ]
     },
     "execution_count": 23,
     "metadata": {},
     "output_type": "execute_result"
    }
   ],
   "source": [
    "len(pool8), pool8[0].shape"
   ]
  },
  {
   "cell_type": "markdown",
   "metadata": {},
   "source": [
    "And we can plot the first filter of the first 5 images."
   ]
  },
  {
   "cell_type": "code",
   "execution_count": 24,
   "metadata": {},
   "outputs": [
    {
     "data": {
      "image/png": "[encoded data removed]",
      "text/plain": [
       "<matplotlib.figure.Figure at 0x1b32b337a20>"
      ]
     },
     "metadata": {},
     "output_type": "display_data"
    }
   ],
   "source": [
    "plots(pool8[0][0:5])"
   ]
  },
  {
   "cell_type": "markdown",
   "metadata": {},
   "source": [
    "We can then take the mean accross each filter such that we get a filter the average filter representation of all the eights. Having taken the mean, we can also normalise across the filters. We can see this as an ideal representation of an eight."
   ]
  },
  {
   "cell_type": "code",
   "execution_count": 25,
   "metadata": {
    "collapsed": true
   },
   "outputs": [],
   "source": [
    "def normalize(arr): return (arr - arr.mean()) / arr.std()"
   ]
  },
  {
   "cell_type": "code",
   "execution_count": 26,
   "metadata": {
    "collapsed": true
   },
   "outputs": [],
   "source": [
    "filts8 = np.array([ims.mean(axis = 0) for ims in pool8])\n",
    "filts8 = normalize(filts8)"
   ]
  },
  {
   "cell_type": "code",
   "execution_count": 27,
   "metadata": {},
   "outputs": [
    {
     "data": {
      "image/png": "[encoded data removed]",
      "text/plain": [
       "<matplotlib.figure.Figure at 0x1b32b4fc978>"
      ]
     },
     "metadata": {},
     "output_type": "display_data"
    }
   ],
   "source": [
    "plots(filts8)"
   ]
  },
  {
   "cell_type": "markdown",
   "metadata": {},
   "source": [
    "So we have 8 4x4 representations, being the average filter of an eight."
   ]
  },
  {
   "cell_type": "code",
   "execution_count": 28,
   "metadata": {},
   "outputs": [
    {
     "data": {
      "text/plain": [
       "(8, 4, 4)"
      ]
     },
     "execution_count": 28,
     "metadata": {},
     "output_type": "execute_result"
    }
   ],
   "source": [
    "filts8.shape"
   ]
  },
  {
   "cell_type": "markdown",
   "metadata": {},
   "source": [
    "We then do the same for the ones. Immediately wee see a difference in the representation. Eg. ones have strong vetical edges and almost none diagonal edges when compared to the eights."
   ]
  },
  {
   "cell_type": "code",
   "execution_count": 29,
   "metadata": {},
   "outputs": [
    {
     "name": "stdout",
     "output_type": "stream",
     "text": [
      "8 (6179, 4, 4)\n"
     ]
    }
   ],
   "source": [
    "pool1 = [np.array([pool(correlate(im, rot)) for im in ones]) for rot in rots]\n",
    "\n",
    "print(len(pool1), pool1[0].shape)\n",
    "\n",
    "filts1 = np.array([ims.mean(axis=0) for ims in pool1])\n",
    "filts1 = normalize(filts1)"
   ]
  },
  {
   "cell_type": "code",
   "execution_count": 30,
   "metadata": {},
   "outputs": [
    {
     "data": {
      "image/png": "[encoded data removed]",
      "text/plain": [
       "<matplotlib.figure.Figure at 0x1b32b466cf8>"
      ]
     },
     "metadata": {},
     "output_type": "display_data"
    }
   ],
   "source": [
    "plots(filts1)"
   ]
  },
  {
   "cell_type": "markdown",
   "metadata": {},
   "source": [
    "We can then utalise this to make a simple digit recognition algorithm. We do this by correlating every image and filter in our dataset and compare it to the \"ideal\" representations of our ones and eights above.\n",
    "\n",
    "We start we writing a function that performs both the correlation and the max pooling. (Remember `rot` is the 8 filters (4 vertical/horisontal and 4 diagonal)."
   ]
  },
  {
   "cell_type": "code",
   "execution_count": 31,
   "metadata": {
    "collapsed": true
   },
   "outputs": [],
   "source": [
    "def pool_corr(im): return np.array([pool(correlate(im, rot)) for rot in rots])"
   ]
  },
  {
   "cell_type": "markdown",
   "metadata": {},
   "source": [
    "Below we see the calculated correlation for our first eight."
   ]
  },
  {
   "cell_type": "code",
   "execution_count": 32,
   "metadata": {},
   "outputs": [
    {
     "data": {
      "image/png": "[encoded data removed]",
      "text/plain": [
       "<matplotlib.figure.Figure at 0x1b32b601400>"
      ]
     },
     "metadata": {},
     "output_type": "display_data"
    }
   ],
   "source": [
    "plots(pool_corr(eights[0]))"
   ]
  },
  {
   "cell_type": "markdown",
   "metadata": {},
   "source": [
    "We can now define a function to determine wether or not a number is an eight or not."
   ]
  },
  {
   "cell_type": "code",
   "execution_count": 33,
   "metadata": {
    "collapsed": true
   },
   "outputs": [],
   "source": [
    "# Function calculating the sum of squared errors\n",
    "def sse(a, b): return ((a - b) ** 2).sum()\n",
    "\n",
    "# Function returning a 1 if the sum of squared errors between the max pooled image and filter \n",
    "# correlation and the average one filters (the ideal representation) is greater then the sum\n",
    "# of squared errors of the max pooled image and filter correlation and the average eight \n",
    "# filters.\n",
    "def is8_n2(im): return 1 if sse(pool_corr(im), filts1) > sse(pool_corr(im), filts8) else 0"
   ]
  },
  {
   "cell_type": "markdown",
   "metadata": {},
   "source": [
    "We can test this on the first eight image, where we see that we do indeed obtain a lower sum of squared error for the eight filters than for the one filters."
   ]
  },
  {
   "cell_type": "code",
   "execution_count": 34,
   "metadata": {},
   "outputs": [
    {
     "data": {
      "text/plain": [
       "(126.77776, 181.26105)"
      ]
     },
     "execution_count": 34,
     "metadata": {},
     "output_type": "execute_result"
    }
   ],
   "source": [
    "sse(pool_corr(eights[0]), filts8), sse(pool_corr(eights[0]), filts1)"
   ]
  },
  {
   "cell_type": "markdown",
   "metadata": {},
   "source": [
    "We can then run the function across the entire dataset of eights and ones. In the output below we see, that we majorily identify the eights. 5223 out the 5389 eights in the dataset. However, we do also misclassify some of the ones, 287 out of 6179."
   ]
  },
  {
   "cell_type": "code",
   "execution_count": 35,
   "metadata": {},
   "outputs": [
    {
     "data": {
      "text/plain": [
       "[5223, 287]"
      ]
     },
     "execution_count": 35,
     "metadata": {},
     "output_type": "execute_result"
    }
   ],
   "source": [
    "[np.array([is8_n2(im) for im in ims]).sum() for ims in [eights, ones]]"
   ]
  },
  {
   "cell_type": "markdown",
   "metadata": {},
   "source": [
    "We can also do the same for `1 - is8_n2(im)`, that is determine if its not an eight. Here we hit 5892 out of 6179 and mis 166 out of 5389."
   ]
  },
  {
   "cell_type": "code",
   "execution_count": 36,
   "metadata": {
    "scrolled": true
   },
   "outputs": [
    {
     "data": {
      "text/plain": [
       "[166, 5892]"
      ]
     },
     "execution_count": 36,
     "metadata": {},
     "output_type": "execute_result"
    }
   ],
   "source": [
    "[np.array([(1-is8_n2(im)) for im in ims]).sum() for ims in [eights,ones]]"
   ]
  },
  {
   "cell_type": "markdown",
   "metadata": {},
   "source": [
    "We can check the same result when using a different loss function. For instance the sum of absolute errors."
   ]
  },
  {
   "cell_type": "code",
   "execution_count": 37,
   "metadata": {
    "collapsed": true
   },
   "outputs": [],
   "source": [
    "# Function calculating the sum of absolute errors\n",
    "def n1(a, b): return (np.fabs(a - b)).sum()\n",
    "\n",
    "# Function returning a 1 if the sum of absolute errors between the max pooled image and filter \n",
    "# correlation and the average one filters (the ideal representation) is greater then the sum\n",
    "# of absolute errors of the max pooled image and filter correlation and the average eight \n",
    "# filters.\n",
    "def is8_n1(im): return 1 if n1(pool_corr(im),filts1) > n1(pool_corr(im),filts8) else 0"
   ]
  },
  {
   "cell_type": "markdown",
   "metadata": {},
   "source": [
    "For detecting eights we get slightly lower misclassfication (false positives) but also lower true positives."
   ]
  },
  {
   "cell_type": "code",
   "execution_count": 38,
   "metadata": {},
   "outputs": [
    {
     "data": {
      "text/plain": [
       "[5129, 254]"
      ]
     },
     "execution_count": 38,
     "metadata": {},
     "output_type": "execute_result"
    }
   ],
   "source": [
    "[np.array([is8_n1(im) for im in ims]).sum() for ims in [eights,ones]]"
   ]
  },
  {
   "cell_type": "markdown",
   "metadata": {},
   "source": [
    "For detecting \"not eights\" (ones) we get more false positives but also more true positives."
   ]
  },
  {
   "cell_type": "code",
   "execution_count": 39,
   "metadata": {},
   "outputs": [
    {
     "data": {
      "text/plain": [
       "[260, 5925]"
      ]
     },
     "execution_count": 39,
     "metadata": {},
     "output_type": "execute_result"
    }
   ],
   "source": [
    "[np.array([(1-is8_n1(im)) for im in ims]).sum() for ims in [eights,ones]]"
   ]
  },
  {
   "cell_type": "markdown",
   "metadata": {
    "collapsed": true
   },
   "source": [
    "## Making the algorithm better\n",
    "\n",
    "So how do we make this algorithm better?\n",
    "\n",
    "1. Instead of using the 8 simple features (filters) that we created, there are much better alternatives. Specifically there are a lot of better 3 x 3 filters, that we could be using.\n",
    "\n",
    "2. We also treat all the filters as equally important. Some filters might be more important than others.\n",
    "\n",
    "3. More complex filters. Not just lines and diagonals, but eg. corners.\n",
    "\n",
    "Deep learning does all of this for us. Deep learning is simply an optimisation problem across the points specified above (could be more steps, eg. non-linearity). In the optimisation problem we simply start with random values for each filter (we specify the number 8, 100, etc.) The optimisation algorithm then attempts to make the filters better and better for each iteration.\n",
    "\n",
    "The process is that of backpropagation through the neural network. Essentially it is a stochastic gradient descent algorithm, the intuition of which is presented below.\n",
    "\n",
    "## Stochastic Gradient Descent\n",
    "\n",
    "We here present the intuition of stochastic gradient descent, exemplified by linear regression - the deep learning way. We start by importing the libraries adn functions we will use."
   ]
  },
  {
   "cell_type": "code",
   "execution_count": 40,
   "metadata": {
    "collapsed": true
   },
   "outputs": [],
   "source": [
    "%matplotlib inline\n",
    "\n",
    "import math, sys, os\n",
    "import numpy as np\n",
    "\n",
    "from numpy.random import random\n",
    "from matplotlib import pyplot as plt, rcParams, animation, rc\n",
    "from __future__ import print_function, division\n",
    "from ipywidgets import interact, interactive, fixed\n",
    "from ipywidgets.widgets import *\n",
    "from IPython.display import FileLink\n",
    "\n",
    "# Set up matplotlib to display animation in the notebook\n",
    "rc('animation', html = 'html5')\n",
    "rcParams['figure.figsize'] = 3, 3\n",
    "\n",
    "# Set global precision for numpy\n",
    "%precision 4\n",
    "np.set_printoptions(precision = 4, linewidth = 100)"
   ]
  },
  {
   "cell_type": "markdown",
   "metadata": {},
   "source": [
    "Define the function for a line"
   ]
  },
  {
   "cell_type": "code",
   "execution_count": 41,
   "metadata": {
    "collapsed": true
   },
   "outputs": [],
   "source": [
    "def lin(a, b, x): return a * x + b"
   ]
  },
  {
   "cell_type": "markdown",
   "metadata": {},
   "source": [
    "We can then set up some data - i.e. actual values of `a` and `b`."
   ]
  },
  {
   "cell_type": "code",
   "execution_count": 42,
   "metadata": {
    "collapsed": true
   },
   "outputs": [],
   "source": [
    "a = 3.\n",
    "b = 8."
   ]
  },
  {
   "cell_type": "markdown",
   "metadata": {},
   "source": [
    "Next we generate some random data."
   ]
  },
  {
   "cell_type": "code",
   "execution_count": 43,
   "metadata": {
    "collapsed": true
   },
   "outputs": [],
   "source": [
    "n = 30\n",
    "x = random(n)\n",
    "y = lin(a, b, x)"
   ]
  },
  {
   "cell_type": "markdown",
   "metadata": {},
   "source": [
    "So `x` and `y` here is out data based on which we would like to find the values of `a` and `b`, which would be onknown in a real seeting. This is equivalent to finding the values of the optimal filters in the convolution example above. We can consider out data."
   ]
  },
  {
   "cell_type": "code",
   "execution_count": 44,
   "metadata": {},
   "outputs": [
    {
     "data": {
      "text/plain": [
       "array([ 0.4041,  0.6579,  0.0904,  0.5703,  0.7956,  0.0259,  0.0037,  0.6457,  0.125 ,  0.6817,\n",
       "        0.7392,  0.296 ,  0.2347,  0.5008,  0.3126,  0.0321,  0.5661,  0.7986,  0.0209,  0.6541,\n",
       "        0.5651,  0.0891,  0.1011,  0.8209,  0.6943,  0.8771,  0.0105,  0.7529,  0.5557,  0.2635])"
      ]
     },
     "execution_count": 44,
     "metadata": {},
     "output_type": "execute_result"
    }
   ],
   "source": [
    "x"
   ]
  },
  {
   "cell_type": "code",
   "execution_count": 45,
   "metadata": {},
   "outputs": [
    {
     "data": {
      "text/plain": [
       "array([  9.2123,   9.9736,   8.2712,   9.711 ,  10.3868,   8.0777,   8.011 ,   9.9372,   8.375 ,\n",
       "        10.0452,  10.2175,   8.8879,   8.7042,   9.5024,   8.9377,   8.0962,   9.6984,  10.3959,\n",
       "         8.0628,   9.9623,   9.6952,   8.2673,   8.3032,  10.4628,  10.0829,  10.6314,   8.0314,\n",
       "        10.2587,   9.6672,   8.7905])"
      ]
     },
     "execution_count": 45,
     "metadata": {},
     "output_type": "execute_result"
    }
   ],
   "source": [
    "y"
   ]
  },
  {
   "cell_type": "markdown",
   "metadata": {},
   "source": [
    "We can also plot the data."
   ]
  },
  {
   "cell_type": "code",
   "execution_count": 46,
   "metadata": {},
   "outputs": [
    {
     "data": {
      "text/plain": [
       "<matplotlib.collections.PathCollection at 0x1b32b45a470>"
      ]
     },
     "execution_count": 46,
     "metadata": {},
     "output_type": "execute_result"
    },
    {
     "data": {
      "image/png": "[encoded data removed]",
      "text/plain": [
       "<matplotlib.figure.Figure at 0x1b32b846b38>"
      ]
     },
     "metadata": {},
     "output_type": "display_data"
    }
   ],
   "source": [
    "plt.scatter(x, y)"
   ]
  },
  {
   "cell_type": "markdown",
   "metadata": {},
   "source": [
    "We can then evaluate out prediction as before utilising the sum of squared errors, which will be out loss function."
   ]
  },
  {
   "cell_type": "code",
   "execution_count": 47,
   "metadata": {
    "collapsed": true
   },
   "outputs": [],
   "source": [
    "# Function computing the sum of squared error between a vector of predictions and true values.\n",
    "def sse(y, y_pred): return ((y-y_pred)**2).sum()\n",
    "\n",
    "# Function computing the loss function for our liniear regression. \n",
    "def loss(y,a,b,x): return sse(y, lin(a, b, x))\n",
    "\n",
    "# Function computing the \"average\" loss, i,e, taking the root of sum of squared errors and\n",
    "# deviding by the number of observations.\n",
    "def avg_loss(y, a, b, x): return np.sqrt(loss(y, a, b, x) / n)"
   ]
  },
  {
   "cell_type": "markdown",
   "metadata": {},
   "source": [
    "We then initialise the algorithm by chosing some random values of a and b and compute our loss."
   ]
  },
  {
   "cell_type": "code",
   "execution_count": 48,
   "metadata": {},
   "outputs": [
    {
     "data": {
      "text/plain": [
       "8.7960"
      ]
     },
     "execution_count": 48,
     "metadata": {},
     "output_type": "execute_result"
    }
   ],
   "source": [
    "a_guess = -1.\n",
    "b_guess = 1.\n",
    "avg_loss(y, a_guess, b_guess, x)"
   ]
  },
  {
   "cell_type": "markdown",
   "metadata": {},
   "source": [
    "So on average we miss the true values for each x_i with this values. So how do we improve this? Can we improve the result by changing `a` and `b` by a small amount? Yes we can. See the intution in this spreadsheet:"
   ]
  },
  {
   "cell_type": "code",
   "execution_count": 49,
   "metadata": {},
   "outputs": [
    {
     "data": {
      "text/html": [
       "<a href='graddesc.xlsm' target='_blank'>graddesc.xlsm</a><br>"
      ],
      "text/plain": [
       "C:\\Users\\anlaursen\\local-libraries\\deep-learning-intro\\cnn-introduction\\graddesc.xlsm"
      ]
     },
     "execution_count": 49,
     "metadata": {},
     "output_type": "execute_result"
    }
   ],
   "source": [
    "FileLink('graddesc.xlsm')"
   ]
  },
  {
   "cell_type": "markdown",
   "metadata": {},
   "source": [
    "How do we define what a and b should change by? It is up for grabs. It's called the learning rate and here we set it as 0.01."
   ]
  },
  {
   "cell_type": "code",
   "execution_count": 50,
   "metadata": {
    "collapsed": true
   },
   "outputs": [],
   "source": [
    "lr = 0.01\n",
    "\n",
    "# d[(y - (a * x + b)) ** 2, a] = 2 x (b + a x - y)    = x * dy/db"
   ]
  },
  {
   "cell_type": "markdown",
   "metadata": {},
   "source": [
    "We can then specify our optimisation algorithm. This is the gradient descent algorithm."
   ]
  },
  {
   "cell_type": "code",
   "execution_count": 51,
   "metadata": {
    "collapsed": true
   },
   "outputs": [],
   "source": [
    "def upd():\n",
    "    \n",
    "    # Specify the a and b guess as global values.\n",
    "    global a_guess, b_guess\n",
    "    \n",
    "    # Calculate our prediction\n",
    "    y_pred = lin(a_guess, b_guess, x)\n",
    "    \n",
    "    # Calculate the partial derivative (gradient) of the loss function in regards to b\n",
    "    # d[(y - (a * x + b)) ** 2, b] = 2 (b + a x - y) = 2 (y_pred - y)\n",
    "    dydb = 2 * (y_pred - y)\n",
    "    \n",
    "    # Calculate the partial derivative (gradient) of the loss function in regards to a\n",
    "    # d[(y - (a * x + b)) ** 2, a] = 2 x (b + a x - y) = x * dy/db\n",
    "    dyda = x * dydb\n",
    "    \n",
    "    # We then update our guesses by this change multiplied by our learning rate.\n",
    "    a_guess -= lr * dyda.mean()\n",
    "    b_guess -= lr * dydb.mean()"
   ]
  },
  {
   "cell_type": "markdown",
   "metadata": {},
   "source": [
    "We can then animate what happens as we run our stochastic gradient descent algorithm. Note, running the code requires the yasm and ffmpeg library)."
   ]
  },
  {
   "cell_type": "code",
   "execution_count": 52,
   "metadata": {},
   "outputs": [
    {
     "data": {
      "text/html": [
       "<video width=\"500\" height=\"400\" controls autoplay loop>\n",
       "  <source type=\"video/mp4\" src=\"data:video/mp4;base64,AAAAHGZ0eXBNNFYgAAACAGlzb21pc28yYXZjMQAAAAhmcmVlAABM321kYXQAAAKvBgX//6vcRem9\n",
       "5tlIt5Ys2CDZI+7veDI2NCAtIGNvcmUgMTUyIHIyODUxIGJhMjQ4OTkgLSBILjI2NC9NUEVHLTQg\n",
       "QVZDIGNvZGVjIC0gQ29weWxlZnQgMjAwMy0yMDE3IC0gaHR0cDovL3d3dy52aWRlb2xhbi5vcmcv\n",
       "eDI2NC5odG1sIC0gb3B0aW9uczogY2FiYWM9MSByZWY9MyBkZWJsb2NrPTE6MDowIGFuYWx5c2U9\n",
       "MHgzOjB4MTEzIG1lPWhleCBzdWJtZT03IHBzeT0xIHBzeV9yZD0xLjAwOjAuMDAgbWl4ZWRfcmVm\n",
       "PTEgbWVfcmFuZ2U9MTYgY2hyb21hX21lPTEgdHJlbGxpcz0xIDh4OGRjdD0xIGNxbT0wIGRlYWR6\n",
       "b25lPTIxLDExIGZhc3RfcHNraXA9MSBjaHJvbWFfcXBfb2Zmc2V0PS0yIHRocmVhZHM9MTIgbG9v\n",
       "a2FoZWFkX3RocmVhZHM9MiBzbGljZWRfdGhyZWFkcz0wIG5yPTAgZGVjaW1hdGU9MSBpbnRlcmxh\n",
       "Y2VkPTAgYmx1cmF5X2NvbXBhdD0wIGNvbnN0cmFpbmVkX2ludHJhPTAgYmZyYW1lcz0zIGJfcHly\n",
       "YW1pZD0yIGJfYWRhcHQ9MSBiX2JpYXM9MCBkaXJlY3Q9MSB3ZWlnaHRiPTEgb3Blbl9nb3A9MCB3\n",
       "ZWlnaHRwPTIga2V5aW50PTI1MCBrZXlpbnRfbWluPTEwIHNjZW5lY3V0PTQwIGludHJhX3JlZnJl\n",
       "c2g9MCByY19sb29rYWhlYWQ9NDAgcmM9Y3JmIG1idHJlZT0xIGNyZj0yMy4wIHFjb21wPTAuNjAg\n",
       "cXBtaW49MCBxcG1heD02OSBxcHN0ZXA9NCBpcF9yYXRpbz0xLjQwIGFxPTE6MS4wMACAAAASQmWI\n",
       "hAA///73aJ8Cm1pDeoDklcUl20+B/6tncHyP6QMAAAMAAAMAJAL8x7+hB0M0IAAAUInP4LJXTUFR\n",
       "Bq1ViRE7nmVugr3qHwjjbq4yqtZnH2dD/PRH4qMF3383q0XiC6K7q89B8NNF+yB4lSsc8GA2Q9EM\n",
       "SZo46MPVl5rm6Gw5AAO/HLFitLz8wdGg4VGPz5i5I8mKOHWgYBupv7zBnkJvxiBj0xYOY+fs7PmW\n",
       "KD2cI/MAxkj/zeYiCAWubFldf55EwKQ4xVpUzixdhxTIcDRR0cpScRtD8hD8PiT6U7+9fX7PO6z1\n",
       "MrcR4FL7JAJ++cas/l1FnbJYR8SE/p8h1Oy6UW1AdWtLYvsytMGpNCYSJDKIC7Z/2C9r6z9x1aD+\n",
       "FsH4/ZGAsRgJHzXWoK0JP2/S9m+GAoOptAHObb+r+6Sp0Pe21QD1YaNB2v+PgODYYffknNCqITDO\n",
       "NWUC7WUYLt0l3yBVoPKFqCNgDbPu2m3MtQOwb1Iazkn3mRIaHePXQUb2rWlKBYyPij1DzIBzCLKk\n",
       "5aTqpyHOFqqnzw17pzu4fa5Wse1QAFERhnLjjds2VE7sVNyW8xpxgPlPnF5G+i/A+Zs43zGhpsYx\n",
       "LWJrfTthVTfsLntbEL+wY7Q80G3uR1i2xLm6/8OvdIwSThgeAnYx8XmwbxmhP+L/6MfCNSkh7Rvv\n",
       "gq/gOZSLDTAzO0IinWWMzAa0js2PRrvpsD4qmzTEDPUZKEMh+EzNEuMrUqG3Ts3EgirH4QA4VJqB\n",
       "d4NoKpQDKLEw1xaEE3UP7J4tOxGdjKnHE4iZcElZ5qaf7Ha+HiQ15ToGeiFenq6Vr8Voa1VQvVc7\n",
       "yX8DVtrLS0m0ipqenitkpbZnRvDNVR1tFkokeXTnv/+KXg3pN1hCh4/QRlS9l+EnvJFqpIRJRvnC\n",
       "hoUR1hZgqtZxfTqWz8ATu1kDARQKk0AZFGkTSHPamQQazw6AKj6B53x5KAcfzh1T5vtQT3svz/np\n",
       "yrC2PjA62pw4kdhIyzJrDaO47aQJH2Q5wKVU5uTqLGPB3pX/TCcy0ZWdIedYNofGIKsZhlE/+kMN\n",
       "MtCgQV9jr+NdA2Q1Pj7DvldKj4W9XhBHQW/4F/jpXKfNrD892HGvoIBX9OnFxa+SyrSlGJdkylMu\n",
       "dq8O78uzi1dPqTvnP2e8G7q/uvR1uDMXGK7XZ2UkyzoD3Nx5brENdrFuEl7+wpNi0XCjzViHv0aW\n",
       "uOMpv7UDKzoXizh1znI1Rskhr4EfJnUmt460H29ZzFzcrMTkVu1ppCzi9DZtCAkEXcoWYnWadEBV\n",
       "dCHpRKA6ndNtLPzLt87QO70PScNqQE/IcXqu2+tECcDSPfDyItAQMk01CbtpokAIQOFk2+KVeXFc\n",
       "Katxuu7RY//WX4qmQf8AMjGrhS57HBR7yilsR+2fePgX12MBc7NbYrJngJlQK21U1c3KDtxegUfX\n",
       "t/XBck8M2SRxmBR5ivf2L32Y73aB9lVNce0vo4T6IHG81//kmm3SZYS3sICcSyYDB9FLECGzKQul\n",
       "qNbNo5P5+hwSOekxT2YvY9Dm4xtlkUodzbR4FnCSpW2JBixthXTE76ix1s9tPjxyqnMMoxEdmCUJ\n",
       "dBakvm3+F8puwgK2kMss/g9C0MKaYAyFZhWOcZFCWZexjj8s4QkFRE9jcLqgZSsYqzIsaaPWFzlV\n",
       "4uChG4OfOCWlA9tStZZcYrF4OXq1cFXRiwZDlIFzoRAOzY1L4isR8Mv++EzE/fc4+WOkosNTXQl0\n",
       "FkyGywzQ4wfGP0+OH08jx8X5lkvmITfz0neEyV+S/tQGEOLkrX2W4UCCV67deVYTFzQUPABiEod/\n",
       "AXYMBYy5d+zMHJBRpTCooHeUVdbQro334OSrATg/TDRmvF327Gi7BCUCj5fh4CNVYraXA+1NTndS\n",
       "UdXbB20FRUb48dOwtcxmda9sdrkd3kVTKpU5bSIM+XjofMvPwyQO3xpOHqMGD4+SpvDQu0J29ZhY\n",
       "xfe8Q2EXNxteundXwNUQVmTzXpYTz+gtZFDK2RJ20BthYh6qTbxpTsODkrzwicmoTMesDPJrL1Nz\n",
       "q0WXFDQtnU2EZfvaPnFNMvENtlKUqLrZ6HZofcwR/UIItxKUv7f1hrpne/eGAAGZt3TBztSRVrj9\n",
       "fQSYuX+uIH6Ae0aaDcFjbEOBpbl+grSDxFajEWgRe66WyhWLQi2KnfryfNiTBY18iHDIeAhKp+rS\n",
       "48OMraaY5skgLRYArR3R+4GrYAWUIcm3003xCwDT7Ir/b5yJDk/3RWV7fvWFXwJTkGhGOVeB87xn\n",
       "dn1LiKbw6m5vr+g1eACnk5/eTkjMZLGKWAFCGf5kTgHFkwGdjUvcbF7vVzcnfRzDgILFF20yaP1y\n",
       "rGaxIgINw/n1TWm1JCsW5QfnL+hHeAP62doCOf7hi1tEeAD4i5mVUIhxNtoTcZhe8HahJQg2gYub\n",
       "waKomYWhwArHAkROwq3UB1SSX8t+3tIiuquHMlvBksJl8u6O1VuZRasWw4+psZucf98iHUKBesZ8\n",
       "SOMzsNpdNeCyM6gW7Xm0FrDLrnU5RlnS/IbDo5p6x4WdPTg1Kc+vqbD33LffPhOTKa9AhL+PnTNM\n",
       "GuOoLo+2ib3IEaFPjK2bJ2CZdnN5XVwxXK5zTEZuwTVvvD+bDYkjF+nXHHLJpe+gsw7GgOUFZ5WI\n",
       "ba4HA9W2jvHUOox0TMSOBgEYQNqVuwDsVIFhG9Xl+Jvf9WoULhAyOHs04PUvPz//DiinB2jYxwPA\n",
       "CeUF2pqtxTK0RYK8jaDG7qHX18HliEV50VEKkWWmLmM4Lh/izIv/AuFMHnAxv3hIaaaSpcAuuF6s\n",
       "f71SWKOIq7hFZsnvefyjrhe3iBeP6pc0H6qyG/4WQVvqnlI8lGXD6OGeYgueFMACoDR1fQiL/urs\n",
       "MfPUQwGyP7eF86I3PZp8Ej6u+009ygCRID7TbCBs1DNR6hH9DQHFHNAP8LWWd1VxWgajBr0QW6in\n",
       "HQTphZnvVTip1nsBiGoHdtqqpLzvYe1QmwAiaMUnGf46RZkz2BlCGAG15f24hM5njwTzRS3ZCMzP\n",
       "5SkEH9f4/Bssn2vchcwk7njlHk+y3nO8N1/5mq8S0kOpARa6gwue26K3UxsiCMnB0cR1HrKxe1+1\n",
       "hmUGJnxEQ9wKeHck3EH6jizVmiul3NQKHoYkI9/aIOftqHJkeqBPh0qtYZs8GR7Cp6YFfJX1T4Ir\n",
       "86X+IBYy/EB/oga09iD8kG6TZ98QfFk2AncXju38TH6rEdwopcII2f9d8aKh6HVcyAx4HHBBq9rC\n",
       "XXYW/dwfX90RauSA34styEMp5fiOYL0+ce3zav5QvVhdwHHPUVcaKIMyuH5/bAka7EGmo60MQwie\n",
       "q4q/g5rcIYH9lFxjRxZ91fND/VnPkL1Ls4rijgl9PVsXONTGDAWKbQ7TJHgLEqf1ppS58eENWKiX\n",
       "kXtYq1LrvFNeOP6wUY+C3EivvGTUgy4p06VSo91kpmK1QJatPtfP0Wwew7IFefaRWZ+jg4BBOzE8\n",
       "JNX/6iRhP/MXM3+JkgAJWAOI4c2q/qKFkzH2GrivYEwHSmTZ6E6BRu3bg0tuN5QZsMAKAZtLZgqh\n",
       "nXv/1c/BEk+lGmI0I2kK6Irx3sBCQwmrYfkUrvM78C/Q3YE0PRy0PQj+5LFB1dXXmCY743gWlYVH\n",
       "G+mdE0VCnvKNgQHBH5gx8vYSND+elCQS9wx+AknI/C40AlaSyYSE9YxQfYv5glDWFnWRJSVL8Wvk\n",
       "qo56ASdavPyP5sMXvNFurryjInYSqlkS53djjjRXxdHsWr0iVHLwKXL0v3JaeKQGFrrQZt620fSZ\n",
       "ec2vzWu/ufD1Yc7SSRD1oq+SVU1ayRxhRBk7v7KXKLpJhsEAXxZPsjuHQdTQwmTBSFTpHQxkiLDz\n",
       "KQoYhwemE4LoWoLez/+6ATPvgNF26vSFBGE6w4O8t/HYrwMN2+s0r7rW/PCbYaLk+UrfFV2JrqWR\n",
       "ZSPVcOzZmBMDJnAwdSa2zeBPID3JUxMD6egIEqjo0QyXrvheaw0ZiPIsFaL96sDliR0fMx/3Xi/j\n",
       "qaquXJtdOvATNd3sxFrPJFyVaw3jo8+o1nux9B8kZg4k54LPzscHeMrZ7MqqEBcKJIQ7surnlFn5\n",
       "bVvsm7IbNImCwMQ9bV3Mf1hN3zHEFnLOiJZpMBMIMQX5JKs51GsH05Df6AkKX3c7YaGSNCUEy/9Z\n",
       "3eUcKrit8ZJipeYNveTKQYLjnwbbfzavGYcPczHiyTeVoSNgdZHWFpIEsCuP7hanzIN9aqJ2/61H\n",
       "siu5/6nBp7fj3Ktaa5A+5ii9GOfPaz6vNQQgRpFDfFLgPgkNJgVe079oj4qmXw6bQg6+YiguE6Tx\n",
       "NQpYfp/ZHDxDC2K0TuD4LfBxpQErbBGg6j/d2FzC6CepPUuoB2aqF3h2Tj4m8JwXlupErHqRYIEC\n",
       "ZyopbE3GU05AC48EtFzEHtM/cOadRm77LKaP7gABSrfgAAAapEtw+xAycYh0g0A73wIgNJFMNg6K\n",
       "k/LT/+G+HJ5gXABlb9wpSVPhF3C13gBAZKgWaY+G8UC7X+/81f3VWazKd6XMWzAaPQqq2RTOtsdW\n",
       "wPsBNo+QtD/vEICc0gKKe7sNFgsH8iEzWOCkICzpKXALLzq7FLt4ULISHO6mCRwWtyiHj3tYQdQM\n",
       "dxttG/Zf+gaTCxcp9/xWMqJOAYNf6sln3JIR97mU2FyaBSS4b67PJHuhv3ZMIBkm8LvjltsIIUsp\n",
       "1li3BQAG5bzfJ0Uz7cnQvzC7HzDXqbeliZdhUvdEsyWBfjaAWNxWEqsJDlaN3QJUtu0nZ+BZFA2K\n",
       "dOR8WEWX2Sazw7WnJPkrmjXyIQf1Nxv+GixWk9Q4teDIL5SpoMW6s5n+4YNoJShd5inzfIIlDQj9\n",
       "WX5ZZX0f24s7P7VMkL7+1jo5CSD1cItNtzL0Xrn+vO39qVGVe5rcg6e/2mOKeR0aNZ9huQ11ZdTd\n",
       "DP8t9p+ZCqMbnRArWzeoIbUv/2BZqsY+KYhz0ml6NqeVHbG98Gv0TBsrAe904LPxGaxmaYVvMYDm\n",
       "4t3ylr6kr1JFEhetDGPX2KHl7vNKOURAl3vJpyxes6uwzMNTgGL6ODimntyVdMFRjOsbav1SkiC8\n",
       "v7VI64eRWhPVeh86iPtTkmOZZNl1DLLefoATAZ9laTSKsv5WoHYPBxY+AwsPGand+/62vYIzkozh\n",
       "6rhyDkUrUf0bWTJr7OwfjCkezJPFHoOoh1CJUYndNEQ0CuyZhD3SN7enmk+pmXpT5g3I5xgJSD92\n",
       "zMMRfD4TYuS8jkB1dYCYEx5DFwL9/NpQ447slz8jpjlHOcYq/nda/hCzb5hXVw2zKiMfmlOr+u5C\n",
       "xCUyi4WXPzvdDwypDn1RrQ2cF9QzkgVy3OjjCyy+uySE1G4VGGOXo1YwuF0ouuJvnjjRDzDh93Kd\n",
       "AU5zTpwAoxA4PYtrte46H9QCdGC+h5L/AsILqoKbkZih7ilWHyBqgxmELp1WwLsBtPMC+aWwxe3F\n",
       "YslEoQ3Cw9RNnztUfyKr4G8Q5elPgg230vjTb+bE0d1vn9qU8TSVRUYD+YglLnjCMVxTb12dxa+k\n",
       "PkFxE/jMf9e9WKIPLKHF0BcYRcpAAc0PaW9NkThTAJXOOUJG/ece3JzMMUZMN3UTu4/bksCmFuaP\n",
       "BHZefkZejxWso9xJPxHkjFn4F77HauEkWHw/aRsZWc3Jay/CrbWV6eUQu7HiKtB0jvaS/b1q2Fag\n",
       "k0K9vMGRB9jTwi6CUSobg+z+MLVL8LW+2UoPdvg9x1TdyPX3YlGKjGYLzKZ/6GYJrqSJy+aiJlre\n",
       "kDsfRc7pa566/QC7hXnDGNnQj3Q/2QHwHVERadDLcS+gQ7fSC5Bo+nwvHcyo8yanHXeSMAfR3vaH\n",
       "vCD9P0yv86LtHQkRVY4TTkK7xWPmtadfnG4drFH/syPx4kYzSuCCGTWXBmcg8yk+GiiyL9Wjp1S3\n",
       "waWpVVuOhVcYFKfyKufsmlesVYqYTFYRcFOMyhOXRdi43nuvFRL16Pb12t+pVJ71JNGGYXedUjt8\n",
       "Po0LaJHVMw+bEXJvDcZRE7xDsp22LvXZNR34/4pSj/ne6aex3yWI9hZi4D2Eu1biK0a3PMuvI8Kd\n",
       "SPPZgtyH5O2/XMlG6tLR7C5UERX39+gXFvuIMiypD4+KDc8oF8/w08+qdl1Df7gAIezNT1iJsD9m\n",
       "lhHPL2V321th28gq/BOM2J7qTfuWt0hUmscreUPXBZrmngLIxyeQ6hZcA7rsd/w21gqwAACDgQAA\n",
       "AdJBmiFsQ7/+qZYAEoYNvQCyLVkOFcBz99QLteBb6wgrazguccvoZlZxN6xYqI14WXaerl41EUex\n",
       "Bnn5c+cIV91XydZdM6/ScU3sTFabibybVhwWoH4cXInbfenq9bNhGQU6ZmGj4+FkNvgFE6wj3PfQ\n",
       "5yLqTzdppAyNqFQ6wQCCv38wjtJTnvenp0ssWUghU9YWsSS0wlmNJUvd+Y/Px5j8EuzYOIblhYYY\n",
       "sDjoLC1+4IuwB7jeBokGR+zTS7GGCVZE4VlOetj8T4fa1dstUI3R6pZ3g7EcXwXNWfAmJXLxh7Cn\n",
       "tMyIPLI17i78bTb6C2X1zms6LWN570gAiavW3ojn8IgYoJEODHHcW9setSYbjBJmJesCvV9yVgl+\n",
       "s6BzZku9GDlmqzIb0EVolgeXkGUgVcnBlRhUuvW5Zb3plI5H5mqSUMJINz6eCn5rFnFBa3bW7Bmd\n",
       "YUlhfndHgENgin3kF6WHPoMus+ZN0RpBAAksXfvrRPTALr6Ulrhu2I6D6deBAAADA15ZB9Q3xPgN\n",
       "oSpIpxyJ2KugIE2y30MHo6PNhUAbrELvBxJ8ioMtueB3LIKiEsMAlwZDTs59+gAyL9LOIB5aFNAl\n",
       "1j7t2FiXUxe01w0BAAACVUGaQjwhkymEN//+p4QAABRtUAF4ccbSw552KJU6qWMa/1vfLP4Gvuo0\n",
       "g/MQQAr63jN1RFhUMs6pmand9rWy1rMChO466A48i09j09d97/VgGrqO29cZ8noLVn4mLKiRrZx4\n",
       "4J3h4MQPEA8gf7STkescXV7QKhKpwlzWANHpYHbby9wXKLQ2U6M1qPL3Kpl/kDyDP2ir4IhuzH8o\n",
       "fHXkGY5HyYwN/Clrns934sXXKLExpxyp85LjQpErCRewQ2kUsefH+KzUB/dpadROq+xsA/5jWp9X\n",
       "lMpwKOlaF5Qy79cm74QnZJ81SNXK5rE7iKYVUMOobEnYp7KbnUYra7c7vu8cHcB8hxJBX4u49sC8\n",
       "bAA1kM4DQofycZhtPJLSmYGrdwssdHJniEJ9Ll/QK0smaUg4LzaquySI30ETloIm3TPUzSZ/iIaZ\n",
       "kTlv/BRXmQIWMfQFZdObd/Nh8tydC25R233adTWCVurY3bWJOImwQ5O8IlyBHhGynD74Z37EUj6z\n",
       "HYVsbtpGzTNzEToB3HkHMK/cnNEX++tvxO+g/6ogbwRihj5WOM8Pb+qLRTZEjugEwloykvAD8EBf\n",
       "Qsz13Y0ZlrH3yDYlI53ijwydr1vT0jiuSVBRMKyPtC6aQ1QXJ54TRQmF+DZul3gHxxlbzyyUXc5B\n",
       "r3g5INuLZsr6yksBasI2H7j3dGDeaF6Qp7/eib3s2iyis6CiJ4r3Nh4kz1nrKtLj5e+3AWlfVkRx\n",
       "E7nbHnu2WJGHphSGcKfD+LhRuLsrCCYQgGHUAABwdGUvRgVqSxIuCLl8oQAAAxJBmmNJ4Q8mUwIb\n",
       "//6nhAAAT3aWoAiU/4yIUOUfv9iVj2mj1msyd7HfcO2aEbrRZy1znpo3rGhyitfT5qbtBge0rl6L\n",
       "taC7915DxaTDDmN1vMQ9fwzh6kMCpMJDUr3/es0YNF0QKhw+SaOFBlN/0qeF+N8GMFljRqX0QzzG\n",
       "fS5ytq7fsqwlNVl3lKZBt7o7s8zccmrfEx8U09C3k0uKwNRcaZqicfyFXPh3cxEwRB1u6MaLdEmN\n",
       "LGBSZXsxdgDlo2UdNhFKPftMG7qXdMU89eWB8+CUBC9cAV/I+Oi5AbS4Yo81Mu+qKm96JvrUcWYc\n",
       "m1NS+nkLNZWsCjPoaooQ2VDNpIAyqrkRNZi/CPm5uKhztsN2Iyg9T5vL8Oxf9zexCCWfMgryuGDY\n",
       "qYqBVsZ1C/kYRpHyDbYdRhqs/mohPfqcxpxFC5Pi7rVfGMDP/kIDf6+bZIsVlXvUA2z2q8fGpQth\n",
       "e3rijfGergzGPDO1goVSWhKf+l8X1BSL1MwaCDSo8gruw9TuC1LjHoLivvf2YySjITAKrbQ7whPr\n",
       "7A3wmCxv4Q0GuC2U/gox4BAzYpv9kKzz+9zXjZEALe3NmNS1AcfkDyHJhF3h3CBVGahDGa2m05mV\n",
       "cHQYOcaY+s3c4ADGOZfKWmeHltRKozKQBQe1/Gh5H729sGmJr8wtixabF/7yKWaF2MR+3BT16vJO\n",
       "6bYIYl6pwwnRQxDyMhqG7K9HnQ183WOVtOBRCYEoyO18uIOcMtdOmRhyWd7vsHYMB9brPHy+HOIz\n",
       "CLlnz3kVJpWjYgiNUy9eppfSAarNoshBZVuS4Yb4P5fIiCZcOD234nCWpn0YntURXiL7//d1kJQ+\n",
       "yxDs4tituF3zMLDcqjF6Wz3TUooLpl1UKGAnxPYzOmKIjIAhi8kKqZdQaNrLe/GfgpxT7f1qmITb\n",
       "JPrmov0yUwmNl0K3egiAZJjdYOPWhItE/K7GsDXjUcUxn2EVNmStK1ZogiubMHaTaUi4u9HQrPlh\n",
       "3xWaJZwxely7JEJKUAtZLFj/d9dAfBwAADvNAF5BWjLAAwIAAAJKQZqESeEPJlMCH//+qZYAAGKm\n",
       "mqAxvkSu+Yq16QbIG8Dpt7/068DnhRNxWhLftT76fRqRhBN66Y6JpR5TYMNQU8uBDzymzh7uaFIO\n",
       "XrzMpvDl/a8dZbm7AT+NF/BbbQyJ8/nO8W84/+wAUa3ou9yOyGSqHYbnoPGkZip04MSy1BOVXjHD\n",
       "rjyFJAqHPKmA62c4PsT3PCY7T9gSAFiPjF73IlYhNVHW12QLKuAZiRXmL8pkiTkTy/idS4HaMkyB\n",
       "2u2sKP2W2wND32qqa6Zn1VtMELC931tGq+tp7Z9NQaf44mEXaYmHt7yxcE+yQ27+QaRIyqZiKvaj\n",
       "kelquByhcFb7jd/essDENqQ7oQ84zJpwgecea0UNBqwiZwoDzOS46WYsZMLVTlLjCDlXGeXI+ZWQ\n",
       "jbXC7Gb5JxQFaHC+TiE5tEIYO7/dmtHHfYYk1Ks8H8MAsHL4wFTLrNkW4vVD1hde2egDX5tcptb5\n",
       "V5tyCpoeYUf8A0OQWLpcgcdvIGr+nRMY+/q1Ve6w5+dULjvvp47XFtsiLxZUKl+Aqskk7GdJxrEn\n",
       "wT+ijUU8IAVZkaQbWs2HD6eKkos18hb65vGxqftjdi2SuZqD+YhW7lynds6yYpBPqq7bGtaD7XLu\n",
       "NPrQCDKSPckOlHf+SUY5ZBs0IwEcWQ54cSQI5xYokUkMbIsh0FVN4RWI426bIF4khpOBAYDvC8EG\n",
       "y3ScX89StCVS2u6h3vaR3g5JAO2g/cewZJ7qFxmszeyC1OreggzUQBcr7GyX5/IAAAMA9hUIOQAA\n",
       "AS9BmqVJ4Q8mUwIf//6plgAA3ktTDncYUaodV9J5sorHZCggzgS0XueGWz4eDYOXoALo9exhagJI\n",
       "ndo5gdjGdX45+eX0K/HUI4LRnkfUEgTpmbEVswIwU7ZjMs9/a17H84J0WkdEHPAPYItXttTldM8s\n",
       "kOEEPBJZmcrclu5BlRJzsOI/KHhqsQ4JAhStPX1g01dcgHpp298shP/ldAnLwnO56q5/ka6MGWid\n",
       "Qm19fOrWDu5v7mcApLUiTZFgs/hgCITJbdtB2nDYgoGo4b/y7TnSiyb8CumsfhsfBK4nNjWmzfWA\n",
       "vn1uVlM197avqL7zp2JnTFTSt1r1vaGSg0n3ZHqMdUsr2jQR6tsZfZ9I+cDv3IHVdixYPDkc7kdH\n",
       "VLkib5uptBFldAikjsbWTiqqAtsAAAGEQZrGSeEPJlMCH//+qZYAAd0zf/Wxn0tN2j2BMRFAhp8G\n",
       "yfaYIH2Tou+6bFzl8+pFm7L1eO/46659RO8j65V3GXhPLYBeUcMpAEr3qnfjDMkeP3hKJPm88wY4\n",
       "pf7fWhYg1ynU+H4Z425ZcOOFjKCBC8SBJTsU8NtuRQoOq0jLUK9u6KxRhofUKO8fEF3US2oqc64j\n",
       "cFnwKYZUZYWNQwMCvSX2iALvNZCoKLFWNhWvAEQFD4NCBzTt+DiV//o1QhQZKB/cINL8a6AmpaoI\n",
       "0rugFaR7ve/nYiDiE865b+vRx9xnPSBwBgBxmdZUyMceUVjUAiIwEhRV7BfrmcadEEiYHxwNR5hm\n",
       "vMzpMg44YMXux4nj/Uhqnl7qPpzFAIQEb6dsIziSYsNzW4axwvaTvzCEIVj46qNqR6SaYcBSWP9C\n",
       "TRyf6ZJ9HLrRRe2HZFye+mf9bLZhO567tG1dfzEMewAKF1sz2qnxht+TCAPWWqSZMZp2+CX04K1h\n",
       "sUgAABCHxxRPqkc5GwAAAYVBmudJ4Q8mUwIIf/6qVQAA+Zgby40KvKwIAAqO1K8d9I0OTnfNbJ0q\n",
       "aUM2ca73Xfd0s/t34dSIJ06Zkh/GGbLCUfLDePd4GakGhoH6oeXqVaTLStT/yoQ2345ofkjuyJc+\n",
       "6iJ5838/JtG2DFdnO/oJeM6gA5tg0y/b0AMr2dx9Oc4qDVkEs4eRPtemElJI+IFJwrZM2MDa+RZF\n",
       "lmuN3VQ5BWDRtKIg0871K1baMmEO7Q44KEQBAQGZm9OF1vfEquuK6jZ50jUI9Cz76T+g/M+Fr7+/\n",
       "eSWmX7dAV6rjOIAMII0sv3H+F+JRfvv2K4ghKkBZbBFgZcWgYvvxMnUIvXbcJgtT7HSiFsAkRMJV\n",
       "V+YWHwp0iGexapXAlMkUTzL2I92af56jET0O3wE8ure/ysK1C92R9DmxDeAAhrUymsW1Jld6zoRl\n",
       "3fuoZv5gvWrQZOly6IByRulecXtzMbbiuyFmqftYDgMsQb3S0XKEoZqM33ahZWBMGcjVrtyh4Ucp\n",
       "hI68dkoM+QAAAXpBmwhJ4Q8mUwIIf/6qVQACEHv/+j46o+bTO/UOdNe9uCvqZ9ocbYNkHXnJUp2b\n",
       "5mQmWomB03w03TfXqJWySzxfExgXyRBbJEsnSvumy7ao9ZtCqxpVg0PttO7DXdOxF1KAQ0yE4BbW\n",
       "/4bG2f3TCTFCSapQf2Ke49w3xE2/Jx1S2PmYIoLoBVp+PLKHlugT3RrBPknuDhJPzZkhYaZurQDM\n",
       "y33GZYueMZQWFpv7gpaMtAh7Mkn6zwCYuRUP/2iEGv1dFXzzqkfkwV1VD3aeWEMpWVMo/iA4auYf\n",
       "2PZwH0vIsFOQYQKmnCbetWLNc491QzeBkOqWgeTBMMN0IYIPlN1BelD3PvkbsggEi/Np933K7Oey\n",
       "qh8IT71CPF8iQd/FTFI+O8/FJvFv8TIRe3+ln4Ee3OMzirZCyON6OPwHdSn72hVjLLxjEtzXvc1d\n",
       "ImS5UBdGQhhFXLfdyXh8H1NhsXOrbfT5stQ/EzzFWmq6jVSz8VV35j7tTf7LC7gAAAHtQZspSeEP\n",
       "JlMCCP/+tSqAASBtieziuesAHQZQ+Q0tC93oyShNCqAg8PZterQlwCIXjq4W4SzKMGaNkIDMU8xe\n",
       "5RFVXTpr6tLl00g5qHb/44beB8snOwBDC1hrdsFxCIjRjgPpR02QBbNanFjO0xQShRJek7I7Ndla\n",
       "cAY4QEAPgTwzUedy37naEjcTTw3wqu311dihMVM3nmvnbKaeWdsFYtdk7ODctX+Rf9JlrrTN26dB\n",
       "DsxFmqQoM768lIt1eD697Etyj+OlvwuQP+/SQCnqpv+lnAJrGNXvHsYQ1suTw3+xsKcAIC0RsCwt\n",
       "udzhnyumIXprXQdfw1zwWQXRDdoIJEEod8Rt5N7rWxuDFUpKnb705uYNSZIP6dseZggopyU+WZtC\n",
       "5l/HbqFZaU45yqIggUvvGhhTAbsKrfwOZxnTQM4yDwJlcjenwsjNXsUFIZV074uU8sjl4vck8mVy\n",
       "OmVNh/hUvEP/kzsF4feNIqedTj+4qZO6rDIZqI6flNuz5MvKtWXam3eW448MfxE87139I03YqQTj\n",
       "bQxH6WZduhzWFhOix/H3OeWvg82dOz2W4ToyASlpOGgsSUY+x2Fgvpyd0dDvktUExcwT5hHmbBH7\n",
       "DMmWPY6lQ6tJ878+LznQdgrZK7q/MB0/90zfFK4woAAAAodBm0tJ4Q8mUwURPBH//rUqgAE4bqWA\n",
       "CE7hi4codTLZ5Edus/sZwBvX4DT+zOYEr99btE8Kpp1mU4MWroA0C85NYDSJxU6UifwHxD2h5R2C\n",
       "zUcTif0+5D8z4FM8ARXPaMlfFENjdTiqMU6CC++g3HmOTn/2aSXigCKIeiwMr12mloBo+XXgd1ta\n",
       "dSzIMOJ7OYzOgBwjLisbrrfgo1NNv/uO/TPCkjl2TWcP3ttyagpfHmki6860JH5S2am+Uea5opdz\n",
       "lfArAFWgCQtWkgru9kkBD00dUSSZaVmGSPlDU5WFrfHyRCBNK29WkBF+8DgRX2Z6rLQ5W5XjNX1L\n",
       "hhEUjTLVh91q0MXFNE7frqt428JTlWoHh+tsuU9+IuH6J+93ehbEF8ET/XEfmA6Rg5ItQjkfvKcg\n",
       "Zlo9Sn6b8YSVMuYYqC01d7oyDlIUdcjoDVwdOnNrhfLN/eIYbdbiZgcVZ4Ikl5TDGENaTCj/OKJ8\n",
       "38XW4jHHeeSW4X1MBgZUK+kjkdG5x4kxhm6458bXYVf+geqFiDztMFY9EngvUOFTBaUMwH9UeyY2\n",
       "GwYZRTsK9BxY01TI8GjeEkI+E4lq8IM4iDmx0cpHMS9kLB0BCNXHzP00mzUnrhrSBIFxEDdgGWsv\n",
       "gtC+JYyoHJZf3sHoUBY11BgYzyb+tl6qUZDcv3Y6G6Niy2rw88lvUPMBuHhHV6Ym4LduJU3yRvzr\n",
       "+Qu3StxKmvx0VEMxDbhYBieZzi7UxE30sJ1nGoz78TZytLJ9wpsk+N9bnxtbq7J4a1RSoWGgR+Tl\n",
       "oaUJlXhOYBErKFLM7aucfUhVcVs7bi/1lwxTJMjbU1uYW35+Pm7C3ZfR+6eUca11pdlBYhHWwQAA\n",
       "APIBn2pqQ38ABsC6TB7LzWs1vlCJAmnNLsLZUdOE+QACcO2ezLptjjLfy0AfGRC6MJO9q9pnf5DH\n",
       "f+NvKSBdfUvG8zZiZKgrsMfHz+A0K6ueZee8yLpMsUJbuX3KyMy8Xfn3PekQ9nCm7BFSPxje10fA\n",
       "n29K0f4FjZjfC+9xeeq8m3LZpJa6/jViuQzx7TGQ5232SdRZ+yAg16djAtu9PuHO+PtSEurYaCl8\n",
       "KRCkE4l/KV+yi6gOWZ9F2oLOU9sJeWmXRo2eg/e5BuPnvvXhoq4NUfustEY7cE+w8ySdfxL0AM3i\n",
       "A6nQSdc7wUsD8OFQmhMNsAAABIhBm29J4Q8mUwII//61KoAClE/SABOtwxbWek6bTxSpXKz/iiWA\n",
       "4uF7GM16DqhsNdV0522T8+4QwB4LA/phzBCeOkFNUJXb0Eqi/5iCUV/89jpHeRTnL8Pd+8eQSS7v\n",
       "5BD5PmFvsRZDyO7ISaFD8G3Ln2XWo0QU5R5AX2MOXFuSWdVynOld2kvghm4RTp95azz3CIEMW7XI\n",
       "YAHEIpaRe/LWnEH+uZ2KrWmxa/EqHRTfNTpC6h6KM631nfKLX8bQq5sxrq4js86kakag7VnFzqYD\n",
       "GngbUA929AWLHi0iSD8i1wlzDhtgy4nRoixq5qfkdG3RxSqyh2I2puwzVSe6Lt+dsPbLF8oabwYC\n",
       "Q3xi+DoRCxzKNDm22qOWPLdiELxZ090kCTxi9Z256NVNOSP+D+uz3mX5ILU4Ha8HMESQfcUujH/3\n",
       "RalzKbuVUk149r47y9LMj8o+i2WIgmdMNG3hTwVPC2aoWWQgn68fFpp6Kk41RYWyNFXRK5EREC2e\n",
       "YiwvSSwfX597FoFJ36diIz66pNFSmzC7OIgPVUQU6A8e3WoJ5xloyrmpRcYJ3g38hCWHpGjfi3iY\n",
       "dJ9N/vygxMei4h0qpvN2Pk6ZgmTs42etoW3cXqJwsU2L2L9bM1PIhFFAjpVs5dQ8+Tx9ga0bRKYx\n",
       "4DD4qoft08OwzXUoAVIV548sl8Toqobctfp2P/HpxJr6bLcDvi0eQoh2jooeXhG8LjqSVdAX/0y5\n",
       "HbsnyBZjh9zajFoxK3pHrp0i58mpTsvRq6GWhb+PhWHa272FLyhB3WWJhNjOaPGDZ7OWEhesOv4a\n",
       "IgJLThtcl7NoF2rVMfRr5OAF18NXpLzsriU8ErhXATVSzSsUmzXwPWBIPl5o1UyHeaBhj30BwlfN\n",
       "Qqv4IK9TPcJZMp+vbWr/8XqA1WuxWbjT3TWMWxA9+SNtPg2tMRdHKU4Tl+V1T71SkAbBl/PC7zU1\n",
       "8tOlQEshtX3YrNZ+6Egkb//0SoUUaZsL6jeHvOqxWDvdksGsi/gKVbBm5MTF6v1O4sh3btn+p9fa\n",
       "Kt7HYCcGVjwMigQDvpYY/LJ6Z5LvnS0BYKyEjAvmWpK1j51ocI0FTPFOODSGAf7apMDfv5JOWapF\n",
       "mQVij+B0F/HSaJibnT1xyPW3PKcP6i4M9H3IAOCmHBbK8kXiahhpg8fAeiPaVVnj93L3ak8GXDg+\n",
       "jjgqmnSvWA81sBNjk6Xk+8FFEIhwAJKCcRVpztckkcQjZRnzuEuQuJNYs10t4IFZ5RWMxSa1AcKN\n",
       "lpNHKRyPjehw+RxnDq7cHFgtDHhmXV7xYrzL/H8l6lCvRJcuOtsI49Nj9HXXl3HtARNXTD8GBFZH\n",
       "7+LxHdxlVFUFzluvAFdrwynRolAGCdfxUzbXDWfX6MD8F4e/M7Zc09/C4nlxpcxNIjJB+Au8HCS/\n",
       "341yV1oV9OMGaZKTFH+sMZghpz+HB7EyGsqN1u85c6AFD/g+uQePgWUHsZEH+sA8oj6ykCBdqQOI\n",
       "3VBNMZuNYKteuk0J7dcqNX0J6o/d+M4B7eT27NjqUORWTEmLZGEOCAAAAfRBn41FETw7/wAKCq9d\n",
       "gA/8CFZ7IAAQ/XSOg9Zff9mTI+A0GEErAHaaMtOh/EhKVx+OU4mPUgYa5cYWbcbQOLRH9tnmUBHV\n",
       "KiduXTqYZlrLGc3dEQ7llxapsf84OTdysTkSR6B56PByHWZS11PB3NgrD2hRKyr+uqi+Wu0g5z1L\n",
       "6XcS3Rf+AhtTPEE+Q8X5r7GUEbwc2ApPiQfH2FfD/IR7PwTQdhjttk9iBrqyjIOQnN1niVFEjhle\n",
       "7M/cMnYkIMJoQH42UCXGHHFKI9J/VQYEccHnDTRMVw304cXyQtT9vlsV3tdBYe5Uo+kQgiBKQrlT\n",
       "Q47Fh+5H5zQ61Czgm66qL4VKC/lMGF+fbnmK1O0iAvkwhfHk8trURfdOv2YsWEM/vi7FC9iJUPK2\n",
       "0uWUOAmUBvG6cSCrmE6FNHupLHBQlK+gO9qAQEYvYkY6I4b3c6VZKKsZI2pOYziMfHY2ybLr2qIc\n",
       "znYgfVgmlDXqQ9d2Y9qTkv3h7v7jOg+fLVAlpZgDds4y8f49DCywz8bw0wbhD6v33boobApVu3Yp\n",
       "tX8On21pHWmfJ/aJPKAc6u4bow0Pv1XadCKjZq7HfVTGrGfWwbixbEAzkmMVxs37QEyxv2S7N8iI\n",
       "aP9tVnRAvRqRajSuAsCNBGRKDTFCQjgMbFN5He+5QQAAAUEBn6x0Q38AD+H0m+I2u5wveX5EAJpp\n",
       "CXAWil/Fskgx1IFXsBUJ//2L6bk0Sv45i+0aIb1gAJQcxM976UzaFgkbVMZQXQg8hi942RR6d5pu\n",
       "1jVer9kDoHUKY407KO/M84Mlug4yCnxxT1a9vCmKYLxegwrrombrnD6LkHBTuqopHJ9FxEzW/WxI\n",
       "BrEXjl5tdJ0Ep/PtuzDOFvOXOXbAR7uOiIuUfi8H8uPOz7TPbl3FuXYwkjn0dZ6d4vlszBzF4VI2\n",
       "3CdlIVFDtRd45UIXbDg3iUHP2+15Yx/kchoFFoGs7jdSqI3ybBo871PJ1cRhJnSjNhsJfRWdexzi\n",
       "oTg7pEiv+iDZ32bFi7qAJ21awKtoZdd3S5lv0SY60pU53ajUllhvmcBtHrT7IID4gRbJTyY+AJkA\n",
       "AVQmirOy0gjiwk6JZoEAAAFWAZ+uakN/AA/fc/XkU1VZ+mXlXgA1czICLv/rezWUhtgvY/gxpcuN\n",
       "JN/UZsC0n1OFDhvAL7pVe7QFQKwoTQ6z4JaBB2E4T4kRd58Jq+nb51f+DkNKZBUnigA1e5lidAbh\n",
       "PyCxLuwMthib0lF7iouofWZqJCl/3UihjBwGdsyhiL2O50PCYIKqHwWrlXbMKNZRTN5U67UHbUma\n",
       "f2h2UUnozKINMJgX1xuegjgjh1nuU5aFZjhwO3NJoO0yE4jL3PbX3JpCT6bD/8O8GfKzlwOGbEdQ\n",
       "in7JORMT4bYxuV8BttV+kYecDnyzyWzM1pvSUm7cGTeJOreM4OY62/TvaL7PjnJRwMgundKgOxVc\n",
       "aMMFgfJMRnWbgSRjf2Cg4tUxUkmYPDMv+L/u0L2rEJFoNM+MtUVxyoblYLCnFU8IZJiV//dMIlo9\n",
       "Y4AEL/XCyZfsjIGaiAB/pT8pAAAEskGbs0moQWiZTAgj//61KoACpk/SABdKSxYgBHZA60NBngxG\n",
       "P+vwJNuLOLEt0jt/tcKppL0+xqXHIypRbxDXbb5+Uz1/MgzR/9eagcOGZqG9cdnYrZBrpGxDML01\n",
       "d1kB/H/lkI4N5MeSiTdZqhFBW6frk0rclAnWixfxTmleA181I4G6CyM8Pro/9gIfLaJI7BY3LVIi\n",
       "FmygXm+rLAfIagohfoz8HsWG4DOYf+EiBVd3XIEm7U2ozCp29Z5gnM7RacjsqIF4ZXUq+MxuMVNs\n",
       "LHxpj2DmjS2AkH6p7aolYoypvfGlT7t3uyVSoMylhERJsmQpKSA7WOvjcDSAe7IzjVKSX7si4YCN\n",
       "Z+3LwaqoRGZ2o4oizvOPMLeYk8ekvfabf6I58cX3LyozyZFHnIyss3js0dTHOgz1wtt9++6rw7Q4\n",
       "4Q9csA4SgrcwZvNboJbTWA923aWjT/yuCSV6zPC7GzArBWVBTqZ+IJT0g/nvRIdWgCUuMwVOdEF3\n",
       "S90RDTt+7tm9VuToutWMabskVIOOMviidBeyQItB+hLtvMHIuwv1C316Xc2++3zV9idy7guzPRFY\n",
       "xT/gqzwCXf4vkvL81bQt3H4m3dzF7H9MB4VaFaPZwTgLbhQyDOus9izxjcMNqHUiJfHuIeWPmH+l\n",
       "9evpZ2QCIJFxOQ8tX/b2WbIBDWZ75PdDUiE7bJMFNK4C+OEDPZ+XrI9c5od9TmZ9c5GSZvcesHVm\n",
       "tisfXr9P2+tEkqZDEy4oBtfSCifl41ZKC3cJ/8mRzdHjPODrbYQJJ5bps39y9PkWk2FLje1WmzjR\n",
       "MaLWEsvO2yCCZCQlpekqhniZ8YMqlOVSCneuKGR9+18jR7qeXyLakbhsKa5U2GKpQLUZ4ST6/qA6\n",
       "m0XXDwZB/p6ugwjbMwqqfCvp8v/2yftBkPXDNH9lG1W08GvGQhVNjGR8eUZubBybQC5ZXPdykdeD\n",
       "mb1Pbgl8T1iF1vutgdXL/5BHtKuzBm0N4YpJPe2M0ziKYSRkvyWEiJu6ARAbckKg56KZi28t6c5z\n",
       "4CU+BRPw5FYUbjG1pZ8XicLsyMsXUkYbt7+47/l4HDH1xyPFaMxH1NyHDKTl1gbqGF01R2xebxTn\n",
       "eCT3XdAPCTFfDrU+rtYkMBj31slt/923GybcxHPleO9+vfKp0Q8sTwpAHgwxItyijyfOKrhEJTUw\n",
       "GjZdTfdS1c8ifk8X5HAdyLFcSqInueyCpLpGYbZBrlQo4K4icR8h957/OH0dkhG3xR/2GdItqvZg\n",
       "miftj+Eh/rNQzdkBefE2WCKYN/IxuY3sBQPdi5NPaJsTGNeT6GNJGlgqtS2zeZI9PoF7GOy3/9nx\n",
       "uY+1vqHbZLWZppKWGojAx5kLnH3S8kYsWhIquuzhzfBfE0afMyiGMQT07zf7BAvzKlMDIm9vKAoJ\n",
       "WaBI4GAgvgPUjXqhXPRXy6I8opRO/7UcQ1RJstKJql6StU0NRpFB6jJ0Ha0QHTtAQHnFM6G/Gzjo\n",
       "BK/WKloIpFjefKkgezMFrOLa1b0QXyxtE5Eb0al6orllbqZ+/qZtfp+aWgvBkPPpvtoFIqy9faDj\n",
       "sEhbNCcteomyPuR5LyCl+mUKelqb4NhAfO6AAAABokGf0UURLDv/AApStSoAIg+ErUkSPeKD2R+t\n",
       "YQNxHI76frqDa69In8VJhCbS/EmXQBVklmMpmeAraMYGg6VNTBQ6DqMwkRF3GiNQFeio/tsqRov1\n",
       "XHmOJDRYQfI+jnWKbq4eq1odWfZh0fbf6TM1GF+fu3OoIdKT9tFjNpICaRGN0jcXJCbtWiVOnwLO\n",
       "NFpX0m2TLBNEVCPozE90Vb/6ijV5Q/7bI0BQTi8I0O662USqE/57ZC+CqAWeNKtn8i0dP+di3wz9\n",
       "NdntyzHxFt4XRRRUodwQnirgD44aba9ka/PQrSoxn85ux6Xbmgfir4Gd7KnJyw50+IZ1pLBJYdR8\n",
       "DiVrPscjKt3gE9aJUi28kSGIgCXdsJ6zpCMLh3pXuc4HPQCgNkOEQKSxZPC6/VOMyd01dDXcXej2\n",
       "rAWmNIZ1CCTodOnc5x1F4b42ZDvf46CSflYbihbdZGNdfFvZ+MZnDVdVv03lL+3Y0vJF8zT+q1dG\n",
       "BcZ3dnBMK+/UjTMUjEw8qPvJHHKL8DbA7y33RYJJdHZQbzTiG90IVjABMeDIMoKXqngAAAEuAZ/w\n",
       "dEN/AA/h9V3g618kEAGzugUS8SME++S9IKfraGyFCnugqDVWJlAdlWP4iBSRGGHIlOPVDDAHVWkA\n",
       "sKr/Z4caB73FAnXyidGo43T4WoR86PdrNyioQ23c/KEF8Besa0S3zpHdkQnkU1uPIYdNOtJ7DVI0\n",
       "ozAaf1VdXgBsM9O4EOsy/EGI11EWDnQoaVVpWl3dnMAzbunOeeuUU7Na7z8HZWQI4xuO+LkZ0nKg\n",
       "i3OixNG4lpPD+kGfnGbmklUxmhxURdL7Q8K+BnbVNA9bluj3K4XPHAIEkl7pX8acrHVXrLivvKsM\n",
       "gGvnQWCQ1CqdqYBGmNUoA35+ROjm3sFswEFhIABu3aD+o0zsyF6DVWR2tA9uk3m7toOll2D8RoXB\n",
       "CVix9KAAHUEUSFLZeIEAAAFJAZ/yakN/AA/fdF8FgA2k/9YC9B6tNegIxotnjPQlwnwjfrmi6KnO\n",
       "LcDayyy+V0XXn4WahOrY/vzzkZWEjvX6/D6XGx/CDDne2eHyqwqbSk+xpsv5bZ+OroguL22crWWt\n",
       "t5gyHW7JikY16182P0nThZaffkJ1K/lIoPx75qWgqP2AI1xJBIiVb56R/L2Oec8EJhT6V9bnAX0T\n",
       "I6EOPY2AkrkXer2Wtil7Xy7i7lAC8kpzbc8R8FhMRMVENpXWcRU9FV0zp64C9DQqt8u/wdzS4XW4\n",
       "nLKBy5kLYtk5VHWlJupuw0DY1/0dxldusJbQ78CZ+ONRRcrOgH8jin1CFg9Lecknx9o44nXHa/bp\n",
       "WPpZAWS2u+Pxd9ixwe6OtgyqGiNf8rD5D1AeFDoRtgbx6oLZjC9WLagTjWIKtlhoxdtejxYADVBE\n",
       "SGF16zgAAAPbQZv3SahBbJlMCCP//rUqgAKmT9IAF0kQ55v6BzydGr5CtjNcdDlVG6ZfxWDquU+J\n",
       "Swfn9loK99BK9yIgwg7slWfsm2KtjIEhnRfhvt1pB02WvstV9M8T3cpSL7KYGkXtWGjmivajlFsU\n",
       "TrYp9cdCf5NweAf3FSP27xK+aeJc8Mx+EwuvF/N8oAZirNvN388prqrKoMS+9g+xDSz8jnGubweg\n",
       "vZWCsby3sGTDCNAsBDtSw8LstiT1NHyZHyB9dw6NPPYaFajs51cAZDYwVQogax/v5V78twNE7Xee\n",
       "X4lBQ2sLhugbO8rw5Il8lm+jl7+oiolOXUQckEALtdBR9Kt7hjmUcNS1xtQtHp6TVO6W5Bf4OW+Y\n",
       "KZp/9y2W1O1CQI/XPkcHWv3JpA73T1doc/xIAdnPOJFg5TR0/kNl8FLvQgRKRlJJQxxIL/kzHbm3\n",
       "vC5IGSQ/+Z4eZsbLo8ZPD4QuID6MQSBcqTDMPfq6l6nBAcjmJgLEfYqKaubZwWFdTFv1LbFdpGsW\n",
       "nUidz2IdiqmZBiCXF+wE6+/6Ki1AZm67VgsRd8v5JuR4WYzgFnpRffLwD87pvkF+NIPgULhmxYWB\n",
       "F7S4tIeUke2iCLZOxo8kAjI1dkvoyd4TO5IoShbF+49i/FEdPCF+iPqV45KpzgIIPPjbZ3HSdBL3\n",
       "EH4k2tWuP5XQ69yD5vAIUy0fqq8g0SVePsrsCZE4OQ0xxjkxf5HuRPWyXE2TMkX9LcXyLqux3mwX\n",
       "c8bhlzfjtIDHCXAGTmuElNab412Z/hSLRfB04x9BTV/VVe1p6llzvrhP05IwbMMINOV5nYJzMUFe\n",
       "rYVsfFd9EVe8PX575ckKh8ImLuRXT0/68FWaBobe3OJNQKIII3qYMrL96jJzoOotTsIaxbT9ruZF\n",
       "G0dFuB35A5Jw1fn6LfeOo5eQloQKhOZglynvPxFoq2bopJK0qre0T47JSAP5tU5OB7sTlSv8oPdU\n",
       "A7s2Ni9ZhEW4Q86ia+x3ul2DR4IaMw6q5ym5FThkjC0mlVtNZjMIyYrT1iBS//TSjW9VoZIJAqO/\n",
       "I8/DKXudRz/hJtDeX86xDP2KcDeAew/P1/jJG5DnllCSM8Jsyok2YovFDTQo5nJCJmEBiPlqitMI\n",
       "4daVoBGpki0p2Bs740cp8sir1IAQr7pzedihsr6+FlrYcAIyVmvF6u9YA0D5wzp2msW62mRLoqm1\n",
       "cO0CAbSs7eqjiocOC0ohV+2J74shUiZyBH+2+ewMkyOqvl8Q9BjMpITbqPLsJLRZeX9SsmhtsLZE\n",
       "pqaHX9MgCGLEI46Gh1/XF+JJcAdt+yJPV71gAAABkEGeFUUVLDv/AApXmoAJznF6hbUjSuaRg8qO\n",
       "54gcXvI/Xt6sOrNmRFpVSCFzitqG4lK7tVPFLM5ws8nPy6qQB/03IDzqaQJeNnitkFqSzf+2Y2vw\n",
       "wZerFya5/r8gq3acyDo3eEswyzW6UiJq/N4+y7cZ4Zx7f6epsp5q4+7F01KPOi5Xu/ihJ9o2MfEJ\n",
       "+FITbUgRQwDaGHWLE6B3V8O7yNRjMb4W+Gkcr4fKXmGx4DKZE6KZoUbS2iM9wRWdTPjdL4zkJ1HC\n",
       "TFKUxWdOTpiusF/mlMgOF5E8zgda6IWffZSh+BtnuCZXoH24PV1/eeE9urZxqXLtjt54H2RDLR2R\n",
       "1v/n8hSvxQd86/cTQzXDBDeFlw1UU0poacFuYOoLNqZQW88znua3SD5kzgxH0n8zle4PlVwgMzSH\n",
       "QR2wRbhU++rocOP6DPfOuqiNgRdQfHOjAwSnm5H5FWGRpvYhEoAVr8E2YgdNmzBED8bmsrbWNwtJ\n",
       "DeZau/GOL6wXiwYVi7iiQBkDDcBJkYcQFCC2HdWOYxEAAADpAZ40dEN/AA/h9Vkg3ACFPd8zXxQ6\n",
       "2UUSuZcRqxzy2PgahmgFxBRCOy+uO6IsLxi6OO+6WGlclWEWCFu09U3TaegpJjsh4no0Vkcczl4E\n",
       "evM8w/pnhsaKfyyeJN7fyfSgArjvWIO4byuUABhrNxdKFoTNuZyoHbtr0UFurWl5FMrWr1ph3PpV\n",
       "TKZRBOhSF0f6eQWVsGduFARZSFcijTAXzQUR4Tzv0N7WZMdbydHtncPwuQOfBr3/YCyw1Gu89PSN\n",
       "k9CG0OjnUw8nxVAIifvHKyzTlXFrSpyMywY1dPXlFULAABGRd4ZGiXQAAACyAZ42akN/AA/fdF8F\n",
       "gA2kcKK0cvTRNIAT92ct58FkATNxOlF/9Ma9er1Iv+ZsxszNGE/13uxpVLHMgxcv0CCqaKtqxKmJ\n",
       "IpwnxMsF2wyETp9Ygn4RzuGXpJNVhTCWkfnx2ZRa89/TRYv2zU12hIX8KztDPGe2qPG1zrolwJBs\n",
       "smXLx9PjRPhojTg2UTU8JGLjXs2j48uZvzqTXziehvM4OkwvLZCvOIRNALAStqwcJj3w4QAAApRB\n",
       "mjtJqEFsmUwII//+tSqAArhQ6gAiVJYtr2sRhRFk74XzYznbds1DkTqgoM7JYnYKV49IoLpuzOLz\n",
       "AuClPfGXoJkIRQKGtwFxzE05F9EfqlE72z3bmYwZoGo2NO5llMjALb30H3vqujwm4lnv4UpKlf5y\n",
       "usYJy3MYPoCMC0Cb3mAWXthknZzpV2/nysg2L/pgOoZN4jZDzyAGcsq61c9HdlzinWx5kRvA9flS\n",
       "MXKdGODHRyQA0gPsCUsS1U/EWEoGeAtQ4BvYmyf45WMI6LUaC+lpw5AztZ0SsPNNSPSCtFQRdNbu\n",
       "aXhR6fRuIaFI3jUxc+UWZ9Y/ru5o4jN8w7wqOhEOgRbx0/ixjQfEkK5GGRMgjiGpIuDvC6+ejoGF\n",
       "IZl8yA5miknEAFV77kVd6O0EOEn/dYBBj4NTRvrzwgzPG/udo78KGmCfdjE2YfSULcoYBARvdCsq\n",
       "Ez5vKzmKkCM+25UIUF2QV7gxJK0U3WLMNI/wjrWotkQlz1T87Pfaik1HYodEznONt4kP9C9J8Ihr\n",
       "qC9rfugb62uDdVPMkP7vidG511cueumQ/skE3RiZb/MdDMqFZuCxIjUtoCWoKUYvzDcvQwGvYbjY\n",
       "dfVsw9ByFRxb9gplXHA0UY1pb714uf/jTlNvKP6ij39Xxj6I53UetFBxUpmcKPK5Krkdi1OFaAyc\n",
       "MvtWH9uc+ONe6EP266hQplo1ii1MFdJkZyJgokHJs4JWzsXoe/21+kl8NtXXNZU6/JvLReVyutIS\n",
       "Lmv7CNP3OJEJFiaz/ky3JGdibcIIct1A6tOVhbokjDEnM2E/ABuq8Vrc9o5pncYHmYotqJKgdzcK\n",
       "0KMAacUhKYLScdjVtmTS6K+dpk1E+fY1tCGdiguUbuEAAADIQZ5ZRRUsO/8ACyqw0G0fqACdjZxM\n",
       "IxKJuX3U0IdneVHpQFMQuUGwsS2Yc9UsYTf+ORGdKETQo7LgkSnj52Q/WwMMIiPstr705ORkwxpR\n",
       "8zneBYAy5nVqmo8leF0+nqpb+UT5eN6PMX+BI3hLlXyL9f+xbSqClNR1cFBbC/RLmKoMxQrtAB/Y\n",
       "5G7Evwku3OU10VYb5M3OJfo1OueKJ7aX0ZQ8PA6Na7yobWU75qkXApbB9xpX8YmBrDGT00UnqWEA\n",
       "Blhw3sW4KgUAAABsAZ54dEN/AA7Z8FKgAQ/50gKJTVByoaqQ3bLDTq43nu8YZ8UrumE9/qty2X5h\n",
       "TwAnFsFjsmNMSoGe5aCmbi1rsEzih6Brm5XuBNnFwlga+M1+sMV2CDPjFVRdWqmCwQKT1D/xAAUs\n",
       "RlM1m69BAAAAOgGeempDfwAN+QQfAf2oaaukGLM2XIyhhpWle3XFSQwYNfX9WtbDV0GirMmi3qhM\n",
       "4fMAA0ATEpx+TBoAAAGkQZp/SahBbJlMCCH//qpVAAVNpj8AANMzGnCM+UPyxWUfSmO4jKZ+tMnB\n",
       "S7FSWTVUbPhN6kL768CvTwMk5WJexyV0+LTgXKvIUUQGLgfFLHvh69+fxpleAz9NhubZEkDpj/mE\n",
       "AqPwh2T5TYefKzZyyvCFyb8u4075Oqt/DweSNHOgpdcpobRoHsUzVZkc/lFbh82PgbWN86t4BY5y\n",
       "3YerPmz0ojztHJhLqeK7xdKXoAYb96LtnITQZw9hJP6ZPRQL1L5oitgWoTUMTmFdS6WhX4mvn67o\n",
       "1FuZl3Ceo4cwavzMfh+07P+KtQOhkMuVLV2amyK0GaPA+j2gD3NsenkYsWAaSMAqBL0e2vSsSqhN\n",
       "K9e9JyzvcAhuypToKmGlrayUBLlrqYq8/1AORH9Nzh/HiQVtAACXF8lG2gU89DEAakoBLp8Qjr1D\n",
       "ZBZ98wqc/adSYMdalFO9Kzbeu5TeRWsvkhrzFSysXnkmi5F5t+pBMIlJ4cgEbbXKX6R7bmzBRQ+/\n",
       "6EkilGP33bij33kHno74yr2RmY+g+zYdnu2jcOiGOzZiexSdAAAAe0GenUUVLDv/AApStSoAJ0Z+\n",
       "0nf9sXb/B0mRlM+WJKv3+/dDzFLR2aN2PhvH4mGDt4iKGP3m6pZbJnTNoaeFFT2RTrepxX/Y73pw\n",
       "BNhUBgiMPJ+DDtKbFRduJNJu3KJDXQfJIzzae8n6kQglNt4gmn2XHoADGBykKPBwjQAAACoBnrx0\n",
       "Q38AB5j6NBNkgOdgDbVTaRFDIMfbfKTNXtBtUGYABIQe0zSXGF4AAAApAZ6+akN/AAeYorldWwGd\n",
       "Mznh8ojnxvrCBClIZRttlDVAEJBVCPk1aZwAAAFZQZqjSahBbJlMCCH//qpVAAVNeBJqAD8dgMLp\n",
       "bkUKrhROzN2vTw/0wpxb0ATgWHwIVE4jIJIMxgjNdUEvqpEqAD5PdKihuvw2GZrShD8C1XW870lB\n",
       "YVeVLe23Rhc4u9NeCLgAnogJyEu/HdvVY3bTdh50H0WIzH9KOOrpMowYGTKaIo3b5+G8bndaz7g4\n",
       "ML/UBzO3XILrmjFmmSHk7XtqR9xlqJLjwgcIMXXs9I8tasKHL0lYpkcJeLCWgsz3El0VH9NPlf89\n",
       "LL9BEGRUz8cXNQs13OfxCb31YbWXHt4gTm40DQeFSLcPSivVbc5E/8oQdOTjB6P1a+2vftEmYreJ\n",
       "pUdbuT+6eo7bm46qVlPmwtxwV5BBJxt/k+05mQW4fEsq3zZ43zK20cfGfee72AKwuSxBVGySyifw\n",
       "APGcPRYxXV9z5N3pnb04W0uzQ0GKxpk/pEVmQbX/p3SzAAAAWEGewUUVLDv/AApXmoAJ16R9Jbyg\n",
       "s22HnKEF0imOTrU1Z5HuaBetykY9y2iKJqYcHQAMa1AXPnfrOvVgtBxY3OeC0HvL6h7moxVZSVgY\n",
       "YmAADLCUnZhW92AAAAApAZ7gdEN/AA59JASr3E5xgyAzPf0QbvyvJSNwv4GSbwewC0pLOHuah6UA\n",
       "AAAnAZ7iakN/AAcTuaPBZQ567b0Vy81mAmhfVrOT4tXhAE7+AYqBr8A0AAAAyUGa50moQWyZTAhv\n",
       "//6nhAAo23JAAhxE1Gsn8e4Zhlsa1bdpgqdItd5yA4gxHM7wvv3osO932p9mew48dwf4HRb6RXCL\n",
       "lTyFyXNSpDniXUf0YEZUyJalVXQ0XE1ut7mWLgtyfEFguZGmW7dYd4sLPiqyiZC2nt5Rd70L1lLq\n",
       "7lAMMttlpyOV4YmORh12uA6+m1aKYLobfRMPwzdu+2Ei38RSIPbuP1X+SP41SNvIkPx87P4uhiNB\n",
       "BZ52pHrtKfAR8k/44ISQJTTc1wAAADlBnwVFFSw7/wAEVgu2NNgsq5Krhpf+wfu94jHrXFA9J6Jr\n",
       "EuKbEuKpDPvvODewWmAAd8HtLOVifrkAAAAlAZ8kdEN/AA3SFWdP3XLa5zWSDKoKyX4ctUx2Yp0A\n",
       "swTkuyo/VwAAACcBnyZqQ38ADidwpvpwevkgg4Siwnef5QqWX2aMBXQADvh30bRJabEAAATHbW9v\n",
       "dgAAAGxtdmhkAAAAAAAAAAAAAAAAAAAD6AAAD6AAAQAAAQAAAAAAAAAAAAAAAAEAAAAAAAAAAAAA\n",
       "AAAAAAABAAAAAAAAAAAAAAAAAABAAAAAAAAAAAAAAAAAAAAAAAAAAAAAAAAAAAAAAAAAAgAAA/F0\n",
       "cmFrAAAAXHRraGQAAAADAAAAAAAAAAAAAAABAAAAAAAAD6AAAAAAAAAAAAAAAAAAAAAAAAEAAAAA\n",
       "AAAAAAAAAAAAAAABAAAAAAAAAAAAAAAAAABAAAAAAfQAAAGQAAAAAAAkZWR0cwAAABxlbHN0AAAA\n",
       "AAAAAAEAAA+gAAAIAAABAAAAAANpbWRpYQAAACBtZGhkAAAAAAAAAAAAAAAAAAAoAAAAoABVxAAA\n",
       "AAAALWhkbHIAAAAAAAAAAHZpZGUAAAAAAAAAAAAAAABWaWRlb0hhbmRsZXIAAAADFG1pbmYAAAAU\n",
       "dm1oZAAAAAEAAAAAAAAAAAAAACRkaW5mAAAAHGRyZWYAAAAAAAAAAQAAAAx1cmwgAAAAAQAAAtRz\n",
       "dGJsAAAAtHN0c2QAAAAAAAAAAQAAAKRhdmMxAAAAAAAAAAEAAAAAAAAAAAAAAAAAAAAAAfQBkABI\n",
       "AAAASAAAAAAAAAABAAAAAAAAAAAAAAAAAAAAAAAAAAAAAAAAAAAAAAAAAAAAGP//AAAAMmF2Y0MB\n",
       "ZAAW/+EAGWdkABas2UCAM+fhAAADAAEAAAMAFA8WLZYBAAZo6+PLIsAAAAAcdXVpZGtoQPJfJE/F\n",
       "ujmlG88DI/MAAAAAAAAAGHN0dHMAAAAAAAAAAQAAACgAAAQAAAAAFHN0c3MAAAAAAAAAAQAAAAEA\n",
       "AAEIY3R0cwAAAAAAAAAfAAAACgAACAAAAAABAAAMAAAAAAEAAAQAAAAAAQAAFAAAAAABAAAIAAAA\n",
       "AAEAAAAAAAAAAQAABAAAAAABAAAUAAAAAAEAAAgAAAAAAQAAAAAAAAABAAAEAAAAAAEAABQAAAAA\n",
       "AQAACAAAAAABAAAAAAAAAAEAAAQAAAAAAQAAFAAAAAABAAAIAAAAAAEAAAAAAAAAAQAABAAAAAAB\n",
       "AAAUAAAAAAEAAAgAAAAAAQAAAAAAAAABAAAEAAAAAAEAABQAAAAAAQAACAAAAAABAAAAAAAAAAEA\n",
       "AAQAAAAAAQAAFAAAAAABAAAIAAAAAAEAAAAAAAAAAQAABAAAAAAcc3RzYwAAAAAAAAABAAAAAQAA\n",
       "ACgAAAABAAAAtHN0c3oAAAAAAAAAAAAAACgAABT5AAAB1gAAAlkAAAMWAAACTgAAATMAAAGIAAAB\n",
       "iQAAAX4AAAHxAAACiwAAAPYAAASMAAAB+AAAAUUAAAFaAAAEtgAAAaYAAAEyAAABTQAAA98AAAGU\n",
       "AAAA7QAAALYAAAKYAAAAzAAAAHAAAAA+AAABqAAAAH8AAAAuAAAALQAAAV0AAABcAAAALQAAACsA\n",
       "AADNAAAAPQAAACkAAAArAAAAFHN0Y28AAAAAAAAAAQAAACwAAABidWR0YQAAAFptZXRhAAAAAAAA\n",
       "ACFoZGxyAAAAAAAAAABtZGlyYXBwbAAAAAAAAAAAAAAAAC1pbHN0AAAAJal0b28AAAAdZGF0YQAA\n",
       "AAEAAAAATGF2ZjU3Ljc2LjEwMA==\n",
       "\">\n",
       "  Your browser does not support the video tag.\n",
       "</video>"
      ],
      "text/plain": [
       "<matplotlib.animation.FuncAnimation at 0x1b32b282da0>"
      ]
     },
     "execution_count": 52,
     "metadata": {},
     "output_type": "execute_result"
    }
   ],
   "source": [
    "# Run the animation\n",
    "fig = plt.figure(dpi = 100, figsize = (5, 4))\n",
    "plt.scatter(x, y)\n",
    "line, = plt.plot(x, lin(a_guess, b_guess, x))\n",
    "plt.close()\n",
    "\n",
    "def animate(i):\n",
    "    line.set_ydata(lin(a_guess, b_guess, x))\n",
    "    for i in range(10): upd()\n",
    "    return line,\n",
    "\n",
    "# Run the update 40 times\n",
    "ani = animation.FuncAnimation(fig, animate, np.arange(0, 40), interval = 100)\n",
    "ani"
   ]
  },
  {
   "cell_type": "markdown",
   "metadata": {},
   "source": [
    "In convolutional neural networks we take this approach and apply it on each of our filters. Typically our filters will themselves be input to other filters which will be optimised. This approach can lead to eg. cornor detection by taking som from the horisontal and vertical base filter.\n",
    "\n",
    "On page 824 in [this](https://www.cs.nyu.edu/~fergus/papers/zeilerECCV2014.pdf) paper by [Matthew D. Zeiler](http://www.matthewzeiler.com) and [Rob Fergus](http://cs.nyu.edu/~fergus/pmwiki/pmwiki.php), examples from a five layer CNN is showed, where the filter and activation for the first filter is shown and the activation of the five last filters is shown as well. (Matthew D. Zeiler went on to win ImageNet the year after writing the paper).\n",
    "\n",
    "Deep learning models today typically utilises more than 1000 filters. Imagine the exponential improving levels of semantic richness and the consequences for machine learning models."
   ]
  },
  {
   "cell_type": "code",
   "execution_count": null,
   "metadata": {
    "collapsed": true
   },
   "outputs": [],
   "source": []
  }
 ],
 "metadata": {
  "anaconda-cloud": {},
  "kernelspec": {
   "display_name": "Python 3",
   "language": "python",
   "name": "python3"
  },
  "language_info": {
   "codemirror_mode": {
    "name": "ipython",
    "version": 3
   },
   "file_extension": ".py",
   "mimetype": "text/x-python",
   "name": "python",
   "nbconvert_exporter": "python",
   "pygments_lexer": "ipython3",
   "version": "3.5.3"
  },
  "nav_menu": {},
  "toc": {
   "navigate_menu": true,
   "number_sections": true,
   "sideBar": true,
   "threshold": 6,
   "toc_cell": false,
   "toc_section_display": "block",
   "toc_window_display": false
  },
  "widgets": {
   "state": {
    "3cee143e800a413a9ef4631de8442849": {
     "views": [
      {
       "cell_index": 16
      }
     ]
    }
   },
   "version": "1.2.0"
  }
 },
 "nbformat": 4,
 "nbformat_minor": 1
}
