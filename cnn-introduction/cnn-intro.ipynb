{
 "cells": [
  {
   "cell_type": "markdown",
   "metadata": {},
   "source": [
    "# Introduction to Convolutional Neural Networks\n",
    "\n",
    "This notebook contains code generating examples explaining the intuition of the convolutional filter and max pool step op a convolutional neural network as well as the intuition of the gradient descent algorithm.\n",
    "\n",
    "## The intution of convolution and max pooling\n",
    "\n",
    "We start by importing needed libraries."
   ]
  },
  {
   "cell_type": "code",
   "execution_count": 1,
   "metadata": {
    "collapsed": true
   },
   "outputs": [],
   "source": [
    "%matplotlib inline\n",
    "\n",
    "import math, sys, os\n",
    "import numpy as np\n",
    "import six.moves.cPickle as pickle\n",
    "\n",
    "from numpy.linalg import norm\n",
    "from PIL import Image\n",
    "from matplotlib import pyplot as plt, rcParams, rc\n",
    "from scipy.ndimage import imread\n",
    "from scipy.ndimage.filters import correlate, convolve\n",
    "from skimage.measure import block_reduce\n",
    "from ipywidgets import interact, interactive, fixed\n",
    "from ipywidgets.widgets import *\n",
    "from tensorflow.examples.tutorials.mnist import input_data\n",
    "from __future__ import print_function\n",
    "\n",
    "# Set up matplotlib to display animation in the notebook\n",
    "rc('animation', html = 'html5')\n",
    "rcParams['figure.figsize'] = 3, 6\n",
    "\n",
    "# Set global precision for numpy\n",
    "%precision 4\n",
    "np.set_printoptions(precision = 4, linewidth = 100)"
   ]
  },
  {
   "cell_type": "markdown",
   "metadata": {},
   "source": [
    "We then import the MNIST data set. MNIST is a large dataset of handwritten digits that is commonly used for training various image processing systems and machine learning models.\n",
    "\n",
    "The MNIST dataset is one of the example dataset included with TensorFlow. It has 55,000 handwritten and labeled 28x28 pixel numbers."
   ]
  },
  {
   "cell_type": "code",
   "execution_count": 2,
   "metadata": {},
   "outputs": [
    {
     "name": "stdout",
     "output_type": "stream",
     "text": [
      "Extracting MNIST_data/train-images-idx3-ubyte.gz\n",
      "Extracting MNIST_data/train-labels-idx1-ubyte.gz\n",
      "Extracting MNIST_data/t10k-images-idx3-ubyte.gz\n",
      "Extracting MNIST_data/t10k-labels-idx1-ubyte.gz\n"
     ]
    }
   ],
   "source": [
    "# Read the MNIST dataset from the TensorFlow examples.\n",
    "mnist = input_data.read_data_sets(\"MNIST_data/\")\n",
    "\n",
    "# The images and labels are stores as methods. Extract these into stand alone objects\n",
    "images, labels = mnist.train.images, mnist.train.labels\n",
    "\n",
    "# When importing the images, they are stored in a sing 55000 x 784 numpy array.\n",
    "# That is each image is stored in a one dimensional array of 784 pixels. We reshape\n",
    "# the array, such that each image is instead stored in a 28 x 28 arrauy. Reflecting the\n",
    "# actual shape of the image.\n",
    "images = images.reshape((55000, 28, 28))\n",
    "\n",
    "# Save the array into a single file in compressed .npz format\n",
    "np.savez_compressed(\"MNIST_data/train\", images = images, labels = labels)"
   ]
  },
  {
   "cell_type": "markdown",
   "metadata": {},
   "source": [
    "We then define some plot functions for later use."
   ]
  },
  {
   "cell_type": "code",
   "execution_count": 3,
   "metadata": {
    "collapsed": true
   },
   "outputs": [],
   "source": [
    "def plots(ims, interp = False, titles = None):\n",
    "    \n",
    "    ims=np.array(ims)\n",
    "    mn, mx = ims.min(), ims.max()\n",
    "    \n",
    "    f = plt.figure(figsize = (12, 24))\n",
    "    \n",
    "    for i in range(len(ims)):\n",
    "        \n",
    "        sp = f.add_subplot(1, len(ims), i + 1)\n",
    "        \n",
    "        if not titles is None: sp.set_title(titles[i], fontsize = 18)\n",
    "            \n",
    "        plt.imshow(ims[i], interpolation = None if interp else 'none', vmin = mn,vmax = mx)\n",
    "\n",
    "def plot(im, interp = False):\n",
    "    f = plt.figure(figsize=(3, 6), frameon = True)\n",
    "    plt.imshow(im, interpolation = None if interp else 'none')\n",
    "    \n",
    "def plot_int(im):\n",
    "    f = plt.figure(figsize=(3, 6), frameon = True)\n",
    "    plt.show(im)\n",
    "\n",
    "plt.gray()\n",
    "plt.close()"
   ]
  },
  {
   "cell_type": "markdown",
   "metadata": {},
   "source": [
    "We load the data from the files stored. (We have stored the file earlier, such that we do not have to rely on having TensorFlow available)."
   ]
  },
  {
   "cell_type": "code",
   "execution_count": 4,
   "metadata": {},
   "outputs": [
    {
     "data": {
      "text/plain": [
       "(55000, 28, 28)"
      ]
     },
     "execution_count": 4,
     "metadata": {},
     "output_type": "execute_result"
    }
   ],
   "source": [
    "# Load data\n",
    "data = np.load(\"MNIST_data/train.npz\")\n",
    "\n",
    "# Separate into images and label arrays\n",
    "images = data['images']\n",
    "labels = data['labels']\n",
    "\n",
    "# Define length of array (55,000) and print the shape (dimensions of the array)\n",
    "n = len(images)\n",
    "images.shape"
   ]
  },
  {
   "cell_type": "markdown",
   "metadata": {},
   "source": [
    "We can then plot a sample image and the label."
   ]
  },
  {
   "cell_type": "code",
   "execution_count": 5,
   "metadata": {},
   "outputs": [
    {
     "data": {
      "image/png": "[encoded data removed]",
      "text/plain": [
       "<matplotlib.figure.Figure at 0x28c33910e48>"
      ]
     },
     "metadata": {},
     "output_type": "display_data"
    }
   ],
   "source": [
    "plot(images[0])"
   ]
  },
  {
   "cell_type": "code",
   "execution_count": 6,
   "metadata": {},
   "outputs": [
    {
     "data": {
      "text/plain": [
       "7"
      ]
     },
     "execution_count": 6,
     "metadata": {},
     "output_type": "execute_result"
    }
   ],
   "source": [
    "labels[0]"
   ]
  },
  {
   "cell_type": "markdown",
   "metadata": {},
   "source": [
    "We can also plot the first 5 numbers and associated labels."
   ]
  },
  {
   "cell_type": "code",
   "execution_count": 7,
   "metadata": {},
   "outputs": [
    {
     "data": {
      "image/png": "[encoded data removed]",
      "text/plain": [
       "<matplotlib.figure.Figure at 0x28c339a5b70>"
      ]
     },
     "metadata": {},
     "output_type": "display_data"
    }
   ],
   "source": [
    "plots(images[:5], titles = labels[:5])"
   ]
  },
  {
   "cell_type": "markdown",
   "metadata": {},
   "source": [
    "Now lets define a simple 3 x 3 matrix of pixels. This is our first filter. Now, what will have happen when we shift the filter accross the number matrixes. At each point we multiply the matrices element wise and take the sum.\n",
    "\n",
    "For a cool visualisation of how the multiplication works see [this link](http://setosa.io/ev/image-kernels/)"
   ]
  },
  {
   "cell_type": "code",
   "execution_count": 8,
   "metadata": {},
   "outputs": [
    {
     "data": {
      "image/png": "[encoded data removed]",
      "text/plain": [
       "<matplotlib.figure.Figure at 0x28c3b0e8f98>"
      ]
     },
     "metadata": {},
     "output_type": "display_data"
    }
   ],
   "source": [
    "top = [[-1,-1,-1],\n",
    "       [ 1, 1, 1],\n",
    "       [ 0, 0, 0]]\n",
    "\n",
    "plot(top)"
   ]
  },
  {
   "cell_type": "markdown",
   "metadata": {},
   "source": [
    "Lets zoom in on the top part to see how the filter works on our numbers"
   ]
  },
  {
   "cell_type": "code",
   "execution_count": 9,
   "metadata": {},
   "outputs": [
    {
     "data": {
      "application/vnd.jupyter.widget-view+json": {
       "model_id": "da7a6a2a9dfb45ee961c334e623ed141"
      }
     },
     "metadata": {},
     "output_type": "display_data"
    }
   ],
   "source": [
    "r = (0, 28)\n",
    "def zoomim(x1 = 0, x2 = 28, y1 = 0, y2 = 28):\n",
    "    plot(images[0, y1:y2, x1:x2])\n",
    "    plt.show()\n",
    "    \n",
    "w = interactive(zoomim, x1 = r, x2 = r, y1 = r, y2 = r)\n",
    "w"
   ]
  },
  {
   "cell_type": "markdown",
   "metadata": {},
   "source": [
    "Now lets study what actually happens with the pixels. First we print the actual pixel values of the zoomed image."
   ]
  },
  {
   "cell_type": "code",
   "execution_count": 10,
   "metadata": {},
   "outputs": [
    {
     "data": {
      "text/plain": [
       "array([[ 0.    ,  0.    ,  0.    ,  0.    ,  0.    ,  0.    ,  0.    ,  0.    ,  0.    ,  0.    ,\n",
       "         0.    ,  0.    ,  0.    ,  0.    ,  0.    ,  0.    ],\n",
       "       [ 0.    ,  0.    ,  0.    ,  0.    ,  0.    ,  0.    ,  0.    ,  0.    ,  0.    ,  0.    ,\n",
       "         0.    ,  0.    ,  0.    ,  0.    ,  0.    ,  0.    ],\n",
       "       [ 0.    ,  0.    ,  0.    ,  0.    ,  0.    ,  0.    ,  0.    ,  0.    ,  0.    ,  0.    ,\n",
       "         0.    ,  0.3804,  0.3765,  0.302 ,  0.4627,  0.2392],\n",
       "       [ 0.    ,  0.    ,  0.    ,  0.3529,  0.5412,  0.9216,  0.9216,  0.9216,  0.9216,  0.9216,\n",
       "         0.9216,  0.9843,  0.9843,  0.9725,  0.9961,  0.9608],\n",
       "       [ 0.    ,  0.    ,  0.549 ,  0.9843,  0.9961,  0.9961,  0.9961,  0.9961,  0.9961,  0.9961,\n",
       "         0.9961,  0.9961,  0.9961,  0.9961,  0.9961,  0.9961],\n",
       "       [ 0.    ,  0.    ,  0.8863,  0.9961,  0.8157,  0.7804,  0.7804,  0.7804,  0.7804,  0.5451,\n",
       "         0.2392,  0.2392,  0.2392,  0.2392,  0.2392,  0.502 ],\n",
       "       [ 0.    ,  0.    ,  0.149 ,  0.3216,  0.051 ,  0.    ,  0.    ,  0.    ,  0.    ,  0.    ,\n",
       "         0.    ,  0.    ,  0.    ,  0.    ,  0.    ,  0.    ],\n",
       "       [ 0.    ,  0.    ,  0.    ,  0.    ,  0.    ,  0.    ,  0.    ,  0.    ,  0.    ,  0.    ,\n",
       "         0.    ,  0.    ,  0.    ,  0.    ,  0.    ,  0.    ],\n",
       "       [ 0.    ,  0.    ,  0.    ,  0.    ,  0.    ,  0.    ,  0.    ,  0.    ,  0.    ,  0.    ,\n",
       "         0.    ,  0.    ,  0.    ,  0.    ,  0.    ,  0.    ]], dtype=float32)"
      ]
     },
     "execution_count": 10,
     "metadata": {},
     "output_type": "execute_result"
    }
   ],
   "source": [
    "k = w.kwargs\n",
    "dims = np.index_exp[k['y1']:k['y2']:1, k['x1']:k['x2']]\n",
    "images[0][dims]"
   ]
  },
  {
   "cell_type": "markdown",
   "metadata": {},
   "source": [
    "Now we perform the actual calculation. It is called correlating - in that we correlate the image and the filter. We correlate the image and the filter and print the result as pixel and as image."
   ]
  },
  {
   "cell_type": "code",
   "execution_count": 11,
   "metadata": {},
   "outputs": [
    {
     "data": {
      "text/plain": [
       "array([[ 0.    ,  0.    ,  0.    ,  0.    ,  0.    ,  0.    ,  0.    ,  0.    ,  0.    ,  0.    ,\n",
       "         0.    ,  0.    ,  0.    ,  0.    ,  0.    ,  0.    ],\n",
       "       [ 0.    ,  0.    ,  0.    ,  0.    ,  0.    ,  0.    ,  0.    ,  0.    ,  0.    ,  0.    ,\n",
       "         0.    ,  0.    ,  0.    ,  0.    ,  0.    ,  0.    ],\n",
       "       [ 0.    ,  0.    ,  0.    ,  0.    ,  0.    ,  0.    ,  0.    ,  0.    ,  0.    ,  0.    ,\n",
       "         0.3804,  0.7569,  1.0588,  1.1412,  1.0039,  0.702 ],\n",
       "       [ 0.    ,  0.    ,  0.3529,  0.8941,  1.8157,  2.3843,  2.7647,  2.7647,  2.7647,  2.7647,\n",
       "         2.4471,  2.1333,  1.8824,  1.8118,  1.9255,  2.1765],\n",
       "       [ 0.    ,  0.549 ,  1.1804,  1.6353,  1.1608,  0.6039,  0.2235,  0.2235,  0.2235,  0.2235,\n",
       "         0.1608,  0.098 ,  0.0471,  0.0353,  0.0588,  0.1098],\n",
       "       [ 0.    ,  0.3373,  0.349 ,  0.1686, -0.3843, -0.6118, -0.6471, -0.6471, -0.8824, -1.4235,\n",
       "        -1.9647, -2.2706, -2.2706, -2.2706, -2.0078, -1.3765],\n",
       "       [ 0.    , -0.7373, -1.4118, -2.1765, -2.2196, -2.3255, -2.3412, -2.3412, -2.1059, -1.5647,\n",
       "        -1.0235, -0.7176, -0.7176, -0.7176, -0.9804, -1.4784],\n",
       "       [ 0.    , -0.149 , -0.4706, -0.5216, -0.3725, -0.051 ,  0.    ,  0.    ,  0.    ,  0.    ,\n",
       "         0.    ,  0.    ,  0.    ,  0.    ,  0.    , -0.1333],\n",
       "       [ 0.    ,  0.    ,  0.    ,  0.    ,  0.    ,  0.    ,  0.    ,  0.    ,  0.    ,  0.    ,\n",
       "         0.    ,  0.    ,  0.    ,  0.    ,  0.    ,  0.    ]], dtype=float32)"
      ]
     },
     "execution_count": 11,
     "metadata": {},
     "output_type": "execute_result"
    }
   ],
   "source": [
    "corrtop = correlate(images[0], top)\n",
    "corrtop[dims]"
   ]
  },
  {
   "cell_type": "code",
   "execution_count": 12,
   "metadata": {},
   "outputs": [
    {
     "data": {
      "image/png": "[encoded data removed]",
      "text/plain": [
       "<matplotlib.figure.Figure at 0x28c3b09c630>"
      ]
     },
     "metadata": {},
     "output_type": "display_data"
    }
   ],
   "source": [
    "plot(corrtop[dims])"
   ]
  },
  {
   "cell_type": "code",
   "execution_count": 13,
   "metadata": {},
   "outputs": [
    {
     "data": {
      "image/png": "[encoded data removed]",
      "text/plain": [
       "<matplotlib.figure.Figure at 0x28c3b176320>"
      ]
     },
     "metadata": {},
     "output_type": "display_data"
    }
   ],
   "source": [
    "plot(corrtop)"
   ]
  },
  {
   "cell_type": "markdown",
   "metadata": {},
   "source": [
    "We see that in correlating image and the filter, we get a new image where lines/edges on top a shape is highlighted. Before deep learning this is what people would do by hand in crafting features for their image recognition models - i.e. feature engineering.\n",
    "\n",
    "We can then rotate our filter 90 degrees."
   ]
  },
  {
   "cell_type": "code",
   "execution_count": 14,
   "metadata": {},
   "outputs": [
    {
     "data": {
      "text/plain": [
       "array([[-1,  1,  0],\n",
       "       [-1,  1,  0],\n",
       "       [-1,  1,  0]])"
      ]
     },
     "execution_count": 14,
     "metadata": {},
     "output_type": "execute_result"
    }
   ],
   "source": [
    "np.rot90(top, 1)"
   ]
  },
  {
   "cell_type": "markdown",
   "metadata": {},
   "source": [
    "When we keep rotating we get filters in which we can detect edges on all sides of shapes in our image."
   ]
  },
  {
   "cell_type": "code",
   "execution_count": 15,
   "metadata": {},
   "outputs": [
    {
     "data": {
      "image/png": "[encoded data removed]",
      "text/plain": [
       "<matplotlib.figure.Figure at 0x28c3b06b550>"
      ]
     },
     "metadata": {},
     "output_type": "display_data"
    }
   ],
   "source": [
    "straights = [np.rot90(top, i) for i in range(4)]\n",
    "plots(straights)"
   ]
  },
  {
   "cell_type": "markdown",
   "metadata": {},
   "source": [
    "All imagerecognition today basically utalises convolutional neural networks. How did they get that name?\n",
    "\n",
    "What does convolution mean? Well basically it's the same mathematical opperation as when correlating. The only difference is that in convolution you take the original filter and rotate it 180 degrees before performing the mathematical opperations.\n",
    "\n",
    "We can easily proove that."
   ]
  },
  {
   "cell_type": "code",
   "execution_count": 16,
   "metadata": {
    "scrolled": true
   },
   "outputs": [
    {
     "data": {
      "text/plain": [
       "True"
      ]
     },
     "execution_count": 16,
     "metadata": {},
     "output_type": "execute_result"
    },
    {
     "data": {
      "image/png": "[encoded data removed]",
      "text/plain": [
       "<matplotlib.figure.Figure at 0x28c3affb390>"
      ]
     },
     "metadata": {},
     "output_type": "display_data"
    }
   ],
   "source": [
    "# Perform the convolution on the original filter rotated 180 degrees perfore. When\n",
    "# we convolve it will be rotated 180 degrees again and we get the original shape again.\n",
    "convtop = convolve(images[0], np.rot90(top, 2))\n",
    "\n",
    "# We then plot the output of the convolution and see that it is exactly the same output\n",
    "# as our correlation above.\n",
    "plot(convtop)\n",
    "np.allclose(convtop, corrtop)"
   ]
  },
  {
   "cell_type": "markdown",
   "metadata": {},
   "source": [
    "We can also make filters that detect diagonal edges."
   ]
  },
  {
   "cell_type": "code",
   "execution_count": 17,
   "metadata": {},
   "outputs": [
    {
     "data": {
      "image/png": "[encoded data removed]",
      "text/plain": [
       "<matplotlib.figure.Figure at 0x28c3b39e668>"
      ]
     },
     "metadata": {},
     "output_type": "display_data"
    }
   ],
   "source": [
    "br = [[ 0, 0, 1],\n",
    "      [ 0, 1,-1.5],\n",
    "      [ 1,-1.5, 0]]\n",
    "\n",
    "diags = [np.rot90(br, i) for i in range(4)]\n",
    "plots(diags)"
   ]
  },
  {
   "cell_type": "markdown",
   "metadata": {},
   "source": [
    "We can then correlate all the filters across our image and see that we can detect all the edges of the image. Thus we have some engineered features."
   ]
  },
  {
   "cell_type": "code",
   "execution_count": 18,
   "metadata": {},
   "outputs": [
    {
     "data": {
      "image/png": "[encoded data removed]",
      "text/plain": [
       "<matplotlib.figure.Figure at 0x28c3b42f2b0>"
      ]
     },
     "metadata": {},
     "output_type": "display_data"
    }
   ],
   "source": [
    "rots = straights + diags\n",
    "corrs = [correlate(images[0], rot) for rot in rots]\n",
    "plots(corrs)"
   ]
  },
  {
   "cell_type": "markdown",
   "metadata": {},
   "source": [
    "In deep learning we basically wants to extract the fingerprint of each image. That is, how does a certain object look on average across all images of the object in the trianing data set.\n",
    "\n",
    "A way to do this is to use max pooling. We shift across the image again, this time in a 7 x 7 grid and return the max pixel. I.e. the brightest pixel. Thus for each filter we get a 4 x 4 representation of the image. Essentially our \"finger print.\""
   ]
  },
  {
   "cell_type": "code",
   "execution_count": 19,
   "metadata": {},
   "outputs": [
    {
     "data": {
      "image/png": "[encoded data removed]",
      "text/plain": [
       "<matplotlib.figure.Figure at 0x28c3b408f98>"
      ]
     },
     "metadata": {},
     "output_type": "display_data"
    }
   ],
   "source": [
    "def pool(im): return block_reduce(im, (7, 7), np.max)\n",
    "\n",
    "plots([pool(im) for im in corrs])"
   ]
  },
  {
   "cell_type": "markdown",
   "metadata": {},
   "source": [
    "We can then utalise this on our data set in order to classify ones and eights (chosen as they are subjectively the most different types of numbers). We start by grapping the ones and eights and plotting some examples."
   ]
  },
  {
   "cell_type": "code",
   "execution_count": 20,
   "metadata": {
    "collapsed": true
   },
   "outputs": [],
   "source": [
    "eights = [images[i] for i in range(n) if labels[i] == 8]\n",
    "ones = [images[i] for i in range(n) if labels[i] == 1]"
   ]
  },
  {
   "cell_type": "code",
   "execution_count": 21,
   "metadata": {},
   "outputs": [
    {
     "data": {
      "image/png": "[encoded data removed]",
      "text/plain": [
       "<matplotlib.figure.Figure at 0x28c3b301d68>"
      ]
     },
     "metadata": {},
     "output_type": "display_data"
    },
    {
     "data": {
      "image/png": "[encoded data removed]",
      "text/plain": [
       "<matplotlib.figure.Figure at 0x28c3b2126d8>"
      ]
     },
     "metadata": {},
     "output_type": "display_data"
    }
   ],
   "source": [
    "plots(eights[:5])\n",
    "plots(ones[:5])"
   ]
  },
  {
   "cell_type": "markdown",
   "metadata": {},
   "source": [
    "We then run the correlation with all the filters and do max pooling on top for the eights."
   ]
  },
  {
   "cell_type": "code",
   "execution_count": 22,
   "metadata": {
    "collapsed": true
   },
   "outputs": [],
   "source": [
    "pool8 = [np.array([pool(correlate(im, rot)) for im in eights]) for rot in rots]"
   ]
  },
  {
   "cell_type": "markdown",
   "metadata": {},
   "source": [
    "We see that out dataset has 5389 images containing eights. For each image we now have eight 4 x 4 representations of the image. One for each filter."
   ]
  },
  {
   "cell_type": "code",
   "execution_count": 23,
   "metadata": {},
   "outputs": [
    {
     "data": {
      "text/plain": [
       "(8, (5389, 4, 4))"
      ]
     },
     "execution_count": 23,
     "metadata": {},
     "output_type": "execute_result"
    }
   ],
   "source": [
    "len(pool8), pool8[0].shape"
   ]
  },
  {
   "cell_type": "markdown",
   "metadata": {},
   "source": [
    "And we can plot the first filter of the first 5 images."
   ]
  },
  {
   "cell_type": "code",
   "execution_count": 24,
   "metadata": {},
   "outputs": [
    {
     "data": {
      "image/png": "[encoded data removed]",
      "text/plain": [
       "<matplotlib.figure.Figure at 0x28c3b085f98>"
      ]
     },
     "metadata": {},
     "output_type": "display_data"
    }
   ],
   "source": [
    "plots(pool8[0][0:5])"
   ]
  },
  {
   "cell_type": "markdown",
   "metadata": {},
   "source": [
    "We can then take the mean accross each filter such that we get a filter the average filter representation of all the eights. Having taken the mean, we can also normalise across the filters. We can see this as an ideal representation of an eight."
   ]
  },
  {
   "cell_type": "code",
   "execution_count": 25,
   "metadata": {
    "collapsed": true
   },
   "outputs": [],
   "source": [
    "def normalize(arr): return (arr - arr.mean()) / arr.std()"
   ]
  },
  {
   "cell_type": "code",
   "execution_count": 26,
   "metadata": {
    "collapsed": true
   },
   "outputs": [],
   "source": [
    "filts8 = np.array([ims.mean(axis = 0) for ims in pool8])\n",
    "filts8 = normalize(filts8)"
   ]
  },
  {
   "cell_type": "code",
   "execution_count": 27,
   "metadata": {},
   "outputs": [
    {
     "data": {
      "image/png": "[encoded data removed]",
      "text/plain": [
       "<matplotlib.figure.Figure at 0x28c3b4be208>"
      ]
     },
     "metadata": {},
     "output_type": "display_data"
    }
   ],
   "source": [
    "plots(filts8)"
   ]
  },
  {
   "cell_type": "markdown",
   "metadata": {},
   "source": [
    "So we have 8 4x4 representations, being the average filter of an eight."
   ]
  },
  {
   "cell_type": "code",
   "execution_count": 28,
   "metadata": {},
   "outputs": [
    {
     "data": {
      "text/plain": [
       "(8, 4, 4)"
      ]
     },
     "execution_count": 28,
     "metadata": {},
     "output_type": "execute_result"
    }
   ],
   "source": [
    "filts8.shape"
   ]
  },
  {
   "cell_type": "markdown",
   "metadata": {},
   "source": [
    "We then do the same for the ones. Immediately wee see a difference in the representation. Eg. ones have strong vetical edges and almost none diagonal edges when compared to the eights."
   ]
  },
  {
   "cell_type": "code",
   "execution_count": 29,
   "metadata": {},
   "outputs": [
    {
     "name": "stdout",
     "output_type": "stream",
     "text": [
      "8 (6179, 4, 4)\n"
     ]
    }
   ],
   "source": [
    "pool1 = [np.array([pool(correlate(im, rot)) for im in ones]) for rot in rots]\n",
    "\n",
    "print(len(pool1), pool1[0].shape)\n",
    "\n",
    "filts1 = np.array([ims.mean(axis=0) for ims in pool1])\n",
    "filts1 = normalize(filts1)"
   ]
  },
  {
   "cell_type": "code",
   "execution_count": 30,
   "metadata": {},
   "outputs": [
    {
     "data": {
      "image/png": "[encoded data removed]",
      "text/plain": [
       "<matplotlib.figure.Figure at 0x28c3b4be898>"
      ]
     },
     "metadata": {},
     "output_type": "display_data"
    }
   ],
   "source": [
    "plots(filts1)"
   ]
  },
  {
   "cell_type": "markdown",
   "metadata": {},
   "source": [
    "We can then utalise this to make a simple digit recognition algorithm. We do this by correlating every image and filter in our dataset and compare it to the \"ideal\" representations of our ones and eights above.\n",
    "\n",
    "We start we writing a function that performs both the correlation and the max pooling. (Remember `rot` is the 8 filters (4 vertical/horisontal and 4 diagonal)."
   ]
  },
  {
   "cell_type": "code",
   "execution_count": 31,
   "metadata": {
    "collapsed": true
   },
   "outputs": [],
   "source": [
    "def pool_corr(im): return np.array([pool(correlate(im, rot)) for rot in rots])"
   ]
  },
  {
   "cell_type": "markdown",
   "metadata": {},
   "source": [
    "Below we see the calculated correlation for our first eight."
   ]
  },
  {
   "cell_type": "code",
   "execution_count": 32,
   "metadata": {},
   "outputs": [
    {
     "data": {
      "image/png": "[encoded data removed]",
      "text/plain": [
       "<matplotlib.figure.Figure at 0x28c3b06b4a8>"
      ]
     },
     "metadata": {},
     "output_type": "display_data"
    }
   ],
   "source": [
    "plots(pool_corr(eights[0]))"
   ]
  },
  {
   "cell_type": "markdown",
   "metadata": {},
   "source": [
    "We can now define a function to determine wether or not a number is an eight or not."
   ]
  },
  {
   "cell_type": "code",
   "execution_count": 33,
   "metadata": {
    "collapsed": true
   },
   "outputs": [],
   "source": [
    "# Function calculating the sum of squared errors\n",
    "def sse(a, b): return ((a - b) ** 2).sum()\n",
    "\n",
    "# Function returning a 1 if the sum of squared errors between the max pooled image and filter \n",
    "# correlation and the average one filters (the ideal representation) is greater then the sum\n",
    "# of squared errors of the max pooled image and filter correlation and the average eight \n",
    "# filters.\n",
    "def is8_n2(im): return 1 if sse(pool_corr(im), filts1) > sse(pool_corr(im), filts8) else 0"
   ]
  },
  {
   "cell_type": "markdown",
   "metadata": {},
   "source": [
    "We can test this on the first eight image, where we see that we do indeed obtain a lower sum of squared error for the eight filters than for the one filters."
   ]
  },
  {
   "cell_type": "code",
   "execution_count": 34,
   "metadata": {},
   "outputs": [
    {
     "data": {
      "text/plain": [
       "(126.77776, 181.26105)"
      ]
     },
     "execution_count": 34,
     "metadata": {},
     "output_type": "execute_result"
    }
   ],
   "source": [
    "sse(pool_corr(eights[0]), filts8), sse(pool_corr(eights[0]), filts1)"
   ]
  },
  {
   "cell_type": "markdown",
   "metadata": {},
   "source": [
    "We can then run the function across the entire dataset of eights and ones. In the output below we see, that we majorily identify the eights. 5223 out the 5389 eights in the dataset. However, we do also misclassify some of the ones, 287 out of 6179."
   ]
  },
  {
   "cell_type": "code",
   "execution_count": 35,
   "metadata": {},
   "outputs": [
    {
     "data": {
      "text/plain": [
       "[5223, 287]"
      ]
     },
     "execution_count": 35,
     "metadata": {},
     "output_type": "execute_result"
    }
   ],
   "source": [
    "[np.array([is8_n2(im) for im in ims]).sum() for ims in [eights, ones]]"
   ]
  },
  {
   "cell_type": "markdown",
   "metadata": {},
   "source": [
    "We can also do the same for `1 - is8_n2(im)`, that is determine if its not an eight. Here we hit 5892 out of 6179 and mis 166 out of 5389."
   ]
  },
  {
   "cell_type": "code",
   "execution_count": 36,
   "metadata": {
    "scrolled": true
   },
   "outputs": [
    {
     "data": {
      "text/plain": [
       "[166, 5892]"
      ]
     },
     "execution_count": 36,
     "metadata": {},
     "output_type": "execute_result"
    }
   ],
   "source": [
    "[np.array([(1-is8_n2(im)) for im in ims]).sum() for ims in [eights,ones]]"
   ]
  },
  {
   "cell_type": "markdown",
   "metadata": {},
   "source": [
    "We can check the same result when using a different loss function. For instance the sum of absolute errors."
   ]
  },
  {
   "cell_type": "code",
   "execution_count": 37,
   "metadata": {
    "collapsed": true
   },
   "outputs": [],
   "source": [
    "# Function calculating the sum of absolute errors\n",
    "def n1(a, b): return (np.fabs(a - b)).sum()\n",
    "\n",
    "# Function returning a 1 if the sum of absolute errors between the max pooled image and filter \n",
    "# correlation and the average one filters (the ideal representation) is greater then the sum\n",
    "# of absolute errors of the max pooled image and filter correlation and the average eight \n",
    "# filters.\n",
    "def is8_n1(im): return 1 if n1(pool_corr(im),filts1) > n1(pool_corr(im),filts8) else 0"
   ]
  },
  {
   "cell_type": "markdown",
   "metadata": {},
   "source": [
    "For detecting eights we get slightly lower misclassfication (false positives) but also lower true positives."
   ]
  },
  {
   "cell_type": "code",
   "execution_count": 38,
   "metadata": {},
   "outputs": [
    {
     "data": {
      "text/plain": [
       "[5129, 254]"
      ]
     },
     "execution_count": 38,
     "metadata": {},
     "output_type": "execute_result"
    }
   ],
   "source": [
    "[np.array([is8_n1(im) for im in ims]).sum() for ims in [eights,ones]]"
   ]
  },
  {
   "cell_type": "markdown",
   "metadata": {},
   "source": [
    "For detecting \"not eights\" (ones) we get more false positives but also more true positives."
   ]
  },
  {
   "cell_type": "code",
   "execution_count": 39,
   "metadata": {},
   "outputs": [
    {
     "data": {
      "text/plain": [
       "[260, 5925]"
      ]
     },
     "execution_count": 39,
     "metadata": {},
     "output_type": "execute_result"
    }
   ],
   "source": [
    "[np.array([(1-is8_n1(im)) for im in ims]).sum() for ims in [eights,ones]]"
   ]
  },
  {
   "cell_type": "markdown",
   "metadata": {
    "collapsed": true
   },
   "source": [
    "## Making the algorithm better\n",
    "\n",
    "So how do we make this algorithm better?\n",
    "\n",
    "1. Instead of using the 8 simple features (filters) that we created, there are much better alternatives. Specifically there are a lot of better 3 x 3 filters, that we could be using.\n",
    "\n",
    "2. We also treat all the filters as equally important. Some filters might be more important than others.\n",
    "\n",
    "3. More complex filters. Not just lines and diagonals, but eg. corners.\n",
    "\n",
    "Deep learning does all of this for us. Deep learning is simply an optimisation problem across the points specified above (could be more steps, eg. non-linearity). In the optimisation problem we simply start with random values for each filter (we specify the number 8, 100, etc.) The optimisation algorithm then attempts to make the filters better and better for each iteration.\n",
    "\n",
    "The process is that of backpropagation through the neural network. Essentially it is a stochastic gradient descent algorithm, the intuition of which is presented below.\n",
    "\n",
    "## Stochastic Gradient Descent\n",
    "\n",
    "We here present the intuition of stochastic gradient descent, exemplified by linear regression - the deep learning way. We start by importing the libraries adn functions we will use."
   ]
  },
  {
   "cell_type": "code",
   "execution_count": 53,
   "metadata": {
    "collapsed": true
   },
   "outputs": [],
   "source": [
    "%matplotlib inline\n",
    "\n",
    "import math, sys, os\n",
    "import numpy as np\n",
    "\n",
    "from numpy.random import random\n",
    "from matplotlib import pyplot as plt, rcParams, animation, rc\n",
    "from __future__ import print_function, division\n",
    "from ipywidgets import interact, interactive, fixed\n",
    "from ipywidgets.widgets import *\n",
    "from IPython.display import FileLink\n",
    "\n",
    "# Set up matplotlib to display animation in the notebook\n",
    "rc('animation', html = 'html5')\n",
    "rcParams['figure.figsize'] = 3, 3\n",
    "\n",
    "# Set global precision for numpy\n",
    "%precision 4\n",
    "np.set_printoptions(precision = 4, linewidth = 100)"
   ]
  },
  {
   "cell_type": "markdown",
   "metadata": {},
   "source": [
    "Define the function for a line"
   ]
  },
  {
   "cell_type": "code",
   "execution_count": 54,
   "metadata": {
    "collapsed": true
   },
   "outputs": [],
   "source": [
    "def lin(a, b, x): return a * x + b"
   ]
  },
  {
   "cell_type": "markdown",
   "metadata": {},
   "source": [
    "We can then set up some data - i.e. actual values of `a` and `b`."
   ]
  },
  {
   "cell_type": "code",
   "execution_count": 55,
   "metadata": {
    "collapsed": true
   },
   "outputs": [],
   "source": [
    "a = 3.\n",
    "b = 8."
   ]
  },
  {
   "cell_type": "markdown",
   "metadata": {},
   "source": [
    "Next we generate some random data."
   ]
  },
  {
   "cell_type": "code",
   "execution_count": 56,
   "metadata": {
    "collapsed": true
   },
   "outputs": [],
   "source": [
    "n = 30\n",
    "x = random(n)\n",
    "y = lin(a, b, x)"
   ]
  },
  {
   "cell_type": "markdown",
   "metadata": {},
   "source": [
    "So `x` and `y` here is out data based on which we would like to find the values of `a` and `b`, which would be onknown in a real seeting. This is equivalent to finding the values of the optimal filters in the convolution example above. We can consider out data."
   ]
  },
  {
   "cell_type": "code",
   "execution_count": 57,
   "metadata": {},
   "outputs": [
    {
     "data": {
      "text/plain": [
       "array([ 0.8867,  0.4121,  0.4991,  0.9851,  0.9756,  0.3478,  0.9633,  0.0032,  0.8092,  0.0226,\n",
       "        0.2947,  0.8356,  0.223 ,  0.321 ,  0.7644,  0.6203,  0.4238,  0.8085,  0.3272,  0.864 ,\n",
       "        0.0805,  0.9922,  0.1265,  0.7118,  0.7445,  0.4356,  0.8009,  0.1907,  0.9618,  0.3211])"
      ]
     },
     "execution_count": 57,
     "metadata": {},
     "output_type": "execute_result"
    }
   ],
   "source": [
    "x"
   ]
  },
  {
   "cell_type": "code",
   "execution_count": 58,
   "metadata": {},
   "outputs": [
    {
     "data": {
      "text/plain": [
       "array([ 10.6602,   9.2364,   9.4973,  10.9554,  10.9269,   9.0433,  10.8899,   8.0095,  10.4276,\n",
       "         8.0678,   8.8841,  10.5069,   8.669 ,   8.9629,  10.2931,   9.861 ,   9.2714,  10.4254,\n",
       "         8.9816,  10.5921,   8.2415,  10.9766,   8.3796,  10.1353,  10.2334,   9.3068,  10.4026,\n",
       "         8.572 ,  10.8855,   8.9633])"
      ]
     },
     "execution_count": 58,
     "metadata": {},
     "output_type": "execute_result"
    }
   ],
   "source": [
    "y"
   ]
  },
  {
   "cell_type": "markdown",
   "metadata": {},
   "source": [
    "We can also plot the data."
   ]
  },
  {
   "cell_type": "code",
   "execution_count": 59,
   "metadata": {},
   "outputs": [
    {
     "data": {
      "text/plain": [
       "<matplotlib.collections.PathCollection at 0x28c3c89b160>"
      ]
     },
     "execution_count": 59,
     "metadata": {},
     "output_type": "execute_result"
    },
    {
     "data": {
      "image/png": "[encoded data removed]",
      "text/plain": [
       "<matplotlib.figure.Figure at 0x28c3b0cc898>"
      ]
     },
     "metadata": {},
     "output_type": "display_data"
    }
   ],
   "source": [
    "plt.scatter(x, y)"
   ]
  },
  {
   "cell_type": "markdown",
   "metadata": {},
   "source": [
    "We can then evaluate out prediction as before utilising the sum of squared errors, which will be out loss function."
   ]
  },
  {
   "cell_type": "code",
   "execution_count": 60,
   "metadata": {
    "collapsed": true
   },
   "outputs": [],
   "source": [
    "# Function computing the sum of squared error between a vector of predictions and true values.\n",
    "def sse(y, y_pred): return ((y-y_pred)**2).sum()\n",
    "\n",
    "# Function computing the loss function for our liniear regression. \n",
    "def loss(y,a,b,x): return sse(y, lin(a, b, x))\n",
    "\n",
    "# Function computing the \"average\" loss, i,e, taking the root of sum of squared errors and\n",
    "# deviding by the number of observations.\n",
    "def avg_loss(y, a, b, x): return np.sqrt(loss(y, a, b, x) / n)"
   ]
  },
  {
   "cell_type": "markdown",
   "metadata": {},
   "source": [
    "We then initialise the algorithm by chosing some random values of a and b and compute our loss."
   ]
  },
  {
   "cell_type": "code",
   "execution_count": 61,
   "metadata": {},
   "outputs": [
    {
     "data": {
      "text/plain": [
       "9.3209"
      ]
     },
     "execution_count": 61,
     "metadata": {},
     "output_type": "execute_result"
    }
   ],
   "source": [
    "a_guess = -1.\n",
    "b_guess = 1.\n",
    "avg_loss(y, a_guess, b_guess, x)"
   ]
  },
  {
   "cell_type": "markdown",
   "metadata": {},
   "source": [
    "So on average we miss the true values for each x_i with this values. So how do we improve this? Can we improve the result by changing `a` and `b` by a small amount? Yes we can. See the intution in this spreadsheet:"
   ]
  },
  {
   "cell_type": "code",
   "execution_count": 62,
   "metadata": {},
   "outputs": [
    {
     "data": {
      "text/html": [
       "<a href='graddesc.xlsm' target='_blank'>graddesc.xlsm</a><br>"
      ],
      "text/plain": [
       "D:\\anlaursen\\libraries\\deep-learning-intro\\cnn-introduction\\graddesc.xlsm"
      ]
     },
     "execution_count": 62,
     "metadata": {},
     "output_type": "execute_result"
    }
   ],
   "source": [
    "FileLink('graddesc.xlsm')"
   ]
  },
  {
   "cell_type": "markdown",
   "metadata": {},
   "source": [
    "How do we define what a and b should change by? It is up for grabs. It's called the learning rate and here we set it as 0.01."
   ]
  },
  {
   "cell_type": "code",
   "execution_count": 63,
   "metadata": {
    "collapsed": true
   },
   "outputs": [],
   "source": [
    "lr = 0.01\n",
    "\n",
    "# d[(y - (a * x + b)) ** 2, a] = 2 x (b + a x - y)    = x * dy/db"
   ]
  },
  {
   "cell_type": "markdown",
   "metadata": {},
   "source": [
    "We can then specify our optimisation algorithm. This is the gradient descent algorithm."
   ]
  },
  {
   "cell_type": "code",
   "execution_count": 64,
   "metadata": {
    "collapsed": true
   },
   "outputs": [],
   "source": [
    "def upd():\n",
    "    \n",
    "    # Specify the a and b guess as global values.\n",
    "    global a_guess, b_guess\n",
    "    \n",
    "    # Calculate our prediction\n",
    "    y_pred = lin(a_guess, b_guess, x)\n",
    "    \n",
    "    # Calculate the partial derivative (gradient) of the loss function in regards to b\n",
    "    # d[(y - (a * x + b)) ** 2, b] = 2 (b + a x - y) = 2 (y_pred - y)\n",
    "    dydb = 2 * (y_pred - y)\n",
    "    \n",
    "    # Calculate the partial derivative (gradient) of the loss function in regards to a\n",
    "    # d[(y - (a * x + b)) ** 2, a] = 2 x (b + a x - y) = x * dy/db\n",
    "    dyda = x * dydb\n",
    "    \n",
    "    # We then update our guesses by this change multiplied by our learning rate.\n",
    "    a_guess -= lr * dyda.mean()\n",
    "    b_guess -= lr * dydb.mean()"
   ]
  },
  {
   "cell_type": "markdown",
   "metadata": {},
   "source": [
    "We can then animate what happens as we run our stochastic gradient descent algorithm. Note, running the code requires the yasm and ffmpeg library)."
   ]
  },
  {
   "cell_type": "code",
   "execution_count": 65,
   "metadata": {},
   "outputs": [
    {
     "data": {
      "text/html": [
       "<video width=\"500\" height=\"400\" controls autoplay loop>\n",
       "  <source type=\"video/mp4\" src=\"data:video/mp4;base64,AAAAHGZ0eXBNNFYgAAACAGlzb21pc28yYXZjMQAAAAhmcmVlAABP4W1kYXQAAAKvBgX//6vcRem9\n",
       "5tlIt5Ys2CDZI+7veDI2NCAtIGNvcmUgMTUyIHIyODUxIGJhMjQ4OTkgLSBILjI2NC9NUEVHLTQg\n",
       "QVZDIGNvZGVjIC0gQ29weWxlZnQgMjAwMy0yMDE3IC0gaHR0cDovL3d3dy52aWRlb2xhbi5vcmcv\n",
       "eDI2NC5odG1sIC0gb3B0aW9uczogY2FiYWM9MSByZWY9MyBkZWJsb2NrPTE6MDowIGFuYWx5c2U9\n",
       "MHgzOjB4MTEzIG1lPWhleCBzdWJtZT03IHBzeT0xIHBzeV9yZD0xLjAwOjAuMDAgbWl4ZWRfcmVm\n",
       "PTEgbWVfcmFuZ2U9MTYgY2hyb21hX21lPTEgdHJlbGxpcz0xIDh4OGRjdD0xIGNxbT0wIGRlYWR6\n",
       "b25lPTIxLDExIGZhc3RfcHNraXA9MSBjaHJvbWFfcXBfb2Zmc2V0PS0yIHRocmVhZHM9MTIgbG9v\n",
       "a2FoZWFkX3RocmVhZHM9MiBzbGljZWRfdGhyZWFkcz0wIG5yPTAgZGVjaW1hdGU9MSBpbnRlcmxh\n",
       "Y2VkPTAgYmx1cmF5X2NvbXBhdD0wIGNvbnN0cmFpbmVkX2ludHJhPTAgYmZyYW1lcz0zIGJfcHly\n",
       "YW1pZD0yIGJfYWRhcHQ9MSBiX2JpYXM9MCBkaXJlY3Q9MSB3ZWlnaHRiPTEgb3Blbl9nb3A9MCB3\n",
       "ZWlnaHRwPTIga2V5aW50PTI1MCBrZXlpbnRfbWluPTEwIHNjZW5lY3V0PTQwIGludHJhX3JlZnJl\n",
       "c2g9MCByY19sb29rYWhlYWQ9NDAgcmM9Y3JmIG1idHJlZT0xIGNyZj0yMy4wIHFjb21wPTAuNjAg\n",
       "cXBtaW49MCBxcG1heD02OSBxcHN0ZXA9NCBpcF9yYXRpbz0xLjQwIGFxPTE6MS4wMACAAAASYGWI\n",
       "hAA///73aJ8Cm1pDeoDklcUl20+B/6tncHyP6QMAAAMAAAMAJAL8x7+hB0M0IAAAUInP4LJXTUFR\n",
       "Bq1ViRE7nmVugr3qHwjjbq4yqtZnH2dD/PRH4qMF3383q0XiC6K7q89B8NNF+yB4lSsc8GA2Q9EM\n",
       "SZo46MPVl5rm6Gw5AAKX7mlMFCQ1t+OhL7iQQ1sbaJjEiR7Fojc3zv/Bs50Wl8Ff7rFJu7V2Z3dS\n",
       "I4hQRJakSVzOsGLEPgopZ7lCgeOFUVQWdEZrmOsh6hc7tPZZ+2Yg7GBWZ3dAP+wGQWlfaiua5NND\n",
       "egen5HKpiWvIdZW4jByAMk56Dz1O5ATfYqnxhOuzC0/DB2mczAGXY1PQtdJkbREmmJrDsna8aEhs\n",
       "NeJxzNiAAoTq7D9ex+v5pUTS7RkZlqWTOcVjngthoVmzi02TYjYuBWQz+S5gMzS5BFPyTPvP9uUn\n",
       "sJW8E/uAw3LGHOOV5BKTY54Onp3Rw/5hzxBV6Vi65J5gBIhKMLsKfqp6awRzeBk9ZHy7+QT+YqPj\n",
       "loRZ36Q/jiGDd3/yEJeyXOSoU7lI6FHuJKLTy8zxFqwm9RJ37jYL5N0n4QJoE23ElWDUGiIJfmHT\n",
       "W2seFnyZ0kfwUgYTRAqJ4Yz+A9FMzNI/l38HjI6l2K7uz3yKE4nRpy6284e7fYDiWimLxT5qZyB2\n",
       "ho7gFUvFj9VEhBfS+G+J8tCJzwslDkKxbyazihTmy/nPD5VfOyOTAXOMDKP6eQXTaDf9A5x28O9y\n",
       "9aUtBQC2DjNC0jXsdzHxLiQAQSXEhvM5mK7Kehh+aDv5FsQd8jdUuTo4MV/BKr9u7t3KNMYlWIyK\n",
       "cArGdxvrdiCYK0msBemrImaxZFoSFPFneXVfF7mADdUbPzKURuA/7dZZWxGzXmZRYjcOv7qEGowY\n",
       "p1Fs2doSPlJTmkV9jF049c464tyLa/sCFwUfuCL3IPE2kfDMzB7gr4kAUKvW64siNI55N85X505n\n",
       "1VLTL8S32ps89a1XzZfXukqrNRr/7ADJ5HQaJXMgwb+Vp1T6GcjgEnvuCikTRVVHKHeOstPzqi4t\n",
       "uLeo4HhBjEic16FAUfdJ0t/azvGFVG6fJghzmAOQQ07IyE3GJEnaiYrpHKnF+FDyDRcFMkoN+fOD\n",
       "D3z7uTRDpF6+UwK28vXsagKYN6Q2DstM6LCl5ihoe9OPCfrQTY8hOAz90a+MbeoxwkQC3Rj0mRn4\n",
       "mVLc98SH88uDHO33QDHfiw2SaqxNLt8BPkUqGqwTyMNFL59f95T7Gfit76woV2DmjmlqyJLQvJ4h\n",
       "fCivXjRgTkdLortgmAg0hNTB3cL7S3Rurb3071Yd5lkpRgLEboqivPo+zyT0d7uFX0TKEAAADMGI\n",
       "gHAXd7cFJJwfdpuqgH1ufV9hhCwOufuWtd3ue3BJ4Kn7WmjxmUJCIQikYxEBaCbytGVqAWzxPZ/7\n",
       "mxBT06eP8ewRN3J1qHf44nt7+cvTkq3NF6ZM9hZUH22AZy1FeeWaGx9KKdzdjuEatAcRTIas7eBB\n",
       "etMLPZj7+/G8iQRJpcqtjWSinhfJ7u4Q4o/swvEGPvxSnKvkC2DToFi28VyHESpNHn6ohA+fr66w\n",
       "EZsVfVZ1EiBCELVdtFD7rdw65qTE3Ad5bPP635g/qlc6I9NvdyR1lIW1jXMZPKTdBwMBFpUaKfoZ\n",
       "hiW9dgNlVNdkOzj+4B9/jakL3tWLqhwgLRLIiZwU/3hdGcYjoAg5kXekQdpxIbythWQ6GLew0CRp\n",
       "wBRX0wXKzooQ200/apMW4SPQnmEUHe/2uwVDOSJQTTFwRXcv8ITPsfp23HrUwWsXfab+bs/AMTYo\n",
       "4sllf3FnhkXAy5BuoqVhHa6F0LvHwDhXhhmkSxWrvEPNxuxioHwuNMaJBu8o0wW/bcz0N5IkaHr4\n",
       "9w+oekr7aeozSAav/mXZCotE7ym4HTnDme9ZQkd6tVW5dxR19OiQJb+HF0GpmscJW3abLkkd24y2\n",
       "VcK1cMTyUgEP6BHRufs52MKxLpSSnNUZucfpZjRPmOYyYgUBBHk7jq8bqGPD03QR6/0EL+0RZo3k\n",
       "ww6sJ24n/BvzBkes5ZzpAjz5VReK0UPNV/4bpmbc5hUEZLEWBPSbevO7dTukYVjlv5eA8A9eNG+4\n",
       "DNJxu/SlfHjoH6V8DUxIpXvmoGgxu/j4Jd4Xls7VGicWuwl/FJmye7zl+bO/pc8dYfJYFj7lJ/u0\n",
       "OdiY/tNFelWPuyru5QFCwRDBMofcstUMK0LrutPzPpWN5cAfoljUzeb/JEwah5Nib5hsEr1jyTxv\n",
       "ZqzfIevZ4ne7DG5fMCtyE1Xh2T8bfW5NxBztTzsAdlbBv19hmW/OK6N2RYo+ndqjni/QRT3qIrjp\n",
       "0+M8vlS4LP+BaGdGi4cVX5PkTm8bhG7Jjpn9c07lcesXNrTUQxZq6miacqLvYXt2XulmScGscghc\n",
       "IWeP0uomeiXvMnnJHoWqLDLNdfjfTfY3ucI9AvDrsN32pNnZ7IS12EJTo9Gvzctaxn50C2rSe3jD\n",
       "xyh8N174Re07/QFgAhpw2AHIrFpwrCt5FPAV8KXV8rYEFwxh7+LHYKtR5sFzcX7/1i6bCjj70XLs\n",
       "gUrUKu7L+AB42btgtHxQEYMm7EI1r8O075BTr053jH0ELNoz9DNYXlYxmZE2+VN3Ij+VOberIq9X\n",
       "D39z7UcjKd8vBppU2Fx9A3nqcUfh7o6tr5qANMr6IISTh5bKBQ2z72z/7OsD0Sg82h8CgyCRfemQ\n",
       "6LCtBc1g9S0g0UFaiW4nUitr60ohuLjxy7ZUc0i1rDWoU8XYzYQuDBZErpQa/j+6Y5jQEEDib2Q6\n",
       "qGLzsmyVpni8Z3ZjxLQ+uO1d4/yzSOsobDdaS/m/N380VH3czpX4KL/l74gzrO9KvEubOSeiDJfF\n",
       "qOTcduXweYyjJausceRvgGUvCgrHAPxObvpUT9yIC9gl0qouWi61M1/OyE91QRNQ2zapwgVGlTzg\n",
       "tHd1Jujit5MMJnlJUoUhm1dq1FFw6dw/940n2jNQCkt56rJTnkvOmYNriuOzdGkDjouISn+n8wUk\n",
       "dr06SYMFJB9xBbVitL1io2uVUFxdLxkfkYIi/Hy9LK+FIEJgs3mA8Lg1VI2VZ8aDQwsL+MQUsDow\n",
       "F6gO9wOHRaoLl+7NlMGitXgT+T0gggX+wZBlmI35bcdhCJiVLlZHUfcXRXXPOFTfY9gnfjdL0AHj\n",
       "93S3hSdI/NROEdO5Ajvj6oBuE0KNGzZrIXBW2ZTn8NfCHum8KKFOhqUzLMdXUk+2cJX2hGDXW8l3\n",
       "QgX2Eb3vKZYp5mW3ZAE8GJgFH02djKT+LgamC7saNTtg+fDhQ5XibOeHKnVtB41uQiM98er7DDtN\n",
       "fcbUtb4WmT+vI7DpN3Ffbn/rpFBjvhgzowjjr5tWWbRLHZ2QaNNG7F0ArEbxlW7nLdA4xUD4bA2c\n",
       "20tc5MEnuzSVFlq+W7h7R66RQHm+60Y/6ssIPFYBCfgDhREltlV/1ONK2O8KXtQLBssZy4eIZoQQ\n",
       "mjON2puGTtVBP+bcwD1Po3ydr20TRiBXuAZv1On2WNRkFlA8KU7/sPt7soY+kqCD5c8/EA+9Fz9A\n",
       "Uy5S5AGIwxyRYR6IxgPLVCUli3cmuphFNTXgffQHghAKPmEU8TcomhoA/kIQJR3J5rM3ChiQzq8H\n",
       "sNwS4AUM7rbqAarveKw8sxBVa8ygI8RnGBxrQEl2ib12K65W3s5YZ+lW+DdSUc3wf5gYn9qTezJk\n",
       "ZjMFpKTymlZ08Jr68V3o1xQ9ndfMU4HJ535DFsldnjdWm8xiuCO+Mr+34seiZ9/y3dOTgIxzbX7Y\n",
       "2Pl4711XWw3m+c/yDfjKNI121UBidy518aX065o48s1XK7D4G7BptgVWJ2aIcvHKozKyWtcQSyNW\n",
       "kCz+Pn8fTO68LIrU8JHaoRUgg95t9WAiyOmlYERl8c73FdXWc6hIvdY1yhkDC+nHbIUuNct2aHFZ\n",
       "g3GBaezb95xvDDwJFCKtDXnO1NdbOQqgBrGFgwDshAX2qFOZmpSLagGmRtFTzPLf2Cb76IgDogWG\n",
       "6WTH+A6hIcHqpUCdpZULdPk9FFKJpcVV9idh4/XoFBQRRaP0OdL/47uJbo199Lhtm761kqbWfI3l\n",
       "eWi567y7dtA10A3FGwZzh1EbcFnJnvBqkapdPPzjpNaB0T1FziLPZgau85Ec3UxpGlEGbJf5FTkr\n",
       "AdP/Bf8HOv2JDCiBviSbffsc6WEKyeGoERyB8D8UYahav2va4PRC00l/jP/pitB7VmDFgdaN+oYe\n",
       "4eWKNRkx/qL8hIaqOh7oicifDCTfCxYYrO7adA20ivL4JOka3INvU4xb26nHNpWYBfTa2AAAAwAA\n",
       "MPM/reu1qNf3Ek3LyhGkLnhjZwfWfhyLSnHN9sGu3lIAQVgLf0TTOpf45NrKMnGYcAuPLq3NUzpt\n",
       "dlNKk8jFbytzV4kC6ePoWzVwUQBFcjV1jj8VregquFKLodGbal09ubCh72Mvflj9KmL5ExAhbq5m\n",
       "dCXSQ/5lr+MtwI3wrS+QZ9T8dOxugBZ69gzbhpfAzHMT//sKyHFGemgPiGGqb5piNtfwFd+ZA3+5\n",
       "4+pKo8eby0Rup/ijswqm7yFP4Rmr0ZgeREQh0hWm2CIrh21dySDH2xteZGB5s945zcWWUPtg0qob\n",
       "DtlhxEfGw0buyfrWj1JgiC/bysgoZQIALi3f+SJcFw59TjxNwVaLKuF7MF+Pkw6PvuGj+Ls8zi4X\n",
       "INDivkXB3u0u5g1AYZAxu9ityddO4L6BT6qHEd9E0RLLHnZfDxG6+q3DDIUp8/9d7l0PyYda6OFh\n",
       "uNONM7FS/QLvaisf5VRvwQi0JSBU7I+yLbqu5bK4cIWn/YAAhdaz3Z9/9OVHYDX6KsQcmsrzuXFf\n",
       "Ka1s2RxXXeiHgEBKHEa8CU+ejo7xzl1eGu2xNjXtpgNM9aiwQ8rBGJ61a1mBNhTf+wR/zKNMlVtF\n",
       "zJRIW2liV2e/4u1YB3khEuW1j4GdQ9mPWQmNyVXhFaxMXR6oOrDujFRP6UZVGGC6C5/uGaydbhym\n",
       "oP0b/r54vsRrN+1s9zVixmUkY7ppUMGkhki3fE9rrWeqMjl4XQa0tqrcFJVwF39SANhJ95LDNXq0\n",
       "1byS34lJbVoB4LjuHjcaWs37Lwr5NYLkuQvu9Nm890PyCQxhLWHSeaQzuyZi1yPoc/uEsaF+b1BT\n",
       "Ou93tME2c7Tp776q6kHvT+/4SZ6JtSsH/v8sbyHWW5BRGHen4mxuK8gAMifFWiI2SonwAaqY2Tii\n",
       "/XtI/Lr0OVb1UELGe3I08DfbwMeim60zzZh33kc1WNOZhoYmUr0HzTRIf8ID1wlVwQ2HyDdcLR/1\n",
       "hWUaJFwOD1/1absxSolldkHb0Lmlw77ryBjfxhHRJwW51hRfZSVR8AnWutM7JQZtU0rcAvJpqs/G\n",
       "hjMSTYYk4useV2yBCjo/IxeIaCVRcEmWA1mdnck23M1LwEaDZpzs/GIDNEP4+x2bGNiYHpvfaDQz\n",
       "lbrIgB0geXMVBor7V1EO99/flA26XYF28+b9IDNHp9hKn2F/zXCmbEJV+shiLZPXY/Zvelmr6uf2\n",
       "Klpjwh45tU9S6uUU4iX/ufKhj41OOk8G3fYaGaysqoUS1dw7mvlePXxIbiSIwqUsXR/ySy6GN6ba\n",
       "y52l71ENXc0NIVn5rtjJujhmk/pFMIzMihPc8Hk+Dc32zwXPZLchehHZT98AAAsahG+pQm+kh/I9\n",
       "kpLF0gL4l1ejCqWi4Fmur0vKLzEfIUM7YFw097+Vz9XUtnIgzSB8P9c4bfrETNStzr3Urmrtd/Mp\n",
       "Xy2ZtKIrZQNmWhX6XHtldgGxS4ZKE1S6Ey0aFRk8YLCigrLoJh/iEvLBUvFKk8oRuvRVVIFJc7cg\n",
       "sOo5+JHOOXGuQTIta4Fl/K1mm5I5GfAmQ9KrjRpvInzz/XC0wUlPZSFJGb9Fc8QzKynCqPgEoKrm\n",
       "cgBP+N9cw3SOQYKSYVpKWii9WiFGw6QdE5HeRsjUrcmzYj6FieAoxcm5Wpu7NLkKGhMe0c4FtUaS\n",
       "EK31yA+aZqDjPXIENgOgne1egTDux9MyoQlAKJG1ZlNuGG44Qt9eoItjAbPQNYERqOaCQ+5Y9oDX\n",
       "cOupELV9fV/9HtDLbkkzpf1l2NjC8048oHgf5ktDGjnR+MLzNrTnGe2Zmbg6f8aQ1KmGrQIJis5j\n",
       "R3JIsPCLCB7w7vod4BX5fh1xGtsN1DtS9o6nEt1IuwOat8S9o6FwB2JuX97RM9ZzShPz/B1EamqT\n",
       "97J8rPAZL3RXi8I1yIaNoYWnss99TMACvAA4oQAAArJBmiFsQ//+qZYAKmJl6ANsGF3XiQtW0Tu7\n",
       "qObwejTxYqzDLzWjl51HSbI8/AYNbVEWRUvzSwB/5Iaj0KwdCTXDhqwCZ7r9Wk79pCPOOvf1acCR\n",
       "+JAfC3tRCFgjdNB0AnFCrmiQHVs/4em/IEBMCBunR6Ht6chhIapW2iyJwXcxW3mA+YKgTBCueKrm\n",
       "0BewKrZmpxx7/FJYGelljnJ6FPNXTSvUtKlVYyyfsRLf1ivPNSyPrXCiDgn/K7I8upTpRDUAeAt8\n",
       "up0+HriUAw31/iCyvIEbF5uEzKRrgTjO4uUYhzLIoPPi1fDcZm2YGJPCSylMC5RLjS6JwBZqIYoJ\n",
       "xUSf1ls4NZTQxwCacBuMWSK99zKwsrx2CD0q2H/JBv4sIG45/b0+J+5fLR7gAbtHZ7ze5pclTZ4W\n",
       "iSP2ZCkHa/xewV424Ue7z6U10+zdhime58J1pqOhD/9v+f+9YiIrnqAnR80amkmeJrcp9JpxDY5C\n",
       "T6XLtAyDfYOzdWeNxU92Cb1X52HjJMx4XqhjcqBWGNKc97VuEcNWQi2ZDXJXTXLUAPInWvSrQvJj\n",
       "IZmPNt6jnUEpAO3DEDp9F5sr30jtPJZ4UCzg6PAiEIMn2qs3PyFD7sUEr397RJd0IqfwONqGXexW\n",
       "oR0LVnV1ZURgJsc5HbO96TY4u3YEaZiRwLy0eGaDLwWDasGHpX9xml2hV9W/UTFgHjNy0+gVtUBt\n",
       "7snAI54pH9j/Ck+XUiYZ3xoQqBXmF/J05Ik8vg2HovG9SceDwFYABh+AW0/Q+rmMBmivj14Y/2Gw\n",
       "VUa3yVrj/CQGC6+ZLtbknwZZpwtCbjF9AZhTT9oy7MsyTl2ikQQyoAAAAwA5wAAAO4YQHn4yrTLE\n",
       "3Z6asvXYCZb3Bdg1j4H3IdKRvN3Lu35ifge3odTeHAtJCTGtgQsAAAOCQZpCPCGTKYQ7//6plgAi\n",
       "PyOzdmXm35wfR0AJpPEPzhxvFKuZuS9Ex7uOBfRwA4kvGZuCWAIfgaovKJod2iyt6cUnYwxehFfa\n",
       "ZRVtP+PmhBl7OG+bfF/m+4F9DB7zfNCRkh+B2l21VZvkU0nubFI7mc8RSLy3rlQgW0u3kPCBgpMO\n",
       "bZk8QeryKoOEUJ1KfbV12MmHCdu2ElEb3daXPsy+srNQOYCJ86BBB6EUl3zl+RMt3OtH2s2DNhA/\n",
       "m/Ttc/IS++WMsmXF+ZOIXV429s0WWlhYzajazRsx3KcfU0D2Xz2xvclk916LmI3fmB/+MVt5/fhX\n",
       "TTjcBbGuh1ZoSZULMlt99bzRlqF/W7ydekBzXsIK/t1Iy3Y04/oh4Eurn1TI09JmA25xrU/Nr+8C\n",
       "+TOSNKb02F03EzLBTbM9+xi0p+MnTJdmuNC4A7eOE9/ceiXUS6NdcQsLx1eeSk71Eaz82/welhzq\n",
       "MD4ZJUHia9dGYWIHS2aEtoK35hYOJW3E62kc+hoMllWuTctaRTUFh/JfmWEUAzBbrRgfRiuC1uOZ\n",
       "aiBuxoCyGZkCVgHcX+a7izuHDEWkOmuk0JXoADHutCX6n2RYFwDZX1ufuRK3VYfw48rYILk1igWq\n",
       "cGVOwHL+V0yrwdjCWliLF/5bbjGdvBL6ZuaTQVSiWZg+F8H8PxKTkZNPwu93EmDJq4KLGb+8eYLl\n",
       "EDqZEeaKoFUB2tPWLcNgrlmZ9hhHJFJRaYTZRmcjfvd88fU8Q/Cdqz6CiCluUOzHgO5qD9De/jHE\n",
       "myMLydjXXYR/G5QAdXxJInP5YgLWmU0D3XYoshDQe42XWOhW6ar519GUFYDW0pl+nlnJaqAFWXBQ\n",
       "aTeyRw95hbceoYVyrbXA2UnN6PA3hXHIdpfhYpmWD1fb1kgle/EGQFHTNPc49ZHUMlIcM0djdmGO\n",
       "gzFtl5PFLp62uXwvRW+DcmC3SuAHSlHhKAPvcKynFrfzPeG7ExYgVSAIcoc2WUMOXt+L/BDDXbjW\n",
       "aAnlmpy9CVUB1qiUmeZhWJ8p7SrcT0Vi8Cum+SsEHnqVBlvkUJL15RDMNZFnAMUS4D1kx3qJL2iN\n",
       "mopFxSxNBAihmEpu+FlGFg0nI61E7kFSwPSExOeTB3xAS3AgBa6rknParfluwjh8z0vX7mOdrK+C\n",
       "J9y98woS0R77pRJ3xMlQAAADAFiXbjFVTLABlQAABJJBmmNJ4Q8mUwIb//6nhAAAqO/vnCBxwAt1\n",
       "AZyfK5/v4/vaidqKsaP2ogmMr4aZ9jQ5Rc14N4hHAZMfIe6Pu5CHgk/5zw5VF6e9CtPX5olWXuGD\n",
       "kHvgQTKAYWnwIDovsrQIAUKr5dSqp4+ugCFYuYcTCNfqn4rNxV5er5eN+217svNawnumPLMtMieY\n",
       "lkA6ZIC0/r/hrt4OOTDn08s0PZpvaW3mEDCpIlCpwcTMrGlI5MyJGu/ysdcGgNaXWUgXjdsTav9n\n",
       "l9aRZjr6dkzbyyselnp+BPyP6pmQTU50YgUhe490AukHTnHipiwsqGeFXh7I0MhXj/m96tc5kk8T\n",
       "iqI1j61THfjtCGXkF3X1wAMZ5e5GnEIygv80wkyLFI16pgJAijBHqgowQR2Yy86eAy3EBW2PrL67\n",
       "okv+5XAzD3RnQT/+lXnUHPUduKodaVz11BOqtWXccK7JdeJcaVYIWhgS64H6tVTVsOpBCTA+NB/w\n",
       "AgC8s9fHQ8uPHFvEwdmANgJdKpratHbPqjkDUBTOnn5+Ib4oHJyXLgubeD7CdCechm6G+q2RAXBK\n",
       "5wbPo7RUJrEm4wwG3x6gg7LwoKsgYBOXB5r6GBsDdRAdMtIN1GPGGA5VxzCuSAQHvDbpDaXvCnHw\n",
       "TpIHG4DH+aDEERI/A29PHlGKxoWUty0GjtAmwX4Ly11DPqKkNTn+Jy/9Cbc23RsgI1M58DtKqH3m\n",
       "BN2UXzjABBycSnwxKTOpE4AYK0ikb3/QGvJo9sAii11zyOoQZK3kj9AY4HUTTuweQu5Pz2KTi+E7\n",
       "Y6LcZ/8qVpM0YosXOpL90SOLxKToTzJpgerZSQseQ/d3PFRXNCV8UmvlNqZpxPXzMp0b3CjU1y2l\n",
       "YElE58pvoYsWnKAyGJ5kSKV8Q7ASxKRPbBB9SbHs+C8hdvgNJZWmMb/kfrfb8vocYDmj54AQs1LG\n",
       "QyMGlfVZcctqsPqskJW1eqmJMz7+u/irKfHUa1M1dHtIRrD2FqXWxta/CD5gALbUVw8bg8DTreYi\n",
       "7WtWfuS//OdQMmpstWkZGjXm1TvK/qBdTv3C51nR4ovXbEvQChVIozaYP76ME1Q4o02dxVapNU+z\n",
       "4h1bjj0A7K/xGdeAzajuLKUvGRniRi/D1f0HZCz39g6zm6BA3Iv1guQB2/SGnr/I45LV+aBz/dYC\n",
       "IEyQTrgGWZfhf6iPTStfyyTulorjc27pUbfEd59wkW7WgSvbZ4C0W9SaL1p3SlHoB4HtVOUcX+nP\n",
       "0BOoQ6mTsfvJvJVYqfG75IBXFYWn1W7KScHeAjf9VCNUtzBs4tAIKEuTcAj8XYml45gtXk1p/uGy\n",
       "Jd+vOpsDUx0vTF/7Xd3yYYDpYv/98KEQXyUFS598/ayeBJi0dXJNyV5yRVbhC/7ZryxArzOsQzTv\n",
       "qbu5c75urSwZAEBo5ZjMI7PUfZXBZevUXYcBuJa5eGNZWIBGP7Cf9OIcVI841x5U/w3XpAG7THV3\n",
       "k/ohdeJsqE+Z+MflsovlsQxk/ZbgGAFM+tvTNNinSNYuhcZ/NlRvwVG+ikdJsW3mvTk20uKicAHJ\n",
       "1PCAAg4AAAJlQZqESeEPJlMCCH/+qlUAADVf1c9YZGxMnYRLME9kxpTvL95XKY/3HXCdgH4o+SpT\n",
       "txtp8rfl6S0H4G9MGMxXt1azqOeYG4E1lOT3NhExEWhi1JDnk+H2arprKU30/LHUFZnaU/H30z+4\n",
       "1PpIHAT+KTJCT/2j6wHr27hQuAMjjTUSrXigW9n8r9M65rch9Fv6HBTPz6zp0KOfi7ZS2L7UHIYC\n",
       "vtizcYuaU0XXpo4uGRpLmU27LXB3MOk1E9JdGLfDVxZA5mNiamadbI5/J8BNPzIKQwcxIAgF//L2\n",
       "4/CUwogIv44xdVnDktwQflnjQwGgyqvayudBNF9eNZA4oBpcVfcTAxvhcM9bmmMSsObjmdFRkOyp\n",
       "ts5YPhTL6fWZBioeTZHxABbzTyIBsLd5dS+HCinmEN6xF0q2TLeHhVo3pdW0xMkEqCRFrLQt9Qq/\n",
       "oHiuKpajApU/uJG/hBFf776ZE3WWs3d4pOBNxxIkU2HNh/gH7CkXTPItAwL8quTU/9SV85fssPuF\n",
       "V5WH7XyEO541tlnDuLPMhsUp7UNi2/Ff5Tj5WQCQMx11T5vQTUpzNV6T7Dvxs3yg8bYRGJOVAJYo\n",
       "3X6a+/vG/g8Ua3MLdPvYbbt/6wbfJUckB7XcMMheJAURjr2WrlVaiiwuvPz1fIKYZY8Y554cEws5\n",
       "ppSWzfZ1HizlyAGbVzHXrElyCS1X0+bYbJ1vvdQ/j2/dtQo2IlnXhEQZx5AtyDLcW6K2YZNYqHxZ\n",
       "E9WQkmn0+XfBwjzAadQwJ8iDQNlwv/tk1O+4Vjfzr1kTKGP1bSqATkiCZHagAACdZlhFwQAAAbBB\n",
       "mqVJ4Q8mUwIIf/6qVQAAd08GfLDYOWhO8bBWFSeARleWFftPPM/bAQoRkrAu0bwTMkmNfW7omF6k\n",
       "AF4OsOJ2lMCK9H2zMBItY50oUNZwkbrUzx91pgZOAOOQ4hIfAZhGO6pNd82pGMFdTh5r2rULYjsu\n",
       "K9nwMam7v9aAqSgtzwMj/YjNrcdzYJUBJh3WQ9zaiawzqbfnDDQMuIMLpDEJzJdyEn20/Dc/1207\n",
       "BMoY/ExV95EYmwMMziCrHAss4SCmDcI7TRjKYf8JGJ1l9Q+oK3DdUPzmvv3dxXva3rrXugRMDjtD\n",
       "sRtCiDNkVSXjiuWUOuk5Zqx8tItXX5bywotvC9y0eJsBY/yU6/NCLHf7XR9YRHAZ2ETOX002q3gA\n",
       "gjLlqCM3X7pVOpDvcXCuUDm3m86dl0TfxWUMm7x6nsxRSgcmA0qvGi8GqmiDHGTW0npu/fO1S3Qr\n",
       "QLg4TUTm0ziF6lRmL02Nnf1jJuYwHSv7YFnhxmlg73s0PFpxouM+bX6uWlAAEVr1XIzbrm/1A99x\n",
       "d5BqgjE/aLcUOqR1wOaGfIeI3hsAbo66rKsACvCIUkEAAAIuQZrGSeEPJlMCCH/+qlUAAQA/+oS/\n",
       "z4GqHBUk066kduoLdLhCHpiYL8WH+FQNsPDeEEYLcVk3lw1Wa4ZhUqjjRzqYrhfRNvs4ZCBfO0dc\n",
       "ZlvWkAzdFbJH9gMjFrrb0icN21VR/j1+7wNensmOfSer5vjRvw3x0V0Dh0bvY1XByKRin8GUH55K\n",
       "ghNrv7+yhIq8LLCgHQez2ViqBza4R2h7iqltj0V+hNCRDt46lGwmRohl4K8yFaO0S07oPmJMQXKC\n",
       "TOOD96/9TXiSF97+EHpVfxG4TdvRSrAtobn/E4YH6zbn9QJTtG0TPOEtVFtzY2Y8PZNAsCiAUbht\n",
       "T1wELQzeWSU4PBWTntUgUIIA5MvexzNI5hZnmcJ9kJYtDLNtK9jxARoFowjc/OmWtzGjxu+L40FP\n",
       "LrmLJLM2bn3DoAOI/GZTsMfHNJTiAa7m0Mq6g2x8yyazqeUSEN+sT13X1oykZpmZ8omx+QKtliQk\n",
       "4dCYy7xt01oYidX3uZn4c2cXmGQpVJDaqxy4/DqTC0ZNIHD2SwFeEgiVwGf5iXW5+WjiYNvoS8UC\n",
       "TT114w6SFBoo9l4rxXcADc6MLdPokFHVXfOEV6AVULE6J8Y4PPw4vc1XtEIvFAadfokiXpYXQtnj\n",
       "nygtQGhcndCsmLxniLgIng9vDMTUBFkCDDdupSDgQ0kSJOzktrsrYHSoYbnGQVroXnTHvMmJUVMR\n",
       "fB3Z8u/+0+KddIQ/CCW68aVBz2ZRUBSRAAABvUGa50nhDyZTAgj//rUqgAEYbQjfjdpBufEXqpvr\n",
       "r2jcyt8KgAKjmMH2CvLWmNWe6L87SADNEBPmexJqhTgfr4DWVg4rIlFnhI2uTN0iQeFH8FMWANTs\n",
       "+G1JcPRAVyYXPxUyiSonZwwhPfAAI6P2KZ7Xc9MaGLOxY17z1QFpRVQTOrT4VlBgAuPODnke2n0F\n",
       "HYIlnegeuMENyp/fpPK3xWI5oVFQHoNaAYBQvQCEaHZWgqMcpJJELjBX+DGNVIVx+O9tTRebzJ6b\n",
       "U2HA5ng3datjsP9pn5xfn9R7qM7jX9IrQmFIL3sLDVSl6oAaDA7RmWObtYykKfLvxsbasx7KsACX\n",
       "THs8x771lbUghHjchOgpjQYNSKvQwm7LLogy5kQNtXbHA8eQJmLSPTD5zJUQIwsnZbOMPkvYMjEd\n",
       "J+QCOvLoW4iUSukq/ckl/YLrHsJmFBn4XltPmSyyn7uolZhbgyMXEp7XM532CTkKXHlDE+7eK8B3\n",
       "WMsGRTXkLwOShRqjr6HvUdhutrlHYiqBzjzr1GrAo61wIfG4dP55w2gGFfWfwzIM0dsNdi4bgN1B\n",
       "9LCvitikSmWpVGU7jbY41iEAAAWbQZsLSeEPJlMCCP/+tSqAAoJSOQAbRsif2ZcZMBoXoE3UrBpI\n",
       "gwx6S0k1a3nlGifCaVNBXhi8oHq7X6t6huc21O4JiX6wHHeQD5RpuPFJQ8s7y5HDA1VOuH/kyixO\n",
       "7cHOyYkk2VDruOXGxOCEfbjM8SNjM2ABrFy1TedXDX+7d5thpFgohvabmK7kAzuF/fpOC0fvdqfy\n",
       "B7y8pJ/MlprB0yEvpPAVzW02dECG1d0GYRth6P4ERnYT+kZ5jwq5AVfIalt2hYXALSEnMJKNVQEo\n",
       "4jciUYRWmGzZfcM6vxfqzXT7H+ABL+1TKQK/FMviANfZj4HO6fqcHU12/sA/aTlbJVO6FD01LxRq\n",
       "JfsTswEPstIpyCR3RvTE89upBB/VmEqL6Str3x0FPSKacgt3DhIgXSiw2BL4mk3r2OuAOBX/cmqv\n",
       "JbBz/4XdsohokMSGn1DcglGaYR31ZgJ9Kbe9277XpvVOoCEnlG5djjFWQ2c9L3mwjsm8JAsttrF5\n",
       "xhrbkAg4VWnPrXOyxa01tjXZ+8wn48VY7tPqEtXkQCiyBGCKB3ZIUBM9woOjyQ8dBcR6Hl0D+Q5b\n",
       "POqyI1tn+3vBr6+8az5aUppxv1joR/8VC0o7z4lL7gdccyOu90gX4VWmyXf2vDRoSDehNMvv63Ku\n",
       "zfS5SOtIe8qa/l4KCJzTta5xFnYxybv/gtFbx3OPDb/+dXaLdwJsmzwT12DqPtA73NZ1t7ku9rlZ\n",
       "dNfBqNk1aJy8Ff8HCxQogC84y7eIRt7zCMvCSZGh+e1iyaC3/GNZ+j3fApsPRicHz0BxmuLKi3IP\n",
       "uD+XgwsF8gifpihGGaFTHN97ydMFIF+fNALUfQWG578nbZAA6iYvFLzqbgCNZ7A/wYydKcU1vppd\n",
       "SunUGzGDcReOpotSqVCdnx+X8q6VSoe6nSbzg6rk/AhVr//xX05ERpkN3MvDlEUgUTcp8/mblVVv\n",
       "WvBbF508HwSKv+pKs0o62LS4lmvn2p5fZEefFhfJAl6K1W+khCnF30sPpQ4mLHP0Wh2Htwvg0iBP\n",
       "84kOVyCRiFJ+4R2ZKyrhcLTu1geRsFp51ve9NOc0DKjme8ClusQtJFrPva1Hv0DdfQZgMWXuyr2W\n",
       "0V7XcBtdWyCQUpNPXgtupzT3ogFmIN0wm6bqdJ0wFConRTJe/4ShFa8S/p+dPcR0YuMeM70qUxV1\n",
       "9mtDoji+Eg+sQet5uKUARApFgAca8DPCeAv8XyWuQsVj5zoonaC/ct8jIcbCHve7vZQF3+nw65mR\n",
       "yWCqTsy+oE7DgOvxR66IKw+eeuTNrYOk1cjYgX5Qz3WDcTgfKU7omdOhq7K2B2VS16BtMCZex3Hq\n",
       "y/oVSvPaX13E9WZXo1BzA5j+Q5Rw13MJeT575sOyr+GbqDvmPZxPeHw+rV1WPreYkzVzQRJy/AWx\n",
       "hL3e96OlsKYs+S8HY08voi4kEmDcHjGQXPUkwCemaKn9MgQdkB5+6CELorqXvm6Fp78uZFae3fE4\n",
       "EP+Ocp6/IenvhyVhy2xxbHDKr2m2o0XZpPU1NI+zes/EKq2AvbMovHL/k+BuNO4PtO6DbE0ZrF0y\n",
       "wTUsC2Z/oaOvJRxsnYRdEuW2pSCLPSKLn24voVuGLIBl9uLxp2RUrgcjvsUmPOBtZjPhsRVNLMGq\n",
       "t0YP5BAUv8XLMNTfd3J4TuFb/8IaiZJiUJG+zTx5I5JUwCfa6h+ToyaGR1ioy1aE0TvJLfnFERLl\n",
       "vjr6e4km+lttDmAHoh7SsdM1rTbevRbB9CM0eDQqOnDpm0xHG2W+kF8Ta3ILIKtMyEf0y/ygx5/z\n",
       "DflSB9gamL2pl298MTGbgdIiuiu0kmFiQQMwwqM3UxY03MH+hwSJzPGZnkwqiz+4Wm0wKjM2mD4W\n",
       "nbVqbdjb5h28/88f5BiaBIubMyCxMCjwSUIlh7ZFwAAAAdBBnylFETw7/wAJxH9ebkbAA2qLePDu\n",
       "tWjrtjQac5c2x/SuB38N8OEBRpG4P5YGY4humDHGe5kX6oxoP/ejSq2g0G3FX8WHZSMTNMTgTDXa\n",
       "yBTd/I9ZV0dUzNvMjtZzSkMyjXz0S5aGiXGYAHfHnnqmQw1pxHTyVdILnlOqERPbat6OWUWDQnrq\n",
       "6oTUOJp6Vp9XK+fiD7Of8M1/ZfylmcGldtGZdqY2uDpLpUERKUb/5VRfT/LDIqWDWB1aQwkX2O3k\n",
       "3mY7DPiI11aDw7JBMOKpLrq8SVdpWvO6H65Yxg5IbxAtIHF/wDhvpYHh75/k6lhsjT2B1GJvfMs4\n",
       "fPJj31oRUuO/6po6QbQlUtFgtH7MnlwJl2ciDUGCY51ozsuwRC39edgarRbMyPzSlUF9Mx5Cm7vz\n",
       "eXH6KwrnS26oaBe2azu3RdKSqgRLBLIeGWQ7jRXCmjCidRn2vzw0Gxj3R3iwlZ4V/DzXQdYe3Z1M\n",
       "ddqszgu8LCnKF0MjjCHtLEZGmaOQc7W+DeC7cypnLWKdQvhrubGMEjJD71+6xIoe9Hs0CEaFtdKB\n",
       "RG2EYaOXpqOSHNVMf/waDNCzVGpsuFzhHqYNwe96g2NbkuwvQBQB7pmHHAAAAMQBn0h0Q38ADTIV\n",
       "vhMRLURsHO3TmRUNL8paNxS/eX1jAnNQTXSu+pABOR9PqDNn2AUr7zJi+VfjzVUkc5c9Hvn8IqVm\n",
       "plJlMptM07ghAEmf2OWMehrfN5WyzSKq766KYsy36WnIaG2FpTe1DnEfcGeoBe1fBWfZU4/bJ6LU\n",
       "fp+NeL8ya1MZFpAGoh6mPdv9maA4OMIzEUqeUJU5A3V47W8ZxS5tH7t8HBs6wV4WhG3y8gre9ccG\n",
       "QvdKO+cj2SKU+C95gAGXAAABDwGfSmpDfwAN0X5yAEKe8zk+VeTmmHzkcrADkcrtRD5kRFkcWoum\n",
       "pHD6xJ3gGpuuhAqty5BLF3QdLsonksFhhS3THdAmUlWzkh9fpReE+u5YEJ7Oso5AodbQ1T+MTbtm\n",
       "z7IKHKMAuitohqo+HEE0U/MAWbCEkcz4v/APr2I7W++KFPcWWad1R5w/sRmqRP6J0ImZVtxGT/cf\n",
       "tTCt4F0fT3QBh/WabjCOkYtS0+P9zKgYNxK+4VQ01tnfzAvD2JaIDiE0Op6/FYE7EU39jmA5Pzwx\n",
       "NF2jzFFKm8P3SgvbQFEGNE2i+D9LNMvVQuP9Sli3/jipa7LdSCnbWrt5nrPnn+k++2rNQTy+CoaL\n",
       "aDAACTgAAARwQZtPSahBaJlMCCP//rUqgAKmU/tABuiSssOkFafZoV99Tdidoeghx73l06eHx6BD\n",
       "NNbIpgS/PVwqa8+Zi40tKbJ4d+5nnXHYbHeU2GXhNeebTjsFCvYzBp+lF7mifwOXgD+70GvvZ1Kr\n",
       "v4wxEYZDFMFFgy0ezVYcliLTbEFISP+6q6A9/mMRG6AXOi1wY9WOJatyUOqnnqPha1qj4D+Gpf6C\n",
       "5f9qxaxPNL3NUmx1QLx5k7cbnZ6jO3ylvVca5HPPkEgXdTwjZsEb4K0aTdXaxtO4Z++S0qZQXFIS\n",
       "P4KX76M1ZU3On80YdnIXea5R/yhI/rGOAgoVg2Hfz4zV2IJM8ETh4611hJtUSB1ssCPG7rjcT6ON\n",
       "r7fLbfHS8kPtFV8novSmkIA9OIaCwASdoUfUkIDHwB4AIum3AKQHQ9Dc76kquqOuwP6MHRgVs8MN\n",
       "boeDd1OD2FuaNiLVkfv5CCbo7jFTiXQ0Mk20ihTJgaO1GrQ/5VKsuopY7PZ8UMwzpZvycr++AdDr\n",
       "UMzRDidz5OYFjQCzpP7Q5NOBGzG9nPxW/TzFIrPd/XLJdLiXo08NeFfJPqqhG8J/tcRO3MrfHvGn\n",
       "BO+/gFFgSfaO0WPii8neC59QOl4Nc8GRGj0pvFhYli22uIgZwDs2TyPbvAR4ZRtP9m8gTjHk6/96\n",
       "Pj7IFeN4ZAhf2+ctbOjOhZ6vEhdpvDvd0rNU688Denbblpw9VMN19m8tOLXg0Uf/uHgDGaKloWaJ\n",
       "V+EAj439Z9HzBufzD3nlbQlmeLqC3eOqSe6/NCOFcMlTxpcOUw7TdIf34B4FRDfC/w7HTaeG9r6a\n",
       "oFHhmXo9Ord1t5biLPR/Dfei5LLPh1Sr0KYfmFU/ZQ97RmO3SK1UpGEhDp4i7sHEMgpsUyfAZCQP\n",
       "umDkfgO6JtC1fdSeRzsP1norXlBABbEN+rkhLSXz7DpMJpFRrHMle/xs+zHDRinDhqqI72oSSMBd\n",
       "zuBmDKR9/Y6xyapki9XYBB8CWoqQaWxSEnmOpYHy/m6uHw5nyvTXxqqX+YtTZ0KZ1o+arcCX38AB\n",
       "Rxfs5RjUDHGtiUmNrOFgP/f49v69+m5cgDEliWan3u4hmzravEC5ogF6/3MEn/EVEiaiapK4uW5G\n",
       "brT2TaBHM69DST06dm+Jjs3MeZFrJJ/9VUhuDanh7oAiOuDYYsxuQuB7fCwbZZuDMtOtw487D9nD\n",
       "XWqObQmE3AWF4iCLmEFzfbQ7dk3RA6eXlzOxos7c2j+xB/2sW5JJqNT9ieWmrTPpOwzZOgLx4Apt\n",
       "Zm5b+oWFFjcFJdk4Mn/WGRH4KtAQCnT776K9LqAl+auWlv8dEFL/C47ZSo72CNzEp53JojSAQ154\n",
       "lyrZQS5ZeKnYS3PWv5QwulD8RH9tC3CmwLXXm264Dw8768MWZlO0WTEt/qWQcjmtuaq3lhoDMIxz\n",
       "ph4xO5lehGQcicZMOGCSS0iDxWIqCN1Gc7ZPVEMx7Od4veRnvH/nRzSn7VS/Tt1OzflEqlDbWNab\n",
       "xqvLB0AAAAKZQZ9tRREsO/8AClKvYAdABtKA+DjTLQ4qI/J2nmMNB9SGjkjHU7Flnj8Jtr6dG5Zy\n",
       "XPPcIbxRMvJX6VCICk1u6qyfkmBiu9B4ultPpB3Odb6DuDKjOonszwd8DqQES1Y0ZYllPpdp2ZFe\n",
       "IwUynLCE1ly+ZJBVQqZSOFvJ3GdEdHS2QyrWEF+u/FcBlOQTEyvt6GaG18UPhDog2KY98zXsmDSM\n",
       "j6QEYrcMkN1pzW7EEVfpA6NoaDLcU75cqDCMDn92ygQ8d/CjAeMAPfVrRynrkuhLS5MlmTFm0QzP\n",
       "f0fSSxcR6CNR7EelWoV54ikzdEejDhRqtBVFVWySqEZuTEGFLhYhqRiampSaxna7RYG04az+TayA\n",
       "Rtj96VT1U1EfdZ73dIvDq0HRJCm2pZ+ZGX5ibN/q4aWthaexQRMLXNVhJ2GlSsPjx/MwXRwQx3l+\n",
       "4oCJQ6xuzot7Bm/2VUY++rV2FfwgBoJIYFMC04o+a5OvL6AUwrSjF51BDcsePXwda85+6URGSUIn\n",
       "d5xaJirw7YJQxkd09sa3EVtYnbHImlsnos9jtdbu7i9Ca8k8sOsXijPue7fPnJNHrxx/O9Eatk9x\n",
       "9QqB8+dlsWP/rQNO2qk0gAZ5ZDcbmCftD+SPoRCVDatD27ZAMFJ4NmPZrgzNIzNTMaB/kaIfmV6I\n",
       "fqtnY16g1X+CllgW9PJ8YVdPvfw//v6uXiLQjA6TRiiNQnKs/CUClyJu+0KjLtQncwQOSnJhDs0/\n",
       "V2LvertX8E8TcFzJfotdu4HQWV2ZdGjv9Ns3UwibhE4EFCY7fHabqWrXVWJjhElTh3H6ysSnSflp\n",
       "9FUGKd3zmx3iR3Kj6eSozdhnP9HUVT4sj4r2Mu6r1vbce2A0IAGxWFcVAT1gDukAAAHeAZ+MdEN/\n",
       "AA4qCqgAiDTXtmVonXMg2jyJK6yAUy8XiJAE6Psw+esSVBbGUGVhCVphWu5dVnOGNgjbxepLDj8T\n",
       "ai+2DSSBxs2ZXNYjsdG/bPu/sPOpBWYqO7xrH9MOHqmVfFKvAS7NfVxCHZQ9YLcVr3SWixPZm73U\n",
       "zlL0BrPNr6tNyNf9y99qalu0Tf+EkCFYZjIKuo3eKENUAi9JDxp7rsmCwnspjWtx580tNK/IATt2\n",
       "EJLAcoPuoY166iS7Bklcjz4LPiMFrhOWOYIFpo0SApWuVUtC2ICvel7OjUrBazaESgIl667Pntsh\n",
       "BCFbKY8w+wWyH+s+9Eo+gaQup4sSVSwUy/3RqhZPSqyJztoxv1K41BVRfPmIWWmnjYMMysackEtw\n",
       "mcGItJ26meqm+wMOG9aZzf87NQ5FGFEplEgYZQnYYeU53p32v+4xoZGMv0cYzifkpTz5WJe4ee7/\n",
       "F19DLM6cX+egla0CbUVu8ARys6X5d5TwhfG968joEseSwRC1yjyRoU4UAxxp+SqTG52BhozAZExe\n",
       "ouwDyWXMv6blQzfjHP66D20mkA8+RA1+hBj3CIQvluPMDdwqor3QgmVvPFuCgpFaovy/sLvbvSg5\n",
       "gISzxyjwYgJB+wAI5OCd0QAAAUIBn45qQ38ADoFcOgARB7m5vLrRgzGnNer4y5q0R9UtaymQgWTJ\n",
       "xp4k1tn7uZQs9+oopYUNzEHP2bHKtvR6+MvCmTg/ofekVEoUr+8rnh6Pmlu459gC78wa/a25qxvD\n",
       "sAYCQsXGw2vwYulPq0WXmEuqPZzwnW1yZ/a2BM/y/14Iny8kMeLfpOidf9TetDoPoX+6pxveUjNh\n",
       "X0nJYhy6yo4wAA3kL1YcEaFQV7Yqq0XMPyhYF1sxoiyANQV2n4ORSueIRJpsrvgZBZTbMn3+m7mh\n",
       "tS4OZIF++QMdcSfsx5J+Enm163efGx5CwWRrQ1HoQyIEZCKcYGh06c+yLI4sy/RFoihIIwgmaXj3\n",
       "4LLwrxn6SlhV+CMLmHVXM4xn8cdjUBN/WYrSRgJGkvBkd13mzD8DRV77Wt94gBt2TCNqXkTD4AoJ\n",
       "AAAD00GbkUmoQWyZTBRMEf/+tSqAAqmHL8wA4ySxcWRXecViZeLbAv2JpeccDvEZs2r7p5l1Q55D\n",
       "DrCzctt4v166hEVESDGi/d00l3Ifr6jn+eQcQKcndU05QNQsEj1WVyXpx75iUCewR83cQGB4AEK8\n",
       "pPqvFpq3vayVwyce3fM85Uy53IPWhd/XsmD4/ZHGm/4A/wpT+iv89nwfrGiWcWjxXf64q+A+xAsc\n",
       "BQ06Ov4EYY0eDJqdCGutkRExeSkhJM+p2x1zMRaf6vznE88PLUdk1VeYaVxr/yQc1B01i2cl6Jy9\n",
       "oi4+O+LcwhhemwWLB67dVBLUjduQujYmyVOp5T1f00CXgNxFvHjM/Bf9gGnbBIENG4K4+TERTb2P\n",
       "HcRig65OCGG9K7h+XEEJe8+GRZrTTMSDUwqrsE6wURZffOVkeusSROkmXuNyvFS6/Ei3WHfdFwoh\n",
       "p1cSgjChgMXJsd11IL1x0DiXJtEZL0bWjVluk3i/r5OUnadoEhbROQRxhl9L/aEj9nX/LIjMM6M8\n",
       "qO/mcxRVbdUd1qmlBsj/ct7Q3US0e5yKgVrMgJlj7dFlJ7mvdR+IZofZy4mzuyyUrswuMwPDIQH2\n",
       "RyrItT6GPBOi3q5AnoOH4gWfYUDcFrhmwZW+vOGziT0+kOYJZ2i6nJKW8FyHpaWBgfJPo5KXvwLK\n",
       "Ijwnzmgl4h80CXjMQFS+6aBMWnC7McMTCvlXAsA4pfg7cNJxb8p1256lfc4vZam95DIOJwVsqcvL\n",
       "UvdxSCAneYaRUwz5xMgBJ509ckz3ERm7b93vwEFW2TMVxdBoyMoasI0E3bD1an0d125rDDUbbtu6\n",
       "LQMllcoRsAAiax/KXBQw91f5hu0kQmjro9C0L4M5KuuBDM6WQc/2ovqLY+i0JorGQaOu8Yk4dBig\n",
       "JlsbWemwlUGBXdRMf/4EEubP1FNZPmeOxZd5ONyERKKHNB5YX9oRCHQZpNrzdchqAZySRa8bxl5u\n",
       "3tZJmEU+54iJGYKU6Kl80Lm8Q+q12GdJxiaeHmxZbSh3dfB4AL1unD7AcTaFyxeWIhenT5KZmAZF\n",
       "83FXpXEfcFgHeLE2IxS1DS/ahNEKWFAm2c0bVOn6jt05n0Axnwky1NSF217fJGtaJSQuKSHAKqkv\n",
       "rwgI6ul7c7N8XuNgDK8KR5I8xxo2NO2s2UVE2/BQOJp2Y4+zpgWTkzp/eD34DYLS0N6A8CBKUsmh\n",
       "omRTHS1CNpyUNOuejINmfYjzG40BlhGVapvjr3NXbjRijH48CTfmzOLq50eD4F25AWgFfdc5yb4p\n",
       "0cJq9jgYbUfHz47PmsAAAAFBAZ+wakN/AA6J5SADaeixNCE1QXvV7Q4l2fbZgfETtCxEEi+PBSwm\n",
       "eVvu55HQJjHVKSxmZVlMr4Tr/4qtlxszv310DNyCOat2ep5xKFjG3Zwn7OCA3qZ3A0AZAR1m5mBo\n",
       "pAwouzLr/5bLPo+ev9+6fazr6iDk4k24/IEvrffz3OqI7uoWmYafUgaLLBKbAxQZvpkIi5S8cG67\n",
       "kFauE2+kyS0gj9OuhLd0j/IxWDclVdbBN6fCTyqGJ5VTQpY52PaZUooFMktuxwsWfz9/KNZWStiX\n",
       "t7U0eAWZp0qJKRh+gnj2sl3Gw+lmTmSTl9NdQvINocCC+AsUlu9sou8r8+kWfnL0UsVKQSTFoDPR\n",
       "5D91HodYRpmW7bpb6At0knUsnlDmYS+Pekvy0IAB1yOXGaNqjBi7qJqh6TMd427p8DeZQAz4AAAD\n",
       "4kGbtEnhClJlMCCP//61KoACplP7QAiVJYuLaEkAItj2Ih3huqmkGRNj+TolZZCEmAWPBNzSp/fK\n",
       "dSVWX2xmxzKlk/OOHiXfaZeVRqc+ntD7MFZnPI+9JXdC2cdWXQdMMuYP6tXWAi0NOSul+/VQJWf6\n",
       "ZbwTZlPxMxaxms5N4PjTphYANIOD3uHOHND3KZeXHZfJR/xF7Esx83Zpev6GbZAb8GXCTgznr0IE\n",
       "+rftBI9Mx78oHXbAhSyympWtWrY7IkBTph4b+n1mz6Zmv3/ZuZHBqJLcMPN8f6s5YDjmHON4kad9\n",
       "AmwemLh6e0IrEgWFpPl+/rIhTecRbi7MS0AnO9fKBbbTnGdNmDcSMl42LSIucpSqpldeGJfGNGUW\n",
       "2z69tTa8VbQatyWy20EJNj54BwJJSt1g4cHmEogzPn6hfsuG4FiV4h8y4JMl8hlVjhc48dBqvxEj\n",
       "lPHNzCqCexBIt9hfrEXBuksLtYbs7bD06oN+7obL8AkcKCfIYbZdB2TGXPM/X9xHSWcOzQ9KMlYF\n",
       "WLaPEBZoaMRxICw+m7GBxbn7Cs0ldnUTXEno5IGCuQjnD6YKkshWhDFVVTvouv9TSydxnNfLGKG0\n",
       "nJ4sOqmLAu4bLMdSqq2WWDoN0mtrlgic3I02Z6DGZdXro2Wt/tDbGL3EoG1zwG4H/Iev/EwPosYs\n",
       "3e3IH6TN/FOSEQ0iL5NPREPaahW8VNbUCxeo16EARA7xeNNU5AzaVB5JazyAHdF8zKNKuczfckeZ\n",
       "nM6CBexTFtHTdIg+y+Wk+KCYkuMXowiFFPErtFnH4DtnCSzV2Yn7yakiVQG8+ziNCyr4O1W2Dh+E\n",
       "DgdrISAGvDypJvQwO5DhjQODcwiTe+xRb53kf8HNw6I763m1jywwfK02MP/MIU09fcqFeZ0ZBkiB\n",
       "Psn/4ml2l5GxWteqA078HxGSszW6lDWgmbO/12qpQwGTrw/SNqGUnBOzQxNJGpv2pD7RyAM97mFk\n",
       "KhZ3Wj5BusD0KyrsTgIqq1iucc2Rzvrl/mPj6Mw9GpFEfxWbkCUJynddDE02z8u1XL/wpAldnwjG\n",
       "FfnVnDFuM/snnvwW6EPEsSpF7PseBqqcCb1jR7wGTPcgf3j9fTbg8f8I8AyKj61DCClS5CEZQ8pW\n",
       "onFZQluQyipigpe5UV8j+UdmslTMa4hK4I6g9+Llu2bJxoOfpF9CL7SZgOJ9cCACt7jEE7ZcGUB8\n",
       "/jtcGoSqmuGJTUxiFtApQMTx++oCZ6oWvTFrvsV3yc/WzRx/TjuddVhWzkjrZF3yXkNjcpMfcgot\n",
       "T/WdKw6UdWVvrwhZhn0O8TfyZ0VFM+SmiJEAAAEEQZ/SRTRMN/8ADonlIAP4Pj6MRJdXCWhfs81F\n",
       "RRySG75DxlFUIk1lnG5C29q/99jj7ZxAaHnZ3Z84i2h+/dxEyDq45R5QPmxoqxBegf8mSUlRoXUD\n",
       "PMrsURGI/t4mNVpiynLQnDeult1aezQl92tnPvfkJRZ1i6XeK4aVqmhJeRh/40MKI8tZVeJcvxTo\n",
       "GN+TFQ4ISJl5JT/KWLtJ9gAAHpjZv4bCeyFkrMPs8mdKH7rDTXZ5eQlVmLDf86RKx90ZjM7ZCxxR\n",
       "QKgjBZ/TMd4QP/UiPM/24Asw5MLOijjNyqNmZjj2QlUr1ue1EWNlZiRWpcmXllNbqIc0nBtWQGyB\n",
       "JJEAZ8AAAAC9AZ/zakN/AA6J5SADaZPgOsG/JLgPgU/N6sDhRbZ/CJLSzFeSj5rZTKXJRzNspI7x\n",
       "LcibhdVIeuEw/eLFwNLaVsh6qKsh5BFZUEHm6GEtO9r0Kf5DRCqHVlckvnvMOq40EAozZp0B+yv3\n",
       "pxudstxQNGvI+hLEhR/KqH4yeQOZezIl0zvM3F7HGZL1N3lyplXilb+wM0mwSyxRtXABrbedyOu/\n",
       "RYSbXjlAYNjhsQIN+IoIj224W9Jo9h5wAAM+AAACnUGb+EmoQWiZTAgj//61KoAFlIgMwAia9Mmf\n",
       "XQ1qM98uALOAucrFRVzReJlmO0ErlWhLT1nF2LMo9A724hFrjaT2023xGXP/nU+r3sS0NDD7EqyQ\n",
       "/gdzsHMZLtY3igd8eRmZxwgVnrFmWkGMPqAr5E3gUp9QoOmQBgABZbycX0nsQgwTWY1ilTfIcVej\n",
       "cjLHKSDd8d31Jj/JxtUAbF/b8UugJYTgTavfTWjqV1fFJExN+tYDXsCHYzDF2ng+7ZY88nVp60pQ\n",
       "HAI8Ra/aTv0TOWmWMEJczQWCcF8kqNRL+v3AkjGStFe3V9vC61af3iaveJR5yl3RtkXEhVud9Smw\n",
       "mVrQER+kGm6VokFEWN3Y6Y500Up00r7QliTaC4OQ7ewHvOzwWzep1w3TF/y98w6KvGlvR6HTc709\n",
       "ar7DpJWuYW/RkNWTnWcUy87x0WEmcuquDH4Dg3kGuUcQEOhUeCXIZo6lQdGICmFRev5WVZ+nj0Zx\n",
       "0QZqEtBOTBahSjQEdjbDrLuW5TjImml+U7rEt1+iOG7bwbfOqqXqo/B1b48VRDj/C4PXMEsJ2ynX\n",
       "FRwD3klMLisIwojWMuZyu39VkhgkZfz/joqX579CarNOpZG3UPwgu38K6L+5gpInkO5XwOyKr8Js\n",
       "OcqR8o5p8WyHhsLgSJaos1rKUj9g2EGPYQxqwvOkKxHY0oAr7utkmkGbTxlcWHR/F74w4B/L0zCe\n",
       "aHERzGmbfZxUjP85ARY43mQvK3XmY2TWYe0EmmNi9DCv81Fg47NtJZrXKIW7wOHl+54uurAjDc8l\n",
       "7xIAZBrV60gJTjy+Uyy1FPk3hqAlc1XJEKWlgzRFFMLZvxGOngq/HU+QlD96jSZJMPPQcae3RxGM\n",
       "tyabR7Dy1R5JY/j+hoAD2wAAALVBnhZFESw7/wAVwX5UAE7RkDCthm9favKHGPCV/r97gHtpdgcv\n",
       "Liv1xzY/IzOGG2C14WSFgTc2tGTvDmajbLFUaK2en43P0xCW7nnd+oIZ/fno9Nnth3VdXzQBUfMm\n",
       "gcEeM9nJxOHHYwQlntPbL9O6IYre63K/lJV6UJm1tk+nGp1xCbq4Xc7+pdW4yebzqyR96znLGbIr\n",
       "BrTROX5MqpYtBOdw5pduD8B8IxerLp0PwT15oDPgAAAAaAGeNXRDfwAPifW670ACH2wDT9b4Ee8L\n",
       "lidSu+QMVAVoxDzuR6Sp8RhL7yT0Poiq/wCFP87GrW4zIiwiFj41deVwRUM7aRf0CV7eIHsYXYwF\n",
       "C+6wkIJVgb7h9Dup8O8cxLRzO3dAAAwJAAAAOAGeN2pDfwAPh3TCwr7BYvPtOVRrDiQc1wzNgA2h\n",
       "8PK2xVWJD0jS7LYL3M2SdUUiwvG2nMaAAIeBAAAB1kGaPEmoQWyZTAgj//61KoAFlDT6ABbSLAWR\n",
       "Fbmd8h9pE7fM2Ld1TwBZRzcGlt/1uxTNi6DdJ4JZ63Z7qTFoa+ipM/ohbUi0LzX7NqbnQV7F6W4P\n",
       "94k60Do9sFtAAX06OKKpawImN8aWA1Ylzl/mpAvvssBnuxc8u0opmvxgv63Dcrsae5DlX3d0A0DV\n",
       "4WP65OhyBWC92M+x8kpXXZvJDv16MhpHyepOqWuQlk2rBtlhoijwa2fV3hlhThz2b0Oab4QAM3al\n",
       "lnMNeR4yHxx1KfOvFMqMFmeHNY1L8MdiyyxUBC/x4/aJCLAvGyi1BW3RdXDGf6gQQPhpTf1yGvne\n",
       "VrPq4lu20hDPnAlDJmhLkL9IBfhjDlTkKZ6DcBq0mZ2cOkp74oSdcCLkuJknjAeBS08AGfhdee8K\n",
       "C45Bk+sQ88pm53hwi4JW/HAG49dVfqaKhDp6BnK30wN8qtck+vLQRkM/rcZcilr56hot5D9g2Sux\n",
       "fsa8Krb+pucnBMryo4UCMd6tnWQSBtB/ywQpicXoef2fsZ7Y07NpQHuORYHJrWgDRO/U0J9vf7/J\n",
       "g9lpXdPft2GyLCD21gTWFDOhkux52LCfqk9ZqLKCYt8Ln7rV7Q3Qm3cLcVpAAAAAZEGeWkUVLDv/\n",
       "ABXDGpfrENR9NKePADj3OyqDxZR0HyrjWq+nG0zQpPrr8SJh7fNaTVGYMHmJXDjmJGyEFd0iuBpi\n",
       "TexAoKvII+nPC4eRRIF+4JSgKKNNguE7Y8X342K/d+k0AeMAAAAXAZ55dEN/AAPLaqIrTYGktSkY\n",
       "Ot4ACDgAAAAdAZ57akN/AA2ABmLA6nT5tD8sanjhO0hRWEAABF0AAAEcQZpgSahBbJlMCCH//qpV\n",
       "AAK4uUQABYe6s2BeaG79QtAWh7fOB3H0x3txNOpLeudMY4PjmR+HgW2eu0ta5PFNqzksXJ1xUZlC\n",
       "QO3UMEawYnISCVQx9cMKtk2W60YU149IlM6aHsGjIUDnjKugIhYWF4u2kQZY7QgHu1rQzZuc9Z+m\n",
       "JJ4wiaGk5uMfs9/PJW23vkSOfO8Mbldyi1y37XkeyLHFVLOE7yrgOvKmss3s1fYsEVzwY6CN8+9f\n",
       "P5RGiTwqTquBu9lOYSQk3rSlz6mcbgB5wzQ4jkAaXwYULaDCH9IjE9Qczv7r8tJtqcmnAQ6wtfJW\n",
       "/xHo4Ffc9bZYuzIBGKIGY21vjxUz5IXE/OwBZYiMzDAV6kdJnxYAJuEAAAApQZ6eRRUsO/8ACyqw\n",
       "H+X0Ya+b5Dr3eIip58OeZNJH9Xkad4YwHzeABiwAAAAgAZ69dEN/AAfDUDA3V9CINw181OAsw09x\n",
       "M/V4yC0AAakAAAAdAZ6/akN/AA+JRFOtsRE6MzCm7JQO32QEEogAAZkAAACpQZqkSahBbJlMCH//\n",
       "/qmWAAqXU1QAsC0zmS2B8yqr5n5Iu1xFOdwI/vrWAcf9ZvB+rclwKDYVaaw26bJkLgDOgoAMs9Pu\n",
       "taEPcqW1CIab431vKmpRl6siB7zM82JL7mn+QxS5B+hSasM/IjmucZTOwzJAMcLJsqmINZVnshiM\n",
       "08s9gdhESHf3DRIaBAtOtKq/qSwu0ZM1YO7xNxhmCv7NRlOBDYNZzgAi4AAAACZBnsJFFSw7/wAL\n",
       "K4YQbC97LGusgyK3N2lTGqZ4OIRhBzAIGwADUwAAAB0BnuF0Q38AD4aeU2XZxQM0M4wT2atncAvn\n",
       "oAAJeAAAACABnuNqQ38AD4lEU62xETozYqOvDlPGozOnJjSPYAA24QAAABZBmudJqEFsmUwIb//+\n",
       "p4QAAAMAACbhAAAAIkGfBUUVLDf/AA+KlWD1NiIyLnWTYAKHmv2yAQ3TB+YgAg8AAAAcAZ8makN/\n",
       "AA+JRFOtsRE2uwdKEb2deDvHAAAZ8QAABMdtb292AAAAbG12aGQAAAAAAAAAAAAAAAAAAAPoAAAP\n",
       "oAABAAABAAAAAAAAAAAAAAAAAQAAAAAAAAAAAAAAAAAAAAEAAAAAAAAAAAAAAAAAAEAAAAAAAAAA\n",
       "AAAAAAAAAAAAAAAAAAAAAAAAAAAAAAACAAAD8XRyYWsAAABcdGtoZAAAAAMAAAAAAAAAAAAAAAEA\n",
       "AAAAAAAPoAAAAAAAAAAAAAAAAAAAAAAAAQAAAAAAAAAAAAAAAAAAAAEAAAAAAAAAAAAAAAAAAEAA\n",
       "AAAB9AAAAZAAAAAAACRlZHRzAAAAHGVsc3QAAAAAAAAAAQAAD6AAAAgAAAEAAAAAA2ltZGlhAAAA\n",
       "IG1kaGQAAAAAAAAAAAAAAAAAACgAAACgAFXEAAAAAAAtaGRscgAAAAAAAAAAdmlkZQAAAAAAAAAA\n",
       "AAAAAFZpZGVvSGFuZGxlcgAAAAMUbWluZgAAABR2bWhkAAAAAQAAAAAAAAAAAAAAJGRpbmYAAAAc\n",
       "ZHJlZgAAAAAAAAABAAAADHVybCAAAAABAAAC1HN0YmwAAAC0c3RzZAAAAAAAAAABAAAApGF2YzEA\n",
       "AAAAAAAAAQAAAAAAAAAAAAAAAAAAAAAB9AGQAEgAAABIAAAAAAAAAAEAAAAAAAAAAAAAAAAAAAAA\n",
       "AAAAAAAAAAAAAAAAAAAAAAAY//8AAAAyYXZjQwFkABb/4QAZZ2QAFqzZQIAz5+EAAAMAAQAAAwAU\n",
       "DxYtlgEABmjr48siwAAAABx1dWlka2hA8l8kT8W6OaUbzwMj8wAAAAAAAAAYc3R0cwAAAAAAAAAB\n",
       "AAAAKAAABAAAAAAUc3RzcwAAAAAAAAABAAAAAQAAAQhjdHRzAAAAAAAAAB8AAAAIAAAIAAAAAAEA\n",
       "ABQAAAAAAQAACAAAAAABAAAAAAAAAAEAAAQAAAAAAQAAFAAAAAABAAAIAAAAAAEAAAAAAAAAAQAA\n",
       "BAAAAAABAAAMAAAAAAEAAAQAAAAAAQAAEAAAAAACAAAEAAAAAAEAABQAAAAAAQAACAAAAAABAAAA\n",
       "AAAAAAEAAAQAAAAAAQAAFAAAAAABAAAIAAAAAAEAAAAAAAAAAQAABAAAAAABAAAUAAAAAAEAAAgA\n",
       "AAAAAQAAAAAAAAABAAAEAAAAAAEAABQAAAAAAQAACAAAAAABAAAAAAAAAAEAAAQAAAAAAQAAEAAA\n",
       "AAACAAAEAAAAABxzdHNjAAAAAAAAAAEAAAABAAAAKAAAAAEAAAC0c3RzegAAAAAAAAAAAAAAKAAA\n",
       "FRcAAAK2AAADhgAABJYAAAJpAAABtAAAAjIAAAHBAAAFnwAAAdQAAADIAAABEwAABHQAAAKdAAAB\n",
       "4gAAAUYAAAPXAAABRQAAA+YAAAEIAAAAwQAAAqEAAAC5AAAAbAAAADwAAAHaAAAAaAAAABsAAAAh\n",
       "AAABIAAAAC0AAAAkAAAAIQAAAK0AAAAqAAAAIQAAACQAAAAaAAAAJgAAACAAAAAUc3RjbwAAAAAA\n",
       "AAABAAAALAAAAGJ1ZHRhAAAAWm1ldGEAAAAAAAAAIWhkbHIAAAAAAAAAAG1kaXJhcHBsAAAAAAAA\n",
       "AAAAAAAALWlsc3QAAAAlqXRvbwAAAB1kYXRhAAAAAQAAAABMYXZmNTcuNzYuMTAw\n",
       "\">\n",
       "  Your browser does not support the video tag.\n",
       "</video>"
      ],
      "text/plain": [
       "<matplotlib.animation.FuncAnimation at 0x28c3b12a2b0>"
      ]
     },
     "execution_count": 65,
     "metadata": {},
     "output_type": "execute_result"
    }
   ],
   "source": [
    "# Run the animation\n",
    "fig = plt.figure(dpi = 100, figsize = (5, 4))\n",
    "plt.scatter(x, y)\n",
    "line, = plt.plot(x, lin(a_guess, b_guess, x))\n",
    "plt.close()\n",
    "\n",
    "def animate(i):\n",
    "    line.set_ydata(lin(a_guess, b_guess, x))\n",
    "    for i in range(10): upd()\n",
    "    return line,\n",
    "\n",
    "# Run the update 40 times\n",
    "ani = animation.FuncAnimation(fig, animate, np.arange(0, 40), interval = 100)\n",
    "ani"
   ]
  },
  {
   "cell_type": "markdown",
   "metadata": {},
   "source": [
    "In convolutional neural networks we take this approach and apply it on each of our filters. Typically our filters will themselves be input to other filters which will be optimised. This approach can lead to eg. cornor detection by taking som from the horisontal and vertical base filter.\n",
    "\n",
    "On page 824 in [this](https://www.cs.nyu.edu/~fergus/papers/zeilerECCV2014.pdf) paper by [Matthew D. Zeiler](http://www.matthewzeiler.com) and [Rob Fergus](http://cs.nyu.edu/~fergus/pmwiki/pmwiki.php), examples from a five layer CNN is showed, where the filter and activation for the first filter is shown and the activation of the five last filters is shown as well. (Matthew D. Zeiler went on to win ImageNet the year after writing the paper).\n",
    "\n",
    "Deep learning models today typically utilises more than 1000 filters. Imagine the exponential improving levels of semantic richness and the consequences for machine learning models."
   ]
  },
  {
   "cell_type": "code",
   "execution_count": null,
   "metadata": {
    "collapsed": true
   },
   "outputs": [],
   "source": []
  }
 ],
 "metadata": {
  "anaconda-cloud": {},
  "kernelspec": {
   "display_name": "Python 3",
   "language": "python",
   "name": "python3"
  },
  "language_info": {
   "codemirror_mode": {
    "name": "ipython",
    "version": 3
   },
   "file_extension": ".py",
   "mimetype": "text/x-python",
   "name": "python",
   "nbconvert_exporter": "python",
   "pygments_lexer": "ipython3",
   "version": "3.5.3"
  },
  "nav_menu": {},
  "toc": {
   "navigate_menu": true,
   "number_sections": true,
   "sideBar": true,
   "threshold": 6,
   "toc_cell": false,
   "toc_section_display": "block",
   "toc_window_display": false
  },
  "widgets": {
   "state": {
    "3cee143e800a413a9ef4631de8442849": {
     "views": [
      {
       "cell_index": 16
      }
     ]
    }
   },
   "version": "1.2.0"
  }
 },
 "nbformat": 4,
 "nbformat_minor": 1
}
